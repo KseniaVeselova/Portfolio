{
 "cells": [
  {
   "cell_type": "markdown",
   "metadata": {},
   "source": [
    "**Task description**\n",
    "\n",
    "Fitness club chain \"Bodybuilder Data Scientists\" develops the user interaction strategy based on data.\n",
    "Сommon problem for fitness clubs or others services is the client churn.\n",
    "How to understand that the client is no longer with you? We can consider the users, who asked to close the contract or deleted the account, as churned. However, customers do not always leave defiantly: they often stop using the service quietly.\n",
    "Churn indicators are industry specific. When a user rarely but steadily buys in an online store, it doesn’t look like he “fell off”. But if you don’t visit a channel with daily updated content for two weeks, things are bad: the subscriber got bored and seems to have left you.\n",
    "For a fitness center, we can consider that a client has been churned if he has never visited the gym in the last month. Of course, it is possible that he go to Bali and upon arrival will definitely continue to go to fitness. However, the opposite is more often the case. If a client started a new life on Monday, went to the gym for a bit, and then disappeared, most likely he will not return.\n",
    "To prevent user churn, \"Bodybuilder Data Scientist\" customer service department has digitized many client profiles. Our task is to analyze and prepare an action plan to retain customers.\n",
    "\n",
    "\n",
    "-to learn how to predict the probability of outflow (at the level of the next month) for each client;\n",
    "\n",
    "-to form typical client portraits: identify several of the most striking groups and characterize their main properties;\n",
    "\n",
    "-to analyze the main features that most strongly affect the outflow;\n",
    "\n",
    "-to formulate the main conclusions and develop recommendations for improving the quality of work with clients:\n",
    "\n",
    "1)to identify target customer groups;\n",
    "\n",
    "2)to suggest measures to reduce churn;\n",
    "\n",
    "3)to identify other features of interaction with customers.\n",
    "\n"
   ]
  },
  {
   "cell_type": "markdown",
   "metadata": {},
   "source": [
    "**Client data for the previous month before checking the churn fact**\n",
    "\n",
    "Данные клиента за предыдущий до проверки факта оттока месяц:\n",
    "\n",
    "'gender' — пол   (**assume that 0 - male, 1 - female**) ;\n",
    "\n",
    "'Near_Location' — проживание или работа в районе, где находится фитнес-центр;\n",
    "\n",
    "'Partner' — сотрудник компании-партнёра клуба (сотрудничество с компаниями, чьи сотрудники могут получать скидки на абонемент — в таком случае фитнес-центр хранит информацию о работодателе клиента);\n",
    "\n",
    "Promo_friends — факт первоначальной записи в рамках акции «приведи друга» (использовал промо-код от знакомого при оплате первого абонемента);\n",
    "\n",
    "'Phone' — наличие контактного телефона;\n",
    "\n",
    "'Age' — возраст;\n",
    "\n",
    "'Lifetime' — время с момента первого обращения в фитнес-центр (в месяцах).\n",
    "\n",
    "**Information based on the log of visits, purchases and information about the current status of the client's subscription:**\n",
    "\n",
    "\n",
    "'Contract_period' — длительность текущего действующего абонемента (месяц, 6 месяцев, год);\n",
    "\n",
    "'Month_to_end_contract' — срок до окончания текущего действующего абонемента (в месяцах);\n",
    "\n",
    "'Group_visits' — факт посещения групповых занятий;\n",
    "\n",
    "'Avg_class_frequency_total' — средняя частота посещений в неделю за все время с начала действия абонемента;\n",
    "\n",
    "'Avg_class_frequency_current_month' — средняя частота посещений в неделю за предыдущий месяц;\n",
    "\n",
    "'Avg_additional_charges_total' — суммарная выручка от других услуг фитнес-центра: кафе, спорттовары, косметический и массажный салон.\n",
    "\n",
    "'Churn' — факт оттока в текущем месяце."
   ]
  },
  {
   "cell_type": "markdown",
   "metadata": {},
   "source": [
    "### Data exploration. Preprocessing\n",
    "Изучение данных. Предобработка"
   ]
  },
  {
   "cell_type": "code",
   "execution_count": 2,
   "metadata": {},
   "outputs": [],
   "source": [
    "\n",
    "import pandas as pd\n",
    "import numpy as np\n",
    "import seaborn as sns\n",
    "\n",
    "import matplotlib\n",
    "import matplotlib.pyplot as plt\n",
    "#import re\n",
    "\n",
    "from sklearn.model_selection import train_test_split\n",
    "from sklearn.preprocessing import StandardScaler\n",
    "\n",
    "\n",
    "from sklearn.metrics import r2_score\n",
    "from sklearn.linear_model import LogisticRegression\n",
    "from sklearn.tree import DecisionTreeClassifier\n",
    "from sklearn.preprocessing import StandardScaler\n",
    "\n",
    "from sklearn.ensemble import RandomForestClassifier, GradientBoostingClassifier\n",
    "\n",
    "from sklearn.metrics import accuracy_score, precision_score, recall_score, f1_score\n",
    "from sklearn.metrics import roc_auc_score\n",
    "\n",
    "from scipy.cluster.hierarchy import dendrogram, linkage\n",
    "from sklearn.cluster import KMeans\n",
    "from sklearn.model_selection import RandomizedSearchCV\n",
    "from sklearn.model_selection import cross_val_score\n",
    "\n",
    "import warnings\n",
    "warnings.filterwarnings('ignore')"
   ]
  },
  {
   "cell_type": "code",
   "execution_count": 3,
   "metadata": {},
   "outputs": [],
   "source": [
    "def to_type(data_to_write, column, target_type):\n",
    "    data_to_write[column] = data_to_write[column].astype(target_type)"
   ]
  },
  {
   "cell_type": "code",
   "execution_count": 4,
   "metadata": {},
   "outputs": [
    {
     "data": {
      "text/html": [
       "<div>\n",
       "<style scoped>\n",
       "    .dataframe tbody tr th:only-of-type {\n",
       "        vertical-align: middle;\n",
       "    }\n",
       "\n",
       "    .dataframe tbody tr th {\n",
       "        vertical-align: top;\n",
       "    }\n",
       "\n",
       "    .dataframe thead th {\n",
       "        text-align: right;\n",
       "    }\n",
       "</style>\n",
       "<table border=\"1\" class=\"dataframe\">\n",
       "  <thead>\n",
       "    <tr style=\"text-align: right;\">\n",
       "      <th></th>\n",
       "      <th>gender</th>\n",
       "      <th>Near_Location</th>\n",
       "      <th>Partner</th>\n",
       "      <th>Promo_friends</th>\n",
       "      <th>Phone</th>\n",
       "      <th>Contract_period</th>\n",
       "      <th>Group_visits</th>\n",
       "      <th>Age</th>\n",
       "      <th>Avg_additional_charges_total</th>\n",
       "      <th>Month_to_end_contract</th>\n",
       "      <th>Lifetime</th>\n",
       "      <th>Avg_class_frequency_total</th>\n",
       "      <th>Avg_class_frequency_current_month</th>\n",
       "      <th>Churn</th>\n",
       "    </tr>\n",
       "  </thead>\n",
       "  <tbody>\n",
       "    <tr>\n",
       "      <th>0</th>\n",
       "      <td>1</td>\n",
       "      <td>1</td>\n",
       "      <td>1</td>\n",
       "      <td>1</td>\n",
       "      <td>0</td>\n",
       "      <td>6</td>\n",
       "      <td>1</td>\n",
       "      <td>29</td>\n",
       "      <td>14.227470</td>\n",
       "      <td>5.0</td>\n",
       "      <td>3</td>\n",
       "      <td>0.020398</td>\n",
       "      <td>0.000000</td>\n",
       "      <td>0</td>\n",
       "    </tr>\n",
       "    <tr>\n",
       "      <th>1</th>\n",
       "      <td>0</td>\n",
       "      <td>1</td>\n",
       "      <td>0</td>\n",
       "      <td>0</td>\n",
       "      <td>1</td>\n",
       "      <td>12</td>\n",
       "      <td>1</td>\n",
       "      <td>31</td>\n",
       "      <td>113.202938</td>\n",
       "      <td>12.0</td>\n",
       "      <td>7</td>\n",
       "      <td>1.922936</td>\n",
       "      <td>1.910244</td>\n",
       "      <td>0</td>\n",
       "    </tr>\n",
       "    <tr>\n",
       "      <th>2</th>\n",
       "      <td>0</td>\n",
       "      <td>1</td>\n",
       "      <td>1</td>\n",
       "      <td>0</td>\n",
       "      <td>1</td>\n",
       "      <td>1</td>\n",
       "      <td>0</td>\n",
       "      <td>28</td>\n",
       "      <td>129.448479</td>\n",
       "      <td>1.0</td>\n",
       "      <td>2</td>\n",
       "      <td>1.859098</td>\n",
       "      <td>1.736502</td>\n",
       "      <td>0</td>\n",
       "    </tr>\n",
       "    <tr>\n",
       "      <th>3</th>\n",
       "      <td>0</td>\n",
       "      <td>1</td>\n",
       "      <td>1</td>\n",
       "      <td>1</td>\n",
       "      <td>1</td>\n",
       "      <td>12</td>\n",
       "      <td>1</td>\n",
       "      <td>33</td>\n",
       "      <td>62.669863</td>\n",
       "      <td>12.0</td>\n",
       "      <td>2</td>\n",
       "      <td>3.205633</td>\n",
       "      <td>3.357215</td>\n",
       "      <td>0</td>\n",
       "    </tr>\n",
       "    <tr>\n",
       "      <th>4</th>\n",
       "      <td>1</td>\n",
       "      <td>1</td>\n",
       "      <td>1</td>\n",
       "      <td>1</td>\n",
       "      <td>1</td>\n",
       "      <td>1</td>\n",
       "      <td>0</td>\n",
       "      <td>26</td>\n",
       "      <td>198.362265</td>\n",
       "      <td>1.0</td>\n",
       "      <td>3</td>\n",
       "      <td>1.113884</td>\n",
       "      <td>1.120078</td>\n",
       "      <td>0</td>\n",
       "    </tr>\n",
       "  </tbody>\n",
       "</table>\n",
       "</div>"
      ],
      "text/plain": [
       "   gender  Near_Location  Partner  Promo_friends  Phone  Contract_period  \\\n",
       "0       1              1        1              1      0                6   \n",
       "1       0              1        0              0      1               12   \n",
       "2       0              1        1              0      1                1   \n",
       "3       0              1        1              1      1               12   \n",
       "4       1              1        1              1      1                1   \n",
       "\n",
       "   Group_visits  Age  Avg_additional_charges_total  Month_to_end_contract  \\\n",
       "0             1   29                     14.227470                    5.0   \n",
       "1             1   31                    113.202938                   12.0   \n",
       "2             0   28                    129.448479                    1.0   \n",
       "3             1   33                     62.669863                   12.0   \n",
       "4             0   26                    198.362265                    1.0   \n",
       "\n",
       "   Lifetime  Avg_class_frequency_total  Avg_class_frequency_current_month  \\\n",
       "0         3                   0.020398                           0.000000   \n",
       "1         7                   1.922936                           1.910244   \n",
       "2         2                   1.859098                           1.736502   \n",
       "3         2                   3.205633                           3.357215   \n",
       "4         3                   1.113884                           1.120078   \n",
       "\n",
       "   Churn  \n",
       "0      0  \n",
       "1      0  \n",
       "2      0  \n",
       "3      0  \n",
       "4      0  "
      ]
     },
     "execution_count": 4,
     "metadata": {},
     "output_type": "execute_result"
    }
   ],
   "source": [
    "#read dataset и save it in data\n",
    "\n",
    "df = pd.read_csv('/datasets/gym_churn.csv')\n",
    "\n",
    "df.head(5)  "
   ]
  },
  {
   "cell_type": "code",
   "execution_count": 5,
   "metadata": {},
   "outputs": [],
   "source": [
    "#transform column name to low registr \n",
    "df.columns = df.columns.str.lower()"
   ]
  },
  {
   "cell_type": "code",
   "execution_count": 6,
   "metadata": {},
   "outputs": [
    {
     "name": "stdout",
     "output_type": "stream",
     "text": [
      "<class 'pandas.core.frame.DataFrame'>\n",
      "RangeIndex: 4000 entries, 0 to 3999\n",
      "Data columns (total 14 columns):\n",
      " #   Column                             Non-Null Count  Dtype  \n",
      "---  ------                             --------------  -----  \n",
      " 0   gender                             4000 non-null   int64  \n",
      " 1   near_location                      4000 non-null   int64  \n",
      " 2   partner                            4000 non-null   int64  \n",
      " 3   promo_friends                      4000 non-null   int64  \n",
      " 4   phone                              4000 non-null   int64  \n",
      " 5   contract_period                    4000 non-null   int64  \n",
      " 6   group_visits                       4000 non-null   int64  \n",
      " 7   age                                4000 non-null   int64  \n",
      " 8   avg_additional_charges_total       4000 non-null   float64\n",
      " 9   month_to_end_contract              4000 non-null   float64\n",
      " 10  lifetime                           4000 non-null   int64  \n",
      " 11  avg_class_frequency_total          4000 non-null   float64\n",
      " 12  avg_class_frequency_current_month  4000 non-null   float64\n",
      " 13  churn                              4000 non-null   int64  \n",
      "dtypes: float64(4), int64(10)\n",
      "memory usage: 437.6 KB\n"
     ]
    }
   ],
   "source": [
    "df.info()"
   ]
  },
  {
   "cell_type": "code",
   "execution_count": 7,
   "metadata": {},
   "outputs": [],
   "source": [
    "to_type(df, 'month_to_end_contract', 'int8')\n",
    "#to_type(df, 'contract_period', 'int8')\n",
    "#to_type(df, 'age', 'int8')\n",
    "#to_type(df, 'lifetime', 'int8')"
   ]
  },
  {
   "cell_type": "code",
   "execution_count": 8,
   "metadata": {},
   "outputs": [
    {
     "name": "stdout",
     "output_type": "stream",
     "text": [
      "<class 'pandas.core.frame.DataFrame'>\n",
      "RangeIndex: 4000 entries, 0 to 3999\n",
      "Data columns (total 14 columns):\n",
      " #   Column                             Non-Null Count  Dtype  \n",
      "---  ------                             --------------  -----  \n",
      " 0   gender                             4000 non-null   int64  \n",
      " 1   near_location                      4000 non-null   int64  \n",
      " 2   partner                            4000 non-null   int64  \n",
      " 3   promo_friends                      4000 non-null   int64  \n",
      " 4   phone                              4000 non-null   int64  \n",
      " 5   contract_period                    4000 non-null   int64  \n",
      " 6   group_visits                       4000 non-null   int64  \n",
      " 7   age                                4000 non-null   int64  \n",
      " 8   avg_additional_charges_total       4000 non-null   float64\n",
      " 9   month_to_end_contract              4000 non-null   int8   \n",
      " 10  lifetime                           4000 non-null   int64  \n",
      " 11  avg_class_frequency_total          4000 non-null   float64\n",
      " 12  avg_class_frequency_current_month  4000 non-null   float64\n",
      " 13  churn                              4000 non-null   int64  \n",
      "dtypes: float64(3), int64(10), int8(1)\n",
      "memory usage: 410.3 KB\n"
     ]
    }
   ],
   "source": [
    "df.info()"
   ]
  },
  {
   "cell_type": "code",
   "execution_count": 9,
   "metadata": {},
   "outputs": [
    {
     "data": {
      "text/html": [
       "<div>\n",
       "<style scoped>\n",
       "    .dataframe tbody tr th:only-of-type {\n",
       "        vertical-align: middle;\n",
       "    }\n",
       "\n",
       "    .dataframe tbody tr th {\n",
       "        vertical-align: top;\n",
       "    }\n",
       "\n",
       "    .dataframe thead th {\n",
       "        text-align: right;\n",
       "    }\n",
       "</style>\n",
       "<table border=\"1\" class=\"dataframe\">\n",
       "  <thead>\n",
       "    <tr style=\"text-align: right;\">\n",
       "      <th></th>\n",
       "      <th>gender</th>\n",
       "      <th>near_location</th>\n",
       "      <th>partner</th>\n",
       "      <th>promo_friends</th>\n",
       "      <th>phone</th>\n",
       "      <th>contract_period</th>\n",
       "      <th>group_visits</th>\n",
       "      <th>age</th>\n",
       "      <th>avg_additional_charges_total</th>\n",
       "      <th>month_to_end_contract</th>\n",
       "      <th>lifetime</th>\n",
       "      <th>avg_class_frequency_total</th>\n",
       "      <th>avg_class_frequency_current_month</th>\n",
       "      <th>churn</th>\n",
       "    </tr>\n",
       "  </thead>\n",
       "  <tbody>\n",
       "    <tr>\n",
       "      <th>0</th>\n",
       "      <td>1</td>\n",
       "      <td>1</td>\n",
       "      <td>1</td>\n",
       "      <td>1</td>\n",
       "      <td>0</td>\n",
       "      <td>6</td>\n",
       "      <td>1</td>\n",
       "      <td>29</td>\n",
       "      <td>14.227470</td>\n",
       "      <td>5</td>\n",
       "      <td>3</td>\n",
       "      <td>0.020398</td>\n",
       "      <td>0.000000</td>\n",
       "      <td>0</td>\n",
       "    </tr>\n",
       "    <tr>\n",
       "      <th>1</th>\n",
       "      <td>0</td>\n",
       "      <td>1</td>\n",
       "      <td>0</td>\n",
       "      <td>0</td>\n",
       "      <td>1</td>\n",
       "      <td>12</td>\n",
       "      <td>1</td>\n",
       "      <td>31</td>\n",
       "      <td>113.202938</td>\n",
       "      <td>12</td>\n",
       "      <td>7</td>\n",
       "      <td>1.922936</td>\n",
       "      <td>1.910244</td>\n",
       "      <td>0</td>\n",
       "    </tr>\n",
       "    <tr>\n",
       "      <th>2</th>\n",
       "      <td>0</td>\n",
       "      <td>1</td>\n",
       "      <td>1</td>\n",
       "      <td>0</td>\n",
       "      <td>1</td>\n",
       "      <td>1</td>\n",
       "      <td>0</td>\n",
       "      <td>28</td>\n",
       "      <td>129.448479</td>\n",
       "      <td>1</td>\n",
       "      <td>2</td>\n",
       "      <td>1.859098</td>\n",
       "      <td>1.736502</td>\n",
       "      <td>0</td>\n",
       "    </tr>\n",
       "    <tr>\n",
       "      <th>3</th>\n",
       "      <td>0</td>\n",
       "      <td>1</td>\n",
       "      <td>1</td>\n",
       "      <td>1</td>\n",
       "      <td>1</td>\n",
       "      <td>12</td>\n",
       "      <td>1</td>\n",
       "      <td>33</td>\n",
       "      <td>62.669863</td>\n",
       "      <td>12</td>\n",
       "      <td>2</td>\n",
       "      <td>3.205633</td>\n",
       "      <td>3.357215</td>\n",
       "      <td>0</td>\n",
       "    </tr>\n",
       "    <tr>\n",
       "      <th>4</th>\n",
       "      <td>1</td>\n",
       "      <td>1</td>\n",
       "      <td>1</td>\n",
       "      <td>1</td>\n",
       "      <td>1</td>\n",
       "      <td>1</td>\n",
       "      <td>0</td>\n",
       "      <td>26</td>\n",
       "      <td>198.362265</td>\n",
       "      <td>1</td>\n",
       "      <td>3</td>\n",
       "      <td>1.113884</td>\n",
       "      <td>1.120078</td>\n",
       "      <td>0</td>\n",
       "    </tr>\n",
       "  </tbody>\n",
       "</table>\n",
       "</div>"
      ],
      "text/plain": [
       "   gender  near_location  partner  promo_friends  phone  contract_period  \\\n",
       "0       1              1        1              1      0                6   \n",
       "1       0              1        0              0      1               12   \n",
       "2       0              1        1              0      1                1   \n",
       "3       0              1        1              1      1               12   \n",
       "4       1              1        1              1      1                1   \n",
       "\n",
       "   group_visits  age  avg_additional_charges_total  month_to_end_contract  \\\n",
       "0             1   29                     14.227470                      5   \n",
       "1             1   31                    113.202938                     12   \n",
       "2             0   28                    129.448479                      1   \n",
       "3             1   33                     62.669863                     12   \n",
       "4             0   26                    198.362265                      1   \n",
       "\n",
       "   lifetime  avg_class_frequency_total  avg_class_frequency_current_month  \\\n",
       "0         3                   0.020398                           0.000000   \n",
       "1         7                   1.922936                           1.910244   \n",
       "2         2                   1.859098                           1.736502   \n",
       "3         2                   3.205633                           3.357215   \n",
       "4         3                   1.113884                           1.120078   \n",
       "\n",
       "   churn  \n",
       "0      0  \n",
       "1      0  \n",
       "2      0  \n",
       "3      0  \n",
       "4      0  "
      ]
     },
     "execution_count": 9,
     "metadata": {},
     "output_type": "execute_result"
    }
   ],
   "source": [
    "df.head(5)  "
   ]
  },
  {
   "cell_type": "markdown",
   "metadata": {},
   "source": [
    "We are going to check out missing values and dublicates\n",
    "\n",
    "Проверим наличие дубликатов и пропущенных значений"
   ]
  },
  {
   "cell_type": "code",
   "execution_count": 10,
   "metadata": {},
   "outputs": [
    {
     "name": "stdout",
     "output_type": "stream",
     "text": [
      "Duplicate count/Количество дубликатов: 0\n"
     ]
    }
   ],
   "source": [
    "print('Duplicate count/Количество дубликатов:', df.duplicated().sum())"
   ]
  },
  {
   "cell_type": "code",
   "execution_count": 11,
   "metadata": {},
   "outputs": [
    {
     "name": "stdout",
     "output_type": "stream",
     "text": [
      "Missing value count/Количество пропущеных значений: gender                               0\n",
      "near_location                        0\n",
      "partner                              0\n",
      "promo_friends                        0\n",
      "phone                                0\n",
      "contract_period                      0\n",
      "group_visits                         0\n",
      "age                                  0\n",
      "avg_additional_charges_total         0\n",
      "month_to_end_contract                0\n",
      "lifetime                             0\n",
      "avg_class_frequency_total            0\n",
      "avg_class_frequency_current_month    0\n",
      "churn                                0\n",
      "dtype: int64\n"
     ]
    }
   ],
   "source": [
    "print('Missing value count/Количество пропущеных значений:', df.isnull().sum())"
   ]
  },
  {
   "cell_type": "markdown",
   "metadata": {},
   "source": [
    "#### Summary\n",
    "\n",
    "binary features: 'churn','gender', 'near_location', 'partner', 'promo_friends', 'phone', 'group_visits'\n",
    "\n"
   ]
  },
  {
   "cell_type": "markdown",
   "metadata": {},
   "source": [
    "### Perform Exploratory Data Analysis (EDA)\n",
    "Проведите исследовательский анализ данных (EDA)"
   ]
  },
  {
   "cell_type": "code",
   "execution_count": 12,
   "metadata": {},
   "outputs": [
    {
     "name": "stdout",
     "output_type": "stream",
     "text": [
      "(4000, 14)\n",
      "   gender  near_location  partner  promo_friends  phone  contract_period  \\\n",
      "0       1              1        1              1      0                6   \n",
      "1       0              1        0              0      1               12   \n",
      "2       0              1        1              0      1                1   \n",
      "\n",
      "   group_visits  age  avg_additional_charges_total  month_to_end_contract  \\\n",
      "0             1   29                     14.227470                      5   \n",
      "1             1   31                    113.202938                     12   \n",
      "2             0   28                    129.448479                      1   \n",
      "\n",
      "   lifetime  avg_class_frequency_total  avg_class_frequency_current_month  \\\n",
      "0         3                   0.020398                           0.000000   \n",
      "1         7                   1.922936                           1.910244   \n",
      "2         2                   1.859098                           1.736502   \n",
      "\n",
      "   churn  \n",
      "0      0  \n",
      "1      0  \n",
      "2      0  \n"
     ]
    }
   ],
   "source": [
    "print(df.shape)\n",
    "print(df.head(3))"
   ]
  },
  {
   "cell_type": "code",
   "execution_count": 13,
   "metadata": {},
   "outputs": [
    {
     "name": "stdout",
     "output_type": "stream",
     "text": [
      "<class 'pandas.core.frame.DataFrame'>\n",
      "RangeIndex: 4000 entries, 0 to 3999\n",
      "Data columns (total 14 columns):\n",
      " #   Column                             Non-Null Count  Dtype  \n",
      "---  ------                             --------------  -----  \n",
      " 0   gender                             4000 non-null   int64  \n",
      " 1   near_location                      4000 non-null   int64  \n",
      " 2   partner                            4000 non-null   int64  \n",
      " 3   promo_friends                      4000 non-null   int64  \n",
      " 4   phone                              4000 non-null   int64  \n",
      " 5   contract_period                    4000 non-null   int64  \n",
      " 6   group_visits                       4000 non-null   int64  \n",
      " 7   age                                4000 non-null   int64  \n",
      " 8   avg_additional_charges_total       4000 non-null   float64\n",
      " 9   month_to_end_contract              4000 non-null   int8   \n",
      " 10  lifetime                           4000 non-null   int64  \n",
      " 11  avg_class_frequency_total          4000 non-null   float64\n",
      " 12  avg_class_frequency_current_month  4000 non-null   float64\n",
      " 13  churn                              4000 non-null   int64  \n",
      "dtypes: float64(3), int64(10), int8(1)\n",
      "memory usage: 410.3 KB\n"
     ]
    }
   ],
   "source": [
    "#look up common information about dataset\n",
    "df.info()"
   ]
  },
  {
   "cell_type": "code",
   "execution_count": 14,
   "metadata": {},
   "outputs": [
    {
     "data": {
      "text/html": [
       "<div>\n",
       "<style scoped>\n",
       "    .dataframe tbody tr th:only-of-type {\n",
       "        vertical-align: middle;\n",
       "    }\n",
       "\n",
       "    .dataframe tbody tr th {\n",
       "        vertical-align: top;\n",
       "    }\n",
       "\n",
       "    .dataframe thead th {\n",
       "        text-align: right;\n",
       "    }\n",
       "</style>\n",
       "<table border=\"1\" class=\"dataframe\">\n",
       "  <thead>\n",
       "    <tr style=\"text-align: right;\">\n",
       "      <th></th>\n",
       "      <th>count</th>\n",
       "      <th>mean</th>\n",
       "      <th>std</th>\n",
       "      <th>min</th>\n",
       "      <th>25%</th>\n",
       "      <th>50%</th>\n",
       "      <th>75%</th>\n",
       "      <th>max</th>\n",
       "    </tr>\n",
       "  </thead>\n",
       "  <tbody>\n",
       "    <tr>\n",
       "      <th>gender</th>\n",
       "      <td>4000.0</td>\n",
       "      <td>0.510250</td>\n",
       "      <td>0.499957</td>\n",
       "      <td>0.000000</td>\n",
       "      <td>0.000000</td>\n",
       "      <td>1.000000</td>\n",
       "      <td>1.000000</td>\n",
       "      <td>1.000000</td>\n",
       "    </tr>\n",
       "    <tr>\n",
       "      <th>near_location</th>\n",
       "      <td>4000.0</td>\n",
       "      <td>0.845250</td>\n",
       "      <td>0.361711</td>\n",
       "      <td>0.000000</td>\n",
       "      <td>1.000000</td>\n",
       "      <td>1.000000</td>\n",
       "      <td>1.000000</td>\n",
       "      <td>1.000000</td>\n",
       "    </tr>\n",
       "    <tr>\n",
       "      <th>partner</th>\n",
       "      <td>4000.0</td>\n",
       "      <td>0.486750</td>\n",
       "      <td>0.499887</td>\n",
       "      <td>0.000000</td>\n",
       "      <td>0.000000</td>\n",
       "      <td>0.000000</td>\n",
       "      <td>1.000000</td>\n",
       "      <td>1.000000</td>\n",
       "    </tr>\n",
       "    <tr>\n",
       "      <th>promo_friends</th>\n",
       "      <td>4000.0</td>\n",
       "      <td>0.308500</td>\n",
       "      <td>0.461932</td>\n",
       "      <td>0.000000</td>\n",
       "      <td>0.000000</td>\n",
       "      <td>0.000000</td>\n",
       "      <td>1.000000</td>\n",
       "      <td>1.000000</td>\n",
       "    </tr>\n",
       "    <tr>\n",
       "      <th>phone</th>\n",
       "      <td>4000.0</td>\n",
       "      <td>0.903500</td>\n",
       "      <td>0.295313</td>\n",
       "      <td>0.000000</td>\n",
       "      <td>1.000000</td>\n",
       "      <td>1.000000</td>\n",
       "      <td>1.000000</td>\n",
       "      <td>1.000000</td>\n",
       "    </tr>\n",
       "    <tr>\n",
       "      <th>contract_period</th>\n",
       "      <td>4000.0</td>\n",
       "      <td>4.681250</td>\n",
       "      <td>4.549706</td>\n",
       "      <td>1.000000</td>\n",
       "      <td>1.000000</td>\n",
       "      <td>1.000000</td>\n",
       "      <td>6.000000</td>\n",
       "      <td>12.000000</td>\n",
       "    </tr>\n",
       "    <tr>\n",
       "      <th>group_visits</th>\n",
       "      <td>4000.0</td>\n",
       "      <td>0.412250</td>\n",
       "      <td>0.492301</td>\n",
       "      <td>0.000000</td>\n",
       "      <td>0.000000</td>\n",
       "      <td>0.000000</td>\n",
       "      <td>1.000000</td>\n",
       "      <td>1.000000</td>\n",
       "    </tr>\n",
       "    <tr>\n",
       "      <th>age</th>\n",
       "      <td>4000.0</td>\n",
       "      <td>29.184250</td>\n",
       "      <td>3.258367</td>\n",
       "      <td>18.000000</td>\n",
       "      <td>27.000000</td>\n",
       "      <td>29.000000</td>\n",
       "      <td>31.000000</td>\n",
       "      <td>41.000000</td>\n",
       "    </tr>\n",
       "    <tr>\n",
       "      <th>avg_additional_charges_total</th>\n",
       "      <td>4000.0</td>\n",
       "      <td>146.943728</td>\n",
       "      <td>96.355602</td>\n",
       "      <td>0.148205</td>\n",
       "      <td>68.868830</td>\n",
       "      <td>136.220159</td>\n",
       "      <td>210.949625</td>\n",
       "      <td>552.590740</td>\n",
       "    </tr>\n",
       "    <tr>\n",
       "      <th>month_to_end_contract</th>\n",
       "      <td>4000.0</td>\n",
       "      <td>4.322750</td>\n",
       "      <td>4.191297</td>\n",
       "      <td>1.000000</td>\n",
       "      <td>1.000000</td>\n",
       "      <td>1.000000</td>\n",
       "      <td>6.000000</td>\n",
       "      <td>12.000000</td>\n",
       "    </tr>\n",
       "    <tr>\n",
       "      <th>lifetime</th>\n",
       "      <td>4000.0</td>\n",
       "      <td>3.724750</td>\n",
       "      <td>3.749267</td>\n",
       "      <td>0.000000</td>\n",
       "      <td>1.000000</td>\n",
       "      <td>3.000000</td>\n",
       "      <td>5.000000</td>\n",
       "      <td>31.000000</td>\n",
       "    </tr>\n",
       "    <tr>\n",
       "      <th>avg_class_frequency_total</th>\n",
       "      <td>4000.0</td>\n",
       "      <td>1.879020</td>\n",
       "      <td>0.972245</td>\n",
       "      <td>0.000000</td>\n",
       "      <td>1.180875</td>\n",
       "      <td>1.832768</td>\n",
       "      <td>2.536078</td>\n",
       "      <td>6.023668</td>\n",
       "    </tr>\n",
       "    <tr>\n",
       "      <th>avg_class_frequency_current_month</th>\n",
       "      <td>4000.0</td>\n",
       "      <td>1.767052</td>\n",
       "      <td>1.052906</td>\n",
       "      <td>0.000000</td>\n",
       "      <td>0.963003</td>\n",
       "      <td>1.719574</td>\n",
       "      <td>2.510336</td>\n",
       "      <td>6.146783</td>\n",
       "    </tr>\n",
       "    <tr>\n",
       "      <th>churn</th>\n",
       "      <td>4000.0</td>\n",
       "      <td>0.265250</td>\n",
       "      <td>0.441521</td>\n",
       "      <td>0.000000</td>\n",
       "      <td>0.000000</td>\n",
       "      <td>0.000000</td>\n",
       "      <td>1.000000</td>\n",
       "      <td>1.000000</td>\n",
       "    </tr>\n",
       "  </tbody>\n",
       "</table>\n",
       "</div>"
      ],
      "text/plain": [
       "                                    count        mean        std        min  \\\n",
       "gender                             4000.0    0.510250   0.499957   0.000000   \n",
       "near_location                      4000.0    0.845250   0.361711   0.000000   \n",
       "partner                            4000.0    0.486750   0.499887   0.000000   \n",
       "promo_friends                      4000.0    0.308500   0.461932   0.000000   \n",
       "phone                              4000.0    0.903500   0.295313   0.000000   \n",
       "contract_period                    4000.0    4.681250   4.549706   1.000000   \n",
       "group_visits                       4000.0    0.412250   0.492301   0.000000   \n",
       "age                                4000.0   29.184250   3.258367  18.000000   \n",
       "avg_additional_charges_total       4000.0  146.943728  96.355602   0.148205   \n",
       "month_to_end_contract              4000.0    4.322750   4.191297   1.000000   \n",
       "lifetime                           4000.0    3.724750   3.749267   0.000000   \n",
       "avg_class_frequency_total          4000.0    1.879020   0.972245   0.000000   \n",
       "avg_class_frequency_current_month  4000.0    1.767052   1.052906   0.000000   \n",
       "churn                              4000.0    0.265250   0.441521   0.000000   \n",
       "\n",
       "                                         25%         50%         75%  \\\n",
       "gender                              0.000000    1.000000    1.000000   \n",
       "near_location                       1.000000    1.000000    1.000000   \n",
       "partner                             0.000000    0.000000    1.000000   \n",
       "promo_friends                       0.000000    0.000000    1.000000   \n",
       "phone                               1.000000    1.000000    1.000000   \n",
       "contract_period                     1.000000    1.000000    6.000000   \n",
       "group_visits                        0.000000    0.000000    1.000000   \n",
       "age                                27.000000   29.000000   31.000000   \n",
       "avg_additional_charges_total       68.868830  136.220159  210.949625   \n",
       "month_to_end_contract               1.000000    1.000000    6.000000   \n",
       "lifetime                            1.000000    3.000000    5.000000   \n",
       "avg_class_frequency_total           1.180875    1.832768    2.536078   \n",
       "avg_class_frequency_current_month   0.963003    1.719574    2.510336   \n",
       "churn                               0.000000    0.000000    1.000000   \n",
       "\n",
       "                                          max  \n",
       "gender                               1.000000  \n",
       "near_location                        1.000000  \n",
       "partner                              1.000000  \n",
       "promo_friends                        1.000000  \n",
       "phone                                1.000000  \n",
       "contract_period                     12.000000  \n",
       "group_visits                         1.000000  \n",
       "age                                 41.000000  \n",
       "avg_additional_charges_total       552.590740  \n",
       "month_to_end_contract               12.000000  \n",
       "lifetime                            31.000000  \n",
       "avg_class_frequency_total            6.023668  \n",
       "avg_class_frequency_current_month    6.146783  \n",
       "churn                                1.000000  "
      ]
     },
     "execution_count": 14,
     "metadata": {},
     "output_type": "execute_result"
    }
   ],
   "source": [
    "df.describe().T"
   ]
  },
  {
   "cell_type": "code",
   "execution_count": 15,
   "metadata": {},
   "outputs": [],
   "source": [
    "df_0=df.query('churn==0')\n",
    "df_1=df.query('churn==1')"
   ]
  },
  {
   "cell_type": "code",
   "execution_count": 16,
   "metadata": {},
   "outputs": [
    {
     "name": "stdout",
     "output_type": "stream",
     "text": [
      "remaining clients\n"
     ]
    },
    {
     "data": {
      "text/html": [
       "<div>\n",
       "<style scoped>\n",
       "    .dataframe tbody tr th:only-of-type {\n",
       "        vertical-align: middle;\n",
       "    }\n",
       "\n",
       "    .dataframe tbody tr th {\n",
       "        vertical-align: top;\n",
       "    }\n",
       "\n",
       "    .dataframe thead th {\n",
       "        text-align: right;\n",
       "    }\n",
       "</style>\n",
       "<table border=\"1\" class=\"dataframe\">\n",
       "  <thead>\n",
       "    <tr style=\"text-align: right;\">\n",
       "      <th></th>\n",
       "      <th>count</th>\n",
       "      <th>mean</th>\n",
       "      <th>std</th>\n",
       "      <th>min</th>\n",
       "      <th>25%</th>\n",
       "      <th>50%</th>\n",
       "      <th>75%</th>\n",
       "      <th>max</th>\n",
       "    </tr>\n",
       "  </thead>\n",
       "  <tbody>\n",
       "    <tr>\n",
       "      <th>gender</th>\n",
       "      <td>2939.0</td>\n",
       "      <td>0.510037</td>\n",
       "      <td>0.499984</td>\n",
       "      <td>0.000000</td>\n",
       "      <td>0.000000</td>\n",
       "      <td>1.000000</td>\n",
       "      <td>1.000000</td>\n",
       "      <td>1.000000</td>\n",
       "    </tr>\n",
       "    <tr>\n",
       "      <th>near_location</th>\n",
       "      <td>2939.0</td>\n",
       "      <td>0.873086</td>\n",
       "      <td>0.332933</td>\n",
       "      <td>0.000000</td>\n",
       "      <td>1.000000</td>\n",
       "      <td>1.000000</td>\n",
       "      <td>1.000000</td>\n",
       "      <td>1.000000</td>\n",
       "    </tr>\n",
       "    <tr>\n",
       "      <th>partner</th>\n",
       "      <td>2939.0</td>\n",
       "      <td>0.534195</td>\n",
       "      <td>0.498914</td>\n",
       "      <td>0.000000</td>\n",
       "      <td>0.000000</td>\n",
       "      <td>1.000000</td>\n",
       "      <td>1.000000</td>\n",
       "      <td>1.000000</td>\n",
       "    </tr>\n",
       "    <tr>\n",
       "      <th>promo_friends</th>\n",
       "      <td>2939.0</td>\n",
       "      <td>0.353522</td>\n",
       "      <td>0.478144</td>\n",
       "      <td>0.000000</td>\n",
       "      <td>0.000000</td>\n",
       "      <td>0.000000</td>\n",
       "      <td>1.000000</td>\n",
       "      <td>1.000000</td>\n",
       "    </tr>\n",
       "    <tr>\n",
       "      <th>phone</th>\n",
       "      <td>2939.0</td>\n",
       "      <td>0.903709</td>\n",
       "      <td>0.295040</td>\n",
       "      <td>0.000000</td>\n",
       "      <td>1.000000</td>\n",
       "      <td>1.000000</td>\n",
       "      <td>1.000000</td>\n",
       "      <td>1.000000</td>\n",
       "    </tr>\n",
       "    <tr>\n",
       "      <th>contract_period</th>\n",
       "      <td>2939.0</td>\n",
       "      <td>5.747193</td>\n",
       "      <td>4.716942</td>\n",
       "      <td>1.000000</td>\n",
       "      <td>1.000000</td>\n",
       "      <td>6.000000</td>\n",
       "      <td>12.000000</td>\n",
       "      <td>12.000000</td>\n",
       "    </tr>\n",
       "    <tr>\n",
       "      <th>group_visits</th>\n",
       "      <td>2939.0</td>\n",
       "      <td>0.464103</td>\n",
       "      <td>0.498795</td>\n",
       "      <td>0.000000</td>\n",
       "      <td>0.000000</td>\n",
       "      <td>0.000000</td>\n",
       "      <td>1.000000</td>\n",
       "      <td>1.000000</td>\n",
       "    </tr>\n",
       "    <tr>\n",
       "      <th>age</th>\n",
       "      <td>2939.0</td>\n",
       "      <td>29.976523</td>\n",
       "      <td>3.009933</td>\n",
       "      <td>19.000000</td>\n",
       "      <td>28.000000</td>\n",
       "      <td>30.000000</td>\n",
       "      <td>32.000000</td>\n",
       "      <td>41.000000</td>\n",
       "    </tr>\n",
       "    <tr>\n",
       "      <th>avg_additional_charges_total</th>\n",
       "      <td>2939.0</td>\n",
       "      <td>158.445715</td>\n",
       "      <td>99.801599</td>\n",
       "      <td>0.171862</td>\n",
       "      <td>76.920993</td>\n",
       "      <td>149.881171</td>\n",
       "      <td>224.448274</td>\n",
       "      <td>552.590740</td>\n",
       "    </tr>\n",
       "    <tr>\n",
       "      <th>month_to_end_contract</th>\n",
       "      <td>2939.0</td>\n",
       "      <td>5.283089</td>\n",
       "      <td>4.363522</td>\n",
       "      <td>1.000000</td>\n",
       "      <td>1.000000</td>\n",
       "      <td>6.000000</td>\n",
       "      <td>10.000000</td>\n",
       "      <td>12.000000</td>\n",
       "    </tr>\n",
       "    <tr>\n",
       "      <th>lifetime</th>\n",
       "      <td>2939.0</td>\n",
       "      <td>4.711807</td>\n",
       "      <td>3.874780</td>\n",
       "      <td>0.000000</td>\n",
       "      <td>2.000000</td>\n",
       "      <td>4.000000</td>\n",
       "      <td>6.000000</td>\n",
       "      <td>31.000000</td>\n",
       "    </tr>\n",
       "    <tr>\n",
       "      <th>avg_class_frequency_total</th>\n",
       "      <td>2939.0</td>\n",
       "      <td>2.024876</td>\n",
       "      <td>1.016006</td>\n",
       "      <td>0.000000</td>\n",
       "      <td>1.283137</td>\n",
       "      <td>2.043252</td>\n",
       "      <td>2.732944</td>\n",
       "      <td>6.023668</td>\n",
       "    </tr>\n",
       "    <tr>\n",
       "      <th>avg_class_frequency_current_month</th>\n",
       "      <td>2939.0</td>\n",
       "      <td>2.027882</td>\n",
       "      <td>1.018994</td>\n",
       "      <td>0.000000</td>\n",
       "      <td>1.297021</td>\n",
       "      <td>2.046697</td>\n",
       "      <td>2.740648</td>\n",
       "      <td>6.146783</td>\n",
       "    </tr>\n",
       "    <tr>\n",
       "      <th>churn</th>\n",
       "      <td>2939.0</td>\n",
       "      <td>0.000000</td>\n",
       "      <td>0.000000</td>\n",
       "      <td>0.000000</td>\n",
       "      <td>0.000000</td>\n",
       "      <td>0.000000</td>\n",
       "      <td>0.000000</td>\n",
       "      <td>0.000000</td>\n",
       "    </tr>\n",
       "  </tbody>\n",
       "</table>\n",
       "</div>"
      ],
      "text/plain": [
       "                                    count        mean        std        min  \\\n",
       "gender                             2939.0    0.510037   0.499984   0.000000   \n",
       "near_location                      2939.0    0.873086   0.332933   0.000000   \n",
       "partner                            2939.0    0.534195   0.498914   0.000000   \n",
       "promo_friends                      2939.0    0.353522   0.478144   0.000000   \n",
       "phone                              2939.0    0.903709   0.295040   0.000000   \n",
       "contract_period                    2939.0    5.747193   4.716942   1.000000   \n",
       "group_visits                       2939.0    0.464103   0.498795   0.000000   \n",
       "age                                2939.0   29.976523   3.009933  19.000000   \n",
       "avg_additional_charges_total       2939.0  158.445715  99.801599   0.171862   \n",
       "month_to_end_contract              2939.0    5.283089   4.363522   1.000000   \n",
       "lifetime                           2939.0    4.711807   3.874780   0.000000   \n",
       "avg_class_frequency_total          2939.0    2.024876   1.016006   0.000000   \n",
       "avg_class_frequency_current_month  2939.0    2.027882   1.018994   0.000000   \n",
       "churn                              2939.0    0.000000   0.000000   0.000000   \n",
       "\n",
       "                                         25%         50%         75%  \\\n",
       "gender                              0.000000    1.000000    1.000000   \n",
       "near_location                       1.000000    1.000000    1.000000   \n",
       "partner                             0.000000    1.000000    1.000000   \n",
       "promo_friends                       0.000000    0.000000    1.000000   \n",
       "phone                               1.000000    1.000000    1.000000   \n",
       "contract_period                     1.000000    6.000000   12.000000   \n",
       "group_visits                        0.000000    0.000000    1.000000   \n",
       "age                                28.000000   30.000000   32.000000   \n",
       "avg_additional_charges_total       76.920993  149.881171  224.448274   \n",
       "month_to_end_contract               1.000000    6.000000   10.000000   \n",
       "lifetime                            2.000000    4.000000    6.000000   \n",
       "avg_class_frequency_total           1.283137    2.043252    2.732944   \n",
       "avg_class_frequency_current_month   1.297021    2.046697    2.740648   \n",
       "churn                               0.000000    0.000000    0.000000   \n",
       "\n",
       "                                          max  \n",
       "gender                               1.000000  \n",
       "near_location                        1.000000  \n",
       "partner                              1.000000  \n",
       "promo_friends                        1.000000  \n",
       "phone                                1.000000  \n",
       "contract_period                     12.000000  \n",
       "group_visits                         1.000000  \n",
       "age                                 41.000000  \n",
       "avg_additional_charges_total       552.590740  \n",
       "month_to_end_contract               12.000000  \n",
       "lifetime                            31.000000  \n",
       "avg_class_frequency_total            6.023668  \n",
       "avg_class_frequency_current_month    6.146783  \n",
       "churn                                0.000000  "
      ]
     },
     "execution_count": 16,
     "metadata": {},
     "output_type": "execute_result"
    }
   ],
   "source": [
    "print('remaining clients')\n",
    "df_0.describe().T"
   ]
  },
  {
   "cell_type": "code",
   "execution_count": 17,
   "metadata": {},
   "outputs": [
    {
     "name": "stdout",
     "output_type": "stream",
     "text": [
      "Churn\n"
     ]
    },
    {
     "data": {
      "text/html": [
       "<div>\n",
       "<style scoped>\n",
       "    .dataframe tbody tr th:only-of-type {\n",
       "        vertical-align: middle;\n",
       "    }\n",
       "\n",
       "    .dataframe tbody tr th {\n",
       "        vertical-align: top;\n",
       "    }\n",
       "\n",
       "    .dataframe thead th {\n",
       "        text-align: right;\n",
       "    }\n",
       "</style>\n",
       "<table border=\"1\" class=\"dataframe\">\n",
       "  <thead>\n",
       "    <tr style=\"text-align: right;\">\n",
       "      <th></th>\n",
       "      <th>count</th>\n",
       "      <th>mean</th>\n",
       "      <th>std</th>\n",
       "      <th>min</th>\n",
       "      <th>25%</th>\n",
       "      <th>50%</th>\n",
       "      <th>75%</th>\n",
       "      <th>max</th>\n",
       "    </tr>\n",
       "  </thead>\n",
       "  <tbody>\n",
       "    <tr>\n",
       "      <th>gender</th>\n",
       "      <td>1061.0</td>\n",
       "      <td>0.510839</td>\n",
       "      <td>0.500118</td>\n",
       "      <td>0.000000</td>\n",
       "      <td>0.000000</td>\n",
       "      <td>1.000000</td>\n",
       "      <td>1.000000</td>\n",
       "      <td>1.000000</td>\n",
       "    </tr>\n",
       "    <tr>\n",
       "      <th>near_location</th>\n",
       "      <td>1061.0</td>\n",
       "      <td>0.768143</td>\n",
       "      <td>0.422217</td>\n",
       "      <td>0.000000</td>\n",
       "      <td>1.000000</td>\n",
       "      <td>1.000000</td>\n",
       "      <td>1.000000</td>\n",
       "      <td>1.000000</td>\n",
       "    </tr>\n",
       "    <tr>\n",
       "      <th>partner</th>\n",
       "      <td>1061.0</td>\n",
       "      <td>0.355325</td>\n",
       "      <td>0.478837</td>\n",
       "      <td>0.000000</td>\n",
       "      <td>0.000000</td>\n",
       "      <td>0.000000</td>\n",
       "      <td>1.000000</td>\n",
       "      <td>1.000000</td>\n",
       "    </tr>\n",
       "    <tr>\n",
       "      <th>promo_friends</th>\n",
       "      <td>1061.0</td>\n",
       "      <td>0.183789</td>\n",
       "      <td>0.387495</td>\n",
       "      <td>0.000000</td>\n",
       "      <td>0.000000</td>\n",
       "      <td>0.000000</td>\n",
       "      <td>0.000000</td>\n",
       "      <td>1.000000</td>\n",
       "    </tr>\n",
       "    <tr>\n",
       "      <th>phone</th>\n",
       "      <td>1061.0</td>\n",
       "      <td>0.902922</td>\n",
       "      <td>0.296204</td>\n",
       "      <td>0.000000</td>\n",
       "      <td>1.000000</td>\n",
       "      <td>1.000000</td>\n",
       "      <td>1.000000</td>\n",
       "      <td>1.000000</td>\n",
       "    </tr>\n",
       "    <tr>\n",
       "      <th>contract_period</th>\n",
       "      <td>1061.0</td>\n",
       "      <td>1.728558</td>\n",
       "      <td>2.132371</td>\n",
       "      <td>1.000000</td>\n",
       "      <td>1.000000</td>\n",
       "      <td>1.000000</td>\n",
       "      <td>1.000000</td>\n",
       "      <td>12.000000</td>\n",
       "    </tr>\n",
       "    <tr>\n",
       "      <th>group_visits</th>\n",
       "      <td>1061.0</td>\n",
       "      <td>0.268615</td>\n",
       "      <td>0.443448</td>\n",
       "      <td>0.000000</td>\n",
       "      <td>0.000000</td>\n",
       "      <td>0.000000</td>\n",
       "      <td>1.000000</td>\n",
       "      <td>1.000000</td>\n",
       "    </tr>\n",
       "    <tr>\n",
       "      <th>age</th>\n",
       "      <td>1061.0</td>\n",
       "      <td>26.989632</td>\n",
       "      <td>2.895163</td>\n",
       "      <td>18.000000</td>\n",
       "      <td>25.000000</td>\n",
       "      <td>27.000000</td>\n",
       "      <td>29.000000</td>\n",
       "      <td>38.000000</td>\n",
       "    </tr>\n",
       "    <tr>\n",
       "      <th>avg_additional_charges_total</th>\n",
       "      <td>1061.0</td>\n",
       "      <td>115.082899</td>\n",
       "      <td>77.696419</td>\n",
       "      <td>0.148205</td>\n",
       "      <td>50.629127</td>\n",
       "      <td>103.814686</td>\n",
       "      <td>165.616858</td>\n",
       "      <td>425.535220</td>\n",
       "    </tr>\n",
       "    <tr>\n",
       "      <th>month_to_end_contract</th>\n",
       "      <td>1061.0</td>\n",
       "      <td>1.662582</td>\n",
       "      <td>1.964593</td>\n",
       "      <td>1.000000</td>\n",
       "      <td>1.000000</td>\n",
       "      <td>1.000000</td>\n",
       "      <td>1.000000</td>\n",
       "      <td>12.000000</td>\n",
       "    </tr>\n",
       "    <tr>\n",
       "      <th>lifetime</th>\n",
       "      <td>1061.0</td>\n",
       "      <td>0.990575</td>\n",
       "      <td>1.110799</td>\n",
       "      <td>0.000000</td>\n",
       "      <td>0.000000</td>\n",
       "      <td>1.000000</td>\n",
       "      <td>1.000000</td>\n",
       "      <td>9.000000</td>\n",
       "    </tr>\n",
       "    <tr>\n",
       "      <th>avg_class_frequency_total</th>\n",
       "      <td>1061.0</td>\n",
       "      <td>1.474995</td>\n",
       "      <td>0.694705</td>\n",
       "      <td>0.000000</td>\n",
       "      <td>1.010771</td>\n",
       "      <td>1.491187</td>\n",
       "      <td>1.956438</td>\n",
       "      <td>3.478646</td>\n",
       "    </tr>\n",
       "    <tr>\n",
       "      <th>avg_class_frequency_current_month</th>\n",
       "      <td>1061.0</td>\n",
       "      <td>1.044546</td>\n",
       "      <td>0.770237</td>\n",
       "      <td>0.000000</td>\n",
       "      <td>0.421337</td>\n",
       "      <td>0.979445</td>\n",
       "      <td>1.588576</td>\n",
       "      <td>3.540271</td>\n",
       "    </tr>\n",
       "    <tr>\n",
       "      <th>churn</th>\n",
       "      <td>1061.0</td>\n",
       "      <td>1.000000</td>\n",
       "      <td>0.000000</td>\n",
       "      <td>1.000000</td>\n",
       "      <td>1.000000</td>\n",
       "      <td>1.000000</td>\n",
       "      <td>1.000000</td>\n",
       "      <td>1.000000</td>\n",
       "    </tr>\n",
       "  </tbody>\n",
       "</table>\n",
       "</div>"
      ],
      "text/plain": [
       "                                    count        mean        std        min  \\\n",
       "gender                             1061.0    0.510839   0.500118   0.000000   \n",
       "near_location                      1061.0    0.768143   0.422217   0.000000   \n",
       "partner                            1061.0    0.355325   0.478837   0.000000   \n",
       "promo_friends                      1061.0    0.183789   0.387495   0.000000   \n",
       "phone                              1061.0    0.902922   0.296204   0.000000   \n",
       "contract_period                    1061.0    1.728558   2.132371   1.000000   \n",
       "group_visits                       1061.0    0.268615   0.443448   0.000000   \n",
       "age                                1061.0   26.989632   2.895163  18.000000   \n",
       "avg_additional_charges_total       1061.0  115.082899  77.696419   0.148205   \n",
       "month_to_end_contract              1061.0    1.662582   1.964593   1.000000   \n",
       "lifetime                           1061.0    0.990575   1.110799   0.000000   \n",
       "avg_class_frequency_total          1061.0    1.474995   0.694705   0.000000   \n",
       "avg_class_frequency_current_month  1061.0    1.044546   0.770237   0.000000   \n",
       "churn                              1061.0    1.000000   0.000000   1.000000   \n",
       "\n",
       "                                         25%         50%         75%  \\\n",
       "gender                              0.000000    1.000000    1.000000   \n",
       "near_location                       1.000000    1.000000    1.000000   \n",
       "partner                             0.000000    0.000000    1.000000   \n",
       "promo_friends                       0.000000    0.000000    0.000000   \n",
       "phone                               1.000000    1.000000    1.000000   \n",
       "contract_period                     1.000000    1.000000    1.000000   \n",
       "group_visits                        0.000000    0.000000    1.000000   \n",
       "age                                25.000000   27.000000   29.000000   \n",
       "avg_additional_charges_total       50.629127  103.814686  165.616858   \n",
       "month_to_end_contract               1.000000    1.000000    1.000000   \n",
       "lifetime                            0.000000    1.000000    1.000000   \n",
       "avg_class_frequency_total           1.010771    1.491187    1.956438   \n",
       "avg_class_frequency_current_month   0.421337    0.979445    1.588576   \n",
       "churn                               1.000000    1.000000    1.000000   \n",
       "\n",
       "                                          max  \n",
       "gender                               1.000000  \n",
       "near_location                        1.000000  \n",
       "partner                              1.000000  \n",
       "promo_friends                        1.000000  \n",
       "phone                                1.000000  \n",
       "contract_period                     12.000000  \n",
       "group_visits                         1.000000  \n",
       "age                                 38.000000  \n",
       "avg_additional_charges_total       425.535220  \n",
       "month_to_end_contract               12.000000  \n",
       "lifetime                             9.000000  \n",
       "avg_class_frequency_total            3.478646  \n",
       "avg_class_frequency_current_month    3.540271  \n",
       "churn                                1.000000  "
      ]
     },
     "execution_count": 17,
     "metadata": {},
     "output_type": "execute_result"
    }
   ],
   "source": [
    "print('Churn')\n",
    "df_1.describe().T"
   ]
  },
  {
   "cell_type": "markdown",
   "metadata": {},
   "source": [
    "1.It can be seen that the younger the client, the more likely they are to leave. Perhaps we should launch some program for young visitors for user retention.\n",
    "\n",
    "2.Churn does not depend on gender\n",
    "\n",
    "3.Group classes attendance does not depend on gender."
   ]
  },
  {
   "cell_type": "markdown",
   "metadata": {},
   "source": [
    "#### Check out mean values for 2 groups - churn and left\n",
    "Посмотрите на средние значения признаков в двух группах — тех, кто ушел в отток и тех, кто остался (воспользуйтесь методом groupby());"
   ]
  },
  {
   "cell_type": "code",
   "execution_count": 18,
   "metadata": {},
   "outputs": [
    {
     "data": {
      "text/html": [
       "<div>\n",
       "<style scoped>\n",
       "    .dataframe tbody tr th:only-of-type {\n",
       "        vertical-align: middle;\n",
       "    }\n",
       "\n",
       "    .dataframe tbody tr th {\n",
       "        vertical-align: top;\n",
       "    }\n",
       "\n",
       "    .dataframe thead th {\n",
       "        text-align: right;\n",
       "    }\n",
       "</style>\n",
       "<table border=\"1\" class=\"dataframe\">\n",
       "  <thead>\n",
       "    <tr style=\"text-align: right;\">\n",
       "      <th>churn</th>\n",
       "      <th>0</th>\n",
       "      <th>1</th>\n",
       "    </tr>\n",
       "  </thead>\n",
       "  <tbody>\n",
       "    <tr>\n",
       "      <th>gender</th>\n",
       "      <td>0.510037</td>\n",
       "      <td>0.510839</td>\n",
       "    </tr>\n",
       "    <tr>\n",
       "      <th>near_location</th>\n",
       "      <td>0.873086</td>\n",
       "      <td>0.768143</td>\n",
       "    </tr>\n",
       "    <tr>\n",
       "      <th>partner</th>\n",
       "      <td>0.534195</td>\n",
       "      <td>0.355325</td>\n",
       "    </tr>\n",
       "    <tr>\n",
       "      <th>promo_friends</th>\n",
       "      <td>0.353522</td>\n",
       "      <td>0.183789</td>\n",
       "    </tr>\n",
       "    <tr>\n",
       "      <th>phone</th>\n",
       "      <td>0.903709</td>\n",
       "      <td>0.902922</td>\n",
       "    </tr>\n",
       "    <tr>\n",
       "      <th>contract_period</th>\n",
       "      <td>5.747193</td>\n",
       "      <td>1.728558</td>\n",
       "    </tr>\n",
       "    <tr>\n",
       "      <th>group_visits</th>\n",
       "      <td>0.464103</td>\n",
       "      <td>0.268615</td>\n",
       "    </tr>\n",
       "    <tr>\n",
       "      <th>age</th>\n",
       "      <td>29.976523</td>\n",
       "      <td>26.989632</td>\n",
       "    </tr>\n",
       "    <tr>\n",
       "      <th>avg_additional_charges_total</th>\n",
       "      <td>158.445715</td>\n",
       "      <td>115.082899</td>\n",
       "    </tr>\n",
       "    <tr>\n",
       "      <th>month_to_end_contract</th>\n",
       "      <td>5.283089</td>\n",
       "      <td>1.662582</td>\n",
       "    </tr>\n",
       "    <tr>\n",
       "      <th>lifetime</th>\n",
       "      <td>4.711807</td>\n",
       "      <td>0.990575</td>\n",
       "    </tr>\n",
       "    <tr>\n",
       "      <th>avg_class_frequency_total</th>\n",
       "      <td>2.024876</td>\n",
       "      <td>1.474995</td>\n",
       "    </tr>\n",
       "    <tr>\n",
       "      <th>avg_class_frequency_current_month</th>\n",
       "      <td>2.027882</td>\n",
       "      <td>1.044546</td>\n",
       "    </tr>\n",
       "  </tbody>\n",
       "</table>\n",
       "</div>"
      ],
      "text/plain": [
       "churn                                       0           1\n",
       "gender                               0.510037    0.510839\n",
       "near_location                        0.873086    0.768143\n",
       "partner                              0.534195    0.355325\n",
       "promo_friends                        0.353522    0.183789\n",
       "phone                                0.903709    0.902922\n",
       "contract_period                      5.747193    1.728558\n",
       "group_visits                         0.464103    0.268615\n",
       "age                                 29.976523   26.989632\n",
       "avg_additional_charges_total       158.445715  115.082899\n",
       "month_to_end_contract                5.283089    1.662582\n",
       "lifetime                             4.711807    0.990575\n",
       "avg_class_frequency_total            2.024876    1.474995\n",
       "avg_class_frequency_current_month    2.027882    1.044546"
      ]
     },
     "execution_count": 18,
     "metadata": {},
     "output_type": "execute_result"
    }
   ],
   "source": [
    "df.groupby('churn').agg('mean').T"
   ]
  },
  {
   "cell_type": "markdown",
   "metadata": {},
   "source": [
    "#### Build hist graphs and feature distributions for those who left (churn) and those who stayed (did not churn);\n",
    "\n",
    "Построим столбчатые гистограммы и распределения признаков для тех, кто ушёл (отток) и тех, кто остался (не попали в отток);"
   ]
  },
  {
   "cell_type": "code",
   "execution_count": 19,
   "metadata": {},
   "outputs": [
    {
     "data": {
      "image/png": "[encoded data removed]",
      "text/plain": [
       "<Figure size 504x144 with 1 Axes>"
      ]
     },
     "metadata": {
      "needs_background": "light"
     },
     "output_type": "display_data"
    },
    {
     "data": {
      "image/png": "[encoded data removed]",
      "text/plain": [
       "<Figure size 504x144 with 1 Axes>"
      ]
     },
     "metadata": {
      "needs_background": "light"
     },
     "output_type": "display_data"
    },
    {
     "data": {
      "image/png": "[encoded data removed]",
      "text/plain": [
       "<Figure size 504x144 with 1 Axes>"
      ]
     },
     "metadata": {
      "needs_background": "light"
     },
     "output_type": "display_data"
    },
    {
     "data": {
      "image/png": "[encoded data removed]",
      "text/plain": [
       "<Figure size 504x144 with 1 Axes>"
      ]
     },
     "metadata": {
      "needs_background": "light"
     },
     "output_type": "display_data"
    },
    {
     "data": {
      "image/png": "[encoded data removed]",
      "text/plain": [
       "<Figure size 504x144 with 1 Axes>"
      ]
     },
     "metadata": {
      "needs_background": "light"
     },
     "output_type": "display_data"
    },
    {
     "data": {
      "image/png": "[encoded data removed]",
      "text/plain": [
       "<Figure size 504x144 with 1 Axes>"
      ]
     },
     "metadata": {
      "needs_background": "light"
     },
     "output_type": "display_data"
    },
    {
     "data": {
      "image/png": "[encoded data removed]",
      "text/plain": [
       "<Figure size 504x144 with 1 Axes>"
      ]
     },
     "metadata": {
      "needs_background": "light"
     },
     "output_type": "display_data"
    },
    {
     "data": {
      "image/png": "[encoded data removed]",
      "text/plain": [
       "<Figure size 504x144 with 1 Axes>"
      ]
     },
     "metadata": {
      "needs_background": "light"
     },
     "output_type": "display_data"
    }
   ],
   "source": [
    "def PrintChurn0():\n",
    "    column_list = ['avg_additional_charges_total', 'avg_class_frequency_total', \n",
    "                    'avg_class_frequency_current_month', 'lifetime', 'age', \n",
    "                    'contract_period', 'month_to_end_contract', 'churn']\n",
    "    for column in column_list: \n",
    "        plt.figure(figsize=(7,2)) \n",
    "        plt.title(column)\n",
    "        sns.distplot(df_0[column])\n",
    "        sns.distplot(df_1[column])\n",
    "        plt.legend(['churn', 'left'])\n",
    "        plt.show()\n",
    "        \n",
    "PrintChurn0()"
   ]
  },
  {
   "cell_type": "markdown",
   "metadata": {},
   "source": [
    "#### Building histograms for binary features\n",
    "Строим гистограммы для бинарных признаков"
   ]
  },
  {
   "cell_type": "code",
   "execution_count": 20,
   "metadata": {},
   "outputs": [
    {
     "data": {
      "image/png": "[encoded data removed]",
      "text/plain": [
       "<Figure size 504x216 with 1 Axes>"
      ]
     },
     "metadata": {
      "needs_background": "light"
     },
     "output_type": "display_data"
    },
    {
     "data": {
      "image/png": "[encoded data removed]",
      "text/plain": [
       "<Figure size 504x216 with 1 Axes>"
      ]
     },
     "metadata": {
      "needs_background": "light"
     },
     "output_type": "display_data"
    },
    {
     "data": {
      "image/png": "[encoded data removed]",
      "text/plain": [
       "<Figure size 504x216 with 1 Axes>"
      ]
     },
     "metadata": {
      "needs_background": "light"
     },
     "output_type": "display_data"
    },
    {
     "data": {
      "image/png": "[encoded data removed]",
      "text/plain": [
       "<Figure size 504x216 with 1 Axes>"
      ]
     },
     "metadata": {
      "needs_background": "light"
     },
     "output_type": "display_data"
    },
    {
     "data": {
      "image/png": "[encoded data removed]",
      "text/plain": [
       "<Figure size 504x216 with 1 Axes>"
      ]
     },
     "metadata": {
      "needs_background": "light"
     },
     "output_type": "display_data"
    },
    {
     "data": {
      "image/png": "[encoded data removed]",
      "text/plain": [
       "<Figure size 504x216 with 1 Axes>"
      ]
     },
     "metadata": {
      "needs_background": "light"
     },
     "output_type": "display_data"
    },
    {
     "data": {
      "image/png": "[encoded data removed]",
      "text/plain": [
       "<Figure size 504x216 with 1 Axes>"
      ]
     },
     "metadata": {
      "needs_background": "light"
     },
     "output_type": "display_data"
    }
   ],
   "source": [
    "for column in ['churn','gender', 'near_location', 'partner', 'promo_friends', 'phone', 'group_visits']:\n",
    "    plt.figure(figsize=(7, 3))\n",
    "    sns.countplot(x = df[column], hue='churn', data=df)\n",
    "    plt.title('')\n",
    "    plt.show()"
   ]
  },
  {
   "cell_type": "code",
   "execution_count": 21,
   "metadata": {},
   "outputs": [
    {
     "data": {
      "text/html": [
       "<div>\n",
       "<style scoped>\n",
       "    .dataframe tbody tr th:only-of-type {\n",
       "        vertical-align: middle;\n",
       "    }\n",
       "\n",
       "    .dataframe tbody tr th {\n",
       "        vertical-align: top;\n",
       "    }\n",
       "\n",
       "    .dataframe thead th {\n",
       "        text-align: right;\n",
       "    }\n",
       "</style>\n",
       "<table border=\"1\" class=\"dataframe\">\n",
       "  <thead>\n",
       "    <tr style=\"text-align: right;\">\n",
       "      <th></th>\n",
       "      <th>gender</th>\n",
       "      <th>churn</th>\n",
       "    </tr>\n",
       "  </thead>\n",
       "  <tbody>\n",
       "    <tr>\n",
       "      <th>0</th>\n",
       "      <td>0</td>\n",
       "      <td>519</td>\n",
       "    </tr>\n",
       "    <tr>\n",
       "      <th>1</th>\n",
       "      <td>1</td>\n",
       "      <td>542</td>\n",
       "    </tr>\n",
       "  </tbody>\n",
       "</table>\n",
       "</div>"
      ],
      "text/plain": [
       "   gender  churn\n",
       "0       0    519\n",
       "1       1    542"
      ]
     },
     "execution_count": 21,
     "metadata": {},
     "output_type": "execute_result"
    }
   ],
   "source": [
    "gender_churn_t = df[df['churn'] == 1].groupby(['gender'])['churn'].agg('count').reset_index()\n",
    "gender_churn_t"
   ]
  },
  {
   "cell_type": "markdown",
   "metadata": {},
   "source": [
    "<div class=\"alert alert-success\">\n",
    "<b>Reviewer comments: ✅</b>\n",
    "\n",
    "Отличный способ визуализации, в том числе можно было бы построить наши графики с помощью метода `subplots`, например в 2 колонки, для нашего удоства в их изучении.\n",
    "    \n",
    "Тут можно посмотреть примеры. \n",
    "    \n",
    "- `matplotlib`: https://matplotlib.org/3.3.3/api/_as_gen/matplotlib.pyplot.subplots.html\n",
    "- `plotly` : https://plotly.com/python/subplots/\n",
    "    \n",
    "\n",
    "</div>"
   ]
  },
  {
   "cell_type": "code",
   "execution_count": 22,
   "metadata": {},
   "outputs": [
    {
     "data": {
      "text/html": [
       "<div>\n",
       "<style scoped>\n",
       "    .dataframe tbody tr th:only-of-type {\n",
       "        vertical-align: middle;\n",
       "    }\n",
       "\n",
       "    .dataframe tbody tr th {\n",
       "        vertical-align: top;\n",
       "    }\n",
       "\n",
       "    .dataframe thead th {\n",
       "        text-align: right;\n",
       "    }\n",
       "</style>\n",
       "<table border=\"1\" class=\"dataframe\">\n",
       "  <thead>\n",
       "    <tr style=\"text-align: right;\">\n",
       "      <th></th>\n",
       "      <th>gender</th>\n",
       "      <th>churn</th>\n",
       "    </tr>\n",
       "  </thead>\n",
       "  <tbody>\n",
       "    <tr>\n",
       "      <th>0</th>\n",
       "      <td>0</td>\n",
       "      <td>1440</td>\n",
       "    </tr>\n",
       "    <tr>\n",
       "      <th>1</th>\n",
       "      <td>1</td>\n",
       "      <td>1499</td>\n",
       "    </tr>\n",
       "  </tbody>\n",
       "</table>\n",
       "</div>"
      ],
      "text/plain": [
       "   gender  churn\n",
       "0       0   1440\n",
       "1       1   1499"
      ]
     },
     "execution_count": 22,
     "metadata": {},
     "output_type": "execute_result"
    }
   ],
   "source": [
    "gender_churn_f = df[df['churn'] == 0].groupby(['gender'])['churn'].agg('count').reset_index()\n",
    "gender_churn_f"
   ]
  },
  {
   "cell_type": "code",
   "execution_count": 23,
   "metadata": {},
   "outputs": [
    {
     "data": {
      "text/html": [
       "<div>\n",
       "<style scoped>\n",
       "    .dataframe tbody tr th:only-of-type {\n",
       "        vertical-align: middle;\n",
       "    }\n",
       "\n",
       "    .dataframe tbody tr th {\n",
       "        vertical-align: top;\n",
       "    }\n",
       "\n",
       "    .dataframe thead th {\n",
       "        text-align: right;\n",
       "    }\n",
       "</style>\n",
       "<table border=\"1\" class=\"dataframe\">\n",
       "  <thead>\n",
       "    <tr style=\"text-align: right;\">\n",
       "      <th></th>\n",
       "      <th>gender</th>\n",
       "      <th>group_visits</th>\n",
       "    </tr>\n",
       "  </thead>\n",
       "  <tbody>\n",
       "    <tr>\n",
       "      <th>0</th>\n",
       "      <td>0</td>\n",
       "      <td>790</td>\n",
       "    </tr>\n",
       "    <tr>\n",
       "      <th>1</th>\n",
       "      <td>1</td>\n",
       "      <td>859</td>\n",
       "    </tr>\n",
       "  </tbody>\n",
       "</table>\n",
       "</div>"
      ],
      "text/plain": [
       "   gender  group_visits\n",
       "0       0           790\n",
       "1       1           859"
      ]
     },
     "execution_count": 23,
     "metadata": {},
     "output_type": "execute_result"
    }
   ],
   "source": [
    "gender_group_t = df[df['group_visits'] == 1].groupby(['gender'])['group_visits'].agg('count').reset_index()\n",
    "gender_group_t"
   ]
  },
  {
   "cell_type": "markdown",
   "metadata": {},
   "source": [
    "#### Build a correlation matrix and display it with heatmap"
   ]
  },
  {
   "cell_type": "markdown",
   "metadata": {},
   "source": [
    "Рассчитаем матрицу корреляций и на её основе построим heatmap"
   ]
  },
  {
   "cell_type": "code",
   "execution_count": 24,
   "metadata": {},
   "outputs": [
    {
     "data": {
      "image/png": "[encoded data removed]",
      "text/plain": [
       "<Figure size 720x720 with 2 Axes>"
      ]
     },
     "metadata": {
      "needs_background": "light"
     },
     "output_type": "display_data"
    }
   ],
   "source": [
    "corr_m = df.corr()\n",
    "\n",
    "\n",
    "plt.figure(figsize = (10,10))\n",
    "sns.heatmap(corr_m,square = True, annot = True)\n",
    "\n",
    "plt.show()"
   ]
  },
  {
   "cell_type": "markdown",
   "metadata": {},
   "source": [
    "Strongly correlated: contract_period и month_to_end_contract, avg_class_frequency_current_month и avg_class_frequency_total. \n",
    "\n",
    "To get rid of multicollinearity, remove one of each pair from the dataframe:"
   ]
  },
  {
   "cell_type": "code",
   "execution_count": 25,
   "metadata": {},
   "outputs": [],
   "source": [
    "df_gym=df.drop(['month_to_end_contract','avg_class_frequency_current_month'], axis=1)"
   ]
  },
  {
   "cell_type": "code",
   "execution_count": 26,
   "metadata": {},
   "outputs": [
    {
     "data": {
      "text/html": [
       "<div>\n",
       "<style scoped>\n",
       "    .dataframe tbody tr th:only-of-type {\n",
       "        vertical-align: middle;\n",
       "    }\n",
       "\n",
       "    .dataframe tbody tr th {\n",
       "        vertical-align: top;\n",
       "    }\n",
       "\n",
       "    .dataframe thead th {\n",
       "        text-align: right;\n",
       "    }\n",
       "</style>\n",
       "<table border=\"1\" class=\"dataframe\">\n",
       "  <thead>\n",
       "    <tr style=\"text-align: right;\">\n",
       "      <th></th>\n",
       "      <th>gender</th>\n",
       "      <th>near_location</th>\n",
       "      <th>partner</th>\n",
       "      <th>promo_friends</th>\n",
       "      <th>phone</th>\n",
       "      <th>contract_period</th>\n",
       "      <th>group_visits</th>\n",
       "      <th>age</th>\n",
       "      <th>avg_additional_charges_total</th>\n",
       "      <th>lifetime</th>\n",
       "      <th>avg_class_frequency_total</th>\n",
       "      <th>churn</th>\n",
       "    </tr>\n",
       "  </thead>\n",
       "  <tbody>\n",
       "    <tr>\n",
       "      <th>0</th>\n",
       "      <td>1</td>\n",
       "      <td>1</td>\n",
       "      <td>1</td>\n",
       "      <td>1</td>\n",
       "      <td>0</td>\n",
       "      <td>6</td>\n",
       "      <td>1</td>\n",
       "      <td>29</td>\n",
       "      <td>14.227470</td>\n",
       "      <td>3</td>\n",
       "      <td>0.020398</td>\n",
       "      <td>0</td>\n",
       "    </tr>\n",
       "    <tr>\n",
       "      <th>1</th>\n",
       "      <td>0</td>\n",
       "      <td>1</td>\n",
       "      <td>0</td>\n",
       "      <td>0</td>\n",
       "      <td>1</td>\n",
       "      <td>12</td>\n",
       "      <td>1</td>\n",
       "      <td>31</td>\n",
       "      <td>113.202938</td>\n",
       "      <td>7</td>\n",
       "      <td>1.922936</td>\n",
       "      <td>0</td>\n",
       "    </tr>\n",
       "  </tbody>\n",
       "</table>\n",
       "</div>"
      ],
      "text/plain": [
       "   gender  near_location  partner  promo_friends  phone  contract_period  \\\n",
       "0       1              1        1              1      0                6   \n",
       "1       0              1        0              0      1               12   \n",
       "\n",
       "   group_visits  age  avg_additional_charges_total  lifetime  \\\n",
       "0             1   29                     14.227470         3   \n",
       "1             1   31                    113.202938         7   \n",
       "\n",
       "   avg_class_frequency_total  churn  \n",
       "0                   0.020398      0  \n",
       "1                   1.922936      0  "
      ]
     },
     "execution_count": 26,
     "metadata": {},
     "output_type": "execute_result"
    }
   ],
   "source": [
    "df_gym.head(2)"
   ]
  },
  {
   "cell_type": "markdown",
   "metadata": {},
   "source": [
    "#### Summary\n",
    "\n",
    "1.It can be seen that the younger the client, the more likely they are to leave. Perhaps we should launch some program for young visitors for user retention.\n",
    "\n",
    "2.Churn does not depend on gender\n",
    "\n",
    "3.Group classes attendance does not depend on gender.\n",
    "\n",
    "4. Users who live/work near the gym are less likely to churn.\n",
    "\n",
    "5. Most users have provided a phone number, but this does not affect churn.\n",
    "\n",
    "6. Most of the users who fell into the churn had a subscription for only 1 month.\n",
    "\n",
    "\n",
    "\n",
    "The average age of clients is 29 years. The minimum age is 18 years old. The maximum age is 41.\n",
    "\n",
    "Women and men are about the same number.\n",
    "\n",
    "Average churn rate 26.5%\n",
    "\n",
    "41% of clients attend group classes.\n",
    "\n",
    "The average subscription duration is 3.72 months.\n",
    "\n",
    "85% of clients live or work near a fitness center.\n",
    "\n",
    "31% of customers came through the promotion a \"invite friend\".\n",
    "\n",
    "49% of clients came through an partner program.\n",
    "\n",
    "\n",
    "The average duration of the current active subscription is 4.7 months.\n",
    "\n",
    "The average time until the end of the current active subscription is 4.3 months.\n",
    "\n",
    "Average total revenue from additional services - 146 units.\n",
    "\n",
    "The average frequency of visits per week for the entire time since the beginning of the subscription is 1.88.\n",
    "\n",
    "Average frequency of visits per week for the previous month - 1.77\n",
    "\n",
    "90% of customers provided their phone number.\n",
    "\n",
    "Average time since the first access to the fitness center - 3.7 months\n"
   ]
  },
  {
   "cell_type": "markdown",
   "metadata": {},
   "source": [
    "### Build a Churn Prediction Model"
   ]
  },
  {
   "cell_type": "markdown",
   "metadata": {},
   "source": [
    "Build a model of binary classification of customers, where the target feature is the fact that a customer churns in the next month:\n",
    "\n",
    "Split the data into training and validation samples using the train_test_split() function.\n",
    "\n",
    "\n",
    "We will train the model on a train-sample in two ways: logistic regression, random forest.\n",
    "\n",
    "Evaluate the accuracy, precision and recall metrics for both models on the validation set. \n",
    "\n",
    "Compare models.\n"
   ]
  },
  {
   "cell_type": "code",
   "execution_count": 27,
   "metadata": {},
   "outputs": [],
   "source": [
    "X = df_gym.drop('churn', axis = 1)\n",
    "y = df_gym['churn']"
   ]
  },
  {
   "cell_type": "markdown",
   "metadata": {},
   "source": [
    "Divide the data into features (matrix X) and target variable (y)\n"
   ]
  },
  {
   "cell_type": "markdown",
   "metadata": {},
   "source": [
    "Split the data into **train data** and **validation data** using the train_test_split() function. 70/30\n"
   ]
  },
  {
   "cell_type": "code",
   "execution_count": 28,
   "metadata": {},
   "outputs": [],
   "source": [
    "X_train, X_test, y_train, y_test = train_test_split(X, y, test_size=0.3, random_state=0)"
   ]
  },
  {
   "cell_type": "markdown",
   "metadata": {},
   "source": [
    "<div class=\"alert alert-success\">\n",
    "<b>Reviewer comments: ✅</b>\n",
    "\n",
    "    \n",
    "В целом выборка разделена верно. \n",
    "Я бы рекомендовал бы ещё использовать атрибут `stratify`, поместив в него целевую переменную. Он дает нам безопасность сохранения 20% значений равного нужного нам количества классов в целевой переменной.\n",
    "    \n",
    "Пример: `stratify=y`\n",
    "    \n",
    "---\n",
    "    \n",
    "Хорошо, что используем параметр `random_state`, чтобы получать одни и те же результаты.\n",
    "    \n",
    "</div>"
   ]
  },
  {
   "cell_type": "markdown",
   "metadata": {},
   "source": [
    "Standardizing data\n"
   ]
  },
  {
   "cell_type": "code",
   "execution_count": 29,
   "metadata": {},
   "outputs": [],
   "source": [
    "scaler = StandardScaler()\n",
    "scaler.fit(X_train)\n",
    "\n",
    "X_train_st = scaler.transform(X_train)\n",
    "X_test_st = scaler.transform(X_test)"
   ]
  },
  {
   "cell_type": "markdown",
   "metadata": {},
   "source": [
    "Let's train the model on a train data in two ways: logistic regression, RandomForestRegressor.\n"
   ]
  },
  {
   "cell_type": "markdown",
   "metadata": {},
   "source": [
    " **logistic regression**"
   ]
  },
  {
   "cell_type": "code",
   "execution_count": 30,
   "metadata": {},
   "outputs": [
    {
     "data": {
      "text/plain": [
       "LogisticRegression(random_state=0)"
      ]
     },
     "execution_count": 30,
     "metadata": {},
     "output_type": "execute_result"
    }
   ],
   "source": [
    "model_lr = LogisticRegression(random_state=0) \n",
    "model_lr.fit(X_train_st, y_train)"
   ]
  },
  {
   "cell_type": "code",
   "execution_count": 31,
   "metadata": {},
   "outputs": [],
   "source": [
    "predictions_lr = model_lr.predict(X_test_st)\n",
    "probabilities_lr = model_lr.predict_proba(X_test_st)[:,1]"
   ]
  },
  {
   "cell_type": "markdown",
   "metadata": {},
   "source": [
    "accuracy - доля правильных ответов \n",
    "\n",
    "precision-точность\n",
    "\n",
    "recall-полнота \n",
    "\n",
    "F1_score - сводная метрика, учитывающая баланс между метриками"
   ]
  },
  {
   "cell_type": "code",
   "execution_count": 32,
   "metadata": {},
   "outputs": [
    {
     "name": "stdout",
     "output_type": "stream",
     "text": [
      "Metrics for the logistic regression model:\n",
      "Accuracy: 0.90\n",
      "Precision: 0.81\n",
      "Recall:0.81\n",
      "F1:0.81\n"
     ]
    }
   ],
   "source": [
    "print('Metrics for the logistic regression model:')\n",
    "print('Accuracy: {:.2f}\\nPrecision: {:.2f}\\nRecall:{:.2f}\\nF1:{:.2f}'.format(\n",
    "    accuracy_score(y_test,predictions_lr),\n",
    "    precision_score(y_test, predictions_lr),\n",
    "    recall_score(y_test,predictions_lr),\n",
    "    f1_score(y_test, predictions_lr)\n",
    "))"
   ]
  },
  {
   "cell_type": "markdown",
   "metadata": {},
   "source": [
    "Receiver Operating Characteristic\n",
    "\n",
    "площадь под кривой ошибок — AUC-ROC"
   ]
  },
  {
   "cell_type": "code",
   "execution_count": 33,
   "metadata": {},
   "outputs": [
    {
     "name": "stdout",
     "output_type": "stream",
     "text": [
      "ROC_AUC: 0.95\n",
      "\n"
     ]
    }
   ],
   "source": [
    "print('ROC_AUC: {:.2f}\\n'.format(roc_auc_score(y_test, probabilities_lr)))"
   ]
  },
  {
   "cell_type": "markdown",
   "metadata": {},
   "source": [
    "**RandomForestRegressor**"
   ]
  },
  {
   "cell_type": "code",
   "execution_count": 34,
   "metadata": {},
   "outputs": [],
   "source": [
    "model_rfc = RandomForestClassifier(n_estimators = 100, random_state = 0)"
   ]
  },
  {
   "cell_type": "code",
   "execution_count": 35,
   "metadata": {},
   "outputs": [
    {
     "data": {
      "text/plain": [
       "RandomForestClassifier(random_state=0)"
      ]
     },
     "execution_count": 35,
     "metadata": {},
     "output_type": "execute_result"
    }
   ],
   "source": [
    "model_rfc.fit(X_train_st, y_train)"
   ]
  },
  {
   "cell_type": "code",
   "execution_count": 36,
   "metadata": {},
   "outputs": [
    {
     "name": "stdout",
     "output_type": "stream",
     "text": [
      "Metrics for RandomForestRegressor:\n",
      "accuracy_score: 0.8966666666666666\n",
      "precision_score: 0.8037974683544303\n",
      "recall_score:0.8037974683544303\n"
     ]
    }
   ],
   "source": [
    "predictions_rfc = model_rfc.predict(X_test_st)\n",
    "probabilities_rfc = model_rfc.predict_proba(X_test_st)[:,1]\n",
    "print('Metrics for RandomForestRegressor:')\n",
    "print('accuracy_score: {}\\nprecision_score: {}\\nrecall_score:{}'.format(\n",
    "    accuracy_score(y_test, predictions_rfc),\n",
    "    precision_score(y_test, predictions_rfc),\n",
    "    recall_score(y_test, predictions_rfc)\n",
    "))"
   ]
  },
  {
   "cell_type": "markdown",
   "metadata": {},
   "source": [
    "create a dataframe with feature names and their importance and display it in descending order of importance"
   ]
  },
  {
   "cell_type": "code",
   "execution_count": 37,
   "metadata": {},
   "outputs": [
    {
     "data": {
      "text/html": [
       "<div>\n",
       "<style scoped>\n",
       "    .dataframe tbody tr th:only-of-type {\n",
       "        vertical-align: middle;\n",
       "    }\n",
       "\n",
       "    .dataframe tbody tr th {\n",
       "        vertical-align: top;\n",
       "    }\n",
       "\n",
       "    .dataframe thead th {\n",
       "        text-align: right;\n",
       "    }\n",
       "</style>\n",
       "<table border=\"1\" class=\"dataframe\">\n",
       "  <thead>\n",
       "    <tr style=\"text-align: right;\">\n",
       "      <th></th>\n",
       "      <th>feature</th>\n",
       "      <th>importance</th>\n",
       "    </tr>\n",
       "  </thead>\n",
       "  <tbody>\n",
       "    <tr>\n",
       "      <th>9</th>\n",
       "      <td>lifetime</td>\n",
       "      <td>3.74</td>\n",
       "    </tr>\n",
       "    <tr>\n",
       "      <th>5</th>\n",
       "      <td>contract_period</td>\n",
       "      <td>1.41</td>\n",
       "    </tr>\n",
       "    <tr>\n",
       "      <th>7</th>\n",
       "      <td>age</td>\n",
       "      <td>1.09</td>\n",
       "    </tr>\n",
       "    <tr>\n",
       "      <th>10</th>\n",
       "      <td>avg_class_frequency_total</td>\n",
       "      <td>0.72</td>\n",
       "    </tr>\n",
       "    <tr>\n",
       "      <th>8</th>\n",
       "      <td>avg_additional_charges_total</td>\n",
       "      <td>0.54</td>\n",
       "    </tr>\n",
       "    <tr>\n",
       "      <th>6</th>\n",
       "      <td>group_visits</td>\n",
       "      <td>0.40</td>\n",
       "    </tr>\n",
       "    <tr>\n",
       "      <th>3</th>\n",
       "      <td>promo_friends</td>\n",
       "      <td>0.25</td>\n",
       "    </tr>\n",
       "    <tr>\n",
       "      <th>4</th>\n",
       "      <td>phone</td>\n",
       "      <td>0.10</td>\n",
       "    </tr>\n",
       "    <tr>\n",
       "      <th>1</th>\n",
       "      <td>near_location</td>\n",
       "      <td>0.09</td>\n",
       "    </tr>\n",
       "    <tr>\n",
       "      <th>2</th>\n",
       "      <td>partner</td>\n",
       "      <td>0.05</td>\n",
       "    </tr>\n",
       "    <tr>\n",
       "      <th>0</th>\n",
       "      <td>gender</td>\n",
       "      <td>0.03</td>\n",
       "    </tr>\n",
       "  </tbody>\n",
       "</table>\n",
       "</div>"
      ],
      "text/plain": [
       "                         feature  importance\n",
       "9                       lifetime        3.74\n",
       "5                contract_period        1.41\n",
       "7                            age        1.09\n",
       "10     avg_class_frequency_total        0.72\n",
       "8   avg_additional_charges_total        0.54\n",
       "6                   group_visits        0.40\n",
       "3                  promo_friends        0.25\n",
       "4                          phone        0.10\n",
       "1                  near_location        0.09\n",
       "2                        partner        0.05\n",
       "0                         gender        0.03"
      ]
     },
     "execution_count": 37,
     "metadata": {},
     "output_type": "execute_result"
    }
   ],
   "source": [
    "fi_df = pd.DataFrame(model_lr.coef_.T, X.columns).reset_index()\n",
    "fi_df.columns = ['feature', 'importance']\n",
    "fi_df['importance'] = fi_df['importance'].apply(lambda x: abs(x)).round(2)\n",
    "fi_df = fi_df.sort_values(by='importance', ascending=False)\n",
    "fi_df"
   ]
  },
  {
   "cell_type": "markdown",
   "metadata": {},
   "source": [
    "#### Summary\n"
   ]
  },
  {
   "cell_type": "markdown",
   "metadata": {},
   "source": [
    "We can see that accuracy, recision, recall  when using logical regression is higher than when using a random forest model. The logical regression model perfomed to be better."
   ]
  },
  {
   "cell_type": "markdown",
   "metadata": {},
   "source": [
    "<div class=\"alert alert-success\">\n",
    "<b>Reviewer comments ✅</b>\n",
    "   \n",
    "Здорово, что рассчитываешь метрику `F1`, которая как раз включает в себя основные параметры точности и полноты. \n",
    "    \n",
    "В том числе рекомендую смотреть на метрику `ROC–AUC` с точки зрения визуализации. \n",
    "    \n",
    "    \n",
    "Ниже статья, в которой есть материалы про метрики и как их визуализировать.\n",
    "    \n",
    "https://habr.com/ru/company/ods/blog/328372/\n",
    "    \n",
    "---\n",
    "\n",
    "Можно также попробовать и сравнить параметр `C` у логистической регрессии. У случайного леса количество деревьев (`n_estimators`) и максимальную глубину дерева (`max_depth`), чтобы осуществить поиск лучшей модели.\n",
    "    \n",
    "---\n",
    "    \n",
    "Кстати для автоматического перебора гиперпараметров мы можем использовать готовый метод `GreadSearchCV` в библиотеке `sklearn`. \n",
    "    \n",
    "</div>"
   ]
  },
  {
   "cell_type": "markdown",
   "metadata": {},
   "source": [
    "### Perform client clustering\n"
   ]
  },
  {
   "cell_type": "markdown",
   "metadata": {},
   "source": [
    "Let's perform the standardization and pass the resulting standardized table as a parameter to the linkage() function. To make the chart more representative, it is better to pass the value 'ward' to the method parameter:"
   ]
  },
  {
   "cell_type": "code",
   "execution_count": 38,
   "metadata": {},
   "outputs": [],
   "source": [
    "sc = StandardScaler()\n",
    "X_sc = sc.fit_transform(X)\n",
    "\n",
    "linked = linkage(X_sc, method = 'ward') "
   ]
  },
  {
   "cell_type": "code",
   "execution_count": 39,
   "metadata": {},
   "outputs": [
    {
     "data": {
      "image/png": "[encoded data removed]",
      "text/plain": [
       "<Figure size 1080x720 with 1 Axes>"
      ]
     },
     "metadata": {
      "needs_background": "light"
     },
     "output_type": "display_data"
    }
   ],
   "source": [
    "plt.figure(figsize=(15, 10))  \n",
    "dendrogram(linked, orientation='top')\n",
    "plt.title('Hierarchial clustering for GYM')\n",
    "plt.show() "
   ]
  },
  {
   "cell_type": "markdown",
   "metadata": {},
   "source": [
    "<div class=\"alert alert-success\">\n",
    "<b>Reviewer comments: ✅</b>\n",
    "    \n",
    "Отлично 👍\n",
    "\n",
    "В том числе чтобы определить количество кластеров можно использовать метод локтя. \n",
    "    \n",
    "Ниже статья с двумя методами, которые можно в том числе использовать для определения количества кластеров.\n",
    "    \n",
    "https://habr.com/ru/company/jetinfosystems/blog/467745/\n",
    "    \n",
    "</div>"
   ]
  },
  {
   "cell_type": "markdown",
   "metadata": {},
   "source": [
    "According to the diagram, we have a division into 4 clusters.\n",
    "According to the technical requirements, we accept the number of clusters n=5.\n",
    "Let's train a clustering model based on the K-Means algorithm and predict customer clusters.\n"
   ]
  },
  {
   "cell_type": "code",
   "execution_count": 47,
   "metadata": {},
   "outputs": [],
   "source": [
    "km = KMeans(n_clusters = 5, random_state=0)\n",
    "labels = km.fit_predict(df_gym)\n",
    "df_gym['cluster'] = labels"
   ]
  },
  {
   "cell_type": "code",
   "execution_count": 48,
   "metadata": {},
   "outputs": [
    {
     "data": {
      "text/plain": [
       "4    1033\n",
       "0    1027\n",
       "2     963\n",
       "1     706\n",
       "3     271\n",
       "Name: cluster, dtype: int64"
      ]
     },
     "execution_count": 48,
     "metadata": {},
     "output_type": "execute_result"
    }
   ],
   "source": [
    "df_gym.cluster.value_counts()"
   ]
  },
  {
   "cell_type": "code",
   "execution_count": 49,
   "metadata": {},
   "outputs": [
    {
     "data": {
      "text/html": [
       "<div>\n",
       "<style scoped>\n",
       "    .dataframe tbody tr th:only-of-type {\n",
       "        vertical-align: middle;\n",
       "    }\n",
       "\n",
       "    .dataframe tbody tr th {\n",
       "        vertical-align: top;\n",
       "    }\n",
       "\n",
       "    .dataframe thead th {\n",
       "        text-align: right;\n",
       "    }\n",
       "</style>\n",
       "<table border=\"1\" class=\"dataframe\">\n",
       "  <thead>\n",
       "    <tr style=\"text-align: right;\">\n",
       "      <th></th>\n",
       "      <th>gender</th>\n",
       "      <th>near_location</th>\n",
       "      <th>partner</th>\n",
       "      <th>promo_friends</th>\n",
       "      <th>phone</th>\n",
       "      <th>contract_period</th>\n",
       "      <th>group_visits</th>\n",
       "      <th>age</th>\n",
       "      <th>avg_additional_charges_total</th>\n",
       "      <th>lifetime</th>\n",
       "      <th>avg_class_frequency_total</th>\n",
       "      <th>churn</th>\n",
       "      <th>cluster</th>\n",
       "    </tr>\n",
       "  </thead>\n",
       "  <tbody>\n",
       "    <tr>\n",
       "      <th>0</th>\n",
       "      <td>1</td>\n",
       "      <td>1</td>\n",
       "      <td>1</td>\n",
       "      <td>1</td>\n",
       "      <td>0</td>\n",
       "      <td>6</td>\n",
       "      <td>1</td>\n",
       "      <td>29</td>\n",
       "      <td>14.227470</td>\n",
       "      <td>3</td>\n",
       "      <td>0.020398</td>\n",
       "      <td>0</td>\n",
       "      <td>0</td>\n",
       "    </tr>\n",
       "    <tr>\n",
       "      <th>1</th>\n",
       "      <td>0</td>\n",
       "      <td>1</td>\n",
       "      <td>0</td>\n",
       "      <td>0</td>\n",
       "      <td>1</td>\n",
       "      <td>12</td>\n",
       "      <td>1</td>\n",
       "      <td>31</td>\n",
       "      <td>113.202938</td>\n",
       "      <td>7</td>\n",
       "      <td>1.922936</td>\n",
       "      <td>0</td>\n",
       "      <td>4</td>\n",
       "    </tr>\n",
       "  </tbody>\n",
       "</table>\n",
       "</div>"
      ],
      "text/plain": [
       "   gender  near_location  partner  promo_friends  phone  contract_period  \\\n",
       "0       1              1        1              1      0                6   \n",
       "1       0              1        0              0      1               12   \n",
       "\n",
       "   group_visits  age  avg_additional_charges_total  lifetime  \\\n",
       "0             1   29                     14.227470         3   \n",
       "1             1   31                    113.202938         7   \n",
       "\n",
       "   avg_class_frequency_total  churn  cluster  \n",
       "0                   0.020398      0        0  \n",
       "1                   1.922936      0        4  "
      ]
     },
     "execution_count": 49,
     "metadata": {},
     "output_type": "execute_result"
    }
   ],
   "source": [
    "df_gym.head(2)"
   ]
  },
  {
   "cell_type": "markdown",
   "metadata": {},
   "source": [
    "Let's look at the average values of features for clusters. Is it possible to notice something right away?"
   ]
  },
  {
   "cell_type": "code",
   "execution_count": 50,
   "metadata": {},
   "outputs": [
    {
     "data": {
      "text/html": [
       "<div>\n",
       "<style scoped>\n",
       "    .dataframe tbody tr th:only-of-type {\n",
       "        vertical-align: middle;\n",
       "    }\n",
       "\n",
       "    .dataframe tbody tr th {\n",
       "        vertical-align: top;\n",
       "    }\n",
       "\n",
       "    .dataframe thead th {\n",
       "        text-align: right;\n",
       "    }\n",
       "</style>\n",
       "<table border=\"1\" class=\"dataframe\">\n",
       "  <thead>\n",
       "    <tr style=\"text-align: right;\">\n",
       "      <th>cluster</th>\n",
       "      <th>0</th>\n",
       "      <th>1</th>\n",
       "      <th>2</th>\n",
       "      <th>3</th>\n",
       "      <th>4</th>\n",
       "    </tr>\n",
       "  </thead>\n",
       "  <tbody>\n",
       "    <tr>\n",
       "      <th>gender</th>\n",
       "      <td>0.507303</td>\n",
       "      <td>0.521246</td>\n",
       "      <td>0.510903</td>\n",
       "      <td>0.468635</td>\n",
       "      <td>0.515973</td>\n",
       "    </tr>\n",
       "    <tr>\n",
       "      <th>near_location</th>\n",
       "      <td>0.824732</td>\n",
       "      <td>0.881020</td>\n",
       "      <td>0.844237</td>\n",
       "      <td>0.856089</td>\n",
       "      <td>0.839303</td>\n",
       "    </tr>\n",
       "    <tr>\n",
       "      <th>partner</th>\n",
       "      <td>0.487829</td>\n",
       "      <td>0.511331</td>\n",
       "      <td>0.495327</td>\n",
       "      <td>0.516605</td>\n",
       "      <td>0.453049</td>\n",
       "    </tr>\n",
       "    <tr>\n",
       "      <th>promo_friends</th>\n",
       "      <td>0.293087</td>\n",
       "      <td>0.347025</td>\n",
       "      <td>0.319834</td>\n",
       "      <td>0.332103</td>\n",
       "      <td>0.280736</td>\n",
       "    </tr>\n",
       "    <tr>\n",
       "      <th>phone</th>\n",
       "      <td>0.908471</td>\n",
       "      <td>0.898017</td>\n",
       "      <td>0.902388</td>\n",
       "      <td>0.926199</td>\n",
       "      <td>0.897386</td>\n",
       "    </tr>\n",
       "    <tr>\n",
       "      <th>contract_period</th>\n",
       "      <td>4.193768</td>\n",
       "      <td>5.400850</td>\n",
       "      <td>4.751817</td>\n",
       "      <td>5.822878</td>\n",
       "      <td>4.308809</td>\n",
       "    </tr>\n",
       "    <tr>\n",
       "      <th>group_visits</th>\n",
       "      <td>0.387537</td>\n",
       "      <td>0.433428</td>\n",
       "      <td>0.423676</td>\n",
       "      <td>0.431734</td>\n",
       "      <td>0.406583</td>\n",
       "    </tr>\n",
       "    <tr>\n",
       "      <th>age</th>\n",
       "      <td>28.912366</td>\n",
       "      <td>29.344193</td>\n",
       "      <td>29.402908</td>\n",
       "      <td>29.845018</td>\n",
       "      <td>28.968054</td>\n",
       "    </tr>\n",
       "    <tr>\n",
       "      <th>avg_additional_charges_total</th>\n",
       "      <td>35.430090</td>\n",
       "      <td>250.984767</td>\n",
       "      <td>174.837664</td>\n",
       "      <td>356.481960</td>\n",
       "      <td>105.728636</td>\n",
       "    </tr>\n",
       "    <tr>\n",
       "      <th>lifetime</th>\n",
       "      <td>3.387537</td>\n",
       "      <td>4.169972</td>\n",
       "      <td>3.748702</td>\n",
       "      <td>4.420664</td>\n",
       "      <td>3.550823</td>\n",
       "    </tr>\n",
       "    <tr>\n",
       "      <th>avg_class_frequency_total</th>\n",
       "      <td>1.837755</td>\n",
       "      <td>1.903480</td>\n",
       "      <td>1.894100</td>\n",
       "      <td>2.019260</td>\n",
       "      <td>1.852478</td>\n",
       "    </tr>\n",
       "    <tr>\n",
       "      <th>churn</th>\n",
       "      <td>0.350536</td>\n",
       "      <td>0.178470</td>\n",
       "      <td>0.226376</td>\n",
       "      <td>0.044280</td>\n",
       "      <td>0.333979</td>\n",
       "    </tr>\n",
       "  </tbody>\n",
       "</table>\n",
       "</div>"
      ],
      "text/plain": [
       "cluster                               0           1           2           3  \\\n",
       "gender                         0.507303    0.521246    0.510903    0.468635   \n",
       "near_location                  0.824732    0.881020    0.844237    0.856089   \n",
       "partner                        0.487829    0.511331    0.495327    0.516605   \n",
       "promo_friends                  0.293087    0.347025    0.319834    0.332103   \n",
       "phone                          0.908471    0.898017    0.902388    0.926199   \n",
       "contract_period                4.193768    5.400850    4.751817    5.822878   \n",
       "group_visits                   0.387537    0.433428    0.423676    0.431734   \n",
       "age                           28.912366   29.344193   29.402908   29.845018   \n",
       "avg_additional_charges_total  35.430090  250.984767  174.837664  356.481960   \n",
       "lifetime                       3.387537    4.169972    3.748702    4.420664   \n",
       "avg_class_frequency_total      1.837755    1.903480    1.894100    2.019260   \n",
       "churn                          0.350536    0.178470    0.226376    0.044280   \n",
       "\n",
       "cluster                                4  \n",
       "gender                          0.515973  \n",
       "near_location                   0.839303  \n",
       "partner                         0.453049  \n",
       "promo_friends                   0.280736  \n",
       "phone                           0.897386  \n",
       "contract_period                 4.308809  \n",
       "group_visits                    0.406583  \n",
       "age                            28.968054  \n",
       "avg_additional_charges_total  105.728636  \n",
       "lifetime                        3.550823  \n",
       "avg_class_frequency_total       1.852478  \n",
       "churn                           0.333979  "
      ]
     },
     "execution_count": 50,
     "metadata": {},
     "output_type": "execute_result"
    }
   ],
   "source": [
    "df_gym.groupby('cluster').mean().T"
   ]
  },
  {
   "cell_type": "markdown",
   "metadata": {},
   "source": [
    "For each resulting cluster, the churn rate is:\n",
    "\n",
    "0 - 32.4%\n",
    "\n",
    "1 - 18%\n",
    "\n",
    "2 - 35.8%\n",
    "\n",
    "3 - 5.4%\n",
    "\n",
    "4 - 23.8%\n",
    "\n",
    "churn prone clusters - 0 and 2\n",
    "\n",
    "most reliable cluster - 3\n",
    "\n",
    "\n",
    "\n",
    "\n",
    "Churn-prone clusters have a lower average age and spend the least incremental spending. they also have a lower total number of visits and the duration of the current subscription.\n",
    "\n",
    "\n",
    "Note that churn-prone clusters 0 and 2 are the largest portion of users 1012 and 992.\n",
    "In the most reliable cluster 3, on the contrary, there are the fewest clients - 294."
   ]
  },
  {
   "cell_type": "code",
   "execution_count": 51,
   "metadata": {},
   "outputs": [
    {
     "data": {
      "image/png": "[encoded data removed]",
      "text/plain": [
       "<Figure size 288x216 with 1 Axes>"
      ]
     },
     "metadata": {
      "needs_background": "light"
     },
     "output_type": "display_data"
    },
    {
     "data": {
      "image/png": "[encoded data removed]",
      "text/plain": [
       "<Figure size 288x216 with 1 Axes>"
      ]
     },
     "metadata": {
      "needs_background": "light"
     },
     "output_type": "display_data"
    },
    {
     "data": {
      "image/png": "[encoded data removed]",
      "text/plain": [
       "<Figure size 288x216 with 1 Axes>"
      ]
     },
     "metadata": {
      "needs_background": "light"
     },
     "output_type": "display_data"
    },
    {
     "data": {
      "image/png": "[encoded data removed]",
      "text/plain": [
       "<Figure size 288x216 with 1 Axes>"
      ]
     },
     "metadata": {
      "needs_background": "light"
     },
     "output_type": "display_data"
    },
    {
     "data": {
      "image/png": "[encoded data removed]",
      "text/plain": [
       "<Figure size 288x216 with 1 Axes>"
      ]
     },
     "metadata": {
      "needs_background": "light"
     },
     "output_type": "display_data"
    },
    {
     "data": {
      "image/png": "[encoded data removed]",
      "text/plain": [
       "<Figure size 288x216 with 1 Axes>"
      ]
     },
     "metadata": {
      "needs_background": "light"
     },
     "output_type": "display_data"
    }
   ],
   "source": [
    "def PrintChurn1():\n",
    "    df_c0 = df_gym.query('cluster==0')\n",
    "    df_c1 = df_gym.query('cluster==1')\n",
    "    df_c2 = df_gym.query('cluster==2')\n",
    "    df_c3 = df_gym.query('cluster==3')\n",
    "    df_c4 = df_gym.query('cluster==4')\n",
    "    column_list = ['churn','age','lifetime','contract_period','avg_additional_charges_total', 'avg_class_frequency_total']\n",
    "    for column in column_list: \n",
    "        plt.figure(figsize=(4, 3))\n",
    "        plt.title('')   \n",
    "        sns.kdeplot(df_gym.query('cluster==0')[column], label = 'Кластер 0')\n",
    "        sns.kdeplot(df_gym.query('cluster==1')[column], label = 'Кластер 1')\n",
    "        sns.kdeplot(df_gym.query('cluster==2')[column], label = 'Кластер 2')\n",
    "        sns.kdeplot(df_gym.query('cluster==3')[column], label = 'Кластер 3')\n",
    "        sns.kdeplot(df_gym.query('cluster==4')[column], label = 'Кластер 4')\n",
    "        plt.legend(['cluster 0', 'cluster 1', 'cluster 2', 'cluster 3', 'cluster 4'])\n",
    "        plt.show()\n",
    "        \n",
    "PrintChurn1()"
   ]
  },
  {
   "cell_type": "markdown",
   "metadata": {},
   "source": [
    "**Build distribution for binar features**\n"
   ]
  },
  {
   "cell_type": "code",
   "execution_count": 52,
   "metadata": {},
   "outputs": [
    {
     "data": {
      "image/png": "[encoded data removed]",
      "text/plain": [
       "<Figure size 504x216 with 1 Axes>"
      ]
     },
     "metadata": {
      "needs_background": "light"
     },
     "output_type": "display_data"
    },
    {
     "data": {
      "image/png": "[encoded data removed]",
      "text/plain": [
       "<Figure size 504x216 with 1 Axes>"
      ]
     },
     "metadata": {
      "needs_background": "light"
     },
     "output_type": "display_data"
    },
    {
     "data": {
      "image/png": "[encoded data removed]",
      "text/plain": [
       "<Figure size 504x216 with 1 Axes>"
      ]
     },
     "metadata": {
      "needs_background": "light"
     },
     "output_type": "display_data"
    },
    {
     "data": {
      "image/png": "[encoded data removed]",
      "text/plain": [
       "<Figure size 504x216 with 1 Axes>"
      ]
     },
     "metadata": {
      "needs_background": "light"
     },
     "output_type": "display_data"
    },
    {
     "data": {
      "image/png": "[encoded data removed]",
      "text/plain": [
       "<Figure size 504x216 with 1 Axes>"
      ]
     },
     "metadata": {
      "needs_background": "light"
     },
     "output_type": "display_data"
    },
    {
     "data": {
      "image/png": "[encoded data removed]",
      "text/plain": [
       "<Figure size 504x216 with 1 Axes>"
      ]
     },
     "metadata": {
      "needs_background": "light"
     },
     "output_type": "display_data"
    },
    {
     "data": {
      "image/png": "[encoded data removed]",
      "text/plain": [
       "<Figure size 504x216 with 1 Axes>"
      ]
     },
     "metadata": {
      "needs_background": "light"
     },
     "output_type": "display_data"
    }
   ],
   "source": [
    "for column in ['churn','gender', 'near_location', 'partner', 'promo_friends', 'phone', 'group_visits']:\n",
    "    plt.figure(figsize=(7, 3))\n",
    "    sns.countplot(x = df_gym[column], hue='cluster', data=df_gym)\n",
    "    plt.title(' ')\n",
    "    plt.show()"
   ]
  },
  {
   "cell_type": "markdown",
   "metadata": {},
   "source": [
    "#### Summary \n",
    "\n",
    "The gender distribution in all clusters is approximately the same.\n",
    "\n",
    "churn prone clusters - 0 and 2 most reliable cluster - 3\n",
    "\n",
    "Churn-prone clusters have a lower average age and spend the least incremental spending. they also have a lower total number of visits and the duration of the current subscription, and a greater distance from home / work. Cluster 3 participates least of all in the refer-a-friend program and most often is not a partner.\n",
    "\n",
    "It is necessary to pay attention to the fact that churn-prone clusters 0 and 2 are the most significant part of clients 1012 and 992. In the most reliable cluster 3, on the contrary, the least number of clients is 294."
   ]
  },
  {
   "cell_type": "markdown",
   "metadata": {},
   "source": [
    "### Formulate conclusions and make basic recommendations for working with clients"
   ]
  },
  {
   "cell_type": "markdown",
   "metadata": {},
   "source": [
    "\n",
    "**Audience attraction:**\n",
    "\n",
    "It can be seen that the younger the client, the more likely they are to leave. It may be worth considering launching special offers for young visitors to retain the audience.\n",
    "\n",
    "We also see that there are practically no visitors of retirement age, it is also recommended to consider the possibility of attracting this category with special offers.\n",
    "\n",
    "It is necessary to pay attention to the fact that churn-prone clusters 0 and 2 are the most significant part of clients 1012 and 992. In the most reliable cluster 3, on the contrary, the least number of clients is 294.\n",
    "\n",
    "\n",
    "**Subscription period:**\n",
    "\n",
    "It is recommended to consider the possibility of increasing the minimum subscription period from 1 month to 3 months.\n",
    "Most of the churn clients had a 1-month subscription with an average visit once a month - it might be worth attracting new clients with special offers - massage as a gift, free first personal training, calls with reminders of the subscription expiration date.\n",
    "\n",
    "\n",
    "**Additional services:**\n",
    "\n",
    "For particular recommendations, additional information is needed on the list of services offered and their cost, as well as the number of purchases.\n"
   ]
  }
 ],
 "metadata": {
  "ExecuteTimeLog": [
   {
    "duration": 1715,
    "start_time": "2022-05-14T18:32:50.967Z"
   },
   {
    "duration": 4,
    "start_time": "2022-05-14T18:33:26.592Z"
   },
   {
    "duration": 29,
    "start_time": "2022-05-14T18:33:29.062Z"
   },
   {
    "duration": 3,
    "start_time": "2022-05-14T18:33:29.662Z"
   },
   {
    "duration": 3,
    "start_time": "2022-05-14T18:37:25.851Z"
   },
   {
    "duration": 3,
    "start_time": "2022-05-14T18:38:04.011Z"
   },
   {
    "duration": 30,
    "start_time": "2022-05-14T18:39:07.451Z"
   },
   {
    "duration": 59,
    "start_time": "2022-05-16T08:16:50.610Z"
   },
   {
    "duration": 1772,
    "start_time": "2022-05-16T08:17:02.807Z"
   },
   {
    "duration": 33,
    "start_time": "2022-05-16T08:17:04.582Z"
   },
   {
    "duration": 4,
    "start_time": "2022-05-16T08:17:04.617Z"
   },
   {
    "duration": 6,
    "start_time": "2022-05-16T08:17:04.623Z"
   },
   {
    "duration": 73,
    "start_time": "2022-05-16T08:17:16.155Z"
   },
   {
    "duration": 12,
    "start_time": "2022-05-16T08:29:57.173Z"
   },
   {
    "duration": 52,
    "start_time": "2022-05-17T10:18:37.022Z"
   },
   {
    "duration": 1763,
    "start_time": "2022-05-17T10:18:49.087Z"
   },
   {
    "duration": 31,
    "start_time": "2022-05-17T10:18:50.853Z"
   },
   {
    "duration": 3,
    "start_time": "2022-05-17T10:18:50.886Z"
   },
   {
    "duration": 9,
    "start_time": "2022-05-17T10:18:50.891Z"
   },
   {
    "duration": 13,
    "start_time": "2022-05-17T10:18:50.903Z"
   },
   {
    "duration": 80,
    "start_time": "2022-05-17T10:18:55.323Z"
   },
   {
    "duration": 40,
    "start_time": "2022-05-17T10:19:05.890Z"
   },
   {
    "duration": 9,
    "start_time": "2022-05-17T10:22:24.878Z"
   },
   {
    "duration": 93,
    "start_time": "2022-05-17T10:23:06.267Z"
   },
   {
    "duration": 8,
    "start_time": "2022-05-17T10:23:13.203Z"
   },
   {
    "duration": 11,
    "start_time": "2022-05-17T10:26:47.797Z"
   },
   {
    "duration": 6,
    "start_time": "2022-05-17T10:27:49.799Z"
   },
   {
    "duration": 6,
    "start_time": "2022-05-17T10:31:03.866Z"
   },
   {
    "duration": 9,
    "start_time": "2022-05-17T10:36:27.774Z"
   },
   {
    "duration": 7,
    "start_time": "2022-05-17T10:36:38.672Z"
   },
   {
    "duration": 8,
    "start_time": "2022-05-17T10:36:58.885Z"
   },
   {
    "duration": 7,
    "start_time": "2022-05-17T10:37:05.558Z"
   },
   {
    "duration": 11,
    "start_time": "2022-05-17T10:38:47.701Z"
   },
   {
    "duration": 113,
    "start_time": "2022-05-17T10:53:34.958Z"
   },
   {
    "duration": 1548,
    "start_time": "2022-05-17T10:56:53.347Z"
   },
   {
    "duration": 1500,
    "start_time": "2022-05-17T10:57:06.730Z"
   },
   {
    "duration": 1474,
    "start_time": "2022-05-17T10:57:16.526Z"
   },
   {
    "duration": 1459,
    "start_time": "2022-05-17T10:57:31.950Z"
   },
   {
    "duration": 2894,
    "start_time": "2022-05-17T10:58:25.570Z"
   },
   {
    "duration": 2158,
    "start_time": "2022-05-17T10:58:43.462Z"
   },
   {
    "duration": 1493,
    "start_time": "2022-05-17T10:58:58.108Z"
   },
   {
    "duration": 1424,
    "start_time": "2022-05-17T10:59:26.921Z"
   },
   {
    "duration": 1607,
    "start_time": "2022-05-17T10:59:35.260Z"
   },
   {
    "duration": 1449,
    "start_time": "2022-05-17T11:00:51.018Z"
   },
   {
    "duration": 73,
    "start_time": "2022-05-19T11:23:01.157Z"
   },
   {
    "duration": 1694,
    "start_time": "2022-05-19T11:23:10.558Z"
   },
   {
    "duration": 149,
    "start_time": "2022-05-19T11:23:12.254Z"
   },
   {
    "duration": 3,
    "start_time": "2022-05-19T11:23:12.404Z"
   },
   {
    "duration": 16,
    "start_time": "2022-05-19T11:23:12.408Z"
   },
   {
    "duration": 7,
    "start_time": "2022-05-19T11:23:12.426Z"
   },
   {
    "duration": 8,
    "start_time": "2022-05-19T11:23:12.434Z"
   },
   {
    "duration": 14,
    "start_time": "2022-05-19T11:23:12.443Z"
   },
   {
    "duration": 11,
    "start_time": "2022-05-19T11:23:12.459Z"
   },
   {
    "duration": 63,
    "start_time": "2022-05-19T11:23:12.471Z"
   },
   {
    "duration": 12,
    "start_time": "2022-05-19T11:23:22.290Z"
   },
   {
    "duration": 48,
    "start_time": "2022-05-19T11:25:13.248Z"
   },
   {
    "duration": 50,
    "start_time": "2022-05-19T11:25:24.613Z"
   },
   {
    "duration": 16,
    "start_time": "2022-05-19T11:25:41.047Z"
   },
   {
    "duration": 12,
    "start_time": "2022-05-19T11:25:53.142Z"
   },
   {
    "duration": 43,
    "start_time": "2022-05-19T11:26:07.027Z"
   },
   {
    "duration": 85,
    "start_time": "2022-05-19T12:37:05.160Z"
   },
   {
    "duration": 94,
    "start_time": "2022-05-19T12:37:21.650Z"
   },
   {
    "duration": 40,
    "start_time": "2022-05-19T12:43:46.889Z"
   },
   {
    "duration": 629,
    "start_time": "2022-05-19T12:44:09.061Z"
   },
   {
    "duration": 8,
    "start_time": "2022-05-19T12:53:04.732Z"
   },
   {
    "duration": 4,
    "start_time": "2022-05-19T12:53:12.548Z"
   },
   {
    "duration": 49,
    "start_time": "2022-05-19T12:53:12.554Z"
   },
   {
    "duration": 3,
    "start_time": "2022-05-19T12:53:12.610Z"
   },
   {
    "duration": 15,
    "start_time": "2022-05-19T12:53:12.615Z"
   },
   {
    "duration": 7,
    "start_time": "2022-05-19T12:53:12.632Z"
   },
   {
    "duration": 5,
    "start_time": "2022-05-19T12:53:12.641Z"
   },
   {
    "duration": 11,
    "start_time": "2022-05-19T12:53:12.648Z"
   },
   {
    "duration": 17,
    "start_time": "2022-05-19T12:53:12.660Z"
   },
   {
    "duration": 64,
    "start_time": "2022-05-19T12:53:12.679Z"
   },
   {
    "duration": 238,
    "start_time": "2022-05-19T12:53:12.745Z"
   },
   {
    "duration": 9,
    "start_time": "2022-05-19T12:53:23.234Z"
   },
   {
    "duration": 44,
    "start_time": "2022-05-19T12:53:24.110Z"
   },
   {
    "duration": 52,
    "start_time": "2022-05-19T12:53:25.491Z"
   },
   {
    "duration": 2453,
    "start_time": "2022-05-19T12:56:49.240Z"
   },
   {
    "duration": 2276,
    "start_time": "2022-05-19T12:57:05.219Z"
   },
   {
    "duration": 2198,
    "start_time": "2022-05-19T12:57:28.832Z"
   },
   {
    "duration": 2224,
    "start_time": "2022-05-19T12:57:44.538Z"
   },
   {
    "duration": 2242,
    "start_time": "2022-05-19T12:58:01.960Z"
   },
   {
    "duration": 2241,
    "start_time": "2022-05-19T12:58:29.550Z"
   },
   {
    "duration": 2156,
    "start_time": "2022-05-19T12:59:49.877Z"
   },
   {
    "duration": 6113,
    "start_time": "2022-05-19T13:00:39.330Z"
   },
   {
    "duration": 329,
    "start_time": "2022-05-19T13:02:13.376Z"
   },
   {
    "duration": 230,
    "start_time": "2022-05-19T13:02:26.213Z"
   },
   {
    "duration": 2436,
    "start_time": "2022-05-19T13:02:33.761Z"
   },
   {
    "duration": 2007,
    "start_time": "2022-05-19T13:03:27.220Z"
   },
   {
    "duration": 1929,
    "start_time": "2022-05-19T13:03:47.131Z"
   },
   {
    "duration": 2137,
    "start_time": "2022-05-19T13:03:57.418Z"
   },
   {
    "duration": 1019,
    "start_time": "2022-05-19T13:09:40.441Z"
   },
   {
    "duration": 54,
    "start_time": "2022-05-19T13:12:12.505Z"
   },
   {
    "duration": 35,
    "start_time": "2022-05-19T13:12:19.796Z"
   },
   {
    "duration": 330,
    "start_time": "2022-05-19T13:12:25.078Z"
   },
   {
    "duration": 1870,
    "start_time": "2022-05-19T13:12:37.015Z"
   },
   {
    "duration": 1955,
    "start_time": "2022-05-19T13:13:09.907Z"
   },
   {
    "duration": 48,
    "start_time": "2022-05-19T13:15:43.308Z"
   },
   {
    "duration": 4,
    "start_time": "2022-05-19T13:15:47.617Z"
   },
   {
    "duration": 50,
    "start_time": "2022-05-19T13:15:49.369Z"
   },
   {
    "duration": 4,
    "start_time": "2022-05-19T13:15:51.118Z"
   },
   {
    "duration": 16,
    "start_time": "2022-05-19T13:15:51.806Z"
   },
   {
    "duration": 7,
    "start_time": "2022-05-19T13:15:53.012Z"
   },
   {
    "duration": 5,
    "start_time": "2022-05-19T13:15:53.677Z"
   },
   {
    "duration": 8,
    "start_time": "2022-05-19T13:15:55.813Z"
   },
   {
    "duration": 11,
    "start_time": "2022-05-19T13:15:56.420Z"
   },
   {
    "duration": 56,
    "start_time": "2022-05-19T13:15:57.762Z"
   },
   {
    "duration": 7,
    "start_time": "2022-05-19T13:15:58.461Z"
   },
   {
    "duration": 41,
    "start_time": "2022-05-19T13:15:59.153Z"
   },
   {
    "duration": 57,
    "start_time": "2022-05-19T13:16:00.259Z"
   },
   {
    "duration": 1940,
    "start_time": "2022-05-19T13:16:37.314Z"
   },
   {
    "duration": 797,
    "start_time": "2022-05-19T13:18:01.862Z"
   },
   {
    "duration": 912,
    "start_time": "2022-05-19T13:19:41.630Z"
   },
   {
    "duration": 928,
    "start_time": "2022-05-19T13:20:18.924Z"
   },
   {
    "duration": 869,
    "start_time": "2022-05-19T13:20:26.944Z"
   },
   {
    "duration": 1012,
    "start_time": "2022-05-19T13:21:04.273Z"
   },
   {
    "duration": 879,
    "start_time": "2022-05-19T13:21:16.893Z"
   },
   {
    "duration": 1068,
    "start_time": "2022-05-19T13:21:27.567Z"
   },
   {
    "duration": 12,
    "start_time": "2022-05-19T13:22:18.849Z"
   },
   {
    "duration": 872,
    "start_time": "2022-05-19T13:22:27.161Z"
   },
   {
    "duration": 1554,
    "start_time": "2022-05-19T13:22:48.137Z"
   },
   {
    "duration": 1417,
    "start_time": "2022-05-19T13:24:35.220Z"
   },
   {
    "duration": 233,
    "start_time": "2022-05-19T13:24:47.268Z"
   },
   {
    "duration": 299,
    "start_time": "2022-05-19T13:24:53.373Z"
   },
   {
    "duration": 202,
    "start_time": "2022-05-19T13:24:56.460Z"
   },
   {
    "duration": 1362,
    "start_time": "2022-05-19T13:25:03.472Z"
   },
   {
    "duration": 202,
    "start_time": "2022-05-19T13:25:20.645Z"
   },
   {
    "duration": 1452,
    "start_time": "2022-05-19T13:25:29.438Z"
   },
   {
    "duration": 1033,
    "start_time": "2022-05-19T13:25:52.131Z"
   },
   {
    "duration": 1647,
    "start_time": "2022-05-19T13:26:10.516Z"
   },
   {
    "duration": 1833,
    "start_time": "2022-05-19T13:26:30.830Z"
   },
   {
    "duration": 18,
    "start_time": "2022-05-19T13:27:23.610Z"
   },
   {
    "duration": 2219,
    "start_time": "2022-05-19T13:29:04.161Z"
   },
   {
    "duration": 2248,
    "start_time": "2022-05-19T13:29:32.322Z"
   },
   {
    "duration": 2390,
    "start_time": "2022-05-19T13:29:39.648Z"
   },
   {
    "duration": 2345,
    "start_time": "2022-05-19T13:29:49.579Z"
   },
   {
    "duration": 1636,
    "start_time": "2022-05-19T13:33:09.380Z"
   },
   {
    "duration": 8,
    "start_time": "2022-05-19T13:44:03.951Z"
   },
   {
    "duration": 59,
    "start_time": "2022-05-19T13:44:22.907Z"
   },
   {
    "duration": 4,
    "start_time": "2022-05-19T13:51:37.252Z"
   },
   {
    "duration": 43,
    "start_time": "2022-05-19T13:51:38.958Z"
   },
   {
    "duration": 3,
    "start_time": "2022-05-19T13:51:39.137Z"
   },
   {
    "duration": 10,
    "start_time": "2022-05-19T13:51:39.347Z"
   },
   {
    "duration": 9,
    "start_time": "2022-05-19T13:51:39.710Z"
   },
   {
    "duration": 10,
    "start_time": "2022-05-19T13:51:39.912Z"
   },
   {
    "duration": 7,
    "start_time": "2022-05-19T13:51:40.422Z"
   },
   {
    "duration": 12,
    "start_time": "2022-05-19T13:51:40.613Z"
   },
   {
    "duration": 45,
    "start_time": "2022-05-19T13:51:40.956Z"
   },
   {
    "duration": 7,
    "start_time": "2022-05-19T13:51:41.137Z"
   },
   {
    "duration": 54,
    "start_time": "2022-05-19T13:51:41.319Z"
   },
   {
    "duration": 50,
    "start_time": "2022-05-19T13:51:41.514Z"
   },
   {
    "duration": 13,
    "start_time": "2022-05-19T13:51:41.916Z"
   },
   {
    "duration": 2176,
    "start_time": "2022-05-19T13:51:42.477Z"
   },
   {
    "duration": 1574,
    "start_time": "2022-05-19T13:51:44.655Z"
   },
   {
    "duration": 1475,
    "start_time": "2022-05-19T13:51:46.231Z"
   },
   {
    "duration": 15,
    "start_time": "2022-05-19T13:51:48.010Z"
   },
   {
    "duration": 9,
    "start_time": "2022-05-19T13:51:49.355Z"
   },
   {
    "duration": 4,
    "start_time": "2022-05-19T13:52:07.032Z"
   },
   {
    "duration": 6,
    "start_time": "2022-05-19T13:52:08.201Z"
   },
   {
    "duration": 4,
    "start_time": "2022-05-19T13:53:00.401Z"
   },
   {
    "duration": 41,
    "start_time": "2022-05-19T13:53:01.021Z"
   },
   {
    "duration": 4,
    "start_time": "2022-05-19T13:53:01.194Z"
   },
   {
    "duration": 10,
    "start_time": "2022-05-19T13:53:01.370Z"
   },
   {
    "duration": 6,
    "start_time": "2022-05-19T13:53:01.731Z"
   },
   {
    "duration": 6,
    "start_time": "2022-05-19T13:53:01.929Z"
   },
   {
    "duration": 8,
    "start_time": "2022-05-19T13:53:02.451Z"
   },
   {
    "duration": 10,
    "start_time": "2022-05-19T13:53:02.644Z"
   },
   {
    "duration": 39,
    "start_time": "2022-05-19T13:53:03.133Z"
   },
   {
    "duration": 6,
    "start_time": "2022-05-19T13:53:03.217Z"
   },
   {
    "duration": 39,
    "start_time": "2022-05-19T13:53:03.401Z"
   },
   {
    "duration": 40,
    "start_time": "2022-05-19T13:53:03.612Z"
   },
   {
    "duration": 10,
    "start_time": "2022-05-19T13:53:03.938Z"
   },
   {
    "duration": 2061,
    "start_time": "2022-05-19T13:53:04.497Z"
   },
   {
    "duration": 1453,
    "start_time": "2022-05-19T13:53:06.560Z"
   },
   {
    "duration": 1462,
    "start_time": "2022-05-19T13:53:08.015Z"
   },
   {
    "duration": 3,
    "start_time": "2022-05-19T13:53:09.479Z"
   },
   {
    "duration": 16,
    "start_time": "2022-05-19T13:53:09.483Z"
   },
   {
    "duration": 37,
    "start_time": "2022-05-19T13:53:43.633Z"
   },
   {
    "duration": 5,
    "start_time": "2022-05-19T13:55:51.942Z"
   },
   {
    "duration": 43,
    "start_time": "2022-05-19T13:55:52.971Z"
   },
   {
    "duration": 3,
    "start_time": "2022-05-19T13:55:53.133Z"
   },
   {
    "duration": 10,
    "start_time": "2022-05-19T13:55:53.313Z"
   },
   {
    "duration": 7,
    "start_time": "2022-05-19T13:55:53.632Z"
   },
   {
    "duration": 5,
    "start_time": "2022-05-19T13:55:53.809Z"
   },
   {
    "duration": 6,
    "start_time": "2022-05-19T13:55:54.289Z"
   },
   {
    "duration": 10,
    "start_time": "2022-05-19T13:55:54.438Z"
   },
   {
    "duration": 40,
    "start_time": "2022-05-19T13:55:54.773Z"
   },
   {
    "duration": 7,
    "start_time": "2022-05-19T13:55:54.941Z"
   },
   {
    "duration": 40,
    "start_time": "2022-05-19T13:55:55.105Z"
   },
   {
    "duration": 44,
    "start_time": "2022-05-19T13:55:55.307Z"
   },
   {
    "duration": 11,
    "start_time": "2022-05-19T13:55:55.620Z"
   },
   {
    "duration": 2002,
    "start_time": "2022-05-19T13:55:56.204Z"
   },
   {
    "duration": 1376,
    "start_time": "2022-05-19T13:55:58.208Z"
   },
   {
    "duration": 1498,
    "start_time": "2022-05-19T13:56:00.450Z"
   },
   {
    "duration": 4,
    "start_time": "2022-05-19T13:56:05.034Z"
   },
   {
    "duration": 6,
    "start_time": "2022-05-19T13:56:06.850Z"
   },
   {
    "duration": 9,
    "start_time": "2022-05-19T14:53:46.067Z"
   },
   {
    "duration": 142,
    "start_time": "2022-05-19T14:53:49.161Z"
   },
   {
    "duration": 5,
    "start_time": "2022-05-19T14:53:49.624Z"
   },
   {
    "duration": 125,
    "start_time": "2022-05-19T14:54:39.781Z"
   },
   {
    "duration": 5,
    "start_time": "2022-05-19T14:54:53.901Z"
   },
   {
    "duration": 61,
    "start_time": "2022-05-19T14:55:09.046Z"
   },
   {
    "duration": 8,
    "start_time": "2022-05-19T14:55:46.506Z"
   },
   {
    "duration": 8,
    "start_time": "2022-05-19T14:57:32.347Z"
   },
   {
    "duration": 9,
    "start_time": "2022-05-19T14:58:10.681Z"
   },
   {
    "duration": 2678,
    "start_time": "2022-05-19T14:58:17.030Z"
   },
   {
    "duration": 96,
    "start_time": "2022-05-19T14:58:19.712Z"
   },
   {
    "duration": 193,
    "start_time": "2022-05-19T14:58:19.810Z"
   },
   {
    "duration": 8,
    "start_time": "2022-05-19T14:59:22.762Z"
   },
   {
    "duration": 9,
    "start_time": "2022-05-19T14:59:27.481Z"
   },
   {
    "duration": 4,
    "start_time": "2022-05-19T15:00:25.556Z"
   },
   {
    "duration": 43,
    "start_time": "2022-05-19T15:00:27.181Z"
   },
   {
    "duration": 5,
    "start_time": "2022-05-19T15:00:27.355Z"
   },
   {
    "duration": 15,
    "start_time": "2022-05-19T15:00:27.527Z"
   },
   {
    "duration": 7,
    "start_time": "2022-05-19T15:00:27.867Z"
   },
   {
    "duration": 7,
    "start_time": "2022-05-19T15:00:28.046Z"
   },
   {
    "duration": 8,
    "start_time": "2022-05-19T15:00:28.558Z"
   },
   {
    "duration": 12,
    "start_time": "2022-05-19T15:00:28.745Z"
   },
   {
    "duration": 45,
    "start_time": "2022-05-19T15:00:29.083Z"
   },
   {
    "duration": 7,
    "start_time": "2022-05-19T15:00:29.260Z"
   },
   {
    "duration": 55,
    "start_time": "2022-05-19T15:00:29.445Z"
   },
   {
    "duration": 64,
    "start_time": "2022-05-19T15:00:29.609Z"
   },
   {
    "duration": 12,
    "start_time": "2022-05-19T15:00:29.968Z"
   },
   {
    "duration": 2621,
    "start_time": "2022-05-19T15:00:30.518Z"
   },
   {
    "duration": 1704,
    "start_time": "2022-05-19T15:00:33.142Z"
   },
   {
    "duration": 1556,
    "start_time": "2022-05-19T15:00:34.849Z"
   },
   {
    "duration": 14,
    "start_time": "2022-05-19T15:00:36.407Z"
   },
   {
    "duration": 0,
    "start_time": "2022-05-19T15:00:36.423Z"
   },
   {
    "duration": 0,
    "start_time": "2022-05-19T15:00:36.424Z"
   },
   {
    "duration": 0,
    "start_time": "2022-05-19T15:00:36.425Z"
   },
   {
    "duration": 0,
    "start_time": "2022-05-19T15:00:36.426Z"
   },
   {
    "duration": 0,
    "start_time": "2022-05-19T15:00:36.427Z"
   },
   {
    "duration": 0,
    "start_time": "2022-05-19T15:00:36.428Z"
   },
   {
    "duration": 0,
    "start_time": "2022-05-19T15:00:36.429Z"
   },
   {
    "duration": 6,
    "start_time": "2022-05-19T15:00:41.015Z"
   },
   {
    "duration": 7,
    "start_time": "2022-05-19T15:00:45.508Z"
   },
   {
    "duration": 7,
    "start_time": "2022-05-19T15:00:48.918Z"
   },
   {
    "duration": 7,
    "start_time": "2022-05-19T15:07:13.306Z"
   },
   {
    "duration": 8,
    "start_time": "2022-05-19T15:08:08.211Z"
   },
   {
    "duration": 7,
    "start_time": "2022-05-19T15:08:27.906Z"
   },
   {
    "duration": 5,
    "start_time": "2022-05-19T15:08:42.028Z"
   },
   {
    "duration": 3,
    "start_time": "2022-05-19T15:16:48.112Z"
   },
   {
    "duration": 314,
    "start_time": "2022-05-19T15:23:06.514Z"
   },
   {
    "duration": 56,
    "start_time": "2022-05-19T15:25:15.474Z"
   },
   {
    "duration": 51,
    "start_time": "2022-05-19T15:26:32.841Z"
   },
   {
    "duration": 4,
    "start_time": "2022-05-19T15:35:43.963Z"
   },
   {
    "duration": 43,
    "start_time": "2022-05-19T15:35:44.159Z"
   },
   {
    "duration": 3,
    "start_time": "2022-05-19T15:35:44.318Z"
   },
   {
    "duration": 11,
    "start_time": "2022-05-19T15:35:44.495Z"
   },
   {
    "duration": 7,
    "start_time": "2022-05-19T15:35:44.822Z"
   },
   {
    "duration": 5,
    "start_time": "2022-05-19T15:35:45.002Z"
   },
   {
    "duration": 8,
    "start_time": "2022-05-19T15:35:45.535Z"
   },
   {
    "duration": 9,
    "start_time": "2022-05-19T15:35:45.728Z"
   },
   {
    "duration": 41,
    "start_time": "2022-05-19T15:35:46.832Z"
   },
   {
    "duration": 6,
    "start_time": "2022-05-19T15:35:47.401Z"
   },
   {
    "duration": 47,
    "start_time": "2022-05-19T15:35:48.036Z"
   },
   {
    "duration": 48,
    "start_time": "2022-05-19T15:35:48.595Z"
   },
   {
    "duration": 12,
    "start_time": "2022-05-19T15:35:49.991Z"
   },
   {
    "duration": 2111,
    "start_time": "2022-05-19T15:35:52.534Z"
   },
   {
    "duration": 1439,
    "start_time": "2022-05-19T15:35:55.601Z"
   },
   {
    "duration": 1445,
    "start_time": "2022-05-19T15:36:01.615Z"
   },
   {
    "duration": 12,
    "start_time": "2022-05-19T15:36:03.460Z"
   },
   {
    "duration": 2,
    "start_time": "2022-05-19T15:36:12.993Z"
   },
   {
    "duration": 4,
    "start_time": "2022-05-19T15:36:16.233Z"
   },
   {
    "duration": 6,
    "start_time": "2022-05-19T15:36:17.721Z"
   },
   {
    "duration": 9,
    "start_time": "2022-05-19T15:36:18.894Z"
   },
   {
    "duration": 49,
    "start_time": "2022-05-19T15:36:21.463Z"
   },
   {
    "duration": 4,
    "start_time": "2022-05-19T15:36:21.940Z"
   },
   {
    "duration": 8,
    "start_time": "2022-05-19T15:36:22.424Z"
   },
   {
    "duration": 5,
    "start_time": "2022-05-19T15:36:22.829Z"
   },
   {
    "duration": 2,
    "start_time": "2022-05-19T15:36:23.409Z"
   },
   {
    "duration": 325,
    "start_time": "2022-05-19T15:36:23.590Z"
   },
   {
    "duration": 51,
    "start_time": "2022-05-19T15:36:23.917Z"
   },
   {
    "duration": 4,
    "start_time": "2022-05-19T15:40:38.181Z"
   },
   {
    "duration": 41,
    "start_time": "2022-05-19T15:40:39.321Z"
   },
   {
    "duration": 499,
    "start_time": "2022-05-19T15:45:06.124Z"
   },
   {
    "duration": 110456,
    "start_time": "2022-05-19T15:45:09.627Z"
   },
   {
    "duration": 1310,
    "start_time": "2022-05-19T15:52:49.938Z"
   },
   {
    "duration": 53,
    "start_time": "2022-05-19T15:52:51.250Z"
   },
   {
    "duration": 3,
    "start_time": "2022-05-19T15:52:51.305Z"
   },
   {
    "duration": 13,
    "start_time": "2022-05-19T15:52:52.480Z"
   },
   {
    "duration": 7,
    "start_time": "2022-05-19T15:52:54.908Z"
   },
   {
    "duration": 5,
    "start_time": "2022-05-19T15:52:55.886Z"
   },
   {
    "duration": 7,
    "start_time": "2022-05-19T15:52:58.828Z"
   },
   {
    "duration": 10,
    "start_time": "2022-05-19T15:52:59.897Z"
   },
   {
    "duration": 50,
    "start_time": "2022-05-19T15:53:01.836Z"
   },
   {
    "duration": 8,
    "start_time": "2022-05-19T15:53:02.813Z"
   },
   {
    "duration": 41,
    "start_time": "2022-05-19T15:53:03.916Z"
   },
   {
    "duration": 44,
    "start_time": "2022-05-19T15:53:05.847Z"
   },
   {
    "duration": 12,
    "start_time": "2022-05-19T15:53:08.638Z"
   },
   {
    "duration": 1989,
    "start_time": "2022-05-19T15:53:11.864Z"
   },
   {
    "duration": 1490,
    "start_time": "2022-05-19T15:53:16.055Z"
   },
   {
    "duration": 1389,
    "start_time": "2022-05-19T15:53:22.119Z"
   },
   {
    "duration": 3,
    "start_time": "2022-05-19T15:53:24.410Z"
   },
   {
    "duration": 4,
    "start_time": "2022-05-19T15:53:27.878Z"
   },
   {
    "duration": 6,
    "start_time": "2022-05-19T15:53:29.209Z"
   },
   {
    "duration": 10,
    "start_time": "2022-05-19T15:53:30.415Z"
   },
   {
    "duration": 35,
    "start_time": "2022-05-19T15:53:32.575Z"
   },
   {
    "duration": 4,
    "start_time": "2022-05-19T15:53:32.830Z"
   },
   {
    "duration": 8,
    "start_time": "2022-05-19T15:53:33.595Z"
   },
   {
    "duration": 5,
    "start_time": "2022-05-19T15:53:34.848Z"
   },
   {
    "duration": 158,
    "start_time": "2022-05-19T15:53:38.877Z"
   },
   {
    "duration": 9,
    "start_time": "2022-05-19T15:53:39.547Z"
   },
   {
    "duration": 9,
    "start_time": "2022-05-19T15:53:46.468Z"
   },
   {
    "duration": 10,
    "start_time": "2022-05-19T15:53:47.522Z"
   },
   {
    "duration": 9,
    "start_time": "2022-05-19T15:53:48.562Z"
   },
   {
    "duration": 4,
    "start_time": "2022-05-19T15:53:55.922Z"
   },
   {
    "duration": 53,
    "start_time": "2022-05-19T15:53:55.927Z"
   },
   {
    "duration": 3,
    "start_time": "2022-05-19T15:53:55.982Z"
   },
   {
    "duration": 12,
    "start_time": "2022-05-19T15:53:55.987Z"
   },
   {
    "duration": 7,
    "start_time": "2022-05-19T15:53:56.001Z"
   },
   {
    "duration": 5,
    "start_time": "2022-05-19T15:53:56.009Z"
   },
   {
    "duration": 10,
    "start_time": "2022-05-19T15:53:56.016Z"
   },
   {
    "duration": 15,
    "start_time": "2022-05-19T15:53:56.028Z"
   },
   {
    "duration": 42,
    "start_time": "2022-05-19T15:53:56.045Z"
   },
   {
    "duration": 7,
    "start_time": "2022-05-19T15:53:56.103Z"
   },
   {
    "duration": 41,
    "start_time": "2022-05-19T15:53:56.111Z"
   },
   {
    "duration": 53,
    "start_time": "2022-05-19T15:53:56.154Z"
   },
   {
    "duration": 10,
    "start_time": "2022-05-19T15:53:56.209Z"
   },
   {
    "duration": 1999,
    "start_time": "2022-05-19T15:53:56.220Z"
   },
   {
    "duration": 1411,
    "start_time": "2022-05-19T15:53:58.220Z"
   },
   {
    "duration": 1371,
    "start_time": "2022-05-19T15:53:59.633Z"
   },
   {
    "duration": 3,
    "start_time": "2022-05-19T15:54:01.005Z"
   },
   {
    "duration": 21,
    "start_time": "2022-05-19T15:54:01.009Z"
   },
   {
    "duration": 23,
    "start_time": "2022-05-19T15:54:01.032Z"
   },
   {
    "duration": 36,
    "start_time": "2022-05-19T15:54:01.057Z"
   },
   {
    "duration": 113,
    "start_time": "2022-05-19T15:54:01.097Z"
   },
   {
    "duration": 198,
    "start_time": "2022-05-19T15:54:01.211Z"
   },
   {
    "duration": 99,
    "start_time": "2022-05-19T15:54:01.411Z"
   },
   {
    "duration": 5,
    "start_time": "2022-05-19T15:54:01.601Z"
   },
   {
    "duration": 11,
    "start_time": "2022-05-19T15:54:01.608Z"
   },
   {
    "duration": 0,
    "start_time": "2022-05-19T15:54:01.620Z"
   },
   {
    "duration": 9,
    "start_time": "2022-05-19T15:54:05.476Z"
   },
   {
    "duration": 10,
    "start_time": "2022-05-19T15:54:06.545Z"
   },
   {
    "duration": 7,
    "start_time": "2022-05-19T15:54:31.638Z"
   },
   {
    "duration": 43,
    "start_time": "2022-05-19T15:54:32.216Z"
   },
   {
    "duration": 3,
    "start_time": "2022-05-19T15:54:32.397Z"
   },
   {
    "duration": 11,
    "start_time": "2022-05-19T15:54:32.595Z"
   },
   {
    "duration": 6,
    "start_time": "2022-05-19T15:54:32.961Z"
   },
   {
    "duration": 7,
    "start_time": "2022-05-19T15:54:33.135Z"
   },
   {
    "duration": 9,
    "start_time": "2022-05-19T15:54:33.656Z"
   },
   {
    "duration": 13,
    "start_time": "2022-05-19T15:54:33.865Z"
   },
   {
    "duration": 47,
    "start_time": "2022-05-19T15:54:34.229Z"
   },
   {
    "duration": 8,
    "start_time": "2022-05-19T15:54:34.412Z"
   },
   {
    "duration": 47,
    "start_time": "2022-05-19T15:54:34.590Z"
   },
   {
    "duration": 42,
    "start_time": "2022-05-19T15:54:34.766Z"
   },
   {
    "duration": 12,
    "start_time": "2022-05-19T15:54:35.166Z"
   },
   {
    "duration": 2017,
    "start_time": "2022-05-19T15:54:35.759Z"
   },
   {
    "duration": 1635,
    "start_time": "2022-05-19T15:54:37.778Z"
   },
   {
    "duration": 1553,
    "start_time": "2022-05-19T15:54:39.415Z"
   },
   {
    "duration": 3,
    "start_time": "2022-05-19T15:54:40.971Z"
   },
   {
    "duration": 26,
    "start_time": "2022-05-19T15:54:40.977Z"
   },
   {
    "duration": 15,
    "start_time": "2022-05-19T15:54:41.005Z"
   },
   {
    "duration": 25,
    "start_time": "2022-05-19T15:54:41.021Z"
   },
   {
    "duration": 162,
    "start_time": "2022-05-19T15:54:41.047Z"
   },
   {
    "duration": 193,
    "start_time": "2022-05-19T15:54:41.212Z"
   },
   {
    "duration": 7,
    "start_time": "2022-05-19T15:54:42.556Z"
   },
   {
    "duration": 6,
    "start_time": "2022-05-19T15:54:43.931Z"
   },
   {
    "duration": 9,
    "start_time": "2022-05-19T15:54:46.009Z"
   },
   {
    "duration": 9,
    "start_time": "2022-05-19T15:54:47.188Z"
   },
   {
    "duration": 10,
    "start_time": "2022-05-19T15:54:48.504Z"
   },
   {
    "duration": 11,
    "start_time": "2022-05-19T15:55:03.838Z"
   },
   {
    "duration": 4,
    "start_time": "2022-05-19T15:55:18.190Z"
   },
   {
    "duration": 45,
    "start_time": "2022-05-19T15:55:19.105Z"
   },
   {
    "duration": 3,
    "start_time": "2022-05-19T15:55:20.129Z"
   },
   {
    "duration": 12,
    "start_time": "2022-05-19T15:55:20.952Z"
   },
   {
    "duration": 7,
    "start_time": "2022-05-19T15:55:21.740Z"
   },
   {
    "duration": 5,
    "start_time": "2022-05-19T15:55:21.917Z"
   },
   {
    "duration": 8,
    "start_time": "2022-05-19T15:55:22.421Z"
   },
   {
    "duration": 10,
    "start_time": "2022-05-19T15:55:22.600Z"
   },
   {
    "duration": 45,
    "start_time": "2022-05-19T15:55:22.978Z"
   },
   {
    "duration": 9,
    "start_time": "2022-05-19T15:55:23.152Z"
   },
   {
    "duration": 42,
    "start_time": "2022-05-19T15:55:23.341Z"
   },
   {
    "duration": 39,
    "start_time": "2022-05-19T15:55:23.537Z"
   },
   {
    "duration": 10,
    "start_time": "2022-05-19T15:55:23.929Z"
   },
   {
    "duration": 1998,
    "start_time": "2022-05-19T15:55:24.497Z"
   },
   {
    "duration": 1384,
    "start_time": "2022-05-19T15:55:26.503Z"
   },
   {
    "duration": 1464,
    "start_time": "2022-05-19T15:55:27.889Z"
   },
   {
    "duration": 2,
    "start_time": "2022-05-19T15:55:29.354Z"
   },
   {
    "duration": 11,
    "start_time": "2022-05-19T15:55:29.358Z"
   },
   {
    "duration": 7,
    "start_time": "2022-05-19T15:55:29.370Z"
   },
   {
    "duration": 10,
    "start_time": "2022-05-19T15:55:29.379Z"
   },
   {
    "duration": 56,
    "start_time": "2022-05-19T15:55:29.554Z"
   },
   {
    "duration": 7,
    "start_time": "2022-05-19T15:55:29.815Z"
   },
   {
    "duration": 9,
    "start_time": "2022-05-19T15:55:30.288Z"
   },
   {
    "duration": 6,
    "start_time": "2022-05-19T15:55:30.797Z"
   },
   {
    "duration": 10,
    "start_time": "2022-05-19T15:55:31.807Z"
   },
   {
    "duration": 9,
    "start_time": "2022-05-19T15:55:32.698Z"
   },
   {
    "duration": 9,
    "start_time": "2022-05-19T15:55:33.751Z"
   },
   {
    "duration": 4,
    "start_time": "2022-05-19T15:55:53.817Z"
   },
   {
    "duration": 57,
    "start_time": "2022-05-19T15:55:54.000Z"
   },
   {
    "duration": 3,
    "start_time": "2022-05-19T15:55:54.185Z"
   },
   {
    "duration": 11,
    "start_time": "2022-05-19T15:55:54.371Z"
   },
   {
    "duration": 6,
    "start_time": "2022-05-19T15:55:54.755Z"
   },
   {
    "duration": 5,
    "start_time": "2022-05-19T15:55:54.932Z"
   },
   {
    "duration": 7,
    "start_time": "2022-05-19T15:55:55.501Z"
   },
   {
    "duration": 10,
    "start_time": "2022-05-19T15:55:55.693Z"
   },
   {
    "duration": 43,
    "start_time": "2022-05-19T15:55:56.073Z"
   },
   {
    "duration": 7,
    "start_time": "2022-05-19T15:55:56.257Z"
   },
   {
    "duration": 44,
    "start_time": "2022-05-19T15:55:56.472Z"
   },
   {
    "duration": 45,
    "start_time": "2022-05-19T15:55:56.684Z"
   },
   {
    "duration": 11,
    "start_time": "2022-05-19T15:55:57.038Z"
   },
   {
    "duration": 1954,
    "start_time": "2022-05-19T15:55:57.610Z"
   },
   {
    "duration": 1401,
    "start_time": "2022-05-19T15:55:59.567Z"
   },
   {
    "duration": 1474,
    "start_time": "2022-05-19T15:56:00.970Z"
   },
   {
    "duration": 2,
    "start_time": "2022-05-19T15:56:02.446Z"
   },
   {
    "duration": 22,
    "start_time": "2022-05-19T15:56:02.450Z"
   },
   {
    "duration": 21,
    "start_time": "2022-05-19T15:56:02.473Z"
   },
   {
    "duration": 9,
    "start_time": "2022-05-19T15:56:04.990Z"
   },
   {
    "duration": 249,
    "start_time": "2022-05-19T15:56:08.460Z"
   },
   {
    "duration": 5,
    "start_time": "2022-05-19T15:56:09.217Z"
   },
   {
    "duration": 7,
    "start_time": "2022-05-19T15:56:11.055Z"
   },
   {
    "duration": 5,
    "start_time": "2022-05-19T15:56:13.488Z"
   },
   {
    "duration": 9,
    "start_time": "2022-05-19T15:56:16.753Z"
   },
   {
    "duration": 8,
    "start_time": "2022-05-19T15:56:24.150Z"
   },
   {
    "duration": 4,
    "start_time": "2022-05-19T15:58:38.879Z"
   },
   {
    "duration": 42,
    "start_time": "2022-05-19T15:58:39.825Z"
   },
   {
    "duration": 3,
    "start_time": "2022-05-19T15:58:40.539Z"
   },
   {
    "duration": 13,
    "start_time": "2022-05-19T15:58:41.223Z"
   },
   {
    "duration": 7,
    "start_time": "2022-05-19T15:58:41.561Z"
   },
   {
    "duration": 6,
    "start_time": "2022-05-19T15:58:41.734Z"
   },
   {
    "duration": 8,
    "start_time": "2022-05-19T15:58:42.282Z"
   },
   {
    "duration": 11,
    "start_time": "2022-05-19T15:58:42.477Z"
   },
   {
    "duration": 42,
    "start_time": "2022-05-19T15:58:42.838Z"
   },
   {
    "duration": 7,
    "start_time": "2022-05-19T15:58:43.030Z"
   },
   {
    "duration": 41,
    "start_time": "2022-05-19T15:58:43.209Z"
   },
   {
    "duration": 41,
    "start_time": "2022-05-19T15:58:43.399Z"
   },
   {
    "duration": 13,
    "start_time": "2022-05-19T15:58:43.771Z"
   },
   {
    "duration": 2050,
    "start_time": "2022-05-19T15:58:44.331Z"
   },
   {
    "duration": 1457,
    "start_time": "2022-05-19T15:58:46.383Z"
   },
   {
    "duration": 1387,
    "start_time": "2022-05-19T15:58:47.842Z"
   },
   {
    "duration": 2,
    "start_time": "2022-05-19T15:58:49.230Z"
   },
   {
    "duration": 9,
    "start_time": "2022-05-19T15:58:49.234Z"
   },
   {
    "duration": 7,
    "start_time": "2022-05-19T15:58:49.245Z"
   },
   {
    "duration": 14,
    "start_time": "2022-05-19T15:58:49.254Z"
   },
   {
    "duration": 19,
    "start_time": "2022-05-19T15:58:50.868Z"
   },
   {
    "duration": 4,
    "start_time": "2022-05-19T15:58:51.359Z"
   },
   {
    "duration": 10,
    "start_time": "2022-05-19T15:58:52.261Z"
   },
   {
    "duration": 6,
    "start_time": "2022-05-19T15:58:53.613Z"
   },
   {
    "duration": 10,
    "start_time": "2022-05-19T15:58:55.283Z"
   },
   {
    "duration": 4,
    "start_time": "2022-05-19T15:59:46.008Z"
   },
   {
    "duration": 54,
    "start_time": "2022-05-19T15:59:46.625Z"
   },
   {
    "duration": 4,
    "start_time": "2022-05-19T15:59:46.831Z"
   },
   {
    "duration": 10,
    "start_time": "2022-05-19T15:59:47.016Z"
   },
   {
    "duration": 6,
    "start_time": "2022-05-19T15:59:47.342Z"
   },
   {
    "duration": 5,
    "start_time": "2022-05-19T15:59:47.512Z"
   },
   {
    "duration": 6,
    "start_time": "2022-05-19T15:59:48.046Z"
   },
   {
    "duration": 10,
    "start_time": "2022-05-19T15:59:48.209Z"
   },
   {
    "duration": 45,
    "start_time": "2022-05-19T15:59:48.575Z"
   },
   {
    "duration": 8,
    "start_time": "2022-05-19T15:59:48.743Z"
   },
   {
    "duration": 44,
    "start_time": "2022-05-19T15:59:48.929Z"
   },
   {
    "duration": 47,
    "start_time": "2022-05-19T15:59:49.119Z"
   },
   {
    "duration": 13,
    "start_time": "2022-05-19T15:59:49.482Z"
   },
   {
    "duration": 2098,
    "start_time": "2022-05-19T15:59:50.235Z"
   },
   {
    "duration": 1433,
    "start_time": "2022-05-19T15:59:52.334Z"
   },
   {
    "duration": 1516,
    "start_time": "2022-05-19T15:59:53.769Z"
   },
   {
    "duration": 2,
    "start_time": "2022-05-19T15:59:55.288Z"
   },
   {
    "duration": 4,
    "start_time": "2022-05-19T15:59:55.302Z"
   },
   {
    "duration": 13,
    "start_time": "2022-05-19T15:59:55.308Z"
   },
   {
    "duration": 12,
    "start_time": "2022-05-19T15:59:55.323Z"
   },
   {
    "duration": 270,
    "start_time": "2022-05-19T15:59:55.337Z"
   },
   {
    "duration": 96,
    "start_time": "2022-05-19T15:59:55.609Z"
   },
   {
    "duration": 196,
    "start_time": "2022-05-19T15:59:55.714Z"
   },
   {
    "duration": 5,
    "start_time": "2022-05-19T15:59:55.912Z"
   },
   {
    "duration": 9,
    "start_time": "2022-05-19T15:59:56.989Z"
   },
   {
    "duration": 10,
    "start_time": "2022-05-19T15:59:58.282Z"
   },
   {
    "duration": 9,
    "start_time": "2022-05-19T15:59:59.672Z"
   },
   {
    "duration": 564,
    "start_time": "2022-05-19T16:00:41.448Z"
   },
   {
    "duration": 119799,
    "start_time": "2022-05-19T16:00:42.100Z"
   },
   {
    "duration": 4,
    "start_time": "2022-05-19T16:02:41.903Z"
   },
   {
    "duration": 47,
    "start_time": "2022-05-19T16:02:41.909Z"
   },
   {
    "duration": 3,
    "start_time": "2022-05-19T16:02:41.959Z"
   },
   {
    "duration": 18,
    "start_time": "2022-05-19T16:02:41.964Z"
   },
   {
    "duration": 12,
    "start_time": "2022-05-19T16:02:41.985Z"
   },
   {
    "duration": 8,
    "start_time": "2022-05-19T16:02:42.003Z"
   },
   {
    "duration": 8,
    "start_time": "2022-05-19T16:02:42.014Z"
   },
   {
    "duration": 14,
    "start_time": "2022-05-19T16:02:42.024Z"
   },
   {
    "duration": 75,
    "start_time": "2022-05-19T16:02:42.041Z"
   },
   {
    "duration": 9,
    "start_time": "2022-05-19T16:02:42.118Z"
   },
   {
    "duration": 53,
    "start_time": "2022-05-19T16:02:42.129Z"
   },
   {
    "duration": 62,
    "start_time": "2022-05-19T16:02:42.184Z"
   },
   {
    "duration": 13,
    "start_time": "2022-05-19T16:02:42.249Z"
   },
   {
    "duration": 2254,
    "start_time": "2022-05-19T16:02:42.264Z"
   },
   {
    "duration": 1858,
    "start_time": "2022-05-19T16:02:44.520Z"
   },
   {
    "duration": 1574,
    "start_time": "2022-05-19T16:02:46.380Z"
   },
   {
    "duration": 2,
    "start_time": "2022-05-19T16:02:47.956Z"
   },
   {
    "duration": 7,
    "start_time": "2022-05-19T16:02:47.960Z"
   },
   {
    "duration": 7,
    "start_time": "2022-05-19T16:02:47.968Z"
   },
   {
    "duration": 29,
    "start_time": "2022-05-19T16:02:47.977Z"
   },
   {
    "duration": 503,
    "start_time": "2022-05-19T16:02:48.008Z"
   },
   {
    "duration": 205,
    "start_time": "2022-05-19T16:02:48.515Z"
   },
   {
    "duration": 11,
    "start_time": "2022-05-19T16:02:48.803Z"
   },
   {
    "duration": 8,
    "start_time": "2022-05-19T16:02:48.816Z"
   },
   {
    "duration": 10,
    "start_time": "2022-05-19T16:02:48.826Z"
   },
   {
    "duration": 383,
    "start_time": "2022-05-19T16:02:48.838Z"
   },
   {
    "duration": 91,
    "start_time": "2022-05-19T16:02:49.227Z"
   },
   {
    "duration": 565,
    "start_time": "2022-05-19T16:02:57.364Z"
   },
   {
    "duration": 121310,
    "start_time": "2022-05-19T16:05:00.257Z"
   },
   {
    "duration": 1486,
    "start_time": "2022-05-19T16:15:37.622Z"
   },
   {
    "duration": 1332,
    "start_time": "2022-05-19T16:16:34.579Z"
   },
   {
    "duration": 9,
    "start_time": "2022-05-19T16:18:07.083Z"
   },
   {
    "duration": 1219,
    "start_time": "2022-05-19T16:18:17.283Z"
   },
   {
    "duration": 4,
    "start_time": "2022-05-19T16:18:54.542Z"
   },
   {
    "duration": 14,
    "start_time": "2022-05-19T16:19:28.115Z"
   },
   {
    "duration": 19,
    "start_time": "2022-05-19T18:20:17.660Z"
   },
   {
    "duration": 16,
    "start_time": "2022-05-19T18:20:25.177Z"
   },
   {
    "duration": 529,
    "start_time": "2022-05-19T18:21:35.029Z"
   },
   {
    "duration": 118277,
    "start_time": "2022-05-19T18:21:35.560Z"
   },
   {
    "duration": 7,
    "start_time": "2022-05-19T18:23:33.839Z"
   },
   {
    "duration": 19,
    "start_time": "2022-05-19T18:23:37.033Z"
   },
   {
    "duration": 14,
    "start_time": "2022-05-19T18:24:18.825Z"
   },
   {
    "duration": 13,
    "start_time": "2022-05-19T18:24:48.977Z"
   },
   {
    "duration": 14,
    "start_time": "2022-05-19T18:24:54.937Z"
   },
   {
    "duration": 13,
    "start_time": "2022-05-19T18:25:03.522Z"
   },
   {
    "duration": 13,
    "start_time": "2022-05-19T18:27:02.919Z"
   },
   {
    "duration": 14,
    "start_time": "2022-05-19T18:27:15.744Z"
   },
   {
    "duration": 13,
    "start_time": "2022-05-19T18:27:20.908Z"
   },
   {
    "duration": 16,
    "start_time": "2022-05-19T18:27:28.908Z"
   },
   {
    "duration": 6,
    "start_time": "2022-05-19T18:29:35.901Z"
   },
   {
    "duration": 60,
    "start_time": "2022-05-19T18:29:35.909Z"
   },
   {
    "duration": 3,
    "start_time": "2022-05-19T18:29:35.971Z"
   },
   {
    "duration": 25,
    "start_time": "2022-05-19T18:29:35.976Z"
   },
   {
    "duration": 7,
    "start_time": "2022-05-19T18:29:36.003Z"
   },
   {
    "duration": 13,
    "start_time": "2022-05-19T18:29:36.011Z"
   },
   {
    "duration": 18,
    "start_time": "2022-05-19T18:29:36.025Z"
   },
   {
    "duration": 18,
    "start_time": "2022-05-19T18:29:36.045Z"
   },
   {
    "duration": 50,
    "start_time": "2022-05-19T18:29:36.065Z"
   },
   {
    "duration": 7,
    "start_time": "2022-05-19T18:29:36.118Z"
   },
   {
    "duration": 49,
    "start_time": "2022-05-19T18:29:36.126Z"
   },
   {
    "duration": 58,
    "start_time": "2022-05-19T18:29:36.176Z"
   },
   {
    "duration": 11,
    "start_time": "2022-05-19T18:29:36.236Z"
   },
   {
    "duration": 2353,
    "start_time": "2022-05-19T18:29:36.249Z"
   },
   {
    "duration": 1648,
    "start_time": "2022-05-19T18:29:38.604Z"
   },
   {
    "duration": 1455,
    "start_time": "2022-05-19T18:29:44.097Z"
   },
   {
    "duration": 19,
    "start_time": "2022-05-19T18:29:50.216Z"
   },
   {
    "duration": 4,
    "start_time": "2022-05-19T18:29:53.254Z"
   },
   {
    "duration": 18,
    "start_time": "2022-05-19T18:30:04.709Z"
   },
   {
    "duration": 13,
    "start_time": "2022-05-19T18:30:24.340Z"
   },
   {
    "duration": 13,
    "start_time": "2022-05-19T18:30:36.333Z"
   },
   {
    "duration": 4,
    "start_time": "2022-05-19T18:30:46.821Z"
   },
   {
    "duration": 43,
    "start_time": "2022-05-19T18:30:46.827Z"
   },
   {
    "duration": 3,
    "start_time": "2022-05-19T18:30:46.872Z"
   },
   {
    "duration": 14,
    "start_time": "2022-05-19T18:30:46.876Z"
   },
   {
    "duration": 8,
    "start_time": "2022-05-19T18:30:46.891Z"
   },
   {
    "duration": 5,
    "start_time": "2022-05-19T18:30:46.901Z"
   },
   {
    "duration": 9,
    "start_time": "2022-05-19T18:30:46.907Z"
   },
   {
    "duration": 11,
    "start_time": "2022-05-19T18:30:46.917Z"
   },
   {
    "duration": 72,
    "start_time": "2022-05-19T18:30:46.930Z"
   },
   {
    "duration": 8,
    "start_time": "2022-05-19T18:30:47.005Z"
   },
   {
    "duration": 49,
    "start_time": "2022-05-19T18:30:47.014Z"
   },
   {
    "duration": 63,
    "start_time": "2022-05-19T18:30:47.065Z"
   },
   {
    "duration": 11,
    "start_time": "2022-05-19T18:30:47.130Z"
   },
   {
    "duration": 2175,
    "start_time": "2022-05-19T18:30:47.142Z"
   },
   {
    "duration": 1435,
    "start_time": "2022-05-19T18:30:49.319Z"
   },
   {
    "duration": 1530,
    "start_time": "2022-05-19T18:30:50.755Z"
   },
   {
    "duration": 26,
    "start_time": "2022-05-19T18:30:52.286Z"
   },
   {
    "duration": 16,
    "start_time": "2022-05-19T18:30:53.729Z"
   },
   {
    "duration": 4,
    "start_time": "2022-05-19T18:30:56.359Z"
   },
   {
    "duration": 14,
    "start_time": "2022-05-19T18:31:50.470Z"
   },
   {
    "duration": 4,
    "start_time": "2022-05-19T18:31:55.914Z"
   },
   {
    "duration": 14,
    "start_time": "2022-05-19T18:31:56.770Z"
   },
   {
    "duration": 4,
    "start_time": "2022-05-19T18:32:11.548Z"
   },
   {
    "duration": 17,
    "start_time": "2022-05-19T18:32:23.905Z"
   },
   {
    "duration": 45,
    "start_time": "2022-05-19T18:33:04.686Z"
   },
   {
    "duration": 9,
    "start_time": "2022-05-19T18:34:06.215Z"
   },
   {
    "duration": 5,
    "start_time": "2022-05-19T18:34:45.622Z"
   },
   {
    "duration": 38,
    "start_time": "2022-05-19T18:34:47.321Z"
   },
   {
    "duration": 38,
    "start_time": "2022-05-19T18:34:57.940Z"
   },
   {
    "duration": 10,
    "start_time": "2022-05-19T18:35:10.778Z"
   },
   {
    "duration": 11,
    "start_time": "2022-05-19T18:35:20.283Z"
   },
   {
    "duration": 18,
    "start_time": "2022-05-19T18:35:54.517Z"
   },
   {
    "duration": 21,
    "start_time": "2022-05-19T18:36:06.549Z"
   },
   {
    "duration": 21,
    "start_time": "2022-05-19T18:36:11.258Z"
   },
   {
    "duration": 10,
    "start_time": "2022-05-19T18:36:27.650Z"
   },
   {
    "duration": 4,
    "start_time": "2022-05-19T18:37:59.754Z"
   },
   {
    "duration": 6,
    "start_time": "2022-05-19T18:38:01.564Z"
   },
   {
    "duration": 10,
    "start_time": "2022-05-19T18:38:02.757Z"
   },
   {
    "duration": 37,
    "start_time": "2022-05-19T18:38:08.067Z"
   },
   {
    "duration": 4,
    "start_time": "2022-05-19T18:38:13.320Z"
   },
   {
    "duration": 8,
    "start_time": "2022-05-19T18:38:20.081Z"
   },
   {
    "duration": 6,
    "start_time": "2022-05-19T18:38:25.661Z"
   },
   {
    "duration": 3,
    "start_time": "2022-05-19T18:38:26.765Z"
   },
   {
    "duration": 346,
    "start_time": "2022-05-19T18:38:27.745Z"
   },
   {
    "duration": 54,
    "start_time": "2022-05-19T18:38:29.014Z"
   },
   {
    "duration": 625,
    "start_time": "2022-05-19T18:38:38.070Z"
   },
   {
    "duration": 117378,
    "start_time": "2022-05-19T18:38:38.870Z"
   },
   {
    "duration": 1457,
    "start_time": "2022-05-19T18:40:36.250Z"
   },
   {
    "duration": 6,
    "start_time": "2022-05-19T18:40:37.709Z"
   },
   {
    "duration": 13,
    "start_time": "2022-05-19T18:40:37.734Z"
   },
   {
    "duration": 18,
    "start_time": "2022-05-19T18:44:45.261Z"
   },
   {
    "duration": 17,
    "start_time": "2022-05-19T18:49:59.060Z"
   },
   {
    "duration": 5,
    "start_time": "2022-05-19T18:50:37.985Z"
   },
   {
    "duration": 15,
    "start_time": "2022-05-19T18:53:14.518Z"
   },
   {
    "duration": 5,
    "start_time": "2022-05-19T19:01:48.530Z"
   },
   {
    "duration": 42,
    "start_time": "2022-05-19T19:01:48.547Z"
   },
   {
    "duration": 4,
    "start_time": "2022-05-19T19:01:48.591Z"
   },
   {
    "duration": 17,
    "start_time": "2022-05-19T19:01:48.596Z"
   },
   {
    "duration": 8,
    "start_time": "2022-05-19T19:01:48.614Z"
   },
   {
    "duration": 5,
    "start_time": "2022-05-19T19:01:48.625Z"
   },
   {
    "duration": 11,
    "start_time": "2022-05-19T19:01:48.632Z"
   },
   {
    "duration": 13,
    "start_time": "2022-05-19T19:01:48.644Z"
   },
   {
    "duration": 74,
    "start_time": "2022-05-19T19:01:48.658Z"
   },
   {
    "duration": 8,
    "start_time": "2022-05-19T19:01:48.733Z"
   },
   {
    "duration": 48,
    "start_time": "2022-05-19T19:01:48.743Z"
   },
   {
    "duration": 46,
    "start_time": "2022-05-19T19:01:48.803Z"
   },
   {
    "duration": 12,
    "start_time": "2022-05-19T19:01:48.850Z"
   },
   {
    "duration": 2647,
    "start_time": "2022-05-19T19:01:48.864Z"
   },
   {
    "duration": 1409,
    "start_time": "2022-05-19T19:01:51.514Z"
   },
   {
    "duration": 1621,
    "start_time": "2022-05-19T19:01:52.925Z"
   },
   {
    "duration": 27,
    "start_time": "2022-05-19T19:01:54.547Z"
   },
   {
    "duration": 8,
    "start_time": "2022-05-19T19:01:54.576Z"
   },
   {
    "duration": 14,
    "start_time": "2022-05-19T19:01:54.602Z"
   },
   {
    "duration": 6,
    "start_time": "2022-05-19T19:01:54.618Z"
   },
   {
    "duration": 7,
    "start_time": "2022-05-19T19:01:54.626Z"
   },
   {
    "duration": 10,
    "start_time": "2022-05-19T19:01:54.635Z"
   },
   {
    "duration": 169,
    "start_time": "2022-05-19T19:01:54.647Z"
   },
   {
    "duration": 101,
    "start_time": "2022-05-19T19:01:54.903Z"
   },
   {
    "duration": 10,
    "start_time": "2022-05-19T19:01:55.006Z"
   },
   {
    "duration": 6,
    "start_time": "2022-05-19T19:01:55.017Z"
   },
   {
    "duration": 12,
    "start_time": "2022-05-19T19:01:55.025Z"
   },
   {
    "duration": 4,
    "start_time": "2022-05-19T19:01:55.038Z"
   },
   {
    "duration": 373,
    "start_time": "2022-05-19T19:01:55.044Z"
   },
   {
    "duration": 56,
    "start_time": "2022-05-19T19:01:55.419Z"
   },
   {
    "duration": 603,
    "start_time": "2022-05-19T19:01:55.477Z"
   },
   {
    "duration": 118153,
    "start_time": "2022-05-19T19:01:56.082Z"
   },
   {
    "duration": 1365,
    "start_time": "2022-05-19T19:03:54.237Z"
   },
   {
    "duration": 8,
    "start_time": "2022-05-19T19:03:55.605Z"
   },
   {
    "duration": 11,
    "start_time": "2022-05-19T19:04:19.881Z"
   },
   {
    "duration": 10,
    "start_time": "2022-05-19T19:07:06.750Z"
   },
   {
    "duration": 39,
    "start_time": "2022-05-19T19:18:41.732Z"
   },
   {
    "duration": 8,
    "start_time": "2022-05-19T19:18:55.911Z"
   },
   {
    "duration": 12,
    "start_time": "2022-05-19T19:18:57.621Z"
   },
   {
    "duration": 40,
    "start_time": "2022-05-19T19:19:02.888Z"
   },
   {
    "duration": 28,
    "start_time": "2022-05-19T19:19:04.194Z"
   },
   {
    "duration": 42,
    "start_time": "2022-05-19T19:19:06.016Z"
   },
   {
    "duration": 46,
    "start_time": "2022-05-19T19:19:07.129Z"
   },
   {
    "duration": 5,
    "start_time": "2022-05-19T19:19:29.412Z"
   },
   {
    "duration": 43,
    "start_time": "2022-05-19T19:19:29.420Z"
   },
   {
    "duration": 4,
    "start_time": "2022-05-19T19:19:29.465Z"
   },
   {
    "duration": 22,
    "start_time": "2022-05-19T19:19:29.470Z"
   },
   {
    "duration": 7,
    "start_time": "2022-05-19T19:19:29.494Z"
   },
   {
    "duration": 5,
    "start_time": "2022-05-19T19:19:29.502Z"
   },
   {
    "duration": 9,
    "start_time": "2022-05-19T19:19:29.508Z"
   },
   {
    "duration": 13,
    "start_time": "2022-05-19T19:19:29.518Z"
   },
   {
    "duration": 44,
    "start_time": "2022-05-19T19:19:29.532Z"
   },
   {
    "duration": 42,
    "start_time": "2022-05-19T19:19:33.076Z"
   },
   {
    "duration": 8,
    "start_time": "2022-05-19T19:19:33.972Z"
   },
   {
    "duration": 45,
    "start_time": "2022-05-19T19:19:34.651Z"
   },
   {
    "duration": 42,
    "start_time": "2022-05-19T19:19:36.559Z"
   },
   {
    "duration": 11,
    "start_time": "2022-05-19T19:19:37.750Z"
   },
   {
    "duration": 2132,
    "start_time": "2022-05-19T19:19:41.183Z"
   },
   {
    "duration": 1693,
    "start_time": "2022-05-19T19:19:44.503Z"
   },
   {
    "duration": 1470,
    "start_time": "2022-05-19T19:19:51.657Z"
   },
   {
    "duration": 18,
    "start_time": "2022-05-19T19:19:55.291Z"
   },
   {
    "duration": 4,
    "start_time": "2022-05-19T19:20:18.071Z"
   },
   {
    "duration": 9,
    "start_time": "2022-05-19T19:20:18.555Z"
   },
   {
    "duration": 4,
    "start_time": "2022-05-19T19:20:26.609Z"
   },
   {
    "duration": 5,
    "start_time": "2022-05-19T19:20:33.112Z"
   },
   {
    "duration": 10,
    "start_time": "2022-05-19T19:20:34.811Z"
   },
   {
    "duration": 186,
    "start_time": "2022-05-19T19:20:36.724Z"
   },
   {
    "duration": 4,
    "start_time": "2022-05-19T19:20:37.849Z"
   },
   {
    "duration": 7,
    "start_time": "2022-05-19T19:20:39.370Z"
   },
   {
    "duration": 5,
    "start_time": "2022-05-19T19:20:42.957Z"
   },
   {
    "duration": 11,
    "start_time": "2022-05-19T19:20:43.839Z"
   },
   {
    "duration": 3,
    "start_time": "2022-05-19T19:20:47.947Z"
   },
   {
    "duration": 307,
    "start_time": "2022-05-19T19:20:48.547Z"
   },
   {
    "duration": 54,
    "start_time": "2022-05-19T19:20:49.661Z"
   },
   {
    "duration": 497,
    "start_time": "2022-05-19T19:20:54.126Z"
   },
   {
    "duration": 112611,
    "start_time": "2022-05-19T19:20:54.927Z"
   },
   {
    "duration": 1495,
    "start_time": "2022-05-19T19:22:48.814Z"
   },
   {
    "duration": 91,
    "start_time": "2022-05-19T19:22:50.312Z"
   },
   {
    "duration": 15,
    "start_time": "2022-05-19T19:22:50.405Z"
   },
   {
    "duration": 5,
    "start_time": "2022-05-19T19:27:15.067Z"
   },
   {
    "duration": 9,
    "start_time": "2022-05-19T19:27:17.686Z"
   },
   {
    "duration": 261,
    "start_time": "2022-05-19T19:27:19.549Z"
   },
   {
    "duration": 6,
    "start_time": "2022-05-19T19:27:20.161Z"
   },
   {
    "duration": 12,
    "start_time": "2022-05-19T19:27:21.603Z"
   },
   {
    "duration": 6,
    "start_time": "2022-05-19T19:27:28.813Z"
   },
   {
    "duration": 12,
    "start_time": "2022-05-19T19:27:29.742Z"
   },
   {
    "duration": 3,
    "start_time": "2022-05-19T19:27:31.410Z"
   },
   {
    "duration": 285,
    "start_time": "2022-05-19T19:27:32.306Z"
   },
   {
    "duration": 65,
    "start_time": "2022-05-19T19:27:33.886Z"
   },
   {
    "duration": 666,
    "start_time": "2022-05-19T19:27:38.060Z"
   },
   {
    "duration": 113765,
    "start_time": "2022-05-19T19:27:38.728Z"
   },
   {
    "duration": 1401,
    "start_time": "2022-05-19T19:29:32.501Z"
   },
   {
    "duration": 8,
    "start_time": "2022-05-19T19:29:33.905Z"
   },
   {
    "duration": 94,
    "start_time": "2022-05-19T19:29:33.915Z"
   },
   {
    "duration": 11,
    "start_time": "2022-05-19T19:29:34.011Z"
   },
   {
    "duration": 1334,
    "start_time": "2022-05-19T19:31:37.170Z"
   },
   {
    "duration": 8,
    "start_time": "2022-05-19T19:31:38.506Z"
   },
   {
    "duration": 1002,
    "start_time": "2022-05-19T19:33:56.421Z"
   },
   {
    "duration": 5,
    "start_time": "2022-05-19T19:33:58.137Z"
   },
   {
    "duration": 1194,
    "start_time": "2022-05-19T19:34:08.217Z"
   },
   {
    "duration": 6,
    "start_time": "2022-05-19T19:34:09.413Z"
   },
   {
    "duration": 1133,
    "start_time": "2022-05-19T19:34:15.278Z"
   },
   {
    "duration": 6,
    "start_time": "2022-05-19T19:34:16.416Z"
   },
   {
    "duration": 13,
    "start_time": "2022-05-19T19:34:23.450Z"
   },
   {
    "duration": 10,
    "start_time": "2022-05-19T19:34:26.440Z"
   },
   {
    "duration": 950,
    "start_time": "2022-05-19T19:34:46.959Z"
   },
   {
    "duration": 5,
    "start_time": "2022-05-19T19:34:52.094Z"
   },
   {
    "duration": 56,
    "start_time": "2022-05-19T19:34:52.101Z"
   },
   {
    "duration": 2,
    "start_time": "2022-05-19T19:34:52.159Z"
   },
   {
    "duration": 23,
    "start_time": "2022-05-19T19:34:52.163Z"
   },
   {
    "duration": 7,
    "start_time": "2022-05-19T19:34:52.188Z"
   },
   {
    "duration": 19,
    "start_time": "2022-05-19T19:34:52.197Z"
   },
   {
    "duration": 9,
    "start_time": "2022-05-19T19:34:52.218Z"
   },
   {
    "duration": 14,
    "start_time": "2022-05-19T19:34:52.229Z"
   },
   {
    "duration": 44,
    "start_time": "2022-05-19T19:34:52.245Z"
   },
   {
    "duration": 23,
    "start_time": "2022-05-19T19:34:52.290Z"
   },
   {
    "duration": 53,
    "start_time": "2022-05-19T19:34:52.314Z"
   },
   {
    "duration": 48,
    "start_time": "2022-05-19T19:34:52.369Z"
   },
   {
    "duration": 12,
    "start_time": "2022-05-19T19:34:52.418Z"
   },
   {
    "duration": 2273,
    "start_time": "2022-05-19T19:34:52.432Z"
   },
   {
    "duration": 1537,
    "start_time": "2022-05-19T19:34:54.706Z"
   },
   {
    "duration": 1474,
    "start_time": "2022-05-19T19:34:56.245Z"
   },
   {
    "duration": 15,
    "start_time": "2022-05-19T19:34:57.721Z"
   },
   {
    "duration": 14,
    "start_time": "2022-05-19T19:34:57.737Z"
   },
   {
    "duration": 10,
    "start_time": "2022-05-19T19:34:57.753Z"
   },
   {
    "duration": 6,
    "start_time": "2022-05-19T19:34:57.764Z"
   },
   {
    "duration": 7,
    "start_time": "2022-05-19T19:34:57.771Z"
   },
   {
    "duration": 20,
    "start_time": "2022-05-19T19:34:57.779Z"
   },
   {
    "duration": 103,
    "start_time": "2022-05-19T19:34:57.800Z"
   },
   {
    "duration": 109,
    "start_time": "2022-05-19T19:34:57.907Z"
   },
   {
    "duration": 180,
    "start_time": "2022-05-19T19:34:58.023Z"
   },
   {
    "duration": 18,
    "start_time": "2022-05-19T19:34:58.207Z"
   },
   {
    "duration": 14,
    "start_time": "2022-05-19T19:34:58.227Z"
   },
   {
    "duration": 5,
    "start_time": "2022-05-19T19:34:58.242Z"
   },
   {
    "duration": 300,
    "start_time": "2022-05-19T19:34:58.248Z"
   },
   {
    "duration": 69,
    "start_time": "2022-05-19T19:34:58.550Z"
   },
   {
    "duration": 510,
    "start_time": "2022-05-19T19:34:58.621Z"
   },
   {
    "duration": 117564,
    "start_time": "2022-05-19T19:34:59.132Z"
   },
   {
    "duration": 691,
    "start_time": "2022-05-19T19:36:57.815Z"
   },
   {
    "duration": 9,
    "start_time": "2022-05-19T19:36:58.512Z"
   },
   {
    "duration": 115,
    "start_time": "2022-05-19T19:36:58.522Z"
   },
   {
    "duration": 9,
    "start_time": "2022-05-19T19:36:58.639Z"
   },
   {
    "duration": 56,
    "start_time": "2022-05-20T13:34:10.776Z"
   },
   {
    "duration": 1658,
    "start_time": "2022-05-20T13:34:15.933Z"
   },
   {
    "duration": 59,
    "start_time": "2022-05-20T13:34:17.593Z"
   },
   {
    "duration": 4,
    "start_time": "2022-05-20T13:34:17.654Z"
   },
   {
    "duration": 29,
    "start_time": "2022-05-20T13:34:17.661Z"
   },
   {
    "duration": 8,
    "start_time": "2022-05-20T13:34:17.692Z"
   },
   {
    "duration": 9,
    "start_time": "2022-05-20T13:34:17.702Z"
   },
   {
    "duration": 17,
    "start_time": "2022-05-20T13:34:17.713Z"
   },
   {
    "duration": 12,
    "start_time": "2022-05-20T13:34:17.732Z"
   },
   {
    "duration": 44,
    "start_time": "2022-05-20T13:34:17.746Z"
   },
   {
    "duration": 7,
    "start_time": "2022-05-20T13:34:17.793Z"
   },
   {
    "duration": 63,
    "start_time": "2022-05-20T13:34:17.801Z"
   },
   {
    "duration": 43,
    "start_time": "2022-05-20T13:34:17.865Z"
   },
   {
    "duration": 26,
    "start_time": "2022-05-20T13:34:17.910Z"
   },
   {
    "duration": 2173,
    "start_time": "2022-05-20T13:34:17.938Z"
   },
   {
    "duration": 1567,
    "start_time": "2022-05-20T13:34:20.113Z"
   },
   {
    "duration": 1587,
    "start_time": "2022-05-20T13:34:21.682Z"
   },
   {
    "duration": 19,
    "start_time": "2022-05-20T13:34:23.272Z"
   },
   {
    "duration": 10,
    "start_time": "2022-05-20T13:34:23.293Z"
   },
   {
    "duration": 17,
    "start_time": "2022-05-20T13:34:23.305Z"
   },
   {
    "duration": 10,
    "start_time": "2022-05-20T13:34:23.324Z"
   },
   {
    "duration": 6,
    "start_time": "2022-05-20T13:34:37.763Z"
   },
   {
    "duration": 9,
    "start_time": "2022-05-20T13:34:39.315Z"
   },
   {
    "duration": 148,
    "start_time": "2022-05-20T13:34:41.182Z"
   },
   {
    "duration": 4,
    "start_time": "2022-05-20T13:34:41.497Z"
   },
   {
    "duration": 9,
    "start_time": "2022-05-20T13:34:42.521Z"
   },
   {
    "duration": 7,
    "start_time": "2022-05-20T13:34:44.916Z"
   },
   {
    "duration": 13,
    "start_time": "2022-05-20T13:34:45.447Z"
   },
   {
    "duration": 3,
    "start_time": "2022-05-20T13:34:46.472Z"
   },
   {
    "duration": 284,
    "start_time": "2022-05-20T13:34:46.842Z"
   },
   {
    "duration": 68,
    "start_time": "2022-05-20T13:34:47.134Z"
   },
   {
    "duration": 567,
    "start_time": "2022-05-20T13:34:49.271Z"
   },
   {
    "duration": 114228,
    "start_time": "2022-05-20T13:34:49.840Z"
   },
   {
    "duration": 1164,
    "start_time": "2022-05-20T13:36:44.071Z"
   },
   {
    "duration": 7,
    "start_time": "2022-05-20T13:36:45.327Z"
   },
   {
    "duration": 16,
    "start_time": "2022-05-20T13:36:45.336Z"
   },
   {
    "duration": 11,
    "start_time": "2022-05-20T13:36:45.354Z"
   },
   {
    "duration": 977,
    "start_time": "2022-05-20T13:52:59.608Z"
   },
   {
    "duration": 1308,
    "start_time": "2022-05-20T13:53:10.451Z"
   },
   {
    "duration": 1029,
    "start_time": "2022-05-20T13:53:26.465Z"
   },
   {
    "duration": 2088,
    "start_time": "2022-05-20T13:53:58.376Z"
   },
   {
    "duration": 1113,
    "start_time": "2022-05-20T13:54:13.222Z"
   },
   {
    "duration": 6978,
    "start_time": "2022-05-20T13:57:36.799Z"
   },
   {
    "duration": 6171,
    "start_time": "2022-05-20T13:57:49.424Z"
   },
   {
    "duration": 5764,
    "start_time": "2022-05-20T13:57:59.843Z"
   },
   {
    "duration": 5781,
    "start_time": "2022-05-20T13:58:18.178Z"
   },
   {
    "duration": 6309,
    "start_time": "2022-05-20T13:58:30.871Z"
   },
   {
    "duration": 6331,
    "start_time": "2022-05-20T14:00:29.507Z"
   },
   {
    "duration": 6193,
    "start_time": "2022-05-20T14:01:20.134Z"
   },
   {
    "duration": 7121,
    "start_time": "2022-05-20T14:01:30.597Z"
   },
   {
    "duration": 6972,
    "start_time": "2022-05-20T14:01:44.102Z"
   },
   {
    "duration": 7155,
    "start_time": "2022-05-20T14:02:14.652Z"
   },
   {
    "duration": 7558,
    "start_time": "2022-05-20T14:02:26.085Z"
   },
   {
    "duration": 1297,
    "start_time": "2022-05-20T14:02:53.514Z"
   },
   {
    "duration": 1107,
    "start_time": "2022-05-20T14:03:17.990Z"
   },
   {
    "duration": 1273,
    "start_time": "2022-05-20T14:03:25.297Z"
   },
   {
    "duration": 1224,
    "start_time": "2022-05-20T14:03:34.436Z"
   },
   {
    "duration": 1103,
    "start_time": "2022-05-20T14:04:50.201Z"
   },
   {
    "duration": 1218,
    "start_time": "2022-05-20T14:06:58.133Z"
   },
   {
    "duration": 1244,
    "start_time": "2022-05-20T14:08:03.287Z"
   },
   {
    "duration": 1327,
    "start_time": "2022-05-20T14:09:20.859Z"
   },
   {
    "duration": 2003,
    "start_time": "2022-05-20T14:12:32.545Z"
   },
   {
    "duration": 2801,
    "start_time": "2022-05-20T14:13:02.550Z"
   },
   {
    "duration": 3376,
    "start_time": "2022-05-20T14:13:23.053Z"
   },
   {
    "duration": 430,
    "start_time": "2022-05-20T14:13:46.944Z"
   },
   {
    "duration": 468,
    "start_time": "2022-05-20T14:14:34.172Z"
   },
   {
    "duration": 3308,
    "start_time": "2022-05-20T14:14:41.499Z"
   },
   {
    "duration": 19,
    "start_time": "2022-05-20T14:24:52.931Z"
   },
   {
    "duration": 18,
    "start_time": "2022-05-20T14:25:06.558Z"
   },
   {
    "duration": 12,
    "start_time": "2022-05-20T14:30:56.432Z"
   },
   {
    "duration": 4956,
    "start_time": "2022-05-20T14:32:36.084Z"
   },
   {
    "duration": 4563,
    "start_time": "2022-05-20T14:33:00.948Z"
   },
   {
    "duration": 4216,
    "start_time": "2022-05-20T14:33:26.021Z"
   },
   {
    "duration": 4066,
    "start_time": "2022-05-20T14:33:36.712Z"
   },
   {
    "duration": 4386,
    "start_time": "2022-05-20T14:34:01.833Z"
   },
   {
    "duration": 4771,
    "start_time": "2022-05-20T14:34:20.303Z"
   },
   {
    "duration": 4622,
    "start_time": "2022-05-20T14:34:31.213Z"
   },
   {
    "duration": 3952,
    "start_time": "2022-05-20T14:35:04.480Z"
   },
   {
    "duration": 17,
    "start_time": "2022-05-20T14:35:29.882Z"
   },
   {
    "duration": 13,
    "start_time": "2022-05-20T14:35:38.317Z"
   },
   {
    "duration": 37,
    "start_time": "2022-05-20T14:37:19.615Z"
   },
   {
    "duration": 149,
    "start_time": "2022-05-20T14:37:30.187Z"
   },
   {
    "duration": 15,
    "start_time": "2022-05-20T14:37:46.441Z"
   },
   {
    "duration": 4669,
    "start_time": "2022-05-20T14:38:45.680Z"
   },
   {
    "duration": 4581,
    "start_time": "2022-05-20T14:39:14.719Z"
   },
   {
    "duration": 17,
    "start_time": "2022-05-20T14:39:40.723Z"
   },
   {
    "duration": 4896,
    "start_time": "2022-05-20T14:40:02.983Z"
   },
   {
    "duration": 29,
    "start_time": "2022-05-20T14:40:23.888Z"
   },
   {
    "duration": 27,
    "start_time": "2022-05-20T14:40:33.972Z"
   },
   {
    "duration": 25,
    "start_time": "2022-05-20T14:40:38.950Z"
   },
   {
    "duration": 25,
    "start_time": "2022-05-20T14:40:46.257Z"
   },
   {
    "duration": 37,
    "start_time": "2022-05-20T14:40:50.081Z"
   },
   {
    "duration": 4946,
    "start_time": "2022-05-20T14:40:59.816Z"
   },
   {
    "duration": 4057,
    "start_time": "2022-05-20T14:41:23.983Z"
   },
   {
    "duration": 4162,
    "start_time": "2022-05-20T14:41:44.882Z"
   },
   {
    "duration": 33,
    "start_time": "2022-05-20T14:49:20.454Z"
   },
   {
    "duration": 4088,
    "start_time": "2022-05-20T14:49:30.973Z"
   },
   {
    "duration": 4351,
    "start_time": "2022-05-20T14:49:44.635Z"
   },
   {
    "duration": 4420,
    "start_time": "2022-05-20T14:49:56.346Z"
   },
   {
    "duration": 4164,
    "start_time": "2022-05-20T14:50:23.474Z"
   },
   {
    "duration": 754,
    "start_time": "2022-05-20T14:50:34.803Z"
   },
   {
    "duration": 4038,
    "start_time": "2022-05-20T14:50:44.007Z"
   },
   {
    "duration": 3956,
    "start_time": "2022-05-20T14:51:35.996Z"
   },
   {
    "duration": 4279,
    "start_time": "2022-05-20T14:51:48.650Z"
   },
   {
    "duration": 4380,
    "start_time": "2022-05-20T14:52:04.179Z"
   },
   {
    "duration": 4324,
    "start_time": "2022-05-20T14:52:17.588Z"
   },
   {
    "duration": 4339,
    "start_time": "2022-05-20T14:52:31.430Z"
   },
   {
    "duration": 4077,
    "start_time": "2022-05-20T14:52:44.110Z"
   },
   {
    "duration": 4364,
    "start_time": "2022-05-20T14:52:55.334Z"
   },
   {
    "duration": 4014,
    "start_time": "2022-05-20T14:53:20.007Z"
   },
   {
    "duration": 4224,
    "start_time": "2022-05-20T14:56:11.467Z"
   },
   {
    "duration": 3535,
    "start_time": "2022-05-20T14:57:00.511Z"
   },
   {
    "duration": 5377,
    "start_time": "2022-05-20T14:57:39.336Z"
   },
   {
    "duration": 466,
    "start_time": "2022-05-20T14:58:49.724Z"
   },
   {
    "duration": 5777,
    "start_time": "2022-05-20T14:59:55.782Z"
   },
   {
    "duration": 3623,
    "start_time": "2022-05-20T15:00:45.014Z"
   },
   {
    "duration": 3541,
    "start_time": "2022-05-20T15:01:09.135Z"
   },
   {
    "duration": 3762,
    "start_time": "2022-05-20T15:01:43.370Z"
   },
   {
    "duration": 1463,
    "start_time": "2022-05-20T15:03:26.757Z"
   },
   {
    "duration": 1161,
    "start_time": "2022-05-20T15:03:40.875Z"
   },
   {
    "duration": 1242,
    "start_time": "2022-05-20T15:18:16.329Z"
   },
   {
    "duration": 178,
    "start_time": "2022-05-20T15:18:57.669Z"
   },
   {
    "duration": 1038,
    "start_time": "2022-05-20T15:19:09.176Z"
   },
   {
    "duration": 1136,
    "start_time": "2022-05-20T15:19:37.149Z"
   },
   {
    "duration": 17,
    "start_time": "2022-05-20T15:20:02.276Z"
   },
   {
    "duration": 1187,
    "start_time": "2022-05-20T15:20:07.701Z"
   },
   {
    "duration": 5371,
    "start_time": "2022-05-20T15:22:53.585Z"
   },
   {
    "duration": 11,
    "start_time": "2022-05-20T15:27:09.945Z"
   },
   {
    "duration": 14,
    "start_time": "2022-05-20T15:28:34.031Z"
   },
   {
    "duration": 13,
    "start_time": "2022-05-20T15:28:52.971Z"
   },
   {
    "duration": 24,
    "start_time": "2022-05-20T15:29:13.694Z"
   },
   {
    "duration": 24,
    "start_time": "2022-05-20T15:29:18.364Z"
   },
   {
    "duration": 12,
    "start_time": "2022-05-20T15:30:40.804Z"
   },
   {
    "duration": 9,
    "start_time": "2022-05-20T15:32:19.596Z"
   },
   {
    "duration": 8,
    "start_time": "2022-05-20T15:32:41.705Z"
   },
   {
    "duration": 6,
    "start_time": "2022-05-20T15:33:25.965Z"
   },
   {
    "duration": 5,
    "start_time": "2022-05-20T15:33:30.130Z"
   },
   {
    "duration": 9,
    "start_time": "2022-05-20T15:33:41.915Z"
   },
   {
    "duration": 10,
    "start_time": "2022-05-20T15:35:03.994Z"
   },
   {
    "duration": 10,
    "start_time": "2022-05-20T15:35:08.968Z"
   },
   {
    "duration": 10,
    "start_time": "2022-05-20T15:35:29.759Z"
   },
   {
    "duration": 9,
    "start_time": "2022-05-20T15:35:39.124Z"
   },
   {
    "duration": 11,
    "start_time": "2022-05-20T15:36:19.379Z"
   },
   {
    "duration": 10,
    "start_time": "2022-05-20T15:37:32.528Z"
   },
   {
    "duration": 11,
    "start_time": "2022-05-20T15:37:44.849Z"
   },
   {
    "duration": 6,
    "start_time": "2022-05-20T15:37:49.324Z"
   },
   {
    "duration": 6,
    "start_time": "2022-05-20T15:38:01.690Z"
   },
   {
    "duration": 8,
    "start_time": "2022-05-20T15:38:24.820Z"
   },
   {
    "duration": 9,
    "start_time": "2022-05-20T15:39:19.850Z"
   },
   {
    "duration": 9,
    "start_time": "2022-05-20T15:40:18.374Z"
   },
   {
    "duration": 17,
    "start_time": "2022-05-20T15:40:46.150Z"
   },
   {
    "duration": 13,
    "start_time": "2022-05-20T15:41:30.415Z"
   },
   {
    "duration": 16,
    "start_time": "2022-05-20T15:42:15.630Z"
   },
   {
    "duration": 16,
    "start_time": "2022-05-20T15:42:34.017Z"
   },
   {
    "duration": 12,
    "start_time": "2022-05-20T15:42:53.008Z"
   },
   {
    "duration": 12,
    "start_time": "2022-05-20T15:43:12.004Z"
   },
   {
    "duration": 12,
    "start_time": "2022-05-20T16:30:59.578Z"
   },
   {
    "duration": 9,
    "start_time": "2022-05-20T16:31:10.124Z"
   },
   {
    "duration": 7,
    "start_time": "2022-05-20T16:36:58.003Z"
   },
   {
    "duration": 8,
    "start_time": "2022-05-20T16:37:01.340Z"
   },
   {
    "duration": 3,
    "start_time": "2022-05-20T16:41:18.478Z"
   },
   {
    "duration": 9,
    "start_time": "2022-05-20T16:42:58.727Z"
   },
   {
    "duration": 4,
    "start_time": "2022-05-20T16:43:05.395Z"
   },
   {
    "duration": 12,
    "start_time": "2022-05-20T16:43:15.804Z"
   },
   {
    "duration": 12,
    "start_time": "2022-05-20T16:43:36.967Z"
   },
   {
    "duration": 6,
    "start_time": "2022-05-20T16:44:09.422Z"
   },
   {
    "duration": 6,
    "start_time": "2022-05-20T16:44:09.430Z"
   },
   {
    "duration": 34,
    "start_time": "2022-05-20T16:44:09.437Z"
   },
   {
    "duration": 3,
    "start_time": "2022-05-20T16:44:09.473Z"
   },
   {
    "duration": 10,
    "start_time": "2022-05-20T16:44:09.479Z"
   },
   {
    "duration": 3,
    "start_time": "2022-05-20T16:44:09.490Z"
   },
   {
    "duration": 11,
    "start_time": "2022-05-20T16:44:09.495Z"
   },
   {
    "duration": 22,
    "start_time": "2022-05-20T16:44:09.507Z"
   },
   {
    "duration": 7,
    "start_time": "2022-05-20T16:44:09.530Z"
   },
   {
    "duration": 6,
    "start_time": "2022-05-20T16:44:09.538Z"
   },
   {
    "duration": 6,
    "start_time": "2022-05-20T16:44:09.545Z"
   },
   {
    "duration": 8,
    "start_time": "2022-05-20T16:44:09.553Z"
   },
   {
    "duration": 68,
    "start_time": "2022-05-20T16:44:09.562Z"
   },
   {
    "duration": 7,
    "start_time": "2022-05-20T16:44:09.632Z"
   },
   {
    "duration": 43,
    "start_time": "2022-05-20T16:44:09.640Z"
   },
   {
    "duration": 47,
    "start_time": "2022-05-20T16:44:09.684Z"
   },
   {
    "duration": 13,
    "start_time": "2022-05-20T16:44:09.732Z"
   },
   {
    "duration": 2057,
    "start_time": "2022-05-20T16:44:17.818Z"
   },
   {
    "duration": 1617,
    "start_time": "2022-05-20T16:44:22.120Z"
   },
   {
    "duration": 383,
    "start_time": "2022-05-20T16:46:50.036Z"
   },
   {
    "duration": 19,
    "start_time": "2022-05-20T16:46:58.893Z"
   },
   {
    "duration": 18,
    "start_time": "2022-05-20T16:47:02.183Z"
   },
   {
    "duration": 4,
    "start_time": "2022-05-20T16:47:08.593Z"
   },
   {
    "duration": 12,
    "start_time": "2022-05-20T16:47:10.590Z"
   },
   {
    "duration": 4,
    "start_time": "2022-05-20T16:47:46.726Z"
   },
   {
    "duration": 6,
    "start_time": "2022-05-20T16:48:39.102Z"
   },
   {
    "duration": 5,
    "start_time": "2022-05-20T16:49:20.910Z"
   },
   {
    "duration": 12,
    "start_time": "2022-05-20T16:49:23.038Z"
   },
   {
    "duration": 14,
    "start_time": "2022-05-20T17:03:58.131Z"
   },
   {
    "duration": 13,
    "start_time": "2022-05-20T17:04:16.115Z"
   },
   {
    "duration": 156,
    "start_time": "2022-05-20T17:05:44.946Z"
   },
   {
    "duration": 19,
    "start_time": "2022-05-20T17:39:10.769Z"
   },
   {
    "duration": 2212,
    "start_time": "2022-05-20T17:39:10.790Z"
   },
   {
    "duration": 172,
    "start_time": "2022-05-20T17:39:13.004Z"
   },
   {
    "duration": 0,
    "start_time": "2022-05-20T17:39:13.178Z"
   },
   {
    "duration": 0,
    "start_time": "2022-05-20T17:39:13.182Z"
   },
   {
    "duration": 156,
    "start_time": "2022-05-20T17:39:58.638Z"
   },
   {
    "duration": 1520,
    "start_time": "2022-05-20T17:40:07.022Z"
   },
   {
    "duration": 1241,
    "start_time": "2022-05-20T17:40:44.786Z"
   },
   {
    "duration": 1537,
    "start_time": "2022-05-20T17:40:52.410Z"
   },
   {
    "duration": 8,
    "start_time": "2022-05-20T17:42:27.582Z"
   },
   {
    "duration": 5,
    "start_time": "2022-05-20T17:42:33.476Z"
   },
   {
    "duration": 4,
    "start_time": "2022-05-20T17:42:33.986Z"
   },
   {
    "duration": 40,
    "start_time": "2022-05-20T17:42:35.096Z"
   },
   {
    "duration": 4,
    "start_time": "2022-05-20T17:42:35.804Z"
   },
   {
    "duration": 11,
    "start_time": "2022-05-20T17:42:36.615Z"
   },
   {
    "duration": 6,
    "start_time": "2022-05-20T17:42:37.368Z"
   },
   {
    "duration": 11,
    "start_time": "2022-05-20T17:42:38.057Z"
   },
   {
    "duration": 12,
    "start_time": "2022-05-20T17:42:38.957Z"
   },
   {
    "duration": 4,
    "start_time": "2022-05-20T17:43:04.608Z"
   },
   {
    "duration": 18,
    "start_time": "2022-05-20T17:43:05.306Z"
   },
   {
    "duration": 20,
    "start_time": "2022-05-20T17:43:05.795Z"
   },
   {
    "duration": 8,
    "start_time": "2022-05-20T17:43:06.652Z"
   },
   {
    "duration": 7,
    "start_time": "2022-05-20T17:43:06.969Z"
   },
   {
    "duration": 10,
    "start_time": "2022-05-20T17:43:07.586Z"
   },
   {
    "duration": 13,
    "start_time": "2022-05-20T17:43:07.778Z"
   },
   {
    "duration": 44,
    "start_time": "2022-05-20T17:43:07.969Z"
   },
   {
    "duration": 8,
    "start_time": "2022-05-20T17:43:08.171Z"
   },
   {
    "duration": 46,
    "start_time": "2022-05-20T17:43:08.418Z"
   },
   {
    "duration": 45,
    "start_time": "2022-05-20T17:43:08.655Z"
   },
   {
    "duration": 13,
    "start_time": "2022-05-20T17:43:09.150Z"
   },
   {
    "duration": 2216,
    "start_time": "2022-05-20T17:43:10.794Z"
   },
   {
    "duration": 1623,
    "start_time": "2022-05-20T17:43:13.012Z"
   },
   {
    "duration": 1070,
    "start_time": "2022-05-20T17:43:27.094Z"
   },
   {
    "duration": 9,
    "start_time": "2022-05-20T17:43:37.876Z"
   },
   {
    "duration": 8,
    "start_time": "2022-05-20T17:43:38.674Z"
   },
   {
    "duration": 10,
    "start_time": "2022-05-20T17:43:39.356Z"
   },
   {
    "duration": 11,
    "start_time": "2022-05-20T17:47:45.398Z"
   },
   {
    "duration": 11,
    "start_time": "2022-05-20T17:54:23.879Z"
   },
   {
    "duration": 10,
    "start_time": "2022-05-20T17:55:09.659Z"
   },
   {
    "duration": 12,
    "start_time": "2022-05-20T17:57:23.109Z"
   },
   {
    "duration": 11,
    "start_time": "2022-05-20T17:59:37.877Z"
   },
   {
    "duration": 14,
    "start_time": "2022-05-20T17:59:46.617Z"
   },
   {
    "duration": 2179,
    "start_time": "2022-05-20T18:06:49.713Z"
   },
   {
    "duration": 1078,
    "start_time": "2022-05-20T18:09:14.203Z"
   },
   {
    "duration": 2396,
    "start_time": "2022-05-20T18:09:37.131Z"
   },
   {
    "duration": 1897,
    "start_time": "2022-05-20T18:09:52.838Z"
   },
   {
    "duration": 1968,
    "start_time": "2022-05-20T18:10:09.085Z"
   },
   {
    "duration": 2785,
    "start_time": "2022-05-20T18:13:00.983Z"
   },
   {
    "duration": 2578,
    "start_time": "2022-05-20T18:13:40.710Z"
   },
   {
    "duration": 2342,
    "start_time": "2022-05-20T18:16:04.867Z"
   },
   {
    "duration": 2598,
    "start_time": "2022-05-20T18:16:50.250Z"
   },
   {
    "duration": 159,
    "start_time": "2022-05-20T18:17:26.503Z"
   },
   {
    "duration": 1446,
    "start_time": "2022-05-20T18:17:39.663Z"
   },
   {
    "duration": 30,
    "start_time": "2022-05-20T18:19:13.993Z"
   },
   {
    "duration": 1033,
    "start_time": "2022-05-20T18:19:20.189Z"
   },
   {
    "duration": 1828,
    "start_time": "2022-05-20T18:19:41.115Z"
   },
   {
    "duration": 1489,
    "start_time": "2022-05-20T18:19:55.909Z"
   },
   {
    "duration": 2682,
    "start_time": "2022-05-20T18:21:41.761Z"
   },
   {
    "duration": 1917,
    "start_time": "2022-05-20T18:22:03.655Z"
   },
   {
    "duration": 1561,
    "start_time": "2022-05-20T18:24:21.962Z"
   },
   {
    "duration": 1717,
    "start_time": "2022-05-20T18:25:27.223Z"
   },
   {
    "duration": 1413,
    "start_time": "2022-05-20T18:25:36.559Z"
   },
   {
    "duration": 1671,
    "start_time": "2022-05-20T18:25:47.698Z"
   },
   {
    "duration": 20,
    "start_time": "2022-05-20T18:26:33.102Z"
   },
   {
    "duration": 3460,
    "start_time": "2022-05-20T18:29:58.198Z"
   },
   {
    "duration": 45,
    "start_time": "2022-05-20T18:37:02.670Z"
   },
   {
    "duration": 19,
    "start_time": "2022-05-20T18:42:41.206Z"
   },
   {
    "duration": 358,
    "start_time": "2022-05-20T18:43:06.804Z"
   },
   {
    "duration": 12,
    "start_time": "2022-05-20T18:43:15.947Z"
   },
   {
    "duration": 12,
    "start_time": "2022-05-20T18:44:08.075Z"
   },
   {
    "duration": 12,
    "start_time": "2022-05-20T18:45:48.117Z"
   },
   {
    "duration": 5,
    "start_time": "2022-05-20T18:46:09.273Z"
   },
   {
    "duration": 9,
    "start_time": "2022-05-20T18:46:09.280Z"
   },
   {
    "duration": 32,
    "start_time": "2022-05-20T18:46:09.291Z"
   },
   {
    "duration": 3,
    "start_time": "2022-05-20T18:46:09.325Z"
   },
   {
    "duration": 16,
    "start_time": "2022-05-20T18:46:09.330Z"
   },
   {
    "duration": 4,
    "start_time": "2022-05-20T18:46:09.348Z"
   },
   {
    "duration": 32,
    "start_time": "2022-05-20T18:46:09.353Z"
   },
   {
    "duration": 19,
    "start_time": "2022-05-20T18:46:09.387Z"
   },
   {
    "duration": 12,
    "start_time": "2022-05-20T18:46:09.408Z"
   },
   {
    "duration": 7,
    "start_time": "2022-05-20T18:46:09.423Z"
   },
   {
    "duration": 24,
    "start_time": "2022-05-20T18:46:09.432Z"
   },
   {
    "duration": 20,
    "start_time": "2022-05-20T18:46:09.459Z"
   },
   {
    "duration": 69,
    "start_time": "2022-05-20T18:46:09.481Z"
   },
   {
    "duration": 9,
    "start_time": "2022-05-20T18:46:09.552Z"
   },
   {
    "duration": 47,
    "start_time": "2022-05-20T18:46:09.562Z"
   },
   {
    "duration": 65,
    "start_time": "2022-05-20T18:46:09.611Z"
   },
   {
    "duration": 12,
    "start_time": "2022-05-20T18:46:09.678Z"
   },
   {
    "duration": 2244,
    "start_time": "2022-05-20T18:46:09.692Z"
   },
   {
    "duration": 908,
    "start_time": "2022-05-20T18:46:11.938Z"
   },
   {
    "duration": 12,
    "start_time": "2022-05-20T18:46:12.848Z"
   },
   {
    "duration": 15,
    "start_time": "2022-05-20T18:46:12.862Z"
   },
   {
    "duration": 9,
    "start_time": "2022-05-20T18:46:12.880Z"
   },
   {
    "duration": 1413,
    "start_time": "2022-05-20T18:46:12.891Z"
   },
   {
    "duration": 29,
    "start_time": "2022-05-20T18:46:14.306Z"
   },
   {
    "duration": 12,
    "start_time": "2022-05-20T18:46:14.337Z"
   },
   {
    "duration": 33,
    "start_time": "2022-05-20T18:46:14.351Z"
   },
   {
    "duration": 23,
    "start_time": "2022-05-20T18:46:14.389Z"
   },
   {
    "duration": 14,
    "start_time": "2022-05-20T18:46:14.417Z"
   },
   {
    "duration": 31,
    "start_time": "2022-05-20T18:46:14.433Z"
   },
   {
    "duration": 76,
    "start_time": "2022-05-20T18:46:14.467Z"
   },
   {
    "duration": 85,
    "start_time": "2022-05-20T18:46:14.545Z"
   },
   {
    "duration": 102,
    "start_time": "2022-05-20T18:46:14.633Z"
   },
   {
    "duration": 86,
    "start_time": "2022-05-20T18:46:14.741Z"
   },
   {
    "duration": 5,
    "start_time": "2022-05-20T18:46:14.829Z"
   },
   {
    "duration": 429,
    "start_time": "2022-05-20T18:46:14.836Z"
   },
   {
    "duration": 73,
    "start_time": "2022-05-20T18:46:15.266Z"
   },
   {
    "duration": 12,
    "start_time": "2022-05-20T18:46:15.342Z"
   },
   {
    "duration": 595,
    "start_time": "2022-05-20T18:46:15.356Z"
   },
   {
    "duration": 111999,
    "start_time": "2022-05-20T18:46:15.953Z"
   },
   {
    "duration": 1774,
    "start_time": "2022-05-20T18:48:07.953Z"
   },
   {
    "duration": 11,
    "start_time": "2022-05-20T18:48:09.729Z"
   },
   {
    "duration": 13,
    "start_time": "2022-05-20T18:48:09.827Z"
   },
   {
    "duration": 19,
    "start_time": "2022-05-20T18:48:09.842Z"
   },
   {
    "duration": 1333,
    "start_time": "2022-05-20T18:48:09.862Z"
   },
   {
    "duration": 1053,
    "start_time": "2022-05-20T18:48:12.325Z"
   },
   {
    "duration": 13,
    "start_time": "2022-05-20T18:48:13.380Z"
   },
   {
    "duration": 12,
    "start_time": "2022-05-20T19:24:47.400Z"
   },
   {
    "duration": 14,
    "start_time": "2022-05-20T19:26:52.925Z"
   },
   {
    "duration": 11,
    "start_time": "2022-05-20T19:26:54.340Z"
   },
   {
    "duration": 61,
    "start_time": "2022-05-20T19:27:01.592Z"
   },
   {
    "duration": 12,
    "start_time": "2022-05-20T19:27:03.323Z"
   },
   {
    "duration": 47,
    "start_time": "2022-05-20T19:27:04.276Z"
   },
   {
    "duration": 47,
    "start_time": "2022-05-20T19:27:04.880Z"
   },
   {
    "duration": 46,
    "start_time": "2022-05-20T19:34:47.454Z"
   },
   {
    "duration": 52,
    "start_time": "2022-05-20T19:35:49.782Z"
   },
   {
    "duration": 1263,
    "start_time": "2022-05-20T19:53:10.857Z"
   },
   {
    "duration": 922,
    "start_time": "2022-05-20T19:54:54.201Z"
   },
   {
    "duration": 1518,
    "start_time": "2022-05-20T20:29:56.473Z"
   },
   {
    "duration": 5,
    "start_time": "2022-05-20T20:59:33.878Z"
   },
   {
    "duration": 9,
    "start_time": "2022-05-20T20:59:33.885Z"
   },
   {
    "duration": 33,
    "start_time": "2022-05-20T20:59:33.896Z"
   },
   {
    "duration": 3,
    "start_time": "2022-05-20T20:59:33.931Z"
   },
   {
    "duration": 16,
    "start_time": "2022-05-20T20:59:33.936Z"
   },
   {
    "duration": 8,
    "start_time": "2022-05-20T20:59:33.954Z"
   },
   {
    "duration": 17,
    "start_time": "2022-05-20T20:59:33.964Z"
   },
   {
    "duration": 12,
    "start_time": "2022-05-20T20:59:33.983Z"
   },
   {
    "duration": 31,
    "start_time": "2022-05-20T20:59:33.997Z"
   },
   {
    "duration": 6,
    "start_time": "2022-05-20T20:59:34.030Z"
   },
   {
    "duration": 13,
    "start_time": "2022-05-20T20:59:34.038Z"
   },
   {
    "duration": 16,
    "start_time": "2022-05-20T20:59:34.053Z"
   },
   {
    "duration": 72,
    "start_time": "2022-05-20T20:59:34.070Z"
   },
   {
    "duration": 9,
    "start_time": "2022-05-20T20:59:34.144Z"
   },
   {
    "duration": 47,
    "start_time": "2022-05-20T20:59:34.154Z"
   },
   {
    "duration": 65,
    "start_time": "2022-05-20T20:59:34.202Z"
   },
   {
    "duration": 12,
    "start_time": "2022-05-20T20:59:34.269Z"
   },
   {
    "duration": 2160,
    "start_time": "2022-05-20T20:59:34.283Z"
   },
   {
    "duration": 833,
    "start_time": "2022-05-20T20:59:36.445Z"
   },
   {
    "duration": 9,
    "start_time": "2022-05-20T20:59:37.280Z"
   },
   {
    "duration": 27,
    "start_time": "2022-05-20T20:59:37.290Z"
   },
   {
    "duration": 13,
    "start_time": "2022-05-20T20:59:37.318Z"
   },
   {
    "duration": 1478,
    "start_time": "2022-05-20T20:59:37.332Z"
   },
   {
    "duration": 15,
    "start_time": "2022-05-20T20:59:38.811Z"
   },
   {
    "duration": 17,
    "start_time": "2022-05-20T20:59:38.827Z"
   },
   {
    "duration": 5,
    "start_time": "2022-05-20T20:59:38.847Z"
   },
   {
    "duration": 9,
    "start_time": "2022-05-20T20:59:38.853Z"
   },
   {
    "duration": 11,
    "start_time": "2022-05-20T20:59:38.863Z"
   },
   {
    "duration": 251,
    "start_time": "2022-05-20T20:59:38.876Z"
   },
   {
    "duration": 7,
    "start_time": "2022-05-20T20:59:39.129Z"
   },
   {
    "duration": 105,
    "start_time": "2022-05-20T20:59:39.227Z"
   },
   {
    "duration": 6,
    "start_time": "2022-05-20T20:59:39.334Z"
   },
   {
    "duration": 3,
    "start_time": "2022-05-20T20:59:39.342Z"
   },
   {
    "duration": 306,
    "start_time": "2022-05-20T20:59:39.347Z"
   },
   {
    "duration": 62,
    "start_time": "2022-05-20T20:59:39.655Z"
   },
   {
    "duration": 13,
    "start_time": "2022-05-20T20:59:39.726Z"
   },
   {
    "duration": 607,
    "start_time": "2022-05-20T20:59:39.741Z"
   },
   {
    "duration": 108937,
    "start_time": "2022-05-20T20:59:40.349Z"
   },
   {
    "duration": 1243,
    "start_time": "2022-05-20T21:01:29.288Z"
   },
   {
    "duration": 6,
    "start_time": "2022-05-20T21:01:30.532Z"
   },
   {
    "duration": 39,
    "start_time": "2022-05-20T21:01:30.539Z"
   },
   {
    "duration": 47,
    "start_time": "2022-05-20T21:01:30.580Z"
   },
   {
    "duration": 1286,
    "start_time": "2022-05-20T21:01:30.630Z"
   },
   {
    "duration": 1095,
    "start_time": "2022-05-20T21:01:31.925Z"
   },
   {
    "duration": 11,
    "start_time": "2022-05-20T21:01:33.027Z"
   },
   {
    "duration": 2267,
    "start_time": "2022-05-20T21:01:33.380Z"
   },
   {
    "duration": 965,
    "start_time": "2022-05-20T21:01:39.451Z"
   },
   {
    "duration": 16,
    "start_time": "2022-05-20T21:01:40.418Z"
   },
   {
    "duration": 9,
    "start_time": "2022-05-20T21:01:41.248Z"
   },
   {
    "duration": 14,
    "start_time": "2022-05-20T21:01:42.451Z"
   },
   {
    "duration": 1502,
    "start_time": "2022-05-20T21:01:56.291Z"
   },
   {
    "duration": 5,
    "start_time": "2022-05-20T21:02:03.443Z"
   },
   {
    "duration": 16,
    "start_time": "2022-05-20T21:02:04.151Z"
   },
   {
    "duration": 5,
    "start_time": "2022-05-20T21:02:08.534Z"
   },
   {
    "duration": 6,
    "start_time": "2022-05-20T21:02:10.048Z"
   },
   {
    "duration": 13,
    "start_time": "2022-05-20T21:02:10.840Z"
   },
   {
    "duration": 87,
    "start_time": "2022-05-20T21:02:11.444Z"
   },
   {
    "duration": 106,
    "start_time": "2022-05-20T21:02:11.640Z"
   },
   {
    "duration": 9,
    "start_time": "2022-05-20T21:02:12.024Z"
   },
   {
    "duration": 6,
    "start_time": "2022-05-20T21:02:12.434Z"
   },
   {
    "duration": 2,
    "start_time": "2022-05-20T21:02:12.832Z"
   },
   {
    "duration": 295,
    "start_time": "2022-05-20T21:02:13.028Z"
   },
   {
    "duration": 65,
    "start_time": "2022-05-20T21:02:13.327Z"
   },
   {
    "duration": 12,
    "start_time": "2022-05-20T21:02:13.602Z"
   },
   {
    "duration": 596,
    "start_time": "2022-05-20T21:02:14.571Z"
   },
   {
    "duration": 57,
    "start_time": "2022-05-21T14:12:00.339Z"
   },
   {
    "duration": 1509,
    "start_time": "2022-05-21T14:12:16.141Z"
   },
   {
    "duration": 3,
    "start_time": "2022-05-21T14:12:17.652Z"
   },
   {
    "duration": 66,
    "start_time": "2022-05-21T14:12:17.656Z"
   },
   {
    "duration": 3,
    "start_time": "2022-05-21T14:12:17.724Z"
   },
   {
    "duration": 19,
    "start_time": "2022-05-21T14:12:17.729Z"
   },
   {
    "duration": 3,
    "start_time": "2022-05-21T14:12:17.750Z"
   },
   {
    "duration": 21,
    "start_time": "2022-05-21T14:12:17.754Z"
   },
   {
    "duration": 11,
    "start_time": "2022-05-21T14:12:17.777Z"
   },
   {
    "duration": 18,
    "start_time": "2022-05-21T14:12:17.789Z"
   },
   {
    "duration": 7,
    "start_time": "2022-05-21T14:12:17.809Z"
   },
   {
    "duration": 14,
    "start_time": "2022-05-21T14:12:17.817Z"
   },
   {
    "duration": 19,
    "start_time": "2022-05-21T14:12:17.833Z"
   },
   {
    "duration": 47,
    "start_time": "2022-05-21T14:12:17.854Z"
   },
   {
    "duration": 9,
    "start_time": "2022-05-21T14:12:17.904Z"
   },
   {
    "duration": 75,
    "start_time": "2022-05-21T14:12:17.914Z"
   },
   {
    "duration": 64,
    "start_time": "2022-05-21T14:12:17.991Z"
   },
   {
    "duration": 11,
    "start_time": "2022-05-21T14:12:18.057Z"
   },
   {
    "duration": 2204,
    "start_time": "2022-05-21T14:12:18.070Z"
   },
   {
    "duration": 984,
    "start_time": "2022-05-21T14:12:20.276Z"
   },
   {
    "duration": 9,
    "start_time": "2022-05-21T14:12:21.262Z"
   },
   {
    "duration": 21,
    "start_time": "2022-05-21T14:12:21.272Z"
   },
   {
    "duration": 14,
    "start_time": "2022-05-21T14:12:21.294Z"
   },
   {
    "duration": 1574,
    "start_time": "2022-05-21T14:12:21.310Z"
   },
   {
    "duration": 5,
    "start_time": "2022-05-21T14:12:22.885Z"
   },
   {
    "duration": 14,
    "start_time": "2022-05-21T14:12:22.891Z"
   },
   {
    "duration": 8,
    "start_time": "2022-05-21T14:12:22.907Z"
   },
   {
    "duration": 10,
    "start_time": "2022-05-21T14:12:22.917Z"
   },
   {
    "duration": 12,
    "start_time": "2022-05-21T14:12:22.929Z"
   },
   {
    "duration": 1010,
    "start_time": "2022-05-21T14:12:22.943Z"
   },
   {
    "duration": 8,
    "start_time": "2022-05-21T14:12:23.955Z"
   },
   {
    "duration": 202,
    "start_time": "2022-05-21T14:12:23.965Z"
   },
   {
    "duration": 7,
    "start_time": "2022-05-21T14:12:24.169Z"
   },
   {
    "duration": 6,
    "start_time": "2022-05-21T14:12:24.177Z"
   },
   {
    "duration": 355,
    "start_time": "2022-05-21T14:12:24.185Z"
   },
   {
    "duration": 69,
    "start_time": "2022-05-21T14:12:24.541Z"
   },
   {
    "duration": 13,
    "start_time": "2022-05-21T14:12:24.611Z"
   },
   {
    "duration": 656,
    "start_time": "2022-05-21T14:12:24.625Z"
   },
   {
    "duration": 114488,
    "start_time": "2022-05-21T14:12:25.284Z"
   },
   {
    "duration": 786,
    "start_time": "2022-05-21T14:14:19.776Z"
   },
   {
    "duration": 92,
    "start_time": "2022-05-21T14:14:20.563Z"
   },
   {
    "duration": 12,
    "start_time": "2022-05-21T14:14:20.657Z"
   },
   {
    "duration": 1252,
    "start_time": "2022-05-21T14:14:40.099Z"
   },
   {
    "duration": 6,
    "start_time": "2022-05-21T14:14:47.699Z"
   },
   {
    "duration": 26,
    "start_time": "2022-05-21T14:16:38.159Z"
   },
   {
    "duration": 25,
    "start_time": "2022-05-21T14:17:25.493Z"
   },
   {
    "duration": 991,
    "start_time": "2022-05-21T14:18:31.666Z"
   },
   {
    "duration": 6,
    "start_time": "2022-05-21T14:19:10.912Z"
   },
   {
    "duration": 10,
    "start_time": "2022-05-21T14:19:11.804Z"
   },
   {
    "duration": 14,
    "start_time": "2022-05-21T14:19:13.084Z"
   },
   {
    "duration": 1381,
    "start_time": "2022-05-21T14:19:14.509Z"
   },
   {
    "duration": 1326,
    "start_time": "2022-05-21T14:19:16.251Z"
   }
  ],
  "kernelspec": {
   "display_name": "Python 3 (ipykernel)",
   "language": "python",
   "name": "python3"
  },
  "language_info": {
   "codemirror_mode": {
    "name": "ipython",
    "version": 3
   },
   "file_extension": ".py",
   "mimetype": "text/x-python",
   "name": "python",
   "nbconvert_exporter": "python",
   "pygments_lexer": "ipython3",
   "version": "3.9.7"
  },
  "toc": {
   "base_numbering": 1,
   "nav_menu": {},
   "number_sections": true,
   "sideBar": true,
   "skip_h1_title": true,
   "title_cell": "Table of Contents",
   "title_sidebar": "Contents",
   "toc_cell": false,
   "toc_position": {},
   "toc_section_display": true,
   "toc_window_display": false
  }
 },
 "nbformat": 4,
 "nbformat_minor": 4
}
