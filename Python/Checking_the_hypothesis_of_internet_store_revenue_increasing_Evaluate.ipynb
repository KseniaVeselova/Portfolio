{
 "cells": [
  {
   "cell_type": "markdown",
   "metadata": {},
   "source": [
    "# Checking the hypothesis of internet store revenue increasing. Evaluate the A/B test results"
   ]
  },
  {
   "cell_type": "markdown",
   "metadata": {},
   "source": [
    "**together with internet store marketing team, we have prepared a hipothesis list for increase in revenue.**\n",
    "\n",
    "**We need to prioritize hipothesis according RICE and ICE, run A/B-test and analyze result. But before that, it is necessary to check and preprocess the data and research anomalies.**"
   ]
  },
  {
   "cell_type": "markdown",
   "metadata": {},
   "source": [
    "## Hypothesis Prioritization"
   ]
  },
  {
   "cell_type": "markdown",
   "metadata": {},
   "source": [
    "There are 9 Hypothesis about a revenue increase online store with following parameters in the file /datasets/hypothesis.csv : Reach, Impact, Confidence, Effort."
   ]
  },
  {
   "cell_type": "markdown",
   "metadata": {},
   "source": [
    "We are loading libraries."
   ]
  },
  {
   "cell_type": "code",
   "execution_count": 1,
   "metadata": {},
   "outputs": [],
   "source": [
    "import numpy as np\n",
    "import pandas as pd\n",
    "import matplotlib.pyplot as plt\n",
    "import seaborn as sns\n",
    "from matplotlib import pyplot as plt\n",
    "from IPython.display import display\n",
    "\n",
    "import scipy.stats as stats\n",
    "import datetime as dt\n"
   ]
  },
  {
   "cell_type": "markdown",
   "metadata": {},
   "source": [
    "Getting Started with declaring variables"
   ]
  },
  {
   "cell_type": "code",
   "execution_count": 2,
   "metadata": {},
   "outputs": [],
   "source": [
    "hypothesis = pd.read_csv('/datasets/hypothesis.csv')\n",
    "orders = pd.read_csv('/datasets/orders.csv')\n",
    "visitors = pd.read_csv('/datasets/visitors.csv')"
   ]
  },
  {
   "cell_type": "markdown",
   "metadata": {},
   "source": [
    "### Explore the data"
   ]
  },
  {
   "cell_type": "markdown",
   "metadata": {},
   "source": [
    "**hypothesis table**"
   ]
  },
  {
   "cell_type": "code",
   "execution_count": 3,
   "metadata": {},
   "outputs": [
    {
     "data": {
      "text/html": [
       "<div>\n",
       "<style scoped>\n",
       "    .dataframe tbody tr th:only-of-type {\n",
       "        vertical-align: middle;\n",
       "    }\n",
       "\n",
       "    .dataframe tbody tr th {\n",
       "        vertical-align: top;\n",
       "    }\n",
       "\n",
       "    .dataframe thead th {\n",
       "        text-align: right;\n",
       "    }\n",
       "</style>\n",
       "<table border=\"1\" class=\"dataframe\">\n",
       "  <thead>\n",
       "    <tr style=\"text-align: right;\">\n",
       "      <th></th>\n",
       "      <th>Hypothesis</th>\n",
       "      <th>Reach</th>\n",
       "      <th>Impact</th>\n",
       "      <th>Confidence</th>\n",
       "      <th>Efforts</th>\n",
       "    </tr>\n",
       "  </thead>\n",
       "  <tbody>\n",
       "    <tr>\n",
       "      <th>0</th>\n",
       "      <td>Добавить два новых канала привлечения трафика, что позволит привлекать на 30% больше пользователей</td>\n",
       "      <td>3</td>\n",
       "      <td>10</td>\n",
       "      <td>8</td>\n",
       "      <td>6</td>\n",
       "    </tr>\n",
       "    <tr>\n",
       "      <th>1</th>\n",
       "      <td>Запустить собственную службу доставки, что сократит срок доставки заказов</td>\n",
       "      <td>2</td>\n",
       "      <td>5</td>\n",
       "      <td>4</td>\n",
       "      <td>10</td>\n",
       "    </tr>\n",
       "    <tr>\n",
       "      <th>2</th>\n",
       "      <td>Добавить блоки рекомендаций товаров на сайт интернет магазина, чтобы повысить конверсию и средний чек заказа</td>\n",
       "      <td>8</td>\n",
       "      <td>3</td>\n",
       "      <td>7</td>\n",
       "      <td>3</td>\n",
       "    </tr>\n",
       "    <tr>\n",
       "      <th>3</th>\n",
       "      <td>Изменить структура категорий, что увеличит конверсию, т.к. пользователи быстрее найдут нужный товар</td>\n",
       "      <td>8</td>\n",
       "      <td>3</td>\n",
       "      <td>3</td>\n",
       "      <td>8</td>\n",
       "    </tr>\n",
       "    <tr>\n",
       "      <th>4</th>\n",
       "      <td>Изменить цвет фона главной страницы, чтобы увеличить вовлеченность пользователей</td>\n",
       "      <td>3</td>\n",
       "      <td>1</td>\n",
       "      <td>1</td>\n",
       "      <td>1</td>\n",
       "    </tr>\n",
       "    <tr>\n",
       "      <th>5</th>\n",
       "      <td>Добавить страницу отзывов клиентов о магазине, что позволит увеличить количество заказов</td>\n",
       "      <td>3</td>\n",
       "      <td>2</td>\n",
       "      <td>2</td>\n",
       "      <td>3</td>\n",
       "    </tr>\n",
       "    <tr>\n",
       "      <th>6</th>\n",
       "      <td>Показать на главной странице баннеры с актуальными акциями и распродажами, чтобы увеличить конверсию</td>\n",
       "      <td>5</td>\n",
       "      <td>3</td>\n",
       "      <td>8</td>\n",
       "      <td>3</td>\n",
       "    </tr>\n",
       "    <tr>\n",
       "      <th>7</th>\n",
       "      <td>Добавить форму подписки на все основные страницы, чтобы собрать базу клиентов для email-рассылок</td>\n",
       "      <td>10</td>\n",
       "      <td>7</td>\n",
       "      <td>8</td>\n",
       "      <td>5</td>\n",
       "    </tr>\n",
       "    <tr>\n",
       "      <th>8</th>\n",
       "      <td>Запустить акцию, дающую скидку на товар в день рождения</td>\n",
       "      <td>1</td>\n",
       "      <td>9</td>\n",
       "      <td>9</td>\n",
       "      <td>5</td>\n",
       "    </tr>\n",
       "  </tbody>\n",
       "</table>\n",
       "</div>"
      ],
      "text/plain": [
       "                                                                                                     Hypothesis  \\\n",
       "0            Добавить два новых канала привлечения трафика, что позволит привлекать на 30% больше пользователей   \n",
       "1                                     Запустить собственную службу доставки, что сократит срок доставки заказов   \n",
       "2  Добавить блоки рекомендаций товаров на сайт интернет магазина, чтобы повысить конверсию и средний чек заказа   \n",
       "3           Изменить структура категорий, что увеличит конверсию, т.к. пользователи быстрее найдут нужный товар   \n",
       "4                              Изменить цвет фона главной страницы, чтобы увеличить вовлеченность пользователей   \n",
       "5                      Добавить страницу отзывов клиентов о магазине, что позволит увеличить количество заказов   \n",
       "6          Показать на главной странице баннеры с актуальными акциями и распродажами, чтобы увеличить конверсию   \n",
       "7              Добавить форму подписки на все основные страницы, чтобы собрать базу клиентов для email-рассылок   \n",
       "8                                                       Запустить акцию, дающую скидку на товар в день рождения   \n",
       "\n",
       "   Reach  Impact  Confidence  Efforts  \n",
       "0      3      10           8        6  \n",
       "1      2       5           4       10  \n",
       "2      8       3           7        3  \n",
       "3      8       3           3        8  \n",
       "4      3       1           1        1  \n",
       "5      3       2           2        3  \n",
       "6      5       3           8        3  \n",
       "7     10       7           8        5  \n",
       "8      1       9           9        5  "
      ]
     },
     "metadata": {},
     "output_type": "display_data"
    }
   ],
   "source": [
    "pd.options.display.max_colwidth =120\n",
    "display(hypothesis.head(10))"
   ]
  },
  {
   "cell_type": "code",
   "execution_count": 4,
   "metadata": {
    "scrolled": true
   },
   "outputs": [
    {
     "name": "stdout",
     "output_type": "stream",
     "text": [
      "<class 'pandas.core.frame.DataFrame'>\n",
      "RangeIndex: 9 entries, 0 to 8\n",
      "Data columns (total 5 columns):\n",
      " #   Column      Non-Null Count  Dtype \n",
      "---  ------      --------------  ----- \n",
      " 0   Hypothesis  9 non-null      object\n",
      " 1   Reach       9 non-null      int64 \n",
      " 2   Impact      9 non-null      int64 \n",
      " 3   Confidence  9 non-null      int64 \n",
      " 4   Efforts     9 non-null      int64 \n",
      "dtypes: int64(4), object(1)\n",
      "memory usage: 488.0+ bytes\n"
     ]
    }
   ],
   "source": [
    "hypothesis.info()"
   ]
  },
  {
   "cell_type": "code",
   "execution_count": 5,
   "metadata": {},
   "outputs": [
    {
     "name": "stdout",
     "output_type": "stream",
     "text": [
      "Number of duplicates in hypothesis = 0\n"
     ]
    }
   ],
   "source": [
    "print(\"Number of duplicates in hypothesis =\", hypothesis.duplicated().sum())"
   ]
  },
  {
   "cell_type": "markdown",
   "metadata": {},
   "source": [
    "**Table orders**"
   ]
  },
  {
   "cell_type": "code",
   "execution_count": 6,
   "metadata": {
    "scrolled": true
   },
   "outputs": [
    {
     "data": {
      "text/html": [
       "<div>\n",
       "<style scoped>\n",
       "    .dataframe tbody tr th:only-of-type {\n",
       "        vertical-align: middle;\n",
       "    }\n",
       "\n",
       "    .dataframe tbody tr th {\n",
       "        vertical-align: top;\n",
       "    }\n",
       "\n",
       "    .dataframe thead th {\n",
       "        text-align: right;\n",
       "    }\n",
       "</style>\n",
       "<table border=\"1\" class=\"dataframe\">\n",
       "  <thead>\n",
       "    <tr style=\"text-align: right;\">\n",
       "      <th></th>\n",
       "      <th>transactionId</th>\n",
       "      <th>visitorId</th>\n",
       "      <th>date</th>\n",
       "      <th>revenue</th>\n",
       "      <th>group</th>\n",
       "    </tr>\n",
       "  </thead>\n",
       "  <tbody>\n",
       "    <tr>\n",
       "      <th>0</th>\n",
       "      <td>3667963787</td>\n",
       "      <td>3312258926</td>\n",
       "      <td>2019-08-15</td>\n",
       "      <td>1650</td>\n",
       "      <td>B</td>\n",
       "    </tr>\n",
       "    <tr>\n",
       "      <th>1</th>\n",
       "      <td>2804400009</td>\n",
       "      <td>3642806036</td>\n",
       "      <td>2019-08-15</td>\n",
       "      <td>730</td>\n",
       "      <td>B</td>\n",
       "    </tr>\n",
       "    <tr>\n",
       "      <th>2</th>\n",
       "      <td>2961555356</td>\n",
       "      <td>4069496402</td>\n",
       "      <td>2019-08-15</td>\n",
       "      <td>400</td>\n",
       "      <td>A</td>\n",
       "    </tr>\n",
       "    <tr>\n",
       "      <th>3</th>\n",
       "      <td>3797467345</td>\n",
       "      <td>1196621759</td>\n",
       "      <td>2019-08-15</td>\n",
       "      <td>9759</td>\n",
       "      <td>B</td>\n",
       "    </tr>\n",
       "    <tr>\n",
       "      <th>4</th>\n",
       "      <td>2282983706</td>\n",
       "      <td>2322279887</td>\n",
       "      <td>2019-08-15</td>\n",
       "      <td>2308</td>\n",
       "      <td>B</td>\n",
       "    </tr>\n",
       "    <tr>\n",
       "      <th>5</th>\n",
       "      <td>182168103</td>\n",
       "      <td>935554773</td>\n",
       "      <td>2019-08-15</td>\n",
       "      <td>2210</td>\n",
       "      <td>B</td>\n",
       "    </tr>\n",
       "    <tr>\n",
       "      <th>6</th>\n",
       "      <td>398296753</td>\n",
       "      <td>2900797465</td>\n",
       "      <td>2019-08-15</td>\n",
       "      <td>1860</td>\n",
       "      <td>B</td>\n",
       "    </tr>\n",
       "    <tr>\n",
       "      <th>7</th>\n",
       "      <td>2626614568</td>\n",
       "      <td>78758296</td>\n",
       "      <td>2019-08-15</td>\n",
       "      <td>1044</td>\n",
       "      <td>A</td>\n",
       "    </tr>\n",
       "    <tr>\n",
       "      <th>8</th>\n",
       "      <td>1576988021</td>\n",
       "      <td>295230930</td>\n",
       "      <td>2019-08-15</td>\n",
       "      <td>13710</td>\n",
       "      <td>A</td>\n",
       "    </tr>\n",
       "    <tr>\n",
       "      <th>9</th>\n",
       "      <td>1506739906</td>\n",
       "      <td>1882260405</td>\n",
       "      <td>2019-08-15</td>\n",
       "      <td>1855</td>\n",
       "      <td>B</td>\n",
       "    </tr>\n",
       "  </tbody>\n",
       "</table>\n",
       "</div>"
      ],
      "text/plain": [
       "   transactionId   visitorId        date  revenue group\n",
       "0     3667963787  3312258926  2019-08-15     1650     B\n",
       "1     2804400009  3642806036  2019-08-15      730     B\n",
       "2     2961555356  4069496402  2019-08-15      400     A\n",
       "3     3797467345  1196621759  2019-08-15     9759     B\n",
       "4     2282983706  2322279887  2019-08-15     2308     B\n",
       "5      182168103   935554773  2019-08-15     2210     B\n",
       "6      398296753  2900797465  2019-08-15     1860     B\n",
       "7     2626614568    78758296  2019-08-15     1044     A\n",
       "8     1576988021   295230930  2019-08-15    13710     A\n",
       "9     1506739906  1882260405  2019-08-15     1855     B"
      ]
     },
     "metadata": {},
     "output_type": "display_data"
    }
   ],
   "source": [
    "display(orders.head(10))"
   ]
  },
  {
   "cell_type": "code",
   "execution_count": 7,
   "metadata": {},
   "outputs": [
    {
     "name": "stdout",
     "output_type": "stream",
     "text": [
      "<class 'pandas.core.frame.DataFrame'>\n",
      "RangeIndex: 1197 entries, 0 to 1196\n",
      "Data columns (total 5 columns):\n",
      " #   Column         Non-Null Count  Dtype \n",
      "---  ------         --------------  ----- \n",
      " 0   transactionId  1197 non-null   int64 \n",
      " 1   visitorId      1197 non-null   int64 \n",
      " 2   date           1197 non-null   object\n",
      " 3   revenue        1197 non-null   int64 \n",
      " 4   group          1197 non-null   object\n",
      "dtypes: int64(3), object(2)\n",
      "memory usage: 46.9+ KB\n"
     ]
    }
   ],
   "source": [
    "orders.info()"
   ]
  },
  {
   "cell_type": "code",
   "execution_count": 8,
   "metadata": {},
   "outputs": [
    {
     "name": "stdout",
     "output_type": "stream",
     "text": [
      "Number of duplicates in orders = 0\n"
     ]
    }
   ],
   "source": [
    "print(\"Number of duplicates in orders =\",orders.duplicated().sum())"
   ]
  },
  {
   "cell_type": "code",
   "execution_count": 9,
   "metadata": {},
   "outputs": [],
   "source": [
    "orders['date'] = orders['date'].map(lambda x: dt.datetime.strptime(x, '%Y-%m-%d'))"
   ]
  },
  {
   "cell_type": "markdown",
   "metadata": {},
   "source": [
    "**Table visitors**"
   ]
  },
  {
   "cell_type": "code",
   "execution_count": 10,
   "metadata": {},
   "outputs": [
    {
     "data": {
      "text/html": [
       "<div>\n",
       "<style scoped>\n",
       "    .dataframe tbody tr th:only-of-type {\n",
       "        vertical-align: middle;\n",
       "    }\n",
       "\n",
       "    .dataframe tbody tr th {\n",
       "        vertical-align: top;\n",
       "    }\n",
       "\n",
       "    .dataframe thead th {\n",
       "        text-align: right;\n",
       "    }\n",
       "</style>\n",
       "<table border=\"1\" class=\"dataframe\">\n",
       "  <thead>\n",
       "    <tr style=\"text-align: right;\">\n",
       "      <th></th>\n",
       "      <th>date</th>\n",
       "      <th>group</th>\n",
       "      <th>visitors</th>\n",
       "    </tr>\n",
       "  </thead>\n",
       "  <tbody>\n",
       "    <tr>\n",
       "      <th>0</th>\n",
       "      <td>2019-08-01</td>\n",
       "      <td>A</td>\n",
       "      <td>719</td>\n",
       "    </tr>\n",
       "    <tr>\n",
       "      <th>1</th>\n",
       "      <td>2019-08-02</td>\n",
       "      <td>A</td>\n",
       "      <td>619</td>\n",
       "    </tr>\n",
       "    <tr>\n",
       "      <th>2</th>\n",
       "      <td>2019-08-03</td>\n",
       "      <td>A</td>\n",
       "      <td>507</td>\n",
       "    </tr>\n",
       "    <tr>\n",
       "      <th>3</th>\n",
       "      <td>2019-08-04</td>\n",
       "      <td>A</td>\n",
       "      <td>717</td>\n",
       "    </tr>\n",
       "    <tr>\n",
       "      <th>4</th>\n",
       "      <td>2019-08-05</td>\n",
       "      <td>A</td>\n",
       "      <td>756</td>\n",
       "    </tr>\n",
       "    <tr>\n",
       "      <th>5</th>\n",
       "      <td>2019-08-06</td>\n",
       "      <td>A</td>\n",
       "      <td>667</td>\n",
       "    </tr>\n",
       "    <tr>\n",
       "      <th>6</th>\n",
       "      <td>2019-08-07</td>\n",
       "      <td>A</td>\n",
       "      <td>644</td>\n",
       "    </tr>\n",
       "    <tr>\n",
       "      <th>7</th>\n",
       "      <td>2019-08-08</td>\n",
       "      <td>A</td>\n",
       "      <td>610</td>\n",
       "    </tr>\n",
       "    <tr>\n",
       "      <th>8</th>\n",
       "      <td>2019-08-09</td>\n",
       "      <td>A</td>\n",
       "      <td>617</td>\n",
       "    </tr>\n",
       "    <tr>\n",
       "      <th>9</th>\n",
       "      <td>2019-08-10</td>\n",
       "      <td>A</td>\n",
       "      <td>406</td>\n",
       "    </tr>\n",
       "  </tbody>\n",
       "</table>\n",
       "</div>"
      ],
      "text/plain": [
       "         date group  visitors\n",
       "0  2019-08-01     A       719\n",
       "1  2019-08-02     A       619\n",
       "2  2019-08-03     A       507\n",
       "3  2019-08-04     A       717\n",
       "4  2019-08-05     A       756\n",
       "5  2019-08-06     A       667\n",
       "6  2019-08-07     A       644\n",
       "7  2019-08-08     A       610\n",
       "8  2019-08-09     A       617\n",
       "9  2019-08-10     A       406"
      ]
     },
     "metadata": {},
     "output_type": "display_data"
    }
   ],
   "source": [
    "display(visitors.head(10))"
   ]
  },
  {
   "cell_type": "code",
   "execution_count": 11,
   "metadata": {},
   "outputs": [
    {
     "name": "stdout",
     "output_type": "stream",
     "text": [
      "<class 'pandas.core.frame.DataFrame'>\n",
      "RangeIndex: 62 entries, 0 to 61\n",
      "Data columns (total 3 columns):\n",
      " #   Column    Non-Null Count  Dtype \n",
      "---  ------    --------------  ----- \n",
      " 0   date      62 non-null     object\n",
      " 1   group     62 non-null     object\n",
      " 2   visitors  62 non-null     int64 \n",
      "dtypes: int64(1), object(2)\n",
      "memory usage: 1.6+ KB\n"
     ]
    }
   ],
   "source": [
    "visitors.info()"
   ]
  },
  {
   "cell_type": "code",
   "execution_count": 12,
   "metadata": {},
   "outputs": [],
   "source": [
    "visitors['date'] = visitors['date'].map(lambda x: dt.datetime.strptime(x, '%Y-%m-%d'))"
   ]
  },
  {
   "cell_type": "code",
   "execution_count": 13,
   "metadata": {
    "scrolled": true
   },
   "outputs": [
    {
     "name": "stdout",
     "output_type": "stream",
     "text": [
      "<class 'pandas.core.frame.DataFrame'>\n",
      "RangeIndex: 62 entries, 0 to 61\n",
      "Data columns (total 3 columns):\n",
      " #   Column    Non-Null Count  Dtype         \n",
      "---  ------    --------------  -----         \n",
      " 0   date      62 non-null     datetime64[ns]\n",
      " 1   group     62 non-null     object        \n",
      " 2   visitors  62 non-null     int64         \n",
      "dtypes: datetime64[ns](1), int64(1), object(1)\n",
      "memory usage: 1.6+ KB\n"
     ]
    }
   ],
   "source": [
    "visitors.info()"
   ]
  },
  {
   "cell_type": "code",
   "execution_count": 14,
   "metadata": {},
   "outputs": [
    {
     "name": "stderr",
     "output_type": "stream",
     "text": [
      "/tmp/ipykernel_178/511156166.py:1: FutureWarning: Treating datetime data as categorical rather than numeric in `.describe` is deprecated and will be removed in a future version of pandas. Specify `datetime_is_numeric=True` to silence this warning and adopt the future behavior now.\n",
      "  visitors['date'].describe()\n"
     ]
    },
    {
     "data": {
      "text/plain": [
       "count                      62\n",
       "unique                     31\n",
       "top       2019-08-27 00:00:00\n",
       "freq                        2\n",
       "first     2019-08-01 00:00:00\n",
       "last      2019-08-31 00:00:00\n",
       "Name: date, dtype: object"
      ]
     },
     "execution_count": 14,
     "metadata": {},
     "output_type": "execute_result"
    }
   ],
   "source": [
    "visitors['date'].describe()"
   ]
  },
  {
   "cell_type": "code",
   "execution_count": 15,
   "metadata": {
    "scrolled": false
   },
   "outputs": [
    {
     "name": "stdout",
     "output_type": "stream",
     "text": [
      "Number of duplicates in visitors = 0\n"
     ]
    }
   ],
   "source": [
    "print(\"Number of duplicates in visitors =\",visitors.duplicated().sum())"
   ]
  },
  {
   "cell_type": "markdown",
   "metadata": {},
   "source": [
    "Применим фреймворк ICE и RICE для приоритизации гипотез. "
   ]
  },
  {
   "cell_type": "markdown",
   "metadata": {},
   "source": [
    "We are going to use the ICE and RICE framework to prioritize hypotheses."
   ]
  },
  {
   "cell_type": "code",
   "execution_count": 16,
   "metadata": {},
   "outputs": [],
   "source": [
    "hypothesis['RICE'] = (hypothesis['Reach']  *hypothesis['Impact'] * hypothesis['Confidence']) / hypothesis['Efforts']"
   ]
  },
  {
   "cell_type": "code",
   "execution_count": 17,
   "metadata": {},
   "outputs": [],
   "source": [
    "hypothesis['ICE'] = hypothesis['Impact'] * hypothesis['Confidence'] / hypothesis['Efforts']"
   ]
  },
  {
   "cell_type": "markdown",
   "metadata": {},
   "source": [
    "Отсортируем их по убыванию приоритета"
   ]
  },
  {
   "cell_type": "markdown",
   "metadata": {},
   "source": [
    "Sort by descending priority"
   ]
  },
  {
   "cell_type": "code",
   "execution_count": 18,
   "metadata": {},
   "outputs": [
    {
     "data": {
      "text/html": [
       "<div>\n",
       "<style scoped>\n",
       "    .dataframe tbody tr th:only-of-type {\n",
       "        vertical-align: middle;\n",
       "    }\n",
       "\n",
       "    .dataframe tbody tr th {\n",
       "        vertical-align: top;\n",
       "    }\n",
       "\n",
       "    .dataframe thead th {\n",
       "        text-align: right;\n",
       "    }\n",
       "</style>\n",
       "<table border=\"1\" class=\"dataframe\">\n",
       "  <thead>\n",
       "    <tr style=\"text-align: right;\">\n",
       "      <th></th>\n",
       "      <th>ICE</th>\n",
       "      <th>Hypothesis</th>\n",
       "    </tr>\n",
       "  </thead>\n",
       "  <tbody>\n",
       "    <tr>\n",
       "      <th>8</th>\n",
       "      <td>16.200000</td>\n",
       "      <td>Запустить акцию, дающую скидку на товар в день рождения</td>\n",
       "    </tr>\n",
       "    <tr>\n",
       "      <th>0</th>\n",
       "      <td>13.333333</td>\n",
       "      <td>Добавить два новых канала привлечения трафика, что позволит привлекать на 30% больше пользователей</td>\n",
       "    </tr>\n",
       "    <tr>\n",
       "      <th>7</th>\n",
       "      <td>11.200000</td>\n",
       "      <td>Добавить форму подписки на все основные страницы, чтобы собрать базу клиентов для email-рассылок</td>\n",
       "    </tr>\n",
       "    <tr>\n",
       "      <th>6</th>\n",
       "      <td>8.000000</td>\n",
       "      <td>Показать на главной странице баннеры с актуальными акциями и распродажами, чтобы увеличить конверсию</td>\n",
       "    </tr>\n",
       "    <tr>\n",
       "      <th>2</th>\n",
       "      <td>7.000000</td>\n",
       "      <td>Добавить блоки рекомендаций товаров на сайт интернет магазина, чтобы повысить конверсию и средний чек заказа</td>\n",
       "    </tr>\n",
       "    <tr>\n",
       "      <th>1</th>\n",
       "      <td>2.000000</td>\n",
       "      <td>Запустить собственную службу доставки, что сократит срок доставки заказов</td>\n",
       "    </tr>\n",
       "    <tr>\n",
       "      <th>5</th>\n",
       "      <td>1.333333</td>\n",
       "      <td>Добавить страницу отзывов клиентов о магазине, что позволит увеличить количество заказов</td>\n",
       "    </tr>\n",
       "    <tr>\n",
       "      <th>3</th>\n",
       "      <td>1.125000</td>\n",
       "      <td>Изменить структура категорий, что увеличит конверсию, т.к. пользователи быстрее найдут нужный товар</td>\n",
       "    </tr>\n",
       "    <tr>\n",
       "      <th>4</th>\n",
       "      <td>1.000000</td>\n",
       "      <td>Изменить цвет фона главной страницы, чтобы увеличить вовлеченность пользователей</td>\n",
       "    </tr>\n",
       "  </tbody>\n",
       "</table>\n",
       "</div>"
      ],
      "text/plain": [
       "         ICE  \\\n",
       "8  16.200000   \n",
       "0  13.333333   \n",
       "7  11.200000   \n",
       "6   8.000000   \n",
       "2   7.000000   \n",
       "1   2.000000   \n",
       "5   1.333333   \n",
       "3   1.125000   \n",
       "4   1.000000   \n",
       "\n",
       "                                                                                                     Hypothesis  \n",
       "8                                                       Запустить акцию, дающую скидку на товар в день рождения  \n",
       "0            Добавить два новых канала привлечения трафика, что позволит привлекать на 30% больше пользователей  \n",
       "7              Добавить форму подписки на все основные страницы, чтобы собрать базу клиентов для email-рассылок  \n",
       "6          Показать на главной странице баннеры с актуальными акциями и распродажами, чтобы увеличить конверсию  \n",
       "2  Добавить блоки рекомендаций товаров на сайт интернет магазина, чтобы повысить конверсию и средний чек заказа  \n",
       "1                                     Запустить собственную службу доставки, что сократит срок доставки заказов  \n",
       "5                      Добавить страницу отзывов клиентов о магазине, что позволит увеличить количество заказов  \n",
       "3           Изменить структура категорий, что увеличит конверсию, т.к. пользователи быстрее найдут нужный товар  \n",
       "4                              Изменить цвет фона главной страницы, чтобы увеличить вовлеченность пользователей  "
      ]
     },
     "metadata": {},
     "output_type": "display_data"
    }
   ],
   "source": [
    "pd.options.display.max_colwidth =120\n",
    "display(hypothesis[['ICE', 'Hypothesis']].sort_values(by='ICE', ascending=False))"
   ]
  },
  {
   "cell_type": "code",
   "execution_count": 19,
   "metadata": {},
   "outputs": [
    {
     "data": {
      "text/html": [
       "<div>\n",
       "<style scoped>\n",
       "    .dataframe tbody tr th:only-of-type {\n",
       "        vertical-align: middle;\n",
       "    }\n",
       "\n",
       "    .dataframe tbody tr th {\n",
       "        vertical-align: top;\n",
       "    }\n",
       "\n",
       "    .dataframe thead th {\n",
       "        text-align: right;\n",
       "    }\n",
       "</style>\n",
       "<table border=\"1\" class=\"dataframe\">\n",
       "  <thead>\n",
       "    <tr style=\"text-align: right;\">\n",
       "      <th></th>\n",
       "      <th>RICE</th>\n",
       "      <th>Hypothesis</th>\n",
       "      <th>Reach</th>\n",
       "    </tr>\n",
       "  </thead>\n",
       "  <tbody>\n",
       "    <tr>\n",
       "      <th>7</th>\n",
       "      <td>112.0</td>\n",
       "      <td>Добавить форму подписки на все основные страницы, чтобы собрать базу клиентов для email-рассылок</td>\n",
       "      <td>10</td>\n",
       "    </tr>\n",
       "    <tr>\n",
       "      <th>2</th>\n",
       "      <td>56.0</td>\n",
       "      <td>Добавить блоки рекомендаций товаров на сайт интернет магазина, чтобы повысить конверсию и средний чек заказа</td>\n",
       "      <td>8</td>\n",
       "    </tr>\n",
       "    <tr>\n",
       "      <th>0</th>\n",
       "      <td>40.0</td>\n",
       "      <td>Добавить два новых канала привлечения трафика, что позволит привлекать на 30% больше пользователей</td>\n",
       "      <td>3</td>\n",
       "    </tr>\n",
       "    <tr>\n",
       "      <th>6</th>\n",
       "      <td>40.0</td>\n",
       "      <td>Показать на главной странице баннеры с актуальными акциями и распродажами, чтобы увеличить конверсию</td>\n",
       "      <td>5</td>\n",
       "    </tr>\n",
       "    <tr>\n",
       "      <th>8</th>\n",
       "      <td>16.2</td>\n",
       "      <td>Запустить акцию, дающую скидку на товар в день рождения</td>\n",
       "      <td>1</td>\n",
       "    </tr>\n",
       "    <tr>\n",
       "      <th>3</th>\n",
       "      <td>9.0</td>\n",
       "      <td>Изменить структура категорий, что увеличит конверсию, т.к. пользователи быстрее найдут нужный товар</td>\n",
       "      <td>8</td>\n",
       "    </tr>\n",
       "    <tr>\n",
       "      <th>1</th>\n",
       "      <td>4.0</td>\n",
       "      <td>Запустить собственную службу доставки, что сократит срок доставки заказов</td>\n",
       "      <td>2</td>\n",
       "    </tr>\n",
       "    <tr>\n",
       "      <th>5</th>\n",
       "      <td>4.0</td>\n",
       "      <td>Добавить страницу отзывов клиентов о магазине, что позволит увеличить количество заказов</td>\n",
       "      <td>3</td>\n",
       "    </tr>\n",
       "    <tr>\n",
       "      <th>4</th>\n",
       "      <td>3.0</td>\n",
       "      <td>Изменить цвет фона главной страницы, чтобы увеличить вовлеченность пользователей</td>\n",
       "      <td>3</td>\n",
       "    </tr>\n",
       "  </tbody>\n",
       "</table>\n",
       "</div>"
      ],
      "text/plain": [
       "    RICE  \\\n",
       "7  112.0   \n",
       "2   56.0   \n",
       "0   40.0   \n",
       "6   40.0   \n",
       "8   16.2   \n",
       "3    9.0   \n",
       "1    4.0   \n",
       "5    4.0   \n",
       "4    3.0   \n",
       "\n",
       "                                                                                                     Hypothesis  \\\n",
       "7              Добавить форму подписки на все основные страницы, чтобы собрать базу клиентов для email-рассылок   \n",
       "2  Добавить блоки рекомендаций товаров на сайт интернет магазина, чтобы повысить конверсию и средний чек заказа   \n",
       "0            Добавить два новых канала привлечения трафика, что позволит привлекать на 30% больше пользователей   \n",
       "6          Показать на главной странице баннеры с актуальными акциями и распродажами, чтобы увеличить конверсию   \n",
       "8                                                       Запустить акцию, дающую скидку на товар в день рождения   \n",
       "3           Изменить структура категорий, что увеличит конверсию, т.к. пользователи быстрее найдут нужный товар   \n",
       "1                                     Запустить собственную службу доставки, что сократит срок доставки заказов   \n",
       "5                      Добавить страницу отзывов клиентов о магазине, что позволит увеличить количество заказов   \n",
       "4                              Изменить цвет фона главной страницы, чтобы увеличить вовлеченность пользователей   \n",
       "\n",
       "   Reach  \n",
       "7     10  \n",
       "2      8  \n",
       "0      3  \n",
       "6      5  \n",
       "8      1  \n",
       "3      8  \n",
       "1      2  \n",
       "5      3  \n",
       "4      3  "
      ]
     },
     "execution_count": 19,
     "metadata": {},
     "output_type": "execute_result"
    }
   ],
   "source": [
    "pd.set_option('display.max_colwidth', 500)\n",
    "hypothesis[['RICE', 'Hypothesis', 'Reach']].sort_values(by='RICE', ascending=False)"
   ]
  },
  {
   "cell_type": "markdown",
   "metadata": {},
   "source": [
    "### Conclusion"
   ]
  },
  {
   "cell_type": "markdown",
   "metadata": {},
   "source": [
    "Изучили данные, проверили данные на дубликаты, заменили тип столбца \"date\" в таблицах orders и visitors на datetime.\n",
    "Рассчитали ICE и RICE. Выполнили приотизацию. \n",
    "    При расчете RICE приоритетность поменялась, так как параметр охвата Reach - важный параметр, который показывает скольких пользователей затронет изменение, которое вы хотите внести. При включении этого фактора в расчет, он вносит значительный вес.\n",
    "\n",
    "Не изменилась приоритетность у 4 и 6 гипотез. По RICE в приоритете гипотеза 7, далее 2. При расчете ICE - 8."
   ]
  },
  {
   "cell_type": "markdown",
   "metadata": {},
   "source": [
    "We have explored data and checked it for duplicates. For tables 'orders' and 'users' we have replaced all columns of type 'date' to 'datetime'. We have calculated 'ICE' and 'RICE', made prioritization. \n",
    "During the 'RICE' calculation the prioritization was changed, becase the coverege parameter 'Reach' - important parameter that shows how much users will be affected by the changes we want to make. If we take this factor in count during the calculation, it adds significant influence.\n",
    "\n",
    "The prioritization of 4 and 6 hypotheses has not changed. The hypothese 7 is in priority Accoriding to 'RICE', then hypothese 2. According to 'iICE' - 8."
   ]
  },
  {
   "cell_type": "markdown",
   "metadata": {},
   "source": [
    "## A/B test analysis"
   ]
  },
  {
   "cell_type": "code",
   "execution_count": 20,
   "metadata": {},
   "outputs": [],
   "source": [
    "#We are going to check contain of groups"
   ]
  },
  {
   "cell_type": "code",
   "execution_count": 21,
   "metadata": {},
   "outputs": [
    {
     "data": {
      "text/html": [
       "<div>\n",
       "<style scoped>\n",
       "    .dataframe tbody tr th:only-of-type {\n",
       "        vertical-align: middle;\n",
       "    }\n",
       "\n",
       "    .dataframe tbody tr th {\n",
       "        vertical-align: top;\n",
       "    }\n",
       "\n",
       "    .dataframe thead th {\n",
       "        text-align: right;\n",
       "    }\n",
       "</style>\n",
       "<table border=\"1\" class=\"dataframe\">\n",
       "  <thead>\n",
       "    <tr style=\"text-align: right;\">\n",
       "      <th></th>\n",
       "      <th>visitorId</th>\n",
       "      <th>group</th>\n",
       "      <th>count</th>\n",
       "    </tr>\n",
       "  </thead>\n",
       "  <tbody>\n",
       "    <tr>\n",
       "      <th>45</th>\n",
       "      <td>199603092</td>\n",
       "      <td>A</td>\n",
       "      <td>4</td>\n",
       "    </tr>\n",
       "    <tr>\n",
       "      <th>58</th>\n",
       "      <td>237748145</td>\n",
       "      <td>A</td>\n",
       "      <td>4</td>\n",
       "    </tr>\n",
       "    <tr>\n",
       "      <th>63</th>\n",
       "      <td>249864742</td>\n",
       "      <td>B</td>\n",
       "      <td>3</td>\n",
       "    </tr>\n",
       "    <tr>\n",
       "      <th>94</th>\n",
       "      <td>366673373</td>\n",
       "      <td>A</td>\n",
       "      <td>2</td>\n",
       "    </tr>\n",
       "    <tr>\n",
       "      <th>104</th>\n",
       "      <td>393266494</td>\n",
       "      <td>B</td>\n",
       "      <td>2</td>\n",
       "    </tr>\n",
       "    <tr>\n",
       "      <th>...</th>\n",
       "      <td>...</td>\n",
       "      <td>...</td>\n",
       "      <td>...</td>\n",
       "    </tr>\n",
       "    <tr>\n",
       "      <th>1045</th>\n",
       "      <td>4109358064</td>\n",
       "      <td>A</td>\n",
       "      <td>2</td>\n",
       "    </tr>\n",
       "    <tr>\n",
       "      <th>1050</th>\n",
       "      <td>4134830387</td>\n",
       "      <td>B</td>\n",
       "      <td>2</td>\n",
       "    </tr>\n",
       "    <tr>\n",
       "      <th>1065</th>\n",
       "      <td>4186807279</td>\n",
       "      <td>B</td>\n",
       "      <td>2</td>\n",
       "    </tr>\n",
       "    <tr>\n",
       "      <th>1079</th>\n",
       "      <td>4256040402</td>\n",
       "      <td>A</td>\n",
       "      <td>7</td>\n",
       "    </tr>\n",
       "    <tr>\n",
       "      <th>1080</th>\n",
       "      <td>4256040402</td>\n",
       "      <td>B</td>\n",
       "      <td>4</td>\n",
       "    </tr>\n",
       "  </tbody>\n",
       "</table>\n",
       "<p>64 rows × 3 columns</p>\n",
       "</div>"
      ],
      "text/plain": [
       "       visitorId group  count\n",
       "45     199603092     A      4\n",
       "58     237748145     A      4\n",
       "63     249864742     B      3\n",
       "94     366673373     A      2\n",
       "104    393266494     B      2\n",
       "...          ...   ...    ...\n",
       "1045  4109358064     A      2\n",
       "1050  4134830387     B      2\n",
       "1065  4186807279     B      2\n",
       "1079  4256040402     A      7\n",
       "1080  4256040402     B      4\n",
       "\n",
       "[64 rows x 3 columns]"
      ]
     },
     "execution_count": 21,
     "metadata": {},
     "output_type": "execute_result"
    }
   ],
   "source": [
    "user_set = orders.groupby(['visitorId', 'group']).size().reset_index()\n",
    "user_set.columns = ['visitorId', 'group', 'count']\n",
    "user_set = user_set.query('count > 1').sort_values(by='visitorId')\n",
    "user_set"
   ]
  },
  {
   "cell_type": "markdown",
   "metadata": {},
   "source": [
    "Обнаружили 64 пользователя, которые входят в обе группы. Удаляем их."
   ]
  },
  {
   "cell_type": "markdown",
   "metadata": {},
   "source": [
    "64 users, which were included in the both groups, were defined. We are going to delete it."
   ]
  },
  {
   "cell_type": "code",
   "execution_count": 22,
   "metadata": {},
   "outputs": [
    {
     "data": {
      "text/html": [
       "<div>\n",
       "<style scoped>\n",
       "    .dataframe tbody tr th:only-of-type {\n",
       "        vertical-align: middle;\n",
       "    }\n",
       "\n",
       "    .dataframe tbody tr th {\n",
       "        vertical-align: top;\n",
       "    }\n",
       "\n",
       "    .dataframe thead th {\n",
       "        text-align: right;\n",
       "    }\n",
       "</style>\n",
       "<table border=\"1\" class=\"dataframe\">\n",
       "  <thead>\n",
       "    <tr style=\"text-align: right;\">\n",
       "      <th></th>\n",
       "      <th>transactionId</th>\n",
       "      <th>visitorId</th>\n",
       "      <th>date</th>\n",
       "      <th>revenue</th>\n",
       "      <th>group</th>\n",
       "    </tr>\n",
       "  </thead>\n",
       "  <tbody>\n",
       "    <tr>\n",
       "      <th>0</th>\n",
       "      <td>3667963787</td>\n",
       "      <td>3312258926</td>\n",
       "      <td>2019-08-15</td>\n",
       "      <td>1650</td>\n",
       "      <td>B</td>\n",
       "    </tr>\n",
       "    <tr>\n",
       "      <th>1</th>\n",
       "      <td>2804400009</td>\n",
       "      <td>3642806036</td>\n",
       "      <td>2019-08-15</td>\n",
       "      <td>730</td>\n",
       "      <td>B</td>\n",
       "    </tr>\n",
       "    <tr>\n",
       "      <th>2</th>\n",
       "      <td>2961555356</td>\n",
       "      <td>4069496402</td>\n",
       "      <td>2019-08-15</td>\n",
       "      <td>400</td>\n",
       "      <td>A</td>\n",
       "    </tr>\n",
       "    <tr>\n",
       "      <th>3</th>\n",
       "      <td>3797467345</td>\n",
       "      <td>1196621759</td>\n",
       "      <td>2019-08-15</td>\n",
       "      <td>9759</td>\n",
       "      <td>B</td>\n",
       "    </tr>\n",
       "    <tr>\n",
       "      <th>4</th>\n",
       "      <td>2282983706</td>\n",
       "      <td>2322279887</td>\n",
       "      <td>2019-08-15</td>\n",
       "      <td>2308</td>\n",
       "      <td>B</td>\n",
       "    </tr>\n",
       "  </tbody>\n",
       "</table>\n",
       "</div>"
      ],
      "text/plain": [
       "   transactionId   visitorId       date  revenue group\n",
       "0     3667963787  3312258926 2019-08-15     1650     B\n",
       "1     2804400009  3642806036 2019-08-15      730     B\n",
       "2     2961555356  4069496402 2019-08-15      400     A\n",
       "3     3797467345  1196621759 2019-08-15     9759     B\n",
       "4     2282983706  2322279887 2019-08-15     2308     B"
      ]
     },
     "metadata": {},
     "output_type": "display_data"
    }
   ],
   "source": [
    "display(orders.head())"
   ]
  },
  {
   "cell_type": "code",
   "execution_count": 23,
   "metadata": {},
   "outputs": [
    {
     "data": {
      "text/html": [
       "<div>\n",
       "<style scoped>\n",
       "    .dataframe tbody tr th:only-of-type {\n",
       "        vertical-align: middle;\n",
       "    }\n",
       "\n",
       "    .dataframe tbody tr th {\n",
       "        vertical-align: top;\n",
       "    }\n",
       "\n",
       "    .dataframe thead th {\n",
       "        text-align: right;\n",
       "    }\n",
       "</style>\n",
       "<table border=\"1\" class=\"dataframe\">\n",
       "  <thead>\n",
       "    <tr style=\"text-align: right;\">\n",
       "      <th></th>\n",
       "      <th>transactionId</th>\n",
       "      <th>visitorId</th>\n",
       "      <th>date</th>\n",
       "      <th>revenue</th>\n",
       "      <th>group</th>\n",
       "    </tr>\n",
       "  </thead>\n",
       "  <tbody>\n",
       "    <tr>\n",
       "      <th>0</th>\n",
       "      <td>3667963787</td>\n",
       "      <td>3312258926</td>\n",
       "      <td>2019-08-15</td>\n",
       "      <td>1650</td>\n",
       "      <td>B</td>\n",
       "    </tr>\n",
       "    <tr>\n",
       "      <th>1</th>\n",
       "      <td>2804400009</td>\n",
       "      <td>3642806036</td>\n",
       "      <td>2019-08-15</td>\n",
       "      <td>730</td>\n",
       "      <td>B</td>\n",
       "    </tr>\n",
       "    <tr>\n",
       "      <th>2</th>\n",
       "      <td>2961555356</td>\n",
       "      <td>4069496402</td>\n",
       "      <td>2019-08-15</td>\n",
       "      <td>400</td>\n",
       "      <td>A</td>\n",
       "    </tr>\n",
       "    <tr>\n",
       "      <th>3</th>\n",
       "      <td>3797467345</td>\n",
       "      <td>1196621759</td>\n",
       "      <td>2019-08-15</td>\n",
       "      <td>9759</td>\n",
       "      <td>B</td>\n",
       "    </tr>\n",
       "    <tr>\n",
       "      <th>4</th>\n",
       "      <td>2282983706</td>\n",
       "      <td>2322279887</td>\n",
       "      <td>2019-08-15</td>\n",
       "      <td>2308</td>\n",
       "      <td>B</td>\n",
       "    </tr>\n",
       "  </tbody>\n",
       "</table>\n",
       "</div>"
      ],
      "text/plain": [
       "   transactionId   visitorId       date  revenue group\n",
       "0     3667963787  3312258926 2019-08-15     1650     B\n",
       "1     2804400009  3642806036 2019-08-15      730     B\n",
       "2     2961555356  4069496402 2019-08-15      400     A\n",
       "3     3797467345  1196621759 2019-08-15     9759     B\n",
       "4     2282983706  2322279887 2019-08-15     2308     B"
      ]
     },
     "execution_count": 23,
     "metadata": {},
     "output_type": "execute_result"
    }
   ],
   "source": [
    "orders = orders.drop(orders[orders['visitorId'].isin(user_set['visitorId'])].index)\n",
    "orders.head()"
   ]
  },
  {
   "cell_type": "markdown",
   "metadata": {},
   "source": [
    "#### Cumulative revenue "
   ]
  },
  {
   "cell_type": "markdown",
   "metadata": {},
   "source": [
    "We are calculating the average (median) revenue per day for each group."
   ]
  },
  {
   "cell_type": "code",
   "execution_count": 24,
   "metadata": {},
   "outputs": [
    {
     "data": {
      "text/plain": [
       "group\n",
       "A     92365\n",
       "B    115605\n",
       "Name: revenue, dtype: int64"
      ]
     },
     "execution_count": 24,
     "metadata": {},
     "output_type": "execute_result"
    }
   ],
   "source": [
    "orders.groupby(['date','group'])['revenue'].sum().groupby('group').median()"
   ]
  },
  {
   "cell_type": "markdown",
   "metadata": {},
   "source": [
    "We are plotting cumulative revenue graph by groups"
   ]
  },
  {
   "cell_type": "code",
   "execution_count": 25,
   "metadata": {},
   "outputs": [],
   "source": [
    "datesGroups = orders[['date','group']].drop_duplicates()"
   ]
  },
  {
   "cell_type": "code",
   "execution_count": 26,
   "metadata": {
    "scrolled": true
   },
   "outputs": [
    {
     "name": "stdout",
     "output_type": "stream",
     "text": [
      "        date group  orders  buyers  revenue  visitors\n",
      "0 2019-08-01     A      15      15    89858       719\n",
      "1 2019-08-01     B      19      19    78258       713\n",
      "2 2019-08-02     A      31      31   138561      1338\n",
      "3 2019-08-02     B      39      39   231931      1294\n",
      "4 2019-08-03     A      55      55   251034      1845\n"
     ]
    }
   ],
   "source": [
    "# получаем агрегированные кумулятивные по дням данные о заказах \n",
    "ordersAggregated = datesGroups.apply(lambda x: orders[np.logical_and(orders['date'] <= x['date'], orders['group'] == x['group'])].agg({'date' : 'max', 'group' : 'max', 'transactionId' : 'nunique', 'visitorId' : 'nunique', 'revenue' : 'sum'}), axis=1).sort_values(by=['date','group'])\n",
    "\n",
    "# получаем агрегированные кумулятивные по дням данные о посетителях интернет-магазина \n",
    "visitorsAggregated = datesGroups.apply(lambda x: visitors[np.logical_and(visitors['date'] <= x['date'], visitors['group'] == x['group'])].agg({'date' : 'max', 'group' : 'max', 'visitors' : 'sum'}), axis=1).sort_values(by=['date','group'])\n",
    "\n",
    "# объединяем кумулятивные данные в одной таблице и присваиваем ее столбцам понятные названия\n",
    "cumulativeData = ordersAggregated.merge(visitorsAggregated, left_on=['date', 'group'], right_on=['date', 'group'])\n",
    "cumulativeData.columns = ['date', 'group', 'orders', 'buyers', 'revenue', 'visitors']\n",
    "\n",
    "print(cumulativeData.head(5)) "
   ]
  },
  {
   "cell_type": "code",
   "execution_count": 27,
   "metadata": {},
   "outputs": [
    {
     "data": {
      "image/png": "[encoded data removed]",
      "text/plain": [
       "<Figure size 1200x400 with 1 Axes>"
      ]
     },
     "metadata": {},
     "output_type": "display_data"
    }
   ],
   "source": [
    "cumulativeRevenueA = cumulativeData[cumulativeData['group']=='A'][['date','revenue', 'orders']]\n",
    "cumulativeRevenueB = cumulativeData[cumulativeData['group']=='B'][['date','revenue', 'orders']]\n",
    "\n",
    "from pandas.plotting import register_matplotlib_converters\n",
    "register_matplotlib_converters()\n",
    "plt.style.use('classic')\n",
    "plt.figure(figsize=(15,5))\n",
    "plt.plot(cumulativeRevenueA['date'], cumulativeRevenueA['revenue'], label='cumulative revenue for group A')\n",
    "plt.plot(cumulativeRevenueB['date'], cumulativeRevenueB['revenue'], label='cumulative revenue for group  B')\n",
    "plt.grid()\n",
    "plt.legend();"
   ]
  },
  {
   "cell_type": "markdown",
   "metadata": {},
   "source": [
    "Выручка в группе B растет быстрее. Выручки обоих групп выравниваются 13 августа, и затем группа  А продолжает равномерно увеличиваться, а группа B имеет резкий скачок выручки на промежутке 2019-08-17 по 2019-08-21.\n",
    "Рассмотрим внимательнее этот промежуток времени."
   ]
  },
  {
   "cell_type": "markdown",
   "metadata": {},
   "source": [
    "Group B revenue is growing faster. Revenue of both groups levelled off at 13 August, and then group A revenue increased gradually. Group B revenue sharply increased between 2019-08-17 and 2019-08-21."
   ]
  },
  {
   "cell_type": "code",
   "execution_count": 28,
   "metadata": {},
   "outputs": [
    {
     "data": {
      "text/html": [
       "<div>\n",
       "<style scoped>\n",
       "    .dataframe tbody tr th:only-of-type {\n",
       "        vertical-align: middle;\n",
       "    }\n",
       "\n",
       "    .dataframe tbody tr th {\n",
       "        vertical-align: top;\n",
       "    }\n",
       "\n",
       "    .dataframe thead th {\n",
       "        text-align: right;\n",
       "    }\n",
       "</style>\n",
       "<table border=\"1\" class=\"dataframe\">\n",
       "  <thead>\n",
       "    <tr style=\"text-align: right;\">\n",
       "      <th></th>\n",
       "      <th>date</th>\n",
       "      <th>revenue</th>\n",
       "      <th>orders</th>\n",
       "    </tr>\n",
       "  </thead>\n",
       "  <tbody>\n",
       "    <tr>\n",
       "      <th>33</th>\n",
       "      <td>2019-08-17</td>\n",
       "      <td>2137833</td>\n",
       "      <td>319</td>\n",
       "    </tr>\n",
       "    <tr>\n",
       "      <th>35</th>\n",
       "      <td>2019-08-18</td>\n",
       "      <td>2192694</td>\n",
       "      <td>327</td>\n",
       "    </tr>\n",
       "    <tr>\n",
       "      <th>37</th>\n",
       "      <td>2019-08-19</td>\n",
       "      <td>3613644</td>\n",
       "      <td>345</td>\n",
       "    </tr>\n",
       "    <tr>\n",
       "      <th>39</th>\n",
       "      <td>2019-08-20</td>\n",
       "      <td>3753932</td>\n",
       "      <td>363</td>\n",
       "    </tr>\n",
       "    <tr>\n",
       "      <th>41</th>\n",
       "      <td>2019-08-21</td>\n",
       "      <td>3879301</td>\n",
       "      <td>373</td>\n",
       "    </tr>\n",
       "  </tbody>\n",
       "</table>\n",
       "</div>"
      ],
      "text/plain": [
       "         date  revenue  orders\n",
       "33 2019-08-17  2137833     319\n",
       "35 2019-08-18  2192694     327\n",
       "37 2019-08-19  3613644     345\n",
       "39 2019-08-20  3753932     363\n",
       "41 2019-08-21  3879301     373"
      ]
     },
     "execution_count": 28,
     "metadata": {},
     "output_type": "execute_result"
    }
   ],
   "source": [
    "cumulativeRevenueB.query(' \"2019-08-17\" <= date <= \"2019-08-21\" ')"
   ]
  },
  {
   "cell_type": "markdown",
   "metadata": {},
   "source": [
    "We can see that revenue has increased significantly at 19 August."
   ]
  },
  {
   "cell_type": "code",
   "execution_count": 29,
   "metadata": {},
   "outputs": [
    {
     "data": {
      "text/html": [
       "<div>\n",
       "<style scoped>\n",
       "    .dataframe tbody tr th:only-of-type {\n",
       "        vertical-align: middle;\n",
       "    }\n",
       "\n",
       "    .dataframe tbody tr th {\n",
       "        vertical-align: top;\n",
       "    }\n",
       "\n",
       "    .dataframe thead th {\n",
       "        text-align: right;\n",
       "    }\n",
       "</style>\n",
       "<table border=\"1\" class=\"dataframe\">\n",
       "  <thead>\n",
       "    <tr style=\"text-align: right;\">\n",
       "      <th></th>\n",
       "      <th>transactionId</th>\n",
       "      <th>visitorId</th>\n",
       "      <th>date</th>\n",
       "      <th>revenue</th>\n",
       "      <th>group</th>\n",
       "    </tr>\n",
       "  </thead>\n",
       "  <tbody>\n",
       "    <tr>\n",
       "      <th>425</th>\n",
       "      <td>590470918</td>\n",
       "      <td>1920142716</td>\n",
       "      <td>2019-08-19</td>\n",
       "      <td>1294500</td>\n",
       "      <td>B</td>\n",
       "    </tr>\n",
       "    <tr>\n",
       "      <th>530</th>\n",
       "      <td>3970235543</td>\n",
       "      <td>2912540959</td>\n",
       "      <td>2019-08-19</td>\n",
       "      <td>43990</td>\n",
       "      <td>A</td>\n",
       "    </tr>\n",
       "    <tr>\n",
       "      <th>527</th>\n",
       "      <td>1570513684</td>\n",
       "      <td>2837914161</td>\n",
       "      <td>2019-08-19</td>\n",
       "      <td>33405</td>\n",
       "      <td>B</td>\n",
       "    </tr>\n",
       "    <tr>\n",
       "      <th>421</th>\n",
       "      <td>3765974140</td>\n",
       "      <td>1357170471</td>\n",
       "      <td>2019-08-19</td>\n",
       "      <td>31680</td>\n",
       "      <td>A</td>\n",
       "    </tr>\n",
       "    <tr>\n",
       "      <th>461</th>\n",
       "      <td>2683113224</td>\n",
       "      <td>154576532</td>\n",
       "      <td>2019-08-19</td>\n",
       "      <td>26550</td>\n",
       "      <td>B</td>\n",
       "    </tr>\n",
       "  </tbody>\n",
       "</table>\n",
       "</div>"
      ],
      "text/plain": [
       "     transactionId   visitorId       date  revenue group\n",
       "425      590470918  1920142716 2019-08-19  1294500     B\n",
       "530     3970235543  2912540959 2019-08-19    43990     A\n",
       "527     1570513684  2837914161 2019-08-19    33405     B\n",
       "421     3765974140  1357170471 2019-08-19    31680     A\n",
       "461     2683113224   154576532 2019-08-19    26550     B"
      ]
     },
     "execution_count": 29,
     "metadata": {},
     "output_type": "execute_result"
    }
   ],
   "source": [
    "orders.query(' date == \"2019-08-19\" ').sort_values(by='revenue', ascending=False).head()"
   ]
  },
  {
   "cell_type": "markdown",
   "metadata": {},
   "source": [
    "19 августа кто-то совершил крупную покупку - на  1294500 ед. Считаем это выбросом."
   ]
  },
  {
   "cell_type": "markdown",
   "metadata": {},
   "source": [
    "On August 19, someone made a large purchase - for 1294500 units. We consider it an outlier."
   ]
  },
  {
   "cell_type": "markdown",
   "metadata": {},
   "source": [
    "#### Average cumulative bill "
   ]
  },
  {
   "cell_type": "markdown",
   "metadata": {},
   "source": [
    "Построим графики среднего чека по группам — разделим кумулятивную выручку на кумулятивное число заказов:"
   ]
  },
  {
   "cell_type": "code",
   "execution_count": 30,
   "metadata": {},
   "outputs": [
    {
     "data": {
      "text/plain": [
       "<matplotlib.legend.Legend at 0x7f7f5a373c10>"
      ]
     },
     "execution_count": 30,
     "metadata": {},
     "output_type": "execute_result"
    },
    {
     "data": {
      "image/png": "[encoded data removed]",
      "text/plain": [
       "<Figure size 1600x400 with 1 Axes>"
      ]
     },
     "metadata": {},
     "output_type": "display_data"
    }
   ],
   "source": [
    "plt.figure(figsize=(20,5))\n",
    "plt.grid()\n",
    "plt.plot(cumulativeRevenueA['date'], cumulativeRevenueA['revenue']/cumulativeRevenueA['orders'], label='average cumulative bill for group A')\n",
    "plt.plot(cumulativeRevenueB['date'], cumulativeRevenueB['revenue']/cumulativeRevenueB['orders'], label='average cumulative bill for group B')\n",
    "\n",
    "plt.legend()"
   ]
  },
  {
   "cell_type": "markdown",
   "metadata": {},
   "source": [
    "На графике также видно влияние заказа, сделанного 19 августа. Но средний чек группы B после 19 августа снижается, в отличие от графика выручки. Средний кумулятивный чек группы A  падает в начале месяца, затем наблюдаем рост в промежутке 2019-08-06 по 2019-08-13, с пиком 13 августа,далее держится примерно на одном уровне."
   ]
  },
  {
   "cell_type": "markdown",
   "metadata": {},
   "source": [
    "The graph shows the impact of the order made on August 19. But average bill for group B fell after August 19 as opposed to the revenue graph. Average bill for group A fell  at the beginning of the month then grows between 2019-08-06 and 2019-08-13 and reaches  a peak at August 13 and then levels of."
   ]
  },
  {
   "cell_type": "markdown",
   "metadata": {},
   "source": [
    "#### Relative difference of the average cumulative bill"
   ]
  },
  {
   "cell_type": "markdown",
   "metadata": {},
   "source": [
    "Построим график относительного различия для среднего чека группы B к группе A.. Добавим горизонтальную ось методом axhline() (от англ. horizontal line across the axis*, «горизонтальная линия поперек оси»):"
   ]
  },
  {
   "cell_type": "code",
   "execution_count": 31,
   "metadata": {},
   "outputs": [
    {
     "data": {
      "text/plain": [
       "<matplotlib.lines.Line2D at 0x7f7f5822bee0>"
      ]
     },
     "execution_count": 31,
     "metadata": {},
     "output_type": "execute_result"
    },
    {
     "data": {
      "image/png": "[encoded data removed]",
      "text/plain": [
       "<Figure size 1600x400 with 1 Axes>"
      ]
     },
     "metadata": {},
     "output_type": "display_data"
    }
   ],
   "source": [
    "# собираем данные в одном датафрейме\n",
    "mergedCumulativeRevenue = cumulativeRevenueA.merge(cumulativeRevenueB, left_on='date', right_on='date', how='left', suffixes=['A', 'B'])\n",
    "\n",
    "# cтроим отношение средних чеков\n",
    "plt.figure(figsize=(20,5))\n",
    "plt.grid()\n",
    "plt.plot(mergedCumulativeRevenue['date'], (mergedCumulativeRevenue['revenueB']/mergedCumulativeRevenue['ordersB'])/(mergedCumulativeRevenue['revenueA']/mergedCumulativeRevenue['ordersA'])-1)\n",
    "plt.title('Относительное изменение кумулятивного среднего чека группы B к группе А')\n",
    "# добавляем ось X\n",
    "plt.axhline(y=0, color='black', linestyle='--')"
   ]
  },
  {
   "cell_type": "markdown",
   "metadata": {},
   "source": [
    "В нескольких точках график различия между сегментами резко «скачет» аналогично график среднего куммулятивного чека. Это выбросы. Определим их чуть позже."
   ]
  },
  {
   "cell_type": "markdown",
   "metadata": {},
   "source": [
    "#### Cumulative conversion"
   ]
  },
  {
   "cell_type": "code",
   "execution_count": 32,
   "metadata": {},
   "outputs": [
    {
     "data": {
      "text/plain": [
       "<matplotlib.legend.Legend at 0x7f7f5821ef70>"
      ]
     },
     "execution_count": 32,
     "metadata": {},
     "output_type": "execute_result"
    },
    {
     "data": {
      "image/png": "[encoded data removed]",
      "text/plain": [
       "<Figure size 1600x400 with 1 Axes>"
      ]
     },
     "metadata": {},
     "output_type": "display_data"
    }
   ],
   "source": [
    "# считаем кумулятивную конверсию\n",
    "cumulativeData['conversion'] = cumulativeData['orders']/cumulativeData['visitors']\n",
    "\n",
    "# отделяем данные по группе A\n",
    "cumulativeDataA = cumulativeData[cumulativeData['group']=='A']\n",
    "\n",
    "# отделяем данные по группе B\n",
    "cumulativeDataB = cumulativeData[cumulativeData['group']=='B']\n",
    "\n",
    "# строим графики\n",
    "plt.figure(figsize=(20,5))\n",
    "plt.grid()\n",
    "plt.plot(cumulativeDataA['date'], cumulativeDataA['conversion'], label='cumulative conversion for group A')\n",
    "plt.plot(cumulativeDataB['date'], cumulativeDataB['conversion'], label='cumulative conversion for group B')\n",
    "plt.title('Graph of cumulative revenue ')\n",
    "plt.legend()\n"
   ]
  },
  {
   "cell_type": "markdown",
   "metadata": {},
   "source": [
    "Cumulative conversion for group A rose at the beginning of the month and reaches peak at 2019-08-03 and then there is sharp dip at 2019-08-04. Cumulative conversion for group B  rose at the beginning, then fell sharply at 2019-08-04 as well. Then cumulative conversion for group B  rose again and reaches peak at 2019-08-10 and than levelled off."
   ]
  },
  {
   "cell_type": "markdown",
   "metadata": {},
   "source": [
    "Кумулятивная конверсия группы А растет в начеле месяца с пиком 2019-08-03 и дальше резкий спад 2019-08-04. Кумулятивная конверсия группы B в начале растет, затем резкий спад также 2019-08-04, затем снова рост с пиком в районе 2019-08-10 и далее график выравнивается."
   ]
  },
  {
   "cell_type": "markdown",
   "metadata": {},
   "source": [
    "#### Graph of relative change in cumulative conversion of group B to group A"
   ]
  },
  {
   "cell_type": "code",
   "execution_count": 33,
   "metadata": {},
   "outputs": [
    {
     "data": {
      "text/plain": [
       "Text(0.5, 1.0, 'Relative change in cumulative conversion of group B to group A')"
      ]
     },
     "execution_count": 33,
     "metadata": {},
     "output_type": "execute_result"
    },
    {
     "data": {
      "image/png": "[encoded data removed]",
      "text/plain": [
       "<Figure size 1600x400 with 1 Axes>"
      ]
     },
     "metadata": {},
     "output_type": "display_data"
    }
   ],
   "source": [
    "mergedCumulativeConversions = cumulativeDataA[['date','conversion']].merge(cumulativeDataB[['date','conversion']], \\\n",
    "                                                    left_on='date', right_on='date', how='left', suffixes=['A', 'B'])\n",
    "plt.figure(figsize=(20,5))\n",
    "plt.grid()\n",
    "plt.plot(mergedCumulativeConversions['date'], mergedCumulativeConversions['conversionB']/mergedCumulativeConversions['conversionA']-1)\n",
    "\n",
    "plt.title('Relative change in cumulative conversion of group B to group A')"
   ]
  },
  {
   "cell_type": "markdown",
   "metadata": {},
   "source": [
    "В начале теста группа B значительно проигрывала группе A, затем вырвалась вперёд. Потом её конверсия снова падала, но к концу августа постепенно растёт.\n",
    "В целом отношение конверсии ещё не установилось, и сейчас делать какие-либо выводы по тесту нельзя. Впрочем, сперва стоит проанализировать аномалии, возможно, они изменят картину.\n",
    "С середины теста отличие конверсии группы B относительно конверсии группы A снижается и, возможно, уже стабилизировалось."
   ]
  },
  {
   "cell_type": "markdown",
   "metadata": {},
   "source": [
    "### Outliers and burst analysis: limit data values\n"
   ]
  },
  {
   "cell_type": "markdown",
   "metadata": {},
   "source": [
    "#### Scatter plot of the number of orders by users"
   ]
  },
  {
   "cell_type": "code",
   "execution_count": 34,
   "metadata": {},
   "outputs": [
    {
     "data": {
      "text/html": [
       "<div>\n",
       "<style scoped>\n",
       "    .dataframe tbody tr th:only-of-type {\n",
       "        vertical-align: middle;\n",
       "    }\n",
       "\n",
       "    .dataframe tbody tr th {\n",
       "        vertical-align: top;\n",
       "    }\n",
       "\n",
       "    .dataframe thead th {\n",
       "        text-align: right;\n",
       "    }\n",
       "</style>\n",
       "<table border=\"1\" class=\"dataframe\">\n",
       "  <thead>\n",
       "    <tr style=\"text-align: right;\">\n",
       "      <th></th>\n",
       "      <th>transactionId</th>\n",
       "      <th>visitorId</th>\n",
       "      <th>date</th>\n",
       "      <th>revenue</th>\n",
       "      <th>group</th>\n",
       "    </tr>\n",
       "  </thead>\n",
       "  <tbody>\n",
       "    <tr>\n",
       "      <th>0</th>\n",
       "      <td>3667963787</td>\n",
       "      <td>3312258926</td>\n",
       "      <td>2019-08-15</td>\n",
       "      <td>1650</td>\n",
       "      <td>B</td>\n",
       "    </tr>\n",
       "    <tr>\n",
       "      <th>1</th>\n",
       "      <td>2804400009</td>\n",
       "      <td>3642806036</td>\n",
       "      <td>2019-08-15</td>\n",
       "      <td>730</td>\n",
       "      <td>B</td>\n",
       "    </tr>\n",
       "    <tr>\n",
       "      <th>2</th>\n",
       "      <td>2961555356</td>\n",
       "      <td>4069496402</td>\n",
       "      <td>2019-08-15</td>\n",
       "      <td>400</td>\n",
       "      <td>A</td>\n",
       "    </tr>\n",
       "    <tr>\n",
       "      <th>3</th>\n",
       "      <td>3797467345</td>\n",
       "      <td>1196621759</td>\n",
       "      <td>2019-08-15</td>\n",
       "      <td>9759</td>\n",
       "      <td>B</td>\n",
       "    </tr>\n",
       "    <tr>\n",
       "      <th>4</th>\n",
       "      <td>2282983706</td>\n",
       "      <td>2322279887</td>\n",
       "      <td>2019-08-15</td>\n",
       "      <td>2308</td>\n",
       "      <td>B</td>\n",
       "    </tr>\n",
       "  </tbody>\n",
       "</table>\n",
       "</div>"
      ],
      "text/plain": [
       "   transactionId   visitorId       date  revenue group\n",
       "0     3667963787  3312258926 2019-08-15     1650     B\n",
       "1     2804400009  3642806036 2019-08-15      730     B\n",
       "2     2961555356  4069496402 2019-08-15      400     A\n",
       "3     3797467345  1196621759 2019-08-15     9759     B\n",
       "4     2282983706  2322279887 2019-08-15     2308     B"
      ]
     },
     "execution_count": 34,
     "metadata": {},
     "output_type": "execute_result"
    }
   ],
   "source": [
    "orders.head()"
   ]
  },
  {
   "cell_type": "code",
   "execution_count": 35,
   "metadata": {},
   "outputs": [
    {
     "data": {
      "text/html": [
       "<div>\n",
       "<style scoped>\n",
       "    .dataframe tbody tr th:only-of-type {\n",
       "        vertical-align: middle;\n",
       "    }\n",
       "\n",
       "    .dataframe tbody tr th {\n",
       "        vertical-align: top;\n",
       "    }\n",
       "\n",
       "    .dataframe thead th {\n",
       "        text-align: right;\n",
       "    }\n",
       "</style>\n",
       "<table border=\"1\" class=\"dataframe\">\n",
       "  <thead>\n",
       "    <tr style=\"text-align: right;\">\n",
       "      <th></th>\n",
       "      <th>user_id</th>\n",
       "      <th>orders</th>\n",
       "    </tr>\n",
       "  </thead>\n",
       "  <tbody>\n",
       "    <tr>\n",
       "      <th>906</th>\n",
       "      <td>3972127743</td>\n",
       "      <td>2</td>\n",
       "    </tr>\n",
       "    <tr>\n",
       "      <th>225</th>\n",
       "      <td>963407295</td>\n",
       "      <td>2</td>\n",
       "    </tr>\n",
       "    <tr>\n",
       "      <th>929</th>\n",
       "      <td>4069496402</td>\n",
       "      <td>2</td>\n",
       "    </tr>\n",
       "    <tr>\n",
       "      <th>448</th>\n",
       "      <td>1959144690</td>\n",
       "      <td>2</td>\n",
       "    </tr>\n",
       "    <tr>\n",
       "      <th>50</th>\n",
       "      <td>232979603</td>\n",
       "      <td>2</td>\n",
       "    </tr>\n",
       "  </tbody>\n",
       "</table>\n",
       "</div>"
      ],
      "text/plain": [
       "        user_id  orders\n",
       "906  3972127743       2\n",
       "225   963407295       2\n",
       "929  4069496402       2\n",
       "448  1959144690       2\n",
       "50    232979603       2"
      ]
     },
     "execution_count": 35,
     "metadata": {},
     "output_type": "execute_result"
    }
   ],
   "source": [
    "ordersByUsers = orders.drop(['group', 'revenue', 'date'], axis=1).groupby('visitorId', as_index=False). \\\n",
    "                                                                        agg({'transactionId' : pd.Series.nunique})\n",
    "\n",
    "ordersByUsers.columns = ['user_id','orders']\n",
    "\n",
    "ordersByUsers.sort_values(by='orders',ascending=False).head()"
   ]
  },
  {
   "cell_type": "code",
   "execution_count": 36,
   "metadata": {},
   "outputs": [
    {
     "data": {
      "image/png": "[encoded data removed]",
      "text/plain": [
       "<Figure size 1600x400 with 1 Axes>"
      ]
     },
     "metadata": {},
     "output_type": "display_data"
    }
   ],
   "source": [
    "x_values = pd.Series(range(0,len(ordersByUsers)))\n",
    "\n",
    "plt.figure(figsize=(20,5))\n",
    "plt.grid()\n",
    "plt.title('numbers of orders by users')\n",
    "plt.scatter(x_values, ordersByUsers['orders'], alpha=0.5) ;"
   ]
  },
  {
   "cell_type": "markdown",
   "metadata": {},
   "source": [
    "Most often, users make only 1 order. It is necessary to calculate the percentiles (95 and 99)."
   ]
  },
  {
   "cell_type": "code",
   "execution_count": 37,
   "metadata": {
    "scrolled": true
   },
   "outputs": [
    {
     "name": "stdout",
     "output_type": "stream",
     "text": [
      "Calculate 95 and 99 percentiles by orders:  [1. 2.]\n"
     ]
    }
   ],
   "source": [
    "print('Calculate 95 and 99 percentiles by orders: ', np.percentile(ordersByUsers['orders'], [95, 99])) "
   ]
  },
  {
   "cell_type": "code",
   "execution_count": 38,
   "metadata": {},
   "outputs": [
    {
     "name": "stdout",
     "output_type": "stream",
     "text": [
      "Calculate percentiles from 95 to 99 percentiles :  [1. 1. 2. 2. 2.]\n"
     ]
    }
   ],
   "source": [
    "print('Calculate percentiles from 95 to 99 percentiles : ', np.percentile(ordersByUsers['orders'], [95,96,97,98, 99])) "
   ]
  },
  {
   "cell_type": "markdown",
   "metadata": {},
   "source": [
    "Most users make 1 or 2 orders. It is necessary to filter out other values. These are anomalies."
   ]
  },
  {
   "cell_type": "markdown",
   "metadata": {},
   "source": [
    "#### Scatter plot of revenue from orders\n",
    "We are plotting scatter plot of revenue from orders:"
   ]
  },
  {
   "cell_type": "code",
   "execution_count": 39,
   "metadata": {},
   "outputs": [
    {
     "data": {
      "image/png": "[encoded data removed]",
      "text/plain": [
       "<Figure size 1280x480 with 1 Axes>"
      ]
     },
     "metadata": {},
     "output_type": "display_data"
    }
   ],
   "source": [
    "x_values = pd.Series(range(0,len(orders['revenue'])))\n",
    "plt.figure(figsize=(16,6))\n",
    "plt.grid()\n",
    "plt.title('Order cost scattering')\n",
    "plt.scatter(x_values, orders['revenue'], alpha=0.5);"
   ]
  },
  {
   "cell_type": "markdown",
   "metadata": {},
   "source": [
    "The scatter plot shows one expensive orders in 19 August. This is outer. scatter plot is not informative with outlier. We are going to make query 'revenue' = 190000."
   ]
  },
  {
   "cell_type": "code",
   "execution_count": 40,
   "metadata": {},
   "outputs": [
    {
     "data": {
      "image/png": "[encoded data removed]",
      "text/plain": [
       "<Figure size 1200x400 with 1 Axes>"
      ]
     },
     "metadata": {},
     "output_type": "display_data"
    }
   ],
   "source": [
    "filtered_orders = orders[orders['revenue']<=190000]['revenue']\n",
    "xn_values = pd.Series(range(0,len(filtered_orders)))\n",
    "plt.figure(figsize=(15,5))\n",
    "plt.grid()\n",
    "plt.title('Order cost scattering less 190 00')\n",
    "plt.scatter(xn_values, filtered_orders, alpha=0.5);"
   ]
  },
  {
   "cell_type": "code",
   "execution_count": 41,
   "metadata": {},
   "outputs": [
    {
     "name": "stdout",
     "output_type": "stream",
     "text": [
      "Calculate 95 and 99 percentiles for revenue :  [28448. 60336.]\n"
     ]
    }
   ],
   "source": [
    "print('Calculate 95 and 99 percentiles for revenue : ', np.percentile(orders['revenue'], [95, 99])) "
   ]
  },
  {
   "cell_type": "markdown",
   "metadata": {},
   "source": [
    " Возьмем 60336 ед. на одного пользователя за нижнюю границу стоимости заказов."
   ]
  },
  {
   "cell_type": "markdown",
   "metadata": {},
   "source": [
    "60336 is bottom limit revenue of orders for user."
   ]
  },
  {
   "cell_type": "markdown",
   "metadata": {},
   "source": []
  },
  {
   "cell_type": "markdown",
   "metadata": {},
   "source": [
    "Оценили результаты A/B-теста визуально и выяснили, что в данных, скорее всего, есть выбросы;\n",
    "Увидели выбросы и нашли границу для их определения.\n",
    "Посчитаем статистическую значимость различий в конверсии и среднем чеке между группами по «сырым» данным — без удаления аномальных пользователей."
   ]
  },
  {
   "cell_type": "markdown",
   "metadata": {},
   "source": [
    "We have made visual evaluation of A/B test results and we can observe, that data much likely has an outliers. We found out the actual outliers as well as its thresholds.\n",
    "We are going to calculate statistically significant difference of conversion and average bill between groups by raw data - without anomaly users deletions."
   ]
  },
  {
   "cell_type": "markdown",
   "metadata": {},
   "source": [
    "### Conversion"
   ]
  },
  {
   "cell_type": "markdown",
   "metadata": {},
   "source": [
    "#### Conversion difference in groups on raw data"
   ]
  },
  {
   "cell_type": "markdown",
   "metadata": {},
   "source": [
    "We are going to prepare data."
   ]
  },
  {
   "cell_type": "code",
   "execution_count": 42,
   "metadata": {},
   "outputs": [],
   "source": [
    "visitorsADaily = visitors[visitors['group']=='A'][['date', 'visitors']]\n",
    "visitorsADaily.columns = ['date', 'visitorsPerDateA']\n",
    "\n",
    "visitorsACummulative = visitorsADaily.apply(lambda x: visitorsADaily[visitorsADaily['date'] <= x['date']]. \\\n",
    "                                            agg({'date' : 'max', 'visitorsPerDateA' : 'sum'}), axis=1)\n",
    "visitorsACummulative.columns = ['date', 'visitorsCummulativeA']\n",
    "\n",
    "visitorsBDaily = visitors[visitors['group']=='B'][['date', 'visitors']]\n",
    "visitorsBDaily.columns = ['date', 'visitorsPerDateB']\n",
    "\n",
    "visitorsBCummulative = visitorsBDaily.apply(lambda x: visitorsBDaily[visitorsBDaily['date'] <= x['date']]. \\\n",
    "                                            agg({'date' : 'max', 'visitorsPerDateB' : 'sum'}), axis=1)\n",
    "visitorsBCummulative.columns = ['date', 'visitorsCummulativeB']\n",
    "\n",
    "\n",
    "ordersADaily = orders[orders['group']=='A'][['date', 'transactionId', 'visitorId', 'revenue']]\\\n",
    "    .groupby('date', as_index=False)\\\n",
    "    .agg({'transactionId' : pd.Series.nunique, 'revenue' : 'sum'})\n",
    "ordersADaily.columns = ['date', 'ordersPerDateA', 'revenuePerDateA']\n",
    "\n",
    "ordersACummulative = ordersADaily.apply(\n",
    "    lambda x: \\\n",
    "        ordersADaily[ordersADaily['date'] <= x['date']]\\\n",
    "            .agg({\n",
    "                'date' : 'max',\n",
    "                'ordersPerDateA' : 'sum',\n",
    "                'revenuePerDateA' : 'sum'}), axis=1).sort_values(by=['date'])\n",
    "ordersACummulative.columns = ['date', 'ordersCummulativeA', 'revenueCummulativeA']\n",
    "\n",
    "ordersBDaily = orders[orders['group']=='B'][['date', 'transactionId', 'visitorId', 'revenue']]\\\n",
    "    .groupby('date', as_index=False)\\\n",
    "    .agg({'transactionId' : pd.Series.nunique, 'revenue' : 'sum'})\n",
    "ordersBDaily.columns = ['date', 'ordersPerDateB', 'revenuePerDateB']\n",
    "\n",
    "ordersBCummulative = ordersBDaily.apply(\n",
    "    lambda x: \\\n",
    "        ordersBDaily[ordersBDaily['date'] <= x['date']]\\\n",
    "            .agg({\n",
    "                'date' : 'max',\n",
    "                'ordersPerDateB' : 'sum',\n",
    "                'revenuePerDateB' : 'sum'}), axis=1).sort_values(by=['date'])\n",
    "ordersBCummulative.columns = ['date', 'ordersCummulativeB', 'revenueCummulativeB']"
   ]
  },
  {
   "cell_type": "code",
   "execution_count": 43,
   "metadata": {
    "scrolled": true
   },
   "outputs": [
    {
     "data": {
      "text/html": [
       "<div>\n",
       "<style scoped>\n",
       "    .dataframe tbody tr th:only-of-type {\n",
       "        vertical-align: middle;\n",
       "    }\n",
       "\n",
       "    .dataframe tbody tr th {\n",
       "        vertical-align: top;\n",
       "    }\n",
       "\n",
       "    .dataframe thead th {\n",
       "        text-align: right;\n",
       "    }\n",
       "</style>\n",
       "<table border=\"1\" class=\"dataframe\">\n",
       "  <thead>\n",
       "    <tr style=\"text-align: right;\">\n",
       "      <th></th>\n",
       "      <th>date</th>\n",
       "      <th>ordersPerDateA</th>\n",
       "      <th>revenuePerDateA</th>\n",
       "      <th>ordersPerDateB</th>\n",
       "      <th>revenuePerDateB</th>\n",
       "      <th>ordersCummulativeA</th>\n",
       "      <th>revenueCummulativeA</th>\n",
       "      <th>ordersCummulativeB</th>\n",
       "      <th>revenueCummulativeB</th>\n",
       "      <th>visitorsPerDateA</th>\n",
       "      <th>visitorsPerDateB</th>\n",
       "      <th>visitorsCummulativeA</th>\n",
       "      <th>visitorsCummulativeB</th>\n",
       "    </tr>\n",
       "  </thead>\n",
       "  <tbody>\n",
       "    <tr>\n",
       "      <th>7</th>\n",
       "      <td>2019-08-08</td>\n",
       "      <td>14</td>\n",
       "      <td>91989</td>\n",
       "      <td>21</td>\n",
       "      <td>142901</td>\n",
       "      <td>127</td>\n",
       "      <td>622724</td>\n",
       "      <td>155</td>\n",
       "      <td>1052956</td>\n",
       "      <td>610</td>\n",
       "      <td>654</td>\n",
       "      <td>5239</td>\n",
       "      <td>5298</td>\n",
       "    </tr>\n",
       "    <tr>\n",
       "      <th>18</th>\n",
       "      <td>2019-08-19</td>\n",
       "      <td>19</td>\n",
       "      <td>165113</td>\n",
       "      <td>18</td>\n",
       "      <td>1420950</td>\n",
       "      <td>288</td>\n",
       "      <td>1933361</td>\n",
       "      <td>345</td>\n",
       "      <td>3613644</td>\n",
       "      <td>502</td>\n",
       "      <td>487</td>\n",
       "      <td>11629</td>\n",
       "      <td>11658</td>\n",
       "    </tr>\n",
       "    <tr>\n",
       "      <th>19</th>\n",
       "      <td>2019-08-20</td>\n",
       "      <td>10</td>\n",
       "      <td>58679</td>\n",
       "      <td>18</td>\n",
       "      <td>140288</td>\n",
       "      <td>298</td>\n",
       "      <td>1992040</td>\n",
       "      <td>363</td>\n",
       "      <td>3753932</td>\n",
       "      <td>575</td>\n",
       "      <td>560</td>\n",
       "      <td>12204</td>\n",
       "      <td>12218</td>\n",
       "    </tr>\n",
       "  </tbody>\n",
       "</table>\n",
       "</div>"
      ],
      "text/plain": [
       "         date  ordersPerDateA  revenuePerDateA  ordersPerDateB  \\\n",
       "7  2019-08-08              14            91989              21   \n",
       "18 2019-08-19              19           165113              18   \n",
       "19 2019-08-20              10            58679              18   \n",
       "\n",
       "    revenuePerDateB  ordersCummulativeA  revenueCummulativeA  \\\n",
       "7            142901                 127               622724   \n",
       "18          1420950                 288              1933361   \n",
       "19           140288                 298              1992040   \n",
       "\n",
       "    ordersCummulativeB  revenueCummulativeB  visitorsPerDateA  \\\n",
       "7                  155              1052956               610   \n",
       "18                 345              3613644               502   \n",
       "19                 363              3753932               575   \n",
       "\n",
       "    visitorsPerDateB  visitorsCummulativeA  visitorsCummulativeB  \n",
       "7                654                  5239                  5298  \n",
       "18               487                 11629                 11658  \n",
       "19               560                 12204                 12218  "
      ]
     },
     "execution_count": 43,
     "metadata": {},
     "output_type": "execute_result"
    }
   ],
   "source": [
    "data = ordersADaily.merge(ordersBDaily, left_on='date', right_on='date', how='left')\\\n",
    "    .merge(ordersACummulative, left_on='date', right_on='date', how='left')\\\n",
    "    .merge(ordersBCummulative, left_on='date', right_on='date', how='left')\\\n",
    "    .merge(visitorsADaily, left_on='date', right_on='date', how='left')\\\n",
    "    .merge(visitorsBDaily, left_on='date', right_on='date', how='left')\\\n",
    "    .merge(visitorsACummulative, left_on='date', right_on='date', how='left')\\\n",
    "    .merge(visitorsBCummulative, left_on='date', right_on='date', how='left')\n",
    "data.sample(3)"
   ]
  },
  {
   "cell_type": "markdown",
   "metadata": {},
   "source": [
    "Посчитаем статистическую значимость различия в конверсии между группами.\n",
    "Создадим переменные ordersByUsersA и ordersByUsersB со столбцами ['userId', 'orders']. В них для пользователей, которые заказывали хотя бы 1 раз, укажем число совершённых заказов.\n"
   ]
  },
  {
   "cell_type": "markdown",
   "metadata": {},
   "source": [
    "We are calculating statistically significant difference in conversion between groups. We are defining dataframes ordersByUsersA and ordersByUsersB with columns ['userId', 'orders']. There we are going to put user data if this user made at least 1 order."
   ]
  },
  {
   "cell_type": "code",
   "execution_count": 44,
   "metadata": {},
   "outputs": [],
   "source": [
    "ordersByUsersA = orders[orders['group']=='A'].groupby('visitorId', as_index=False).agg({'transactionId' : pd.Series.nunique})\n",
    "ordersByUsersA.columns = ['userId', 'orders']\n",
    "\n",
    "ordersByUsersB = orders[orders['group']=='B'].groupby('visitorId', as_index=False).agg({'transactionId' : pd.Series.nunique})\n",
    "ordersByUsersB.columns = ['userId', 'orders']\n"
   ]
  },
  {
   "cell_type": "markdown",
   "metadata": {},
   "source": [
    "Объявим переменные sampleA и sampleB, в которых пользователям из разных групп будет соответствовать количество заказов. Тем, кто ничего не заказал, будут соответствовать нули. Это нужно, чтобы подготовить выборки к проверке критерием Манна-Уитни."
   ]
  },
  {
   "cell_type": "markdown",
   "metadata": {},
   "source": [
    "We are going to define 'sampleB' and 'sampleA' variables where we gonna store users and corresponded orders for each group. If certain user does not ever made any order, then we put zero. This is nessesary to prepare samples to verify Mann-Whitney creteria."
   ]
  },
  {
   "cell_type": "code",
   "execution_count": 45,
   "metadata": {},
   "outputs": [],
   "source": [
    "sampleA = pd.concat([ordersByUsersA['orders'],pd.Series(0, index=np.arange(data['visitorsPerDateA'].sum() - len(ordersByUsersA['orders'])), name='orders')],axis=0)\n",
    "sampleB = pd.concat([ordersByUsersB['orders'],pd.Series(0, index=np.arange(data['visitorsPerDateB'].sum() - len(ordersByUsersB['orders'])), name='orders')],axis=0)"
   ]
  },
  {
   "cell_type": "markdown",
   "metadata": {},
   "source": [
    "**We form hypotheses:**\n",
    "\n",
    "H₀ - There is no statistically significant difference for conversion between groups.\n",
    "\n",
    "H1 -  difference is statistically significant\n",
    "\n",
    "Critical level of significance(p) was taken equal to 0.05. If the p-value turns out to be less than it, we will reject the hypothesis."
   ]
  },
  {
   "cell_type": "code",
   "execution_count": 46,
   "metadata": {},
   "outputs": [],
   "source": [
    "alpha=0.05"
   ]
  },
  {
   "cell_type": "code",
   "execution_count": 47,
   "metadata": {
    "scrolled": true
   },
   "outputs": [
    {
     "name": "stdout",
     "output_type": "stream",
     "text": [
      "p-value:  0.012508495640276614\n",
      "null hypothesis is rejected: there is difference statistically significant\n"
     ]
    }
   ],
   "source": [
    "results = stats.mannwhitneyu(sampleA, sampleB)\n",
    "\n",
    "print('p-value: ', results.pvalue)\n",
    "\n",
    "if results.pvalue < alpha:\n",
    "    print('null hypothesis is rejected: there is difference statistically significant')\n",
    "else:\n",
    "    print(\n",
    "        'Failed to reject null hypothesis'\n",
    "    ) "
   ]
  },
  {
   "cell_type": "code",
   "execution_count": 48,
   "metadata": {},
   "outputs": [
    {
     "name": "stdout",
     "output_type": "stream",
     "text": [
      "0.168\n"
     ]
    }
   ],
   "source": [
    "print(\"{0:.3f}\".format(sampleB.mean() / sampleA.mean() - 1))"
   ]
  },
  {
   "cell_type": "markdown",
   "metadata": {},
   "source": [
    "Relative difference between groups is 16,8%"
   ]
  },
  {
   "cell_type": "markdown",
   "metadata": {},
   "source": [
    "#### Conversion difference in groups on filtered data"
   ]
  },
  {
   "cell_type": "markdown",
   "metadata": {},
   "source": [
    "Отфильтруем данные по принятым границам выбросов и аномалий. Узнаем, сколько всего аномальных пользователей."
   ]
  },
  {
   "cell_type": "markdown",
   "metadata": {},
   "source": [
    "We are going to filter data according to defined outliers and anomalies thresholds.\n",
    "Find out how many anomalous users there are."
   ]
  },
  {
   "cell_type": "code",
   "execution_count": 49,
   "metadata": {},
   "outputs": [
    {
     "name": "stdout",
     "output_type": "stream",
     "text": [
      "1099     148427295\n",
      "949      887908475\n",
      "744      888512513\n",
      "1103    1164614297\n",
      "1136    1307669133\n",
      "dtype: int64\n",
      "Всего аномальных пользователей:  10\n"
     ]
    }
   ],
   "source": [
    "usersWithManyOrders = pd.concat([ordersByUsersA[ordersByUsersA['orders'] > 2]['userId'], ordersByUsersB[ordersByUsersB['orders'] > 2]['userId']], axis = 0)\n",
    "usersWithExpensiveOrders = orders[orders['revenue'] > 60336]['visitorId']\n",
    "abnormalUsers = pd.concat([usersWithManyOrders, usersWithExpensiveOrders], axis = 0).drop_duplicates().sort_values()\n",
    "print(abnormalUsers.head(5))\n",
    "print(\"Всего аномальных пользователей: \" ,len(abnormalUsers)) "
   ]
  },
  {
   "cell_type": "markdown",
   "metadata": {},
   "source": [
    "Узнаем, как их действия повлияли на результаты теста. Посчитаем статистическую значимость различий в конверсии между группами теста по очищенным данным. Сначала подготовим выборки количества заказов по пользователям по группам теста:"
   ]
  },
  {
   "cell_type": "markdown",
   "metadata": {},
   "source": [
    "Figure out, how their actions affected on test results. We are going to calculate the statistical significance of differences in. We are going to  figure out orders count by user and test groups. We are going to prepare orders count by user and test groups."
   ]
  },
  {
   "cell_type": "code",
   "execution_count": 50,
   "metadata": {},
   "outputs": [],
   "source": [
    "sampleAFiltered = pd.concat([ordersByUsersA[np.logical_not(ordersByUsersA['userId'].isin(abnormalUsers))]['orders'], \\\n",
    "                             pd.Series(0, index=np.arange(data['visitorsPerDateA'].sum() - len(ordersByUsersA['orders'])), \\\n",
    "                                       name='orders')],axis=0)\n",
    "\n",
    "sampleBFiltered = pd.concat([ordersByUsersB[np.logical_not(ordersByUsersB['userId'].isin(abnormalUsers))]['orders'], \\\n",
    "                             pd.Series(0, index=np.arange(data['visitorsPerDateB'].sum() - len(ordersByUsersB['orders'])), \\\n",
    "                                       name='orders')],axis=0) "
   ]
  },
  {
   "cell_type": "markdown",
   "metadata": {},
   "source": [
    "**We form hypotheses:**\n",
    "\n",
    "H₀ - There is no statistically significant difference for conversion between groups.\n",
    "\n",
    "H1 - difference is statistically significant\n",
    "\n",
    "Critical level of significance(p) was taken equal to 0.05. If the p-value turns out to be less than it, we will reject the hypothesis."
   ]
  },
  {
   "cell_type": "code",
   "execution_count": 51,
   "metadata": {},
   "outputs": [],
   "source": [
    "alpha=0.05"
   ]
  },
  {
   "cell_type": "code",
   "execution_count": 52,
   "metadata": {},
   "outputs": [
    {
     "name": "stdout",
     "output_type": "stream",
     "text": [
      "p-value:  0.012508495640276614\n",
      "null hypothesis is rejected: there is difference statistically significant\n"
     ]
    }
   ],
   "source": [
    "results_filt = stats.mannwhitneyu(sampleBFiltered, sampleAFiltered)\n",
    "\n",
    "print('p-value: ', results.pvalue)\n",
    "\n",
    "if results.pvalue < alpha:\n",
    "    print('null hypothesis is rejected: there is difference statistically significant')\n",
    "else:\n",
    "    print(\n",
    "        'Failed to reject null hypothesis'\n",
    "    ) "
   ]
  },
  {
   "cell_type": "code",
   "execution_count": 53,
   "metadata": {},
   "outputs": [
    {
     "name": "stdout",
     "output_type": "stream",
     "text": [
      "0.175\n"
     ]
    }
   ],
   "source": [
    "print(\"{0:.3f}\".format(sampleBFiltered.mean() / sampleAFiltered.mean() - 1))"
   ]
  },
  {
   "cell_type": "markdown",
   "metadata": {},
   "source": [
    "По очищенным данным также есть различия в конверсии групп A и B. Относительная разница между группами 17,5%"
   ]
  },
  {
   "cell_type": "markdown",
   "metadata": {},
   "source": [
    "There is statistically significant difference between A and B for conversion according filtered data. The relative difference between the groups is 17.5%"
   ]
  },
  {
   "cell_type": "markdown",
   "metadata": {},
   "source": [
    "###  Statistically significant difference in average bills of orders"
   ]
  },
  {
   "cell_type": "markdown",
   "metadata": {},
   "source": [
    "#### Average bill difference in groups on raw data"
   ]
  },
  {
   "cell_type": "code",
   "execution_count": 54,
   "metadata": {},
   "outputs": [],
   "source": [
    "orderA = orders[orders['group']=='A']"
   ]
  },
  {
   "cell_type": "code",
   "execution_count": 55,
   "metadata": {},
   "outputs": [],
   "source": [
    "orderB = orders[orders['group']=='B']"
   ]
  },
  {
   "cell_type": "markdown",
   "metadata": {},
   "source": [
    "**We form hypotheses:**\n",
    "\n",
    "H₀ - There is no statistically significant difference between groups in average bills.\n",
    "\n",
    "H1 -  difference is statistically significant\n",
    "\n",
    "\n",
    "\n",
    "Critical level of significance(p) was taken equal to 0.05.\n",
    "If the p-value turns out to be less than it, we will reject the hypothesis. "
   ]
  },
  {
   "cell_type": "code",
   "execution_count": 56,
   "metadata": {},
   "outputs": [
    {
     "name": "stdout",
     "output_type": "stream",
     "text": [
      "p-value:  0.8400834623963818\n",
      "Failed to reject null hypothesis, вывод о различии сделать нельзя\n"
     ]
    }
   ],
   "source": [
    "alpha=0.05\n",
    "results = stats.mannwhitneyu(orderA['revenue'], orderB['revenue'])\n",
    "\n",
    "print('p-value: ', results.pvalue)\n",
    "\n",
    "if results.pvalue < alpha:\n",
    "    print('null hypothesis is rejected:  difference is statistically significant')\n",
    "else:\n",
    "    print(\n",
    "        'Failed to reject null hypothesis, вывод о различии сделать нельзя'\n",
    "    ) "
   ]
  },
  {
   "cell_type": "code",
   "execution_count": 57,
   "metadata": {
    "scrolled": true
   },
   "outputs": [
    {
     "name": "stdout",
     "output_type": "stream",
     "text": [
      "0.285\n"
     ]
    }
   ],
   "source": [
    "print(\"{0:.3f}\".format(orderB['revenue'].mean() / orderA['revenue'].mean() - 1))"
   ]
  },
  {
   "cell_type": "markdown",
   "metadata": {},
   "source": [
    "According row data there are not  differences between group A and group B. The relative difference between the groups is 28.5% "
   ]
  },
  {
   "cell_type": "markdown",
   "metadata": {},
   "source": [
    "#### Average bill difference in groups on raw data."
   ]
  },
  {
   "cell_type": "code",
   "execution_count": 58,
   "metadata": {},
   "outputs": [
    {
     "name": "stdout",
     "output_type": "stream",
     "text": [
      "p-value: 0.966\n",
      "0.025\n"
     ]
    }
   ],
   "source": [
    "print('p-value:',\n",
    "    '{0:.3f}'.format(\n",
    "        stats.mannwhitneyu(\n",
    "            orders[\n",
    "                np.logical_and(\n",
    "                    orders['group'] == 'A',\n",
    "                    np.logical_not(orders['visitorId'].isin(abnormalUsers)),\n",
    "                )\n",
    "            ]['revenue'],\n",
    "            orders[\n",
    "                np.logical_and(\n",
    "                    orders['group'] == 'B',\n",
    "                    np.logical_not(orders['visitorId'].isin(abnormalUsers)),\n",
    "                )\n",
    "            ]['revenue'],\n",
    "        )[1]\n",
    "    )\n",
    ")\n",
    "\n",
    "print(\n",
    "    \"{0:.3f}\".format(\n",
    "        orders[\n",
    "            np.logical_and(\n",
    "                orders['group'] == 'B',\n",
    "                np.logical_not(orders['visitorId'].isin(abnormalUsers)),\n",
    "            )\n",
    "        ]['revenue'].mean()\n",
    "        / orders[\n",
    "            np.logical_and(\n",
    "                orders['group'] == 'A',\n",
    "                np.logical_not(orders['visitorId'].isin(abnormalUsers)),\n",
    "            )\n",
    "        ]['revenue'].mean()\n",
    "        - 1\n",
    "    )\n",
    ")"
   ]
  },
  {
   "cell_type": "markdown",
   "metadata": {},
   "source": [
    "Failed to reject null hypothesis.According raw data there are not differences between group A and group B. The relative difference between the groups is 2.5%\n",
    "By raw data group B was better in terms of average bill by 28%. But now its better only by 2.5%. In the same time in those both cases, this difference is statistically insignificant."
   ]
  },
  {
   "cell_type": "markdown",
   "metadata": {},
   "source": [
    "## Summary"
   ]
  },
  {
   "cell_type": "markdown",
   "metadata": {},
   "source": [
    "We should make a decision based on the results of the test. Solution options:\n",
    "\n",
    "1.Stop the test, record the victory of one of the groups.\n",
    "\n",
    "2.Stop the test, record no difference between groups.\n",
    "\n",
    "3.Continue test. "
   ]
  },
  {
   "cell_type": "markdown",
   "metadata": {},
   "source": [
    "There is statistically significant difference between group conversion, either of raw data and after anomaly filtering.\n",
    "There is no statistically significant difference of average bill between groups on raw as well as on filtered.\n",
    "The graph shows conversion difference between groups.\n",
    "The results of group B is better than group A. Group B has growing trends, or got fixed near the average value."
   ]
  },
  {
   "cell_type": "markdown",
   "metadata": {},
   "source": [
    "**The test results are pretty straightforward. So we can now decide to stop testing and accept the success of group B. Group B is much more efficient than A in terms of conversion, however, the average bill is approximatly same in both groups.**"
   ]
  },
  {
   "cell_type": "markdown",
   "metadata": {},
   "source": [
    "Примем решение по результатам теста.\n",
    "Варианты решений:\n",
    "1. Остановить тест, зафиксировать победу одной из групп. \n",
    "2. Остановить тест, зафиксировать отсутствие различий между группами.\n",
    "3. Продолжить тест.\n",
    "\n",
    "\n",
    "\n",
    "Есть статистически значимое различие по конверсии между группами как по сырым данным, так и после фильтрации аномалий. Как по сырым, так и по очищенным данным нет статистически значимого различия по среднему чеку между группами. График различия конверсии между группами сообщает, что результаты группы B лучше группы A: имеют тенденцию к росту, либо зафиксировались около среднего значения.\n",
    "\n",
    "**Результаты тестирования вполне однозначны. В итоге можно принять решение остановить тестирование и констатировать успех и победу группы B : группа B значительно лучше (эффективнее) группы A по конверсии, хотя по среднему чеку группы примерно равны.**"
   ]
  }
 ],
 "metadata": {
  "ExecuteTimeLog": [
   {
    "duration": 176,
    "start_time": "2022-02-17T14:23:20.833Z"
   },
   {
    "duration": 1101,
    "start_time": "2022-02-17T14:23:29.707Z"
   },
   {
    "duration": 45,
    "start_time": "2022-02-17T14:23:32.487Z"
   },
   {
    "duration": 16,
    "start_time": "2022-02-17T14:24:52.305Z"
   },
   {
    "duration": 6,
    "start_time": "2022-02-17T14:25:11.097Z"
   },
   {
    "duration": 9,
    "start_time": "2022-02-17T14:26:02.509Z"
   },
   {
    "duration": 6,
    "start_time": "2022-02-17T14:27:11.262Z"
   },
   {
    "duration": 9,
    "start_time": "2022-02-17T14:28:28.707Z"
   },
   {
    "duration": 9,
    "start_time": "2022-02-17T14:28:38.577Z"
   },
   {
    "duration": 6,
    "start_time": "2022-02-17T14:30:00.353Z"
   },
   {
    "duration": 7,
    "start_time": "2022-02-17T14:30:01.351Z"
   },
   {
    "duration": 9,
    "start_time": "2022-02-17T14:31:14.905Z"
   },
   {
    "duration": 6,
    "start_time": "2022-02-17T14:31:32.856Z"
   },
   {
    "duration": 6,
    "start_time": "2022-02-17T14:31:41.121Z"
   },
   {
    "duration": 4,
    "start_time": "2022-02-17T14:32:11.282Z"
   },
   {
    "duration": 45,
    "start_time": "2022-02-17T14:32:11.292Z"
   },
   {
    "duration": 8,
    "start_time": "2022-02-17T14:32:11.339Z"
   },
   {
    "duration": 8,
    "start_time": "2022-02-17T14:32:11.349Z"
   },
   {
    "duration": 9,
    "start_time": "2022-02-17T14:32:11.359Z"
   },
   {
    "duration": 21,
    "start_time": "2022-02-17T14:32:11.369Z"
   },
   {
    "duration": 10,
    "start_time": "2022-02-17T14:32:11.391Z"
   },
   {
    "duration": 16,
    "start_time": "2022-02-17T14:32:11.402Z"
   },
   {
    "duration": 10,
    "start_time": "2022-02-17T14:32:11.419Z"
   },
   {
    "duration": 7,
    "start_time": "2022-02-17T14:32:11.431Z"
   },
   {
    "duration": 7,
    "start_time": "2022-02-17T14:32:11.440Z"
   },
   {
    "duration": 10,
    "start_time": "2022-02-17T14:36:52.353Z"
   },
   {
    "duration": 10,
    "start_time": "2022-02-17T14:37:08.669Z"
   },
   {
    "duration": 5,
    "start_time": "2022-02-17T14:38:22.702Z"
   },
   {
    "duration": 6,
    "start_time": "2022-02-17T14:38:24.511Z"
   },
   {
    "duration": 6,
    "start_time": "2022-02-17T14:38:33.149Z"
   },
   {
    "duration": 9,
    "start_time": "2022-02-17T14:39:48.322Z"
   },
   {
    "duration": 10,
    "start_time": "2022-02-17T14:40:57.655Z"
   },
   {
    "duration": 9,
    "start_time": "2022-02-17T14:45:19.286Z"
   },
   {
    "duration": 11,
    "start_time": "2022-02-17T14:45:20.391Z"
   },
   {
    "duration": 59,
    "start_time": "2022-02-17T14:50:02.569Z"
   },
   {
    "duration": 189,
    "start_time": "2022-02-19T17:55:50.918Z"
   },
   {
    "duration": 1148,
    "start_time": "2022-02-19T17:56:02.614Z"
   },
   {
    "duration": 44,
    "start_time": "2022-02-19T17:56:03.764Z"
   },
   {
    "duration": 11,
    "start_time": "2022-02-19T17:56:03.809Z"
   },
   {
    "duration": 8,
    "start_time": "2022-02-19T17:56:03.821Z"
   },
   {
    "duration": 11,
    "start_time": "2022-02-19T17:56:03.830Z"
   },
   {
    "duration": 9,
    "start_time": "2022-02-19T17:56:03.843Z"
   },
   {
    "duration": 10,
    "start_time": "2022-02-19T17:56:03.854Z"
   },
   {
    "duration": 6,
    "start_time": "2022-02-19T17:56:03.867Z"
   },
   {
    "duration": 8,
    "start_time": "2022-02-19T17:56:03.875Z"
   },
   {
    "duration": 7,
    "start_time": "2022-02-19T17:56:03.885Z"
   },
   {
    "duration": 37,
    "start_time": "2022-02-19T17:56:03.894Z"
   },
   {
    "duration": 19,
    "start_time": "2022-02-19T17:56:03.933Z"
   },
   {
    "duration": 16,
    "start_time": "2022-02-19T17:56:03.954Z"
   },
   {
    "duration": 15,
    "start_time": "2022-02-19T17:56:03.971Z"
   },
   {
    "duration": 9,
    "start_time": "2022-02-19T17:56:03.987Z"
   },
   {
    "duration": 15,
    "start_time": "2022-02-19T17:56:03.997Z"
   },
   {
    "duration": 14,
    "start_time": "2022-02-19T17:56:04.014Z"
   },
   {
    "duration": 7,
    "start_time": "2022-02-19T17:56:08.298Z"
   },
   {
    "duration": 9,
    "start_time": "2022-02-19T17:57:35.916Z"
   },
   {
    "duration": 18,
    "start_time": "2022-02-19T18:23:21.667Z"
   },
   {
    "duration": 18,
    "start_time": "2022-02-19T18:28:19.635Z"
   },
   {
    "duration": 46,
    "start_time": "2022-02-19T19:14:04.303Z"
   },
   {
    "duration": 44,
    "start_time": "2022-02-19T19:14:11.878Z"
   },
   {
    "duration": 56,
    "start_time": "2022-02-19T19:14:29.174Z"
   },
   {
    "duration": 6,
    "start_time": "2022-02-19T19:15:04.213Z"
   },
   {
    "duration": 4,
    "start_time": "2022-02-19T19:15:49.171Z"
   },
   {
    "duration": 5,
    "start_time": "2022-02-19T19:16:14.522Z"
   },
   {
    "duration": 6,
    "start_time": "2022-02-19T19:17:08.411Z"
   },
   {
    "duration": 6,
    "start_time": "2022-02-19T19:17:33.236Z"
   },
   {
    "duration": 641,
    "start_time": "2022-02-19T19:19:25.118Z"
   },
   {
    "duration": 3,
    "start_time": "2022-02-19T19:19:35.983Z"
   },
   {
    "duration": 41,
    "start_time": "2022-02-19T19:19:35.988Z"
   },
   {
    "duration": 7,
    "start_time": "2022-02-19T19:19:36.031Z"
   },
   {
    "duration": 12,
    "start_time": "2022-02-19T19:19:36.040Z"
   },
   {
    "duration": 27,
    "start_time": "2022-02-19T19:19:36.055Z"
   },
   {
    "duration": 15,
    "start_time": "2022-02-19T19:19:36.084Z"
   },
   {
    "duration": 9,
    "start_time": "2022-02-19T19:19:36.101Z"
   },
   {
    "duration": 7,
    "start_time": "2022-02-19T19:19:36.112Z"
   },
   {
    "duration": 7,
    "start_time": "2022-02-19T19:19:36.120Z"
   },
   {
    "duration": 8,
    "start_time": "2022-02-19T19:19:36.130Z"
   },
   {
    "duration": 6,
    "start_time": "2022-02-19T19:19:36.139Z"
   },
   {
    "duration": 9,
    "start_time": "2022-02-19T19:19:36.146Z"
   },
   {
    "duration": 11,
    "start_time": "2022-02-19T19:19:36.157Z"
   },
   {
    "duration": 4,
    "start_time": "2022-02-19T19:19:36.171Z"
   },
   {
    "duration": 6,
    "start_time": "2022-02-19T19:19:36.177Z"
   },
   {
    "duration": 11,
    "start_time": "2022-02-19T19:19:36.184Z"
   },
   {
    "duration": 41,
    "start_time": "2022-02-19T19:19:36.197Z"
   },
   {
    "duration": 49,
    "start_time": "2022-02-19T19:19:36.239Z"
   },
   {
    "duration": 61,
    "start_time": "2022-02-19T19:19:36.229Z"
   },
   {
    "duration": 60,
    "start_time": "2022-02-19T19:19:36.231Z"
   },
   {
    "duration": 58,
    "start_time": "2022-02-19T19:19:36.234Z"
   },
   {
    "duration": 532,
    "start_time": "2022-02-19T19:19:42.176Z"
   },
   {
    "duration": 604,
    "start_time": "2022-02-19T19:20:38.843Z"
   },
   {
    "duration": 6,
    "start_time": "2022-02-19T19:20:39.700Z"
   },
   {
    "duration": 7,
    "start_time": "2022-02-19T19:20:41.299Z"
   },
   {
    "duration": 620,
    "start_time": "2022-02-19T19:22:40.903Z"
   },
   {
    "duration": 622,
    "start_time": "2022-02-19T19:28:06.970Z"
   },
   {
    "duration": 4,
    "start_time": "2022-02-19T19:28:13.344Z"
   },
   {
    "duration": 42,
    "start_time": "2022-02-19T19:28:13.350Z"
   },
   {
    "duration": 7,
    "start_time": "2022-02-19T19:28:13.395Z"
   },
   {
    "duration": 7,
    "start_time": "2022-02-19T19:28:13.404Z"
   },
   {
    "duration": 8,
    "start_time": "2022-02-19T19:28:13.412Z"
   },
   {
    "duration": 14,
    "start_time": "2022-02-19T19:28:13.422Z"
   },
   {
    "duration": 13,
    "start_time": "2022-02-19T19:28:13.438Z"
   },
   {
    "duration": 8,
    "start_time": "2022-02-19T19:28:13.454Z"
   },
   {
    "duration": 9,
    "start_time": "2022-02-19T19:28:13.463Z"
   },
   {
    "duration": 7,
    "start_time": "2022-02-19T19:28:13.474Z"
   },
   {
    "duration": 6,
    "start_time": "2022-02-19T19:28:15.605Z"
   },
   {
    "duration": 5,
    "start_time": "2022-02-19T19:28:16.710Z"
   },
   {
    "duration": 645,
    "start_time": "2022-02-19T19:28:20.757Z"
   },
   {
    "duration": 7,
    "start_time": "2022-02-19T19:28:21.504Z"
   },
   {
    "duration": 3,
    "start_time": "2022-02-19T19:32:57.647Z"
   },
   {
    "duration": 37,
    "start_time": "2022-02-19T19:32:57.657Z"
   },
   {
    "duration": 8,
    "start_time": "2022-02-19T19:32:57.696Z"
   },
   {
    "duration": 6,
    "start_time": "2022-02-19T19:32:57.706Z"
   },
   {
    "duration": 5,
    "start_time": "2022-02-19T19:32:57.714Z"
   },
   {
    "duration": 8,
    "start_time": "2022-02-19T19:32:57.721Z"
   },
   {
    "duration": 7,
    "start_time": "2022-02-19T19:32:57.730Z"
   },
   {
    "duration": 8,
    "start_time": "2022-02-19T19:32:57.738Z"
   },
   {
    "duration": 7,
    "start_time": "2022-02-19T19:32:57.748Z"
   },
   {
    "duration": 7,
    "start_time": "2022-02-19T19:32:57.757Z"
   },
   {
    "duration": 4,
    "start_time": "2022-02-19T19:33:01.764Z"
   },
   {
    "duration": 7,
    "start_time": "2022-02-19T19:33:07.979Z"
   },
   {
    "duration": 737,
    "start_time": "2022-02-19T19:33:11.302Z"
   },
   {
    "duration": 2,
    "start_time": "2022-02-19T19:33:19.500Z"
   },
   {
    "duration": 40,
    "start_time": "2022-02-19T19:33:19.506Z"
   },
   {
    "duration": 8,
    "start_time": "2022-02-19T19:33:19.548Z"
   },
   {
    "duration": 7,
    "start_time": "2022-02-19T19:33:19.558Z"
   },
   {
    "duration": 7,
    "start_time": "2022-02-19T19:33:19.567Z"
   },
   {
    "duration": 8,
    "start_time": "2022-02-19T19:33:19.576Z"
   },
   {
    "duration": 9,
    "start_time": "2022-02-19T19:33:19.586Z"
   },
   {
    "duration": 8,
    "start_time": "2022-02-19T19:33:19.596Z"
   },
   {
    "duration": 25,
    "start_time": "2022-02-19T19:33:19.607Z"
   },
   {
    "duration": 7,
    "start_time": "2022-02-19T19:33:19.635Z"
   },
   {
    "duration": 4,
    "start_time": "2022-02-19T19:33:22.703Z"
   },
   {
    "duration": 6,
    "start_time": "2022-02-19T19:33:32.948Z"
   },
   {
    "duration": 9,
    "start_time": "2022-02-19T19:33:33.870Z"
   },
   {
    "duration": 626,
    "start_time": "2022-02-19T19:33:43.596Z"
   },
   {
    "duration": 3,
    "start_time": "2022-02-19T19:33:50.869Z"
   },
   {
    "duration": 39,
    "start_time": "2022-02-19T19:33:50.878Z"
   },
   {
    "duration": 8,
    "start_time": "2022-02-19T19:33:50.918Z"
   },
   {
    "duration": 8,
    "start_time": "2022-02-19T19:33:50.928Z"
   },
   {
    "duration": 8,
    "start_time": "2022-02-19T19:33:50.938Z"
   },
   {
    "duration": 10,
    "start_time": "2022-02-19T19:33:50.948Z"
   },
   {
    "duration": 7,
    "start_time": "2022-02-19T19:33:50.960Z"
   },
   {
    "duration": 13,
    "start_time": "2022-02-19T19:33:50.969Z"
   },
   {
    "duration": 15,
    "start_time": "2022-02-19T19:33:50.984Z"
   },
   {
    "duration": 29,
    "start_time": "2022-02-19T19:33:51.002Z"
   },
   {
    "duration": 6,
    "start_time": "2022-02-19T19:33:55.316Z"
   },
   {
    "duration": 6,
    "start_time": "2022-02-19T19:33:57.998Z"
   },
   {
    "duration": 9,
    "start_time": "2022-02-19T19:33:59.072Z"
   },
   {
    "duration": 4,
    "start_time": "2022-02-19T19:34:03.939Z"
   },
   {
    "duration": 5,
    "start_time": "2022-02-19T19:34:05.660Z"
   },
   {
    "duration": 10,
    "start_time": "2022-02-19T19:34:07.663Z"
   },
   {
    "duration": 9,
    "start_time": "2022-02-19T19:34:08.516Z"
   },
   {
    "duration": 61,
    "start_time": "2022-02-19T19:34:13.757Z"
   },
   {
    "duration": 2,
    "start_time": "2022-02-19T19:34:23.944Z"
   },
   {
    "duration": 17,
    "start_time": "2022-02-19T19:34:24.770Z"
   },
   {
    "duration": 10,
    "start_time": "2022-02-19T19:34:26.784Z"
   },
   {
    "duration": 10,
    "start_time": "2022-02-19T19:34:28.770Z"
   },
   {
    "duration": 586,
    "start_time": "2022-02-19T19:34:30.844Z"
   },
   {
    "duration": 3,
    "start_time": "2022-02-19T19:34:54.918Z"
   },
   {
    "duration": 52,
    "start_time": "2022-02-19T19:34:54.923Z"
   },
   {
    "duration": 9,
    "start_time": "2022-02-19T19:34:54.977Z"
   },
   {
    "duration": 7,
    "start_time": "2022-02-19T19:34:54.988Z"
   },
   {
    "duration": 6,
    "start_time": "2022-02-19T19:34:54.997Z"
   },
   {
    "duration": 11,
    "start_time": "2022-02-19T19:34:55.005Z"
   },
   {
    "duration": 9,
    "start_time": "2022-02-19T19:34:55.018Z"
   },
   {
    "duration": 9,
    "start_time": "2022-02-19T19:34:55.029Z"
   },
   {
    "duration": 9,
    "start_time": "2022-02-19T19:34:55.041Z"
   },
   {
    "duration": 7,
    "start_time": "2022-02-19T19:34:55.052Z"
   },
   {
    "duration": 6,
    "start_time": "2022-02-19T19:34:55.061Z"
   },
   {
    "duration": 10,
    "start_time": "2022-02-19T19:34:55.069Z"
   },
   {
    "duration": 10,
    "start_time": "2022-02-19T19:34:55.080Z"
   },
   {
    "duration": 5,
    "start_time": "2022-02-19T19:34:55.092Z"
   },
   {
    "duration": 35,
    "start_time": "2022-02-19T19:34:55.099Z"
   },
   {
    "duration": 13,
    "start_time": "2022-02-19T19:34:55.136Z"
   },
   {
    "duration": 14,
    "start_time": "2022-02-19T19:34:55.150Z"
   },
   {
    "duration": 3,
    "start_time": "2022-02-19T19:34:55.166Z"
   },
   {
    "duration": 19,
    "start_time": "2022-02-19T19:34:55.171Z"
   },
   {
    "duration": 7,
    "start_time": "2022-02-19T19:34:55.191Z"
   },
   {
    "duration": 35,
    "start_time": "2022-02-19T19:34:55.199Z"
   },
   {
    "duration": 492,
    "start_time": "2022-02-19T19:35:01.045Z"
   },
   {
    "duration": 688,
    "start_time": "2022-02-19T19:36:17.499Z"
   },
   {
    "duration": 165,
    "start_time": "2022-02-19T19:36:30.061Z"
   },
   {
    "duration": 138,
    "start_time": "2022-02-19T19:36:36.721Z"
   },
   {
    "duration": 145,
    "start_time": "2022-02-19T19:39:04.665Z"
   },
   {
    "duration": 4,
    "start_time": "2022-02-19T19:39:13.037Z"
   },
   {
    "duration": 6,
    "start_time": "2022-02-19T19:39:14.173Z"
   },
   {
    "duration": 3,
    "start_time": "2022-02-19T19:39:19.519Z"
   },
   {
    "duration": 44,
    "start_time": "2022-02-19T19:39:19.528Z"
   },
   {
    "duration": 10,
    "start_time": "2022-02-19T19:39:19.575Z"
   },
   {
    "duration": 14,
    "start_time": "2022-02-19T19:39:19.588Z"
   },
   {
    "duration": 8,
    "start_time": "2022-02-19T19:39:19.604Z"
   },
   {
    "duration": 9,
    "start_time": "2022-02-19T19:39:19.614Z"
   },
   {
    "duration": 9,
    "start_time": "2022-02-19T19:39:19.625Z"
   },
   {
    "duration": 9,
    "start_time": "2022-02-19T19:39:19.636Z"
   },
   {
    "duration": 10,
    "start_time": "2022-02-19T19:39:19.647Z"
   },
   {
    "duration": 7,
    "start_time": "2022-02-19T19:39:19.660Z"
   },
   {
    "duration": 6,
    "start_time": "2022-02-19T19:39:19.669Z"
   },
   {
    "duration": 7,
    "start_time": "2022-02-19T19:39:19.678Z"
   },
   {
    "duration": 4,
    "start_time": "2022-02-19T19:39:22.751Z"
   },
   {
    "duration": 6,
    "start_time": "2022-02-19T19:39:23.539Z"
   },
   {
    "duration": 7,
    "start_time": "2022-02-19T19:39:25.907Z"
   },
   {
    "duration": 4,
    "start_time": "2022-02-19T19:39:28.700Z"
   },
   {
    "duration": 4,
    "start_time": "2022-02-19T19:39:43.732Z"
   },
   {
    "duration": 6,
    "start_time": "2022-02-19T19:39:44.301Z"
   },
   {
    "duration": 7,
    "start_time": "2022-02-19T19:39:44.802Z"
   },
   {
    "duration": 4,
    "start_time": "2022-02-19T19:39:47.193Z"
   },
   {
    "duration": 6,
    "start_time": "2022-02-19T19:39:48.896Z"
   },
   {
    "duration": 10,
    "start_time": "2022-02-19T19:39:50.132Z"
   },
   {
    "duration": 9,
    "start_time": "2022-02-19T19:39:50.331Z"
   },
   {
    "duration": 2,
    "start_time": "2022-02-19T19:39:52.900Z"
   },
   {
    "duration": 17,
    "start_time": "2022-02-19T19:39:53.126Z"
   },
   {
    "duration": 8,
    "start_time": "2022-02-19T19:39:54.538Z"
   },
   {
    "duration": 11,
    "start_time": "2022-02-19T19:39:56.111Z"
   },
   {
    "duration": 480,
    "start_time": "2022-02-19T19:39:57.759Z"
   },
   {
    "duration": 468,
    "start_time": "2022-02-19T19:45:32.219Z"
   },
   {
    "duration": 442,
    "start_time": "2022-02-19T19:59:33.303Z"
   },
   {
    "duration": 4,
    "start_time": "2022-02-19T20:02:44.344Z"
   },
   {
    "duration": 39,
    "start_time": "2022-02-19T20:02:44.355Z"
   },
   {
    "duration": 8,
    "start_time": "2022-02-19T20:02:44.396Z"
   },
   {
    "duration": 10,
    "start_time": "2022-02-19T20:02:44.406Z"
   },
   {
    "duration": 11,
    "start_time": "2022-02-19T20:02:44.418Z"
   },
   {
    "duration": 12,
    "start_time": "2022-02-19T20:02:44.431Z"
   },
   {
    "duration": 10,
    "start_time": "2022-02-19T20:02:44.445Z"
   },
   {
    "duration": 9,
    "start_time": "2022-02-19T20:02:44.456Z"
   },
   {
    "duration": 8,
    "start_time": "2022-02-19T20:02:44.466Z"
   },
   {
    "duration": 8,
    "start_time": "2022-02-19T20:02:44.476Z"
   },
   {
    "duration": 6,
    "start_time": "2022-02-19T20:02:46.008Z"
   },
   {
    "duration": 4,
    "start_time": "2022-02-19T20:02:47.248Z"
   },
   {
    "duration": 7,
    "start_time": "2022-02-19T20:02:48.806Z"
   },
   {
    "duration": 8,
    "start_time": "2022-02-19T20:02:50.090Z"
   },
   {
    "duration": 5,
    "start_time": "2022-02-19T20:02:52.969Z"
   },
   {
    "duration": 6,
    "start_time": "2022-02-19T20:02:56.593Z"
   },
   {
    "duration": 9,
    "start_time": "2022-02-19T20:02:58.260Z"
   },
   {
    "duration": 10,
    "start_time": "2022-02-19T20:02:59.018Z"
   },
   {
    "duration": 2,
    "start_time": "2022-02-19T20:03:05.726Z"
   },
   {
    "duration": 16,
    "start_time": "2022-02-19T20:03:06.844Z"
   },
   {
    "duration": 8,
    "start_time": "2022-02-19T20:03:09.184Z"
   },
   {
    "duration": 10,
    "start_time": "2022-02-19T20:03:12.034Z"
   },
   {
    "duration": 7,
    "start_time": "2022-02-19T20:03:14.354Z"
   },
   {
    "duration": 455,
    "start_time": "2022-02-19T20:03:21.117Z"
   },
   {
    "duration": 624,
    "start_time": "2022-02-19T20:04:26.173Z"
   },
   {
    "duration": 3,
    "start_time": "2022-02-19T20:04:30.910Z"
   },
   {
    "duration": 45,
    "start_time": "2022-02-19T20:04:30.919Z"
   },
   {
    "duration": 9,
    "start_time": "2022-02-19T20:04:30.966Z"
   },
   {
    "duration": 19,
    "start_time": "2022-02-19T20:04:30.977Z"
   },
   {
    "duration": 14,
    "start_time": "2022-02-19T20:04:30.997Z"
   },
   {
    "duration": 19,
    "start_time": "2022-02-19T20:04:31.013Z"
   },
   {
    "duration": 13,
    "start_time": "2022-02-19T20:04:31.034Z"
   },
   {
    "duration": 13,
    "start_time": "2022-02-19T20:04:31.049Z"
   },
   {
    "duration": 9,
    "start_time": "2022-02-19T20:04:31.064Z"
   },
   {
    "duration": 8,
    "start_time": "2022-02-19T20:04:31.076Z"
   },
   {
    "duration": 660,
    "start_time": "2022-02-19T20:04:31.085Z"
   },
   {
    "duration": 659,
    "start_time": "2022-02-19T20:04:33.339Z"
   },
   {
    "duration": 6,
    "start_time": "2022-02-19T20:04:34.652Z"
   },
   {
    "duration": 7,
    "start_time": "2022-02-19T20:04:36.910Z"
   },
   {
    "duration": 4,
    "start_time": "2022-02-19T20:05:01.532Z"
   },
   {
    "duration": 7,
    "start_time": "2022-02-19T20:05:07.333Z"
   },
   {
    "duration": 7,
    "start_time": "2022-02-19T20:05:09.068Z"
   },
   {
    "duration": 4,
    "start_time": "2022-02-19T20:05:12.356Z"
   },
   {
    "duration": 7,
    "start_time": "2022-02-19T20:05:15.351Z"
   },
   {
    "duration": 9,
    "start_time": "2022-02-19T20:05:16.326Z"
   },
   {
    "duration": 10,
    "start_time": "2022-02-19T20:05:16.668Z"
   },
   {
    "duration": 2,
    "start_time": "2022-02-19T20:05:21.860Z"
   },
   {
    "duration": 16,
    "start_time": "2022-02-19T20:05:24.393Z"
   },
   {
    "duration": 8,
    "start_time": "2022-02-19T20:05:26.577Z"
   },
   {
    "duration": 8,
    "start_time": "2022-02-19T20:05:30.390Z"
   },
   {
    "duration": 7,
    "start_time": "2022-02-19T20:05:33.137Z"
   },
   {
    "duration": 573,
    "start_time": "2022-02-19T20:05:37.363Z"
   },
   {
    "duration": 12,
    "start_time": "2022-02-19T20:10:43.744Z"
   },
   {
    "duration": 8,
    "start_time": "2022-02-19T20:10:47.493Z"
   },
   {
    "duration": 5,
    "start_time": "2022-02-19T20:10:48.107Z"
   },
   {
    "duration": 624,
    "start_time": "2022-02-19T20:10:48.761Z"
   },
   {
    "duration": 6,
    "start_time": "2022-02-19T20:10:49.475Z"
   },
   {
    "duration": 8,
    "start_time": "2022-02-19T20:10:50.196Z"
   },
   {
    "duration": 3,
    "start_time": "2022-02-19T20:11:03.443Z"
   },
   {
    "duration": 41,
    "start_time": "2022-02-19T20:11:03.451Z"
   },
   {
    "duration": 7,
    "start_time": "2022-02-19T20:11:03.494Z"
   },
   {
    "duration": 18,
    "start_time": "2022-02-19T20:11:03.503Z"
   },
   {
    "duration": 10,
    "start_time": "2022-02-19T20:11:03.523Z"
   },
   {
    "duration": 10,
    "start_time": "2022-02-19T20:11:03.535Z"
   },
   {
    "duration": 7,
    "start_time": "2022-02-19T20:11:03.546Z"
   },
   {
    "duration": 7,
    "start_time": "2022-02-19T20:11:03.555Z"
   },
   {
    "duration": 14,
    "start_time": "2022-02-19T20:11:03.564Z"
   },
   {
    "duration": 14,
    "start_time": "2022-02-19T20:11:03.581Z"
   },
   {
    "duration": 12,
    "start_time": "2022-02-19T20:11:03.597Z"
   },
   {
    "duration": 19,
    "start_time": "2022-02-19T20:11:03.611Z"
   },
   {
    "duration": 9,
    "start_time": "2022-02-19T20:11:03.632Z"
   },
   {
    "duration": 21,
    "start_time": "2022-02-19T20:11:03.642Z"
   },
   {
    "duration": 7,
    "start_time": "2022-02-19T20:11:03.665Z"
   },
   {
    "duration": 21,
    "start_time": "2022-02-19T20:11:03.674Z"
   },
   {
    "duration": 14,
    "start_time": "2022-02-19T20:11:03.697Z"
   },
   {
    "duration": 12,
    "start_time": "2022-02-19T20:11:03.712Z"
   },
   {
    "duration": 3,
    "start_time": "2022-02-19T20:11:03.726Z"
   },
   {
    "duration": 22,
    "start_time": "2022-02-19T20:11:03.731Z"
   },
   {
    "duration": 7,
    "start_time": "2022-02-19T20:11:03.755Z"
   },
   {
    "duration": 11,
    "start_time": "2022-02-19T20:11:03.763Z"
   },
   {
    "duration": 6,
    "start_time": "2022-02-19T20:11:03.776Z"
   },
   {
    "duration": 322,
    "start_time": "2022-02-19T20:11:14.729Z"
   },
   {
    "duration": 258,
    "start_time": "2022-02-19T20:11:52.261Z"
   },
   {
    "duration": 255,
    "start_time": "2022-02-19T20:12:14.548Z"
   },
   {
    "duration": 9,
    "start_time": "2022-02-19T20:13:25.961Z"
   },
   {
    "duration": 11,
    "start_time": "2022-02-19T20:20:33.518Z"
   },
   {
    "duration": 130,
    "start_time": "2022-02-19T20:20:59.613Z"
   },
   {
    "duration": 192,
    "start_time": "2022-02-19T20:21:04.104Z"
   },
   {
    "duration": 10,
    "start_time": "2022-02-19T20:21:41.663Z"
   },
   {
    "duration": 12,
    "start_time": "2022-02-19T20:21:43.895Z"
   },
   {
    "duration": 47,
    "start_time": "2022-02-19T20:22:24.256Z"
   },
   {
    "duration": 183,
    "start_time": "2022-02-19T20:24:39.696Z"
   },
   {
    "duration": 456,
    "start_time": "2022-02-19T20:25:10.428Z"
   },
   {
    "duration": 261,
    "start_time": "2022-02-19T20:25:20.722Z"
   },
   {
    "duration": 322,
    "start_time": "2022-02-19T20:26:08.840Z"
   },
   {
    "duration": 251,
    "start_time": "2022-02-19T20:26:28.413Z"
   },
   {
    "duration": 254,
    "start_time": "2022-02-19T20:28:49.208Z"
   },
   {
    "duration": 280,
    "start_time": "2022-02-19T20:35:37.155Z"
   },
   {
    "duration": 329,
    "start_time": "2022-02-19T20:36:10.478Z"
   },
   {
    "duration": 381,
    "start_time": "2022-02-19T20:36:19.126Z"
   },
   {
    "duration": 291,
    "start_time": "2022-02-19T20:36:29.187Z"
   },
   {
    "duration": 397,
    "start_time": "2022-02-19T20:37:27.426Z"
   },
   {
    "duration": 400,
    "start_time": "2022-02-19T20:38:12.259Z"
   },
   {
    "duration": 439,
    "start_time": "2022-02-19T20:38:32.093Z"
   },
   {
    "duration": 176,
    "start_time": "2022-02-19T20:44:44.875Z"
   },
   {
    "duration": 207,
    "start_time": "2022-02-19T20:45:07.791Z"
   },
   {
    "duration": 297,
    "start_time": "2022-02-19T20:45:29.212Z"
   },
   {
    "duration": 302,
    "start_time": "2022-02-19T20:46:03.917Z"
   },
   {
    "duration": 302,
    "start_time": "2022-02-19T20:46:10.228Z"
   },
   {
    "duration": 292,
    "start_time": "2022-02-19T20:46:26.185Z"
   },
   {
    "duration": 294,
    "start_time": "2022-02-19T20:46:36.457Z"
   },
   {
    "duration": 315,
    "start_time": "2022-02-19T20:47:07.926Z"
   },
   {
    "duration": 378,
    "start_time": "2022-02-19T20:51:14.121Z"
   },
   {
    "duration": 384,
    "start_time": "2022-02-19T20:52:21.340Z"
   },
   {
    "duration": 410,
    "start_time": "2022-02-19T20:53:39.711Z"
   },
   {
    "duration": 44,
    "start_time": "2022-02-19T20:54:16.768Z"
   },
   {
    "duration": 484,
    "start_time": "2022-02-19T20:54:26.349Z"
   },
   {
    "duration": 46,
    "start_time": "2022-02-19T20:54:57.951Z"
   },
   {
    "duration": 355,
    "start_time": "2022-02-19T20:55:08.578Z"
   },
   {
    "duration": 8,
    "start_time": "2022-02-19T20:57:44.020Z"
   },
   {
    "duration": 126,
    "start_time": "2022-02-19T20:58:13.928Z"
   },
   {
    "duration": 319,
    "start_time": "2022-02-19T20:58:51.901Z"
   },
   {
    "duration": 392,
    "start_time": "2022-02-19T20:58:57.736Z"
   },
   {
    "duration": 390,
    "start_time": "2022-02-19T21:00:50.931Z"
   },
   {
    "duration": 337,
    "start_time": "2022-02-19T21:02:18.938Z"
   },
   {
    "duration": 347,
    "start_time": "2022-02-19T21:02:47.004Z"
   },
   {
    "duration": 317,
    "start_time": "2022-02-19T21:03:02.264Z"
   },
   {
    "duration": 358,
    "start_time": "2022-02-19T21:03:22.431Z"
   },
   {
    "duration": 363,
    "start_time": "2022-02-19T21:03:25.312Z"
   },
   {
    "duration": 4,
    "start_time": "2022-02-19T21:05:06.773Z"
   },
   {
    "duration": 4,
    "start_time": "2022-02-19T21:05:14.730Z"
   },
   {
    "duration": 268,
    "start_time": "2022-02-19T21:09:54.199Z"
   },
   {
    "duration": 315,
    "start_time": "2022-02-19T21:10:29.374Z"
   },
   {
    "duration": 372,
    "start_time": "2022-02-19T21:10:44.337Z"
   },
   {
    "duration": 5,
    "start_time": "2022-02-19T21:10:52.775Z"
   },
   {
    "duration": 278,
    "start_time": "2022-02-19T21:10:54.542Z"
   },
   {
    "duration": 253,
    "start_time": "2022-02-19T21:11:20.630Z"
   },
   {
    "duration": 10,
    "start_time": "2022-02-19T21:11:26.279Z"
   },
   {
    "duration": 12,
    "start_time": "2022-02-19T21:11:27.654Z"
   },
   {
    "duration": 300,
    "start_time": "2022-02-19T21:11:30.906Z"
   },
   {
    "duration": 393,
    "start_time": "2022-02-19T21:11:34.267Z"
   },
   {
    "duration": 413,
    "start_time": "2022-02-19T21:11:38.749Z"
   },
   {
    "duration": 422,
    "start_time": "2022-02-19T21:11:45.642Z"
   },
   {
    "duration": 8,
    "start_time": "2022-02-19T21:11:51.177Z"
   },
   {
    "duration": 127,
    "start_time": "2022-02-19T21:11:52.113Z"
   },
   {
    "duration": 382,
    "start_time": "2022-02-19T21:11:52.848Z"
   },
   {
    "duration": 4,
    "start_time": "2022-02-19T21:11:58.877Z"
   },
   {
    "duration": 275,
    "start_time": "2022-02-19T21:12:00.899Z"
   },
   {
    "duration": 299,
    "start_time": "2022-02-19T21:13:18.223Z"
   },
   {
    "duration": 304,
    "start_time": "2022-02-19T21:14:05.828Z"
   },
   {
    "duration": 5,
    "start_time": "2022-02-19T21:14:29.392Z"
   },
   {
    "duration": 299,
    "start_time": "2022-02-19T21:18:46.033Z"
   },
   {
    "duration": 5,
    "start_time": "2022-02-19T21:18:47.346Z"
   },
   {
    "duration": 379,
    "start_time": "2022-02-19T21:19:56.807Z"
   },
   {
    "duration": 310,
    "start_time": "2022-02-19T21:20:03.342Z"
   },
   {
    "duration": 319,
    "start_time": "2022-02-19T21:20:10.833Z"
   },
   {
    "duration": 271,
    "start_time": "2022-02-19T21:20:20.497Z"
   },
   {
    "duration": 627,
    "start_time": "2022-02-19T21:20:32.931Z"
   },
   {
    "duration": 283,
    "start_time": "2022-02-19T21:20:41.396Z"
   },
   {
    "duration": 410,
    "start_time": "2022-02-19T21:20:49.573Z"
   },
   {
    "duration": 467,
    "start_time": "2022-02-19T21:20:56.737Z"
   },
   {
    "duration": 382,
    "start_time": "2022-02-19T21:21:10.800Z"
   },
   {
    "duration": 133,
    "start_time": "2022-02-19T21:23:27.656Z"
   },
   {
    "duration": 135,
    "start_time": "2022-02-19T21:23:46.137Z"
   },
   {
    "duration": 384,
    "start_time": "2022-02-19T21:23:54.125Z"
   },
   {
    "duration": 477,
    "start_time": "2022-02-19T21:24:03.883Z"
   },
   {
    "duration": 343,
    "start_time": "2022-02-19T21:26:19.888Z"
   },
   {
    "duration": 324,
    "start_time": "2022-02-19T21:26:54.693Z"
   },
   {
    "duration": 357,
    "start_time": "2022-02-19T21:27:07.045Z"
   },
   {
    "duration": 347,
    "start_time": "2022-02-19T21:27:16.101Z"
   },
   {
    "duration": 341,
    "start_time": "2022-02-19T21:27:45.657Z"
   },
   {
    "duration": 4,
    "start_time": "2022-02-19T21:28:39.966Z"
   },
   {
    "duration": 47,
    "start_time": "2022-02-19T21:29:54.267Z"
   },
   {
    "duration": 239,
    "start_time": "2022-02-19T21:35:41.223Z"
   },
   {
    "duration": 30,
    "start_time": "2022-02-19T21:36:04.207Z"
   },
   {
    "duration": 32,
    "start_time": "2022-02-19T21:39:48.083Z"
   },
   {
    "duration": 135,
    "start_time": "2022-02-19T21:45:15.774Z"
   },
   {
    "duration": 138,
    "start_time": "2022-02-19T21:45:18.930Z"
   },
   {
    "duration": 118,
    "start_time": "2022-02-19T21:45:21.347Z"
   },
   {
    "duration": 6,
    "start_time": "2022-02-19T21:45:23.294Z"
   },
   {
    "duration": 8,
    "start_time": "2022-02-19T21:45:24.879Z"
   },
   {
    "duration": 5,
    "start_time": "2022-02-19T21:46:28.810Z"
   },
   {
    "duration": 45,
    "start_time": "2022-02-19T21:47:09.147Z"
   },
   {
    "duration": 6,
    "start_time": "2022-02-19T21:48:59.048Z"
   },
   {
    "duration": 10,
    "start_time": "2022-02-19T21:49:09.810Z"
   },
   {
    "duration": 78,
    "start_time": "2022-02-19T21:54:33.397Z"
   },
   {
    "duration": 142,
    "start_time": "2022-02-19T21:57:01.235Z"
   },
   {
    "duration": 3,
    "start_time": "2022-02-19T22:00:01.282Z"
   },
   {
    "duration": 148,
    "start_time": "2022-02-19T22:00:15.121Z"
   },
   {
    "duration": 11,
    "start_time": "2022-02-19T22:00:40.577Z"
   },
   {
    "duration": 248,
    "start_time": "2022-02-19T22:02:15.702Z"
   },
   {
    "duration": 6,
    "start_time": "2022-02-19T22:03:37.550Z"
   },
   {
    "duration": 3,
    "start_time": "2022-02-19T22:06:50.552Z"
   },
   {
    "duration": 6,
    "start_time": "2022-02-19T22:08:23.814Z"
   },
   {
    "duration": 4,
    "start_time": "2022-02-19T22:11:32.056Z"
   },
   {
    "duration": 2,
    "start_time": "2022-02-19T22:15:18.141Z"
   },
   {
    "duration": 11,
    "start_time": "2022-02-19T22:17:34.647Z"
   },
   {
    "duration": 2,
    "start_time": "2022-02-19T22:22:11.602Z"
   },
   {
    "duration": 10,
    "start_time": "2022-02-19T22:22:52.329Z"
   },
   {
    "duration": 9,
    "start_time": "2022-02-19T22:23:47.753Z"
   },
   {
    "duration": 8,
    "start_time": "2022-02-19T22:25:28.641Z"
   },
   {
    "duration": 7,
    "start_time": "2022-02-19T22:25:56.385Z"
   },
   {
    "duration": 2,
    "start_time": "2022-02-19T22:26:59.603Z"
   },
   {
    "duration": 6,
    "start_time": "2022-02-19T22:28:01.167Z"
   },
   {
    "duration": 58,
    "start_time": "2022-02-19T22:28:34.525Z"
   },
   {
    "duration": 42,
    "start_time": "2022-02-19T22:29:08.001Z"
   },
   {
    "duration": 8,
    "start_time": "2022-02-19T22:29:20.996Z"
   },
   {
    "duration": 7,
    "start_time": "2022-02-19T22:30:35.217Z"
   },
   {
    "duration": 6,
    "start_time": "2022-02-19T22:30:53.283Z"
   },
   {
    "duration": 4,
    "start_time": "2022-02-19T22:30:54.922Z"
   },
   {
    "duration": 6,
    "start_time": "2022-02-19T22:31:02.705Z"
   },
   {
    "duration": 4,
    "start_time": "2022-02-19T22:32:18.419Z"
   },
   {
    "duration": 7,
    "start_time": "2022-02-19T22:32:27.341Z"
   },
   {
    "duration": 4,
    "start_time": "2022-02-19T22:32:45.961Z"
   },
   {
    "duration": 8,
    "start_time": "2022-02-19T22:33:11.973Z"
   },
   {
    "duration": 5,
    "start_time": "2022-02-19T22:33:14.395Z"
   },
   {
    "duration": 48,
    "start_time": "2022-02-19T22:36:28.576Z"
   },
   {
    "duration": 10,
    "start_time": "2022-02-19T22:39:46.740Z"
   },
   {
    "duration": 10,
    "start_time": "2022-02-19T22:40:36.197Z"
   },
   {
    "duration": 51,
    "start_time": "2022-02-19T22:41:15.787Z"
   },
   {
    "duration": 10,
    "start_time": "2022-02-19T22:42:47.865Z"
   },
   {
    "duration": 5,
    "start_time": "2022-02-19T22:47:13.189Z"
   },
   {
    "duration": 4,
    "start_time": "2022-02-19T22:47:50.963Z"
   },
   {
    "duration": 188,
    "start_time": "2022-02-19T22:49:07.489Z"
   },
   {
    "duration": 5,
    "start_time": "2022-02-19T22:49:14.624Z"
   },
   {
    "duration": 5,
    "start_time": "2022-02-19T22:49:20.525Z"
   },
   {
    "duration": 4,
    "start_time": "2022-02-19T22:49:21.240Z"
   },
   {
    "duration": 5,
    "start_time": "2022-02-19T22:49:24.413Z"
   },
   {
    "duration": 5,
    "start_time": "2022-02-19T22:50:25.763Z"
   },
   {
    "duration": 14,
    "start_time": "2022-02-19T22:51:50.031Z"
   },
   {
    "duration": 2,
    "start_time": "2022-02-19T22:52:19.198Z"
   },
   {
    "duration": 2,
    "start_time": "2022-02-19T22:53:11.403Z"
   },
   {
    "duration": 240,
    "start_time": "2022-02-20T09:03:25.241Z"
   },
   {
    "duration": 1374,
    "start_time": "2022-02-20T09:03:36.375Z"
   },
   {
    "duration": 51,
    "start_time": "2022-02-20T09:03:37.751Z"
   },
   {
    "duration": 23,
    "start_time": "2022-02-20T09:03:37.805Z"
   },
   {
    "duration": 127,
    "start_time": "2022-02-20T09:03:37.830Z"
   },
   {
    "duration": 34,
    "start_time": "2022-02-20T09:03:37.959Z"
   },
   {
    "duration": 13,
    "start_time": "2022-02-20T09:03:37.995Z"
   },
   {
    "duration": 16,
    "start_time": "2022-02-20T09:03:38.010Z"
   },
   {
    "duration": 8,
    "start_time": "2022-02-20T09:03:38.029Z"
   },
   {
    "duration": 21,
    "start_time": "2022-02-20T09:03:38.040Z"
   },
   {
    "duration": 16,
    "start_time": "2022-02-20T09:03:38.063Z"
   },
   {
    "duration": 7,
    "start_time": "2022-02-20T09:03:38.081Z"
   },
   {
    "duration": 6,
    "start_time": "2022-02-20T09:03:38.089Z"
   },
   {
    "duration": 23,
    "start_time": "2022-02-20T09:03:38.096Z"
   },
   {
    "duration": 15,
    "start_time": "2022-02-20T09:03:38.121Z"
   },
   {
    "duration": 13,
    "start_time": "2022-02-20T09:03:38.138Z"
   },
   {
    "duration": 16,
    "start_time": "2022-02-20T09:03:38.153Z"
   },
   {
    "duration": 10,
    "start_time": "2022-02-20T09:03:38.171Z"
   },
   {
    "duration": 20,
    "start_time": "2022-02-20T09:03:38.183Z"
   },
   {
    "duration": 14,
    "start_time": "2022-02-20T09:03:38.205Z"
   },
   {
    "duration": 25,
    "start_time": "2022-02-20T09:03:38.220Z"
   },
   {
    "duration": 8,
    "start_time": "2022-02-20T09:03:38.247Z"
   },
   {
    "duration": 12,
    "start_time": "2022-02-20T09:03:38.256Z"
   },
   {
    "duration": 5,
    "start_time": "2022-02-20T09:03:38.270Z"
   },
   {
    "duration": 434,
    "start_time": "2022-02-20T09:03:38.277Z"
   },
   {
    "duration": 264,
    "start_time": "2022-02-20T09:03:42.589Z"
   },
   {
    "duration": 254,
    "start_time": "2022-02-20T09:58:12.916Z"
   },
   {
    "duration": 3,
    "start_time": "2022-02-20T09:58:21.749Z"
   },
   {
    "duration": 46,
    "start_time": "2022-02-20T09:58:21.757Z"
   },
   {
    "duration": 9,
    "start_time": "2022-02-20T09:58:21.805Z"
   },
   {
    "duration": 21,
    "start_time": "2022-02-20T09:58:21.816Z"
   },
   {
    "duration": 26,
    "start_time": "2022-02-20T09:58:21.840Z"
   },
   {
    "duration": 27,
    "start_time": "2022-02-20T09:58:21.868Z"
   },
   {
    "duration": 11,
    "start_time": "2022-02-20T09:58:21.896Z"
   },
   {
    "duration": 18,
    "start_time": "2022-02-20T09:58:21.909Z"
   },
   {
    "duration": 30,
    "start_time": "2022-02-20T09:58:21.929Z"
   },
   {
    "duration": 13,
    "start_time": "2022-02-20T09:58:21.962Z"
   },
   {
    "duration": 21,
    "start_time": "2022-02-20T09:58:21.977Z"
   },
   {
    "duration": 19,
    "start_time": "2022-02-20T09:58:21.999Z"
   },
   {
    "duration": 22,
    "start_time": "2022-02-20T09:58:22.020Z"
   },
   {
    "duration": 29,
    "start_time": "2022-02-20T09:58:22.043Z"
   },
   {
    "duration": 22,
    "start_time": "2022-02-20T09:58:22.074Z"
   },
   {
    "duration": 21,
    "start_time": "2022-02-20T09:58:22.098Z"
   },
   {
    "duration": 37,
    "start_time": "2022-02-20T09:58:22.122Z"
   },
   {
    "duration": 24,
    "start_time": "2022-02-20T09:58:22.161Z"
   },
   {
    "duration": 8,
    "start_time": "2022-02-20T09:58:22.187Z"
   },
   {
    "duration": 33,
    "start_time": "2022-02-20T09:58:22.197Z"
   },
   {
    "duration": 11,
    "start_time": "2022-02-20T09:58:22.233Z"
   },
   {
    "duration": 22,
    "start_time": "2022-02-20T09:58:22.246Z"
   },
   {
    "duration": 5,
    "start_time": "2022-02-20T09:58:22.270Z"
   },
   {
    "duration": 386,
    "start_time": "2022-02-20T09:58:22.277Z"
   },
   {
    "duration": 296,
    "start_time": "2022-02-20T09:58:22.665Z"
   },
   {
    "duration": 10,
    "start_time": "2022-02-20T09:58:22.963Z"
   },
   {
    "duration": 20,
    "start_time": "2022-02-20T09:58:22.975Z"
   },
   {
    "duration": 339,
    "start_time": "2022-02-20T09:58:22.998Z"
   },
   {
    "duration": 443,
    "start_time": "2022-02-20T09:58:23.339Z"
   },
   {
    "duration": 347,
    "start_time": "2022-02-20T09:58:23.784Z"
   },
   {
    "duration": 321,
    "start_time": "2022-02-20T09:58:31.453Z"
   },
   {
    "duration": 213,
    "start_time": "2022-02-20T10:02:26.817Z"
   },
   {
    "duration": 3,
    "start_time": "2022-02-20T10:02:40.513Z"
   },
   {
    "duration": 39,
    "start_time": "2022-02-20T10:02:40.526Z"
   },
   {
    "duration": 9,
    "start_time": "2022-02-20T10:02:40.567Z"
   },
   {
    "duration": 12,
    "start_time": "2022-02-20T10:02:40.579Z"
   },
   {
    "duration": 7,
    "start_time": "2022-02-20T10:02:40.594Z"
   },
   {
    "duration": 30,
    "start_time": "2022-02-20T10:02:40.603Z"
   },
   {
    "duration": 18,
    "start_time": "2022-02-20T10:02:40.637Z"
   },
   {
    "duration": 10,
    "start_time": "2022-02-20T10:02:40.657Z"
   },
   {
    "duration": 14,
    "start_time": "2022-02-20T10:02:40.669Z"
   },
   {
    "duration": 84,
    "start_time": "2022-02-20T10:02:40.685Z"
   },
   {
    "duration": 6,
    "start_time": "2022-02-20T10:02:40.772Z"
   },
   {
    "duration": 5,
    "start_time": "2022-02-20T10:02:40.780Z"
   },
   {
    "duration": 9,
    "start_time": "2022-02-20T10:02:40.787Z"
   },
   {
    "duration": 23,
    "start_time": "2022-02-20T10:02:40.798Z"
   },
   {
    "duration": 5,
    "start_time": "2022-02-20T10:02:40.823Z"
   },
   {
    "duration": 22,
    "start_time": "2022-02-20T10:02:40.834Z"
   },
   {
    "duration": 14,
    "start_time": "2022-02-20T10:02:40.857Z"
   },
   {
    "duration": 11,
    "start_time": "2022-02-20T10:02:40.873Z"
   },
   {
    "duration": 3,
    "start_time": "2022-02-20T10:02:40.886Z"
   },
   {
    "duration": 32,
    "start_time": "2022-02-20T10:02:40.891Z"
   },
   {
    "duration": 8,
    "start_time": "2022-02-20T10:02:40.925Z"
   },
   {
    "duration": 20,
    "start_time": "2022-02-20T10:02:40.934Z"
   },
   {
    "duration": 7,
    "start_time": "2022-02-20T10:02:40.956Z"
   },
   {
    "duration": 410,
    "start_time": "2022-02-20T10:02:40.965Z"
   },
   {
    "duration": 301,
    "start_time": "2022-02-20T10:02:41.377Z"
   },
   {
    "duration": 10,
    "start_time": "2022-02-20T10:02:41.680Z"
   },
   {
    "duration": 29,
    "start_time": "2022-02-20T10:02:41.691Z"
   },
   {
    "duration": 348,
    "start_time": "2022-02-20T10:02:41.724Z"
   },
   {
    "duration": 428,
    "start_time": "2022-02-20T10:02:42.074Z"
   },
   {
    "duration": 489,
    "start_time": "2022-02-20T10:02:42.504Z"
   },
   {
    "duration": 391,
    "start_time": "2022-02-20T10:02:42.995Z"
   },
   {
    "duration": 9,
    "start_time": "2022-02-20T10:02:43.387Z"
   },
   {
    "duration": 162,
    "start_time": "2022-02-20T10:02:43.398Z"
   },
   {
    "duration": 374,
    "start_time": "2022-02-20T10:02:43.562Z"
   },
   {
    "duration": 6,
    "start_time": "2022-02-20T10:02:43.938Z"
   },
   {
    "duration": 5,
    "start_time": "2022-02-20T10:02:47.455Z"
   },
   {
    "duration": 7,
    "start_time": "2022-02-20T10:03:40.623Z"
   },
   {
    "duration": 234,
    "start_time": "2022-02-20T10:22:00.812Z"
   },
   {
    "duration": 291,
    "start_time": "2022-02-20T10:22:11.052Z"
   },
   {
    "duration": 211,
    "start_time": "2022-02-20T10:22:17.348Z"
   },
   {
    "duration": 229,
    "start_time": "2022-02-20T10:22:22.221Z"
   },
   {
    "duration": 4,
    "start_time": "2022-02-20T10:22:36.309Z"
   },
   {
    "duration": 50,
    "start_time": "2022-02-20T10:22:36.319Z"
   },
   {
    "duration": 9,
    "start_time": "2022-02-20T10:22:36.371Z"
   },
   {
    "duration": 15,
    "start_time": "2022-02-20T10:22:36.382Z"
   },
   {
    "duration": 10,
    "start_time": "2022-02-20T10:22:36.399Z"
   },
   {
    "duration": 14,
    "start_time": "2022-02-20T10:22:36.411Z"
   },
   {
    "duration": 14,
    "start_time": "2022-02-20T10:22:36.427Z"
   },
   {
    "duration": 10,
    "start_time": "2022-02-20T10:22:36.443Z"
   },
   {
    "duration": 17,
    "start_time": "2022-02-20T10:22:36.454Z"
   },
   {
    "duration": 10,
    "start_time": "2022-02-20T10:22:36.474Z"
   },
   {
    "duration": 7,
    "start_time": "2022-02-20T10:22:36.486Z"
   },
   {
    "duration": 33,
    "start_time": "2022-02-20T10:22:36.495Z"
   },
   {
    "duration": 20,
    "start_time": "2022-02-20T10:22:36.529Z"
   },
   {
    "duration": 11,
    "start_time": "2022-02-20T10:22:36.550Z"
   },
   {
    "duration": 9,
    "start_time": "2022-02-20T10:22:36.563Z"
   },
   {
    "duration": 21,
    "start_time": "2022-02-20T10:22:36.573Z"
   },
   {
    "duration": 16,
    "start_time": "2022-02-20T10:22:36.596Z"
   },
   {
    "duration": 26,
    "start_time": "2022-02-20T10:22:36.613Z"
   },
   {
    "duration": 12,
    "start_time": "2022-02-20T10:22:36.641Z"
   },
   {
    "duration": 34,
    "start_time": "2022-02-20T10:22:36.655Z"
   },
   {
    "duration": 8,
    "start_time": "2022-02-20T10:22:36.690Z"
   },
   {
    "duration": 21,
    "start_time": "2022-02-20T10:22:36.700Z"
   },
   {
    "duration": 15,
    "start_time": "2022-02-20T10:22:36.723Z"
   },
   {
    "duration": 384,
    "start_time": "2022-02-20T10:22:36.740Z"
   },
   {
    "duration": 295,
    "start_time": "2022-02-20T10:22:37.127Z"
   },
   {
    "duration": 12,
    "start_time": "2022-02-20T10:22:37.424Z"
   },
   {
    "duration": 17,
    "start_time": "2022-02-20T10:22:37.438Z"
   },
   {
    "duration": 350,
    "start_time": "2022-02-20T10:22:37.459Z"
   },
   {
    "duration": 473,
    "start_time": "2022-02-20T10:22:37.811Z"
   },
   {
    "duration": 370,
    "start_time": "2022-02-20T10:22:38.286Z"
   },
   {
    "duration": 434,
    "start_time": "2022-02-20T10:22:38.659Z"
   },
   {
    "duration": 8,
    "start_time": "2022-02-20T10:22:39.095Z"
   },
   {
    "duration": 145,
    "start_time": "2022-02-20T10:22:39.105Z"
   },
   {
    "duration": 386,
    "start_time": "2022-02-20T10:22:39.252Z"
   },
   {
    "duration": 6,
    "start_time": "2022-02-20T10:22:39.640Z"
   },
   {
    "duration": 16,
    "start_time": "2022-02-20T10:22:39.647Z"
   },
   {
    "duration": 434,
    "start_time": "2022-02-20T10:22:39.664Z"
   },
   {
    "duration": 430,
    "start_time": "2022-02-20T10:22:40.100Z"
   },
   {
    "duration": 9,
    "start_time": "2022-02-20T10:22:40.532Z"
   },
   {
    "duration": 305,
    "start_time": "2022-02-20T10:22:40.544Z"
   },
   {
    "duration": 35,
    "start_time": "2022-02-20T10:22:40.850Z"
   },
   {
    "duration": 167,
    "start_time": "2022-02-20T10:22:40.887Z"
   },
   {
    "duration": 6,
    "start_time": "2022-02-20T10:22:41.056Z"
   },
   {
    "duration": 5,
    "start_time": "2022-02-20T10:22:41.063Z"
   },
   {
    "duration": 11,
    "start_time": "2022-02-20T10:22:41.070Z"
   },
   {
    "duration": 8,
    "start_time": "2022-02-20T10:22:41.083Z"
   },
   {
    "duration": 30,
    "start_time": "2022-02-20T10:22:41.093Z"
   },
   {
    "duration": 10,
    "start_time": "2022-02-20T10:22:41.125Z"
   },
   {
    "duration": 8,
    "start_time": "2022-02-20T10:22:41.137Z"
   },
   {
    "duration": 15,
    "start_time": "2022-02-20T10:22:41.146Z"
   },
   {
    "duration": 11,
    "start_time": "2022-02-20T10:22:41.163Z"
   },
   {
    "duration": 9,
    "start_time": "2022-02-20T10:22:41.176Z"
   },
   {
    "duration": 7,
    "start_time": "2022-02-20T10:22:41.187Z"
   },
   {
    "duration": 9,
    "start_time": "2022-02-20T10:22:41.195Z"
   },
   {
    "duration": 4,
    "start_time": "2022-02-20T10:22:41.219Z"
   },
   {
    "duration": 6,
    "start_time": "2022-02-20T10:22:44.527Z"
   },
   {
    "duration": 255,
    "start_time": "2022-02-20T10:23:00.281Z"
   },
   {
    "duration": 2729,
    "start_time": "2022-02-20T10:27:08.898Z"
   },
   {
    "duration": -330,
    "start_time": "2022-02-20T10:27:11.960Z"
   },
   {
    "duration": 3,
    "start_time": "2022-02-20T10:27:18.696Z"
   },
   {
    "duration": 38,
    "start_time": "2022-02-20T10:27:18.708Z"
   },
   {
    "duration": 11,
    "start_time": "2022-02-20T10:27:18.748Z"
   },
   {
    "duration": 7,
    "start_time": "2022-02-20T10:27:18.761Z"
   },
   {
    "duration": 9,
    "start_time": "2022-02-20T10:27:18.770Z"
   },
   {
    "duration": 11,
    "start_time": "2022-02-20T10:27:18.781Z"
   },
   {
    "duration": 25,
    "start_time": "2022-02-20T10:27:18.794Z"
   },
   {
    "duration": 12,
    "start_time": "2022-02-20T10:27:18.822Z"
   },
   {
    "duration": 22,
    "start_time": "2022-02-20T10:27:18.836Z"
   },
   {
    "duration": 10,
    "start_time": "2022-02-20T10:27:18.861Z"
   },
   {
    "duration": 11,
    "start_time": "2022-02-20T10:27:18.873Z"
   },
   {
    "duration": 7,
    "start_time": "2022-02-20T10:27:18.885Z"
   },
   {
    "duration": 33,
    "start_time": "2022-02-20T10:27:18.894Z"
   },
   {
    "duration": 17,
    "start_time": "2022-02-20T10:27:18.929Z"
   },
   {
    "duration": 7,
    "start_time": "2022-02-20T10:27:18.948Z"
   },
   {
    "duration": 7,
    "start_time": "2022-02-20T10:27:18.957Z"
   },
   {
    "duration": 14,
    "start_time": "2022-02-20T10:27:18.965Z"
   },
   {
    "duration": 11,
    "start_time": "2022-02-20T10:27:18.980Z"
   },
   {
    "duration": 7,
    "start_time": "2022-02-20T10:27:18.993Z"
   },
   {
    "duration": 42,
    "start_time": "2022-02-20T10:27:19.001Z"
   },
   {
    "duration": 8,
    "start_time": "2022-02-20T10:27:19.045Z"
   },
   {
    "duration": 13,
    "start_time": "2022-02-20T10:27:19.055Z"
   },
   {
    "duration": 6,
    "start_time": "2022-02-20T10:27:19.069Z"
   },
   {
    "duration": 406,
    "start_time": "2022-02-20T10:27:19.077Z"
   },
   {
    "duration": 318,
    "start_time": "2022-02-20T10:27:19.485Z"
   },
   {
    "duration": 16,
    "start_time": "2022-02-20T10:27:19.804Z"
   },
   {
    "duration": 22,
    "start_time": "2022-02-20T10:27:19.823Z"
   },
   {
    "duration": 414,
    "start_time": "2022-02-20T10:27:19.848Z"
   },
   {
    "duration": 433,
    "start_time": "2022-02-20T10:27:20.264Z"
   },
   {
    "duration": 347,
    "start_time": "2022-02-20T10:27:20.699Z"
   },
   {
    "duration": 327,
    "start_time": "2022-02-20T10:27:21.048Z"
   },
   {
    "duration": 9,
    "start_time": "2022-02-20T10:27:21.377Z"
   },
   {
    "duration": 132,
    "start_time": "2022-02-20T10:27:21.387Z"
   },
   {
    "duration": 389,
    "start_time": "2022-02-20T10:27:21.521Z"
   },
   {
    "duration": 11,
    "start_time": "2022-02-20T10:27:21.912Z"
   },
   {
    "duration": 11,
    "start_time": "2022-02-20T10:27:21.924Z"
   },
   {
    "duration": 423,
    "start_time": "2022-02-20T10:27:21.937Z"
   },
   {
    "duration": 487,
    "start_time": "2022-02-20T10:27:22.361Z"
   },
   {
    "duration": 6,
    "start_time": "2022-02-20T10:27:22.850Z"
   },
   {
    "duration": 270,
    "start_time": "2022-02-20T10:27:22.857Z"
   },
   {
    "duration": 36,
    "start_time": "2022-02-20T10:27:23.129Z"
   },
   {
    "duration": 157,
    "start_time": "2022-02-20T10:27:23.167Z"
   },
   {
    "duration": 9,
    "start_time": "2022-02-20T10:27:23.326Z"
   },
   {
    "duration": 5,
    "start_time": "2022-02-20T10:27:23.337Z"
   },
   {
    "duration": 9,
    "start_time": "2022-02-20T10:27:23.344Z"
   },
   {
    "duration": 8,
    "start_time": "2022-02-20T10:27:23.355Z"
   },
   {
    "duration": 14,
    "start_time": "2022-02-20T10:27:23.366Z"
   },
   {
    "duration": 10,
    "start_time": "2022-02-20T10:27:23.382Z"
   },
   {
    "duration": 27,
    "start_time": "2022-02-20T10:27:23.393Z"
   },
   {
    "duration": 13,
    "start_time": "2022-02-20T10:27:23.422Z"
   },
   {
    "duration": 8,
    "start_time": "2022-02-20T10:27:23.437Z"
   },
   {
    "duration": 6,
    "start_time": "2022-02-20T10:27:32.716Z"
   },
   {
    "duration": 6,
    "start_time": "2022-02-20T10:27:33.225Z"
   },
   {
    "duration": 6,
    "start_time": "2022-02-20T10:27:34.586Z"
   },
   {
    "duration": 5,
    "start_time": "2022-02-20T10:27:37.438Z"
   },
   {
    "duration": 6,
    "start_time": "2022-02-20T10:27:41.159Z"
   },
   {
    "duration": 9,
    "start_time": "2022-02-20T10:28:25.976Z"
   },
   {
    "duration": 11,
    "start_time": "2022-02-20T10:29:53.412Z"
   },
   {
    "duration": 18,
    "start_time": "2022-02-20T10:30:01.524Z"
   },
   {
    "duration": 10,
    "start_time": "2022-02-20T10:31:48.796Z"
   },
   {
    "duration": 10,
    "start_time": "2022-02-20T10:31:58.604Z"
   },
   {
    "duration": 9,
    "start_time": "2022-02-20T10:34:49.811Z"
   },
   {
    "duration": 3,
    "start_time": "2022-02-20T10:34:55.588Z"
   },
   {
    "duration": 37,
    "start_time": "2022-02-20T10:34:55.595Z"
   },
   {
    "duration": 8,
    "start_time": "2022-02-20T10:34:55.635Z"
   },
   {
    "duration": 8,
    "start_time": "2022-02-20T10:34:55.645Z"
   },
   {
    "duration": 7,
    "start_time": "2022-02-20T10:34:55.654Z"
   },
   {
    "duration": 16,
    "start_time": "2022-02-20T10:34:55.662Z"
   },
   {
    "duration": 10,
    "start_time": "2022-02-20T10:34:55.680Z"
   },
   {
    "duration": 29,
    "start_time": "2022-02-20T10:34:55.692Z"
   },
   {
    "duration": 13,
    "start_time": "2022-02-20T10:34:55.723Z"
   },
   {
    "duration": 10,
    "start_time": "2022-02-20T10:34:55.739Z"
   },
   {
    "duration": 10,
    "start_time": "2022-02-20T10:34:55.751Z"
   },
   {
    "duration": 10,
    "start_time": "2022-02-20T10:34:55.762Z"
   },
   {
    "duration": 16,
    "start_time": "2022-02-20T10:34:55.774Z"
   },
   {
    "duration": 9,
    "start_time": "2022-02-20T10:34:55.791Z"
   },
   {
    "duration": 5,
    "start_time": "2022-02-20T10:34:55.819Z"
   },
   {
    "duration": 6,
    "start_time": "2022-02-20T10:34:55.825Z"
   },
   {
    "duration": 12,
    "start_time": "2022-02-20T10:34:55.832Z"
   },
   {
    "duration": 10,
    "start_time": "2022-02-20T10:34:55.847Z"
   },
   {
    "duration": 7,
    "start_time": "2022-02-20T10:34:55.859Z"
   },
   {
    "duration": 17,
    "start_time": "2022-02-20T10:34:55.868Z"
   },
   {
    "duration": 37,
    "start_time": "2022-02-20T10:34:55.886Z"
   },
   {
    "duration": 12,
    "start_time": "2022-02-20T10:34:55.925Z"
   },
   {
    "duration": 6,
    "start_time": "2022-02-20T10:34:55.939Z"
   },
   {
    "duration": 372,
    "start_time": "2022-02-20T10:34:55.946Z"
   },
   {
    "duration": 382,
    "start_time": "2022-02-20T10:34:56.320Z"
   },
   {
    "duration": 15,
    "start_time": "2022-02-20T10:34:56.704Z"
   },
   {
    "duration": 11,
    "start_time": "2022-02-20T10:34:56.721Z"
   },
   {
    "duration": 418,
    "start_time": "2022-02-20T10:34:56.736Z"
   },
   {
    "duration": 491,
    "start_time": "2022-02-20T10:34:57.156Z"
   },
   {
    "duration": 340,
    "start_time": "2022-02-20T10:34:57.649Z"
   },
   {
    "duration": 316,
    "start_time": "2022-02-20T10:34:57.991Z"
   },
   {
    "duration": 15,
    "start_time": "2022-02-20T10:34:58.309Z"
   },
   {
    "duration": 140,
    "start_time": "2022-02-20T10:34:58.326Z"
   },
   {
    "duration": 369,
    "start_time": "2022-02-20T10:34:58.468Z"
   },
   {
    "duration": 5,
    "start_time": "2022-02-20T10:34:58.839Z"
   },
   {
    "duration": 7,
    "start_time": "2022-02-20T10:34:58.846Z"
   },
   {
    "duration": 386,
    "start_time": "2022-02-20T10:34:58.855Z"
   },
   {
    "duration": 405,
    "start_time": "2022-02-20T10:34:59.243Z"
   },
   {
    "duration": 7,
    "start_time": "2022-02-20T10:34:59.650Z"
   },
   {
    "duration": 298,
    "start_time": "2022-02-20T10:34:59.659Z"
   },
   {
    "duration": 31,
    "start_time": "2022-02-20T10:34:59.959Z"
   },
   {
    "duration": 150,
    "start_time": "2022-02-20T10:34:59.992Z"
   },
   {
    "duration": 7,
    "start_time": "2022-02-20T10:35:00.144Z"
   },
   {
    "duration": 28,
    "start_time": "2022-02-20T10:35:00.152Z"
   },
   {
    "duration": 43,
    "start_time": "2022-02-20T10:35:00.183Z"
   },
   {
    "duration": 21,
    "start_time": "2022-02-20T10:35:00.228Z"
   },
   {
    "duration": 44,
    "start_time": "2022-02-20T10:35:00.251Z"
   },
   {
    "duration": 14,
    "start_time": "2022-02-20T10:35:00.297Z"
   },
   {
    "duration": 33,
    "start_time": "2022-02-20T10:35:00.312Z"
   },
   {
    "duration": 22,
    "start_time": "2022-02-20T10:35:00.347Z"
   },
   {
    "duration": 16,
    "start_time": "2022-02-20T10:35:00.371Z"
   },
   {
    "duration": 22,
    "start_time": "2022-02-20T10:35:00.389Z"
   },
   {
    "duration": 25,
    "start_time": "2022-02-20T10:35:00.413Z"
   },
   {
    "duration": 20,
    "start_time": "2022-02-20T10:35:00.440Z"
   },
   {
    "duration": 31,
    "start_time": "2022-02-20T10:35:00.462Z"
   },
   {
    "duration": 3,
    "start_time": "2022-02-20T10:35:05.184Z"
   },
   {
    "duration": 37,
    "start_time": "2022-02-20T10:35:05.192Z"
   },
   {
    "duration": 12,
    "start_time": "2022-02-20T10:35:05.232Z"
   },
   {
    "duration": 11,
    "start_time": "2022-02-20T10:35:05.247Z"
   },
   {
    "duration": 9,
    "start_time": "2022-02-20T10:35:05.260Z"
   },
   {
    "duration": 16,
    "start_time": "2022-02-20T10:35:05.271Z"
   },
   {
    "duration": 37,
    "start_time": "2022-02-20T10:35:05.289Z"
   },
   {
    "duration": 13,
    "start_time": "2022-02-20T10:35:05.328Z"
   },
   {
    "duration": 19,
    "start_time": "2022-02-20T10:35:05.344Z"
   },
   {
    "duration": 16,
    "start_time": "2022-02-20T10:35:05.366Z"
   },
   {
    "duration": 8,
    "start_time": "2022-02-20T10:35:05.384Z"
   },
   {
    "duration": 26,
    "start_time": "2022-02-20T10:35:05.394Z"
   },
   {
    "duration": 18,
    "start_time": "2022-02-20T10:35:05.421Z"
   },
   {
    "duration": 13,
    "start_time": "2022-02-20T10:35:05.441Z"
   },
   {
    "duration": 10,
    "start_time": "2022-02-20T10:35:05.456Z"
   },
   {
    "duration": 16,
    "start_time": "2022-02-20T10:35:05.468Z"
   },
   {
    "duration": 22,
    "start_time": "2022-02-20T10:35:05.486Z"
   },
   {
    "duration": 22,
    "start_time": "2022-02-20T10:35:05.510Z"
   },
   {
    "duration": 11,
    "start_time": "2022-02-20T10:35:05.533Z"
   },
   {
    "duration": 21,
    "start_time": "2022-02-20T10:35:05.546Z"
   },
   {
    "duration": 8,
    "start_time": "2022-02-20T10:35:05.568Z"
   },
   {
    "duration": 13,
    "start_time": "2022-02-20T10:35:05.578Z"
   },
   {
    "duration": 6,
    "start_time": "2022-02-20T10:35:05.593Z"
   },
   {
    "duration": 375,
    "start_time": "2022-02-20T10:35:05.603Z"
   },
   {
    "duration": 291,
    "start_time": "2022-02-20T10:35:05.980Z"
   },
   {
    "duration": 10,
    "start_time": "2022-02-20T10:35:06.273Z"
   },
   {
    "duration": 28,
    "start_time": "2022-02-20T10:35:06.285Z"
   },
   {
    "duration": 340,
    "start_time": "2022-02-20T10:35:06.318Z"
   },
   {
    "duration": 414,
    "start_time": "2022-02-20T10:35:06.660Z"
   },
   {
    "duration": 652,
    "start_time": "2022-02-20T10:35:07.075Z"
   },
   {
    "duration": 307,
    "start_time": "2022-02-20T10:35:07.728Z"
   },
   {
    "duration": 9,
    "start_time": "2022-02-20T10:35:08.037Z"
   },
   {
    "duration": 142,
    "start_time": "2022-02-20T10:35:08.047Z"
   },
   {
    "duration": 413,
    "start_time": "2022-02-20T10:35:08.191Z"
   },
   {
    "duration": 4,
    "start_time": "2022-02-20T10:35:08.605Z"
   },
   {
    "duration": 25,
    "start_time": "2022-02-20T10:35:08.611Z"
   },
   {
    "duration": 485,
    "start_time": "2022-02-20T10:35:08.638Z"
   },
   {
    "duration": 386,
    "start_time": "2022-02-20T10:35:09.124Z"
   },
   {
    "duration": 6,
    "start_time": "2022-02-20T10:35:09.512Z"
   },
   {
    "duration": 270,
    "start_time": "2022-02-20T10:35:09.520Z"
   },
   {
    "duration": 40,
    "start_time": "2022-02-20T10:35:09.791Z"
   },
   {
    "duration": 134,
    "start_time": "2022-02-20T10:35:09.833Z"
   },
   {
    "duration": 5,
    "start_time": "2022-02-20T10:35:09.969Z"
   },
   {
    "duration": 16,
    "start_time": "2022-02-20T10:35:09.976Z"
   },
   {
    "duration": 16,
    "start_time": "2022-02-20T10:35:09.994Z"
   },
   {
    "duration": 25,
    "start_time": "2022-02-20T10:35:10.012Z"
   },
   {
    "duration": 17,
    "start_time": "2022-02-20T10:35:10.039Z"
   },
   {
    "duration": 39,
    "start_time": "2022-02-20T10:35:10.059Z"
   },
   {
    "duration": 16,
    "start_time": "2022-02-20T10:35:10.101Z"
   },
   {
    "duration": 20,
    "start_time": "2022-02-20T10:35:10.119Z"
   },
   {
    "duration": 13,
    "start_time": "2022-02-20T10:35:10.141Z"
   },
   {
    "duration": 34,
    "start_time": "2022-02-20T10:35:10.155Z"
   },
   {
    "duration": 23,
    "start_time": "2022-02-20T10:35:10.191Z"
   },
   {
    "duration": 15,
    "start_time": "2022-02-20T10:35:10.216Z"
   },
   {
    "duration": 28,
    "start_time": "2022-02-20T10:35:10.232Z"
   },
   {
    "duration": 3,
    "start_time": "2022-02-20T10:43:09.865Z"
   },
   {
    "duration": 5730,
    "start_time": "2022-02-20T10:43:33.746Z"
   },
   {
    "duration": 15,
    "start_time": "2022-02-20T10:44:33.502Z"
   },
   {
    "duration": 3,
    "start_time": "2022-02-20T10:58:14.899Z"
   },
   {
    "duration": 5,
    "start_time": "2022-02-20T10:58:22.503Z"
   },
   {
    "duration": 17,
    "start_time": "2022-02-20T10:58:44.676Z"
   },
   {
    "duration": 16,
    "start_time": "2022-02-20T10:58:53.150Z"
   },
   {
    "duration": 15,
    "start_time": "2022-02-20T10:59:10.170Z"
   },
   {
    "duration": 458,
    "start_time": "2022-02-20T11:00:56.486Z"
   },
   {
    "duration": 89,
    "start_time": "2022-02-20T11:01:11.741Z"
   },
   {
    "duration": 324,
    "start_time": "2022-02-20T11:01:45.536Z"
   },
   {
    "duration": 87,
    "start_time": "2022-02-20T11:01:56.754Z"
   },
   {
    "duration": 279,
    "start_time": "2022-02-20T11:02:10.949Z"
   },
   {
    "duration": 72,
    "start_time": "2022-02-20T11:02:25.902Z"
   },
   {
    "duration": 3386,
    "start_time": "2022-02-20T11:02:31.391Z"
   },
   {
    "duration": 24,
    "start_time": "2022-02-20T11:05:31.821Z"
   },
   {
    "duration": 272,
    "start_time": "2022-02-20T11:05:47.195Z"
   },
   {
    "duration": 26,
    "start_time": "2022-02-20T11:05:57.031Z"
   },
   {
    "duration": 8,
    "start_time": "2022-02-20T11:06:01.602Z"
   },
   {
    "duration": 319,
    "start_time": "2022-02-20T11:06:20.452Z"
   },
   {
    "duration": 963,
    "start_time": "2022-02-20T11:06:40.715Z"
   },
   {
    "duration": 87,
    "start_time": "2022-02-20T11:06:46.094Z"
   },
   {
    "duration": 110,
    "start_time": "2022-02-20T11:08:36.962Z"
   },
   {
    "duration": 559,
    "start_time": "2022-02-20T11:09:39.274Z"
   },
   {
    "duration": 20,
    "start_time": "2022-02-20T11:09:45.622Z"
   },
   {
    "duration": 26,
    "start_time": "2022-02-20T11:09:57.089Z"
   },
   {
    "duration": 87,
    "start_time": "2022-02-20T11:10:54.304Z"
   },
   {
    "duration": 841,
    "start_time": "2022-02-20T11:11:03.982Z"
   },
   {
    "duration": 3,
    "start_time": "2022-02-20T11:11:39.101Z"
   },
   {
    "duration": 46,
    "start_time": "2022-02-20T11:11:39.106Z"
   },
   {
    "duration": 8,
    "start_time": "2022-02-20T11:11:39.154Z"
   },
   {
    "duration": 10,
    "start_time": "2022-02-20T11:11:39.165Z"
   },
   {
    "duration": 11,
    "start_time": "2022-02-20T11:11:39.177Z"
   },
   {
    "duration": 15,
    "start_time": "2022-02-20T11:11:39.190Z"
   },
   {
    "duration": 8,
    "start_time": "2022-02-20T11:11:39.207Z"
   },
   {
    "duration": 13,
    "start_time": "2022-02-20T11:11:39.217Z"
   },
   {
    "duration": 15,
    "start_time": "2022-02-20T11:11:39.233Z"
   },
   {
    "duration": 25,
    "start_time": "2022-02-20T11:11:39.251Z"
   },
   {
    "duration": 11,
    "start_time": "2022-02-20T11:11:39.278Z"
   },
   {
    "duration": 24,
    "start_time": "2022-02-20T11:11:39.291Z"
   },
   {
    "duration": 22,
    "start_time": "2022-02-20T11:11:39.317Z"
   },
   {
    "duration": 16,
    "start_time": "2022-02-20T11:11:39.341Z"
   },
   {
    "duration": 6,
    "start_time": "2022-02-20T11:11:39.359Z"
   },
   {
    "duration": 7,
    "start_time": "2022-02-20T11:11:39.366Z"
   },
   {
    "duration": 12,
    "start_time": "2022-02-20T11:11:39.374Z"
   },
   {
    "duration": 15,
    "start_time": "2022-02-20T11:11:39.387Z"
   },
   {
    "duration": 5,
    "start_time": "2022-02-20T11:11:39.404Z"
   },
   {
    "duration": 821,
    "start_time": "2022-02-20T11:11:41.646Z"
   },
   {
    "duration": 20,
    "start_time": "2022-02-20T11:12:53.230Z"
   },
   {
    "duration": 817,
    "start_time": "2022-02-20T11:13:11.151Z"
   },
   {
    "duration": 20,
    "start_time": "2022-02-20T11:13:21.152Z"
   },
   {
    "duration": 5,
    "start_time": "2022-02-20T11:18:43.398Z"
   },
   {
    "duration": 220,
    "start_time": "2022-02-20T11:19:01.303Z"
   },
   {
    "duration": 3,
    "start_time": "2022-02-20T11:19:24.521Z"
   },
   {
    "duration": 52,
    "start_time": "2022-02-20T11:19:24.531Z"
   },
   {
    "duration": 14,
    "start_time": "2022-02-20T11:19:24.585Z"
   },
   {
    "duration": 21,
    "start_time": "2022-02-20T11:19:24.601Z"
   },
   {
    "duration": 18,
    "start_time": "2022-02-20T11:19:24.624Z"
   },
   {
    "duration": 16,
    "start_time": "2022-02-20T11:19:24.644Z"
   },
   {
    "duration": 15,
    "start_time": "2022-02-20T11:19:24.661Z"
   },
   {
    "duration": 6,
    "start_time": "2022-02-20T11:19:24.678Z"
   },
   {
    "duration": 15,
    "start_time": "2022-02-20T11:19:24.686Z"
   },
   {
    "duration": 20,
    "start_time": "2022-02-20T11:19:24.704Z"
   },
   {
    "duration": 15,
    "start_time": "2022-02-20T11:19:24.726Z"
   },
   {
    "duration": 10,
    "start_time": "2022-02-20T11:19:24.743Z"
   },
   {
    "duration": 11,
    "start_time": "2022-02-20T11:19:24.755Z"
   },
   {
    "duration": 12,
    "start_time": "2022-02-20T11:19:24.768Z"
   },
   {
    "duration": 8,
    "start_time": "2022-02-20T11:19:24.782Z"
   },
   {
    "duration": 8,
    "start_time": "2022-02-20T11:19:24.791Z"
   },
   {
    "duration": 25,
    "start_time": "2022-02-20T11:19:24.801Z"
   },
   {
    "duration": 11,
    "start_time": "2022-02-20T11:19:24.828Z"
   },
   {
    "duration": 5,
    "start_time": "2022-02-20T11:19:24.840Z"
   },
   {
    "duration": 25,
    "start_time": "2022-02-20T11:19:24.847Z"
   },
   {
    "duration": 7,
    "start_time": "2022-02-20T11:19:24.874Z"
   },
   {
    "duration": 15,
    "start_time": "2022-02-20T11:19:27.071Z"
   },
   {
    "duration": 222,
    "start_time": "2022-02-20T11:20:00.913Z"
   },
   {
    "duration": 3,
    "start_time": "2022-02-20T11:20:04.686Z"
   },
   {
    "duration": 47,
    "start_time": "2022-02-20T11:20:04.695Z"
   },
   {
    "duration": 20,
    "start_time": "2022-02-20T11:20:04.745Z"
   },
   {
    "duration": 16,
    "start_time": "2022-02-20T11:20:04.767Z"
   },
   {
    "duration": 34,
    "start_time": "2022-02-20T11:20:04.786Z"
   },
   {
    "duration": 26,
    "start_time": "2022-02-20T11:20:04.822Z"
   },
   {
    "duration": 20,
    "start_time": "2022-02-20T11:20:04.850Z"
   },
   {
    "duration": 17,
    "start_time": "2022-02-20T11:20:04.873Z"
   },
   {
    "duration": 37,
    "start_time": "2022-02-20T11:20:04.892Z"
   },
   {
    "duration": 36,
    "start_time": "2022-02-20T11:20:04.933Z"
   },
   {
    "duration": 14,
    "start_time": "2022-02-20T11:20:04.972Z"
   },
   {
    "duration": 25,
    "start_time": "2022-02-20T11:20:04.988Z"
   },
   {
    "duration": 17,
    "start_time": "2022-02-20T11:20:05.015Z"
   },
   {
    "duration": 15,
    "start_time": "2022-02-20T11:20:05.033Z"
   },
   {
    "duration": 24,
    "start_time": "2022-02-20T11:20:05.050Z"
   },
   {
    "duration": 21,
    "start_time": "2022-02-20T11:20:05.076Z"
   },
   {
    "duration": 36,
    "start_time": "2022-02-20T11:20:05.099Z"
   },
   {
    "duration": 29,
    "start_time": "2022-02-20T11:20:05.137Z"
   },
   {
    "duration": 16,
    "start_time": "2022-02-20T11:20:05.168Z"
   },
   {
    "duration": 37,
    "start_time": "2022-02-20T11:20:05.186Z"
   },
   {
    "duration": 21,
    "start_time": "2022-02-20T11:20:05.225Z"
   },
   {
    "duration": 11,
    "start_time": "2022-02-20T11:20:06.920Z"
   },
   {
    "duration": 11,
    "start_time": "2022-02-20T11:20:09.327Z"
   },
   {
    "duration": 4,
    "start_time": "2022-02-20T11:21:01.612Z"
   },
   {
    "duration": 44,
    "start_time": "2022-02-20T11:21:01.623Z"
   },
   {
    "duration": 9,
    "start_time": "2022-02-20T11:21:01.670Z"
   },
   {
    "duration": 18,
    "start_time": "2022-02-20T11:21:01.681Z"
   },
   {
    "duration": 31,
    "start_time": "2022-02-20T11:21:01.701Z"
   },
   {
    "duration": 24,
    "start_time": "2022-02-20T11:21:01.734Z"
   },
   {
    "duration": 18,
    "start_time": "2022-02-20T11:21:01.759Z"
   },
   {
    "duration": 15,
    "start_time": "2022-02-20T11:21:01.779Z"
   },
   {
    "duration": 39,
    "start_time": "2022-02-20T11:21:01.796Z"
   },
   {
    "duration": 21,
    "start_time": "2022-02-20T11:21:01.838Z"
   },
   {
    "duration": 11,
    "start_time": "2022-02-20T11:21:01.862Z"
   },
   {
    "duration": 10,
    "start_time": "2022-02-20T11:21:01.875Z"
   },
   {
    "duration": 18,
    "start_time": "2022-02-20T11:21:01.887Z"
   },
   {
    "duration": 36,
    "start_time": "2022-02-20T11:21:01.907Z"
   },
   {
    "duration": 10,
    "start_time": "2022-02-20T11:21:01.946Z"
   },
   {
    "duration": 10,
    "start_time": "2022-02-20T11:21:01.958Z"
   },
   {
    "duration": 17,
    "start_time": "2022-02-20T11:21:01.970Z"
   },
   {
    "duration": 25,
    "start_time": "2022-02-20T11:21:01.988Z"
   },
   {
    "duration": 11,
    "start_time": "2022-02-20T11:21:02.015Z"
   },
   {
    "duration": 30,
    "start_time": "2022-02-20T11:21:02.028Z"
   },
   {
    "duration": 8,
    "start_time": "2022-02-20T11:21:02.060Z"
   },
   {
    "duration": 27,
    "start_time": "2022-02-20T11:21:02.070Z"
   },
   {
    "duration": 16,
    "start_time": "2022-02-20T11:21:02.099Z"
   },
   {
    "duration": 13,
    "start_time": "2022-02-20T11:21:02.116Z"
   },
   {
    "duration": 387,
    "start_time": "2022-02-20T11:21:02.131Z"
   },
   {
    "duration": 315,
    "start_time": "2022-02-20T11:21:02.520Z"
   },
   {
    "duration": 12,
    "start_time": "2022-02-20T11:21:02.837Z"
   },
   {
    "duration": 11,
    "start_time": "2022-02-20T11:21:02.853Z"
   },
   {
    "duration": 341,
    "start_time": "2022-02-20T11:21:02.866Z"
   },
   {
    "duration": 447,
    "start_time": "2022-02-20T11:21:03.209Z"
   },
   {
    "duration": 489,
    "start_time": "2022-02-20T11:21:03.659Z"
   },
   {
    "duration": 336,
    "start_time": "2022-02-20T11:21:04.150Z"
   },
   {
    "duration": 9,
    "start_time": "2022-02-20T11:21:04.488Z"
   },
   {
    "duration": 159,
    "start_time": "2022-02-20T11:21:04.499Z"
   },
   {
    "duration": 408,
    "start_time": "2022-02-20T11:21:04.660Z"
   },
   {
    "duration": 5,
    "start_time": "2022-02-20T11:21:05.070Z"
   },
   {
    "duration": 13,
    "start_time": "2022-02-20T11:21:05.076Z"
   },
   {
    "duration": 476,
    "start_time": "2022-02-20T11:21:05.091Z"
   },
   {
    "duration": 375,
    "start_time": "2022-02-20T11:21:05.570Z"
   },
   {
    "duration": 5,
    "start_time": "2022-02-20T11:21:05.947Z"
   },
   {
    "duration": 306,
    "start_time": "2022-02-20T11:21:05.953Z"
   },
   {
    "duration": 49,
    "start_time": "2022-02-20T11:21:06.261Z"
   },
   {
    "duration": 160,
    "start_time": "2022-02-20T11:21:06.319Z"
   },
   {
    "duration": 43,
    "start_time": "2022-02-20T11:21:06.480Z"
   },
   {
    "duration": 20,
    "start_time": "2022-02-20T11:21:06.526Z"
   },
   {
    "duration": 14,
    "start_time": "2022-02-20T11:21:06.548Z"
   },
   {
    "duration": 9,
    "start_time": "2022-02-20T11:21:06.564Z"
   },
   {
    "duration": 13,
    "start_time": "2022-02-20T11:21:06.575Z"
   },
   {
    "duration": 9,
    "start_time": "2022-02-20T11:21:06.590Z"
   },
   {
    "duration": 6,
    "start_time": "2022-02-20T11:21:06.600Z"
   },
   {
    "duration": 10,
    "start_time": "2022-02-20T11:21:06.607Z"
   },
   {
    "duration": 10,
    "start_time": "2022-02-20T11:21:06.619Z"
   },
   {
    "duration": 13,
    "start_time": "2022-02-20T11:21:06.631Z"
   },
   {
    "duration": 8,
    "start_time": "2022-02-20T11:21:06.646Z"
   },
   {
    "duration": 9,
    "start_time": "2022-02-20T11:21:06.655Z"
   },
   {
    "duration": 5,
    "start_time": "2022-02-20T11:21:06.665Z"
   },
   {
    "duration": 14,
    "start_time": "2022-02-20T11:21:06.672Z"
   },
   {
    "duration": 15,
    "start_time": "2022-02-20T11:21:06.688Z"
   },
   {
    "duration": 4,
    "start_time": "2022-02-20T11:21:14.888Z"
   },
   {
    "duration": 35,
    "start_time": "2022-02-20T11:21:14.897Z"
   },
   {
    "duration": 11,
    "start_time": "2022-02-20T11:21:14.935Z"
   },
   {
    "duration": 8,
    "start_time": "2022-02-20T11:21:14.949Z"
   },
   {
    "duration": 9,
    "start_time": "2022-02-20T11:21:14.959Z"
   },
   {
    "duration": 13,
    "start_time": "2022-02-20T11:21:14.970Z"
   },
   {
    "duration": 8,
    "start_time": "2022-02-20T11:21:14.984Z"
   },
   {
    "duration": 33,
    "start_time": "2022-02-20T11:21:14.994Z"
   },
   {
    "duration": 21,
    "start_time": "2022-02-20T11:21:15.031Z"
   },
   {
    "duration": 16,
    "start_time": "2022-02-20T11:21:15.056Z"
   },
   {
    "duration": 11,
    "start_time": "2022-02-20T11:21:15.075Z"
   },
   {
    "duration": 12,
    "start_time": "2022-02-20T11:21:15.088Z"
   },
   {
    "duration": 29,
    "start_time": "2022-02-20T11:21:15.102Z"
   },
   {
    "duration": 21,
    "start_time": "2022-02-20T11:21:15.132Z"
   },
   {
    "duration": 8,
    "start_time": "2022-02-20T11:21:15.156Z"
   },
   {
    "duration": 11,
    "start_time": "2022-02-20T11:21:15.167Z"
   },
   {
    "duration": 14,
    "start_time": "2022-02-20T11:21:15.180Z"
   },
   {
    "duration": 26,
    "start_time": "2022-02-20T11:21:15.196Z"
   },
   {
    "duration": 3,
    "start_time": "2022-02-20T11:21:15.225Z"
   },
   {
    "duration": 33,
    "start_time": "2022-02-20T11:21:15.230Z"
   },
   {
    "duration": 8,
    "start_time": "2022-02-20T11:21:15.265Z"
   },
   {
    "duration": 15,
    "start_time": "2022-02-20T11:21:18.349Z"
   },
   {
    "duration": 218,
    "start_time": "2022-02-20T11:21:24.148Z"
   },
   {
    "duration": 8,
    "start_time": "2022-02-20T11:21:28.535Z"
   },
   {
    "duration": 42,
    "start_time": "2022-02-20T11:21:28.545Z"
   },
   {
    "duration": 9,
    "start_time": "2022-02-20T11:21:28.590Z"
   },
   {
    "duration": 7,
    "start_time": "2022-02-20T11:21:28.602Z"
   },
   {
    "duration": 7,
    "start_time": "2022-02-20T11:21:28.611Z"
   },
   {
    "duration": 24,
    "start_time": "2022-02-20T11:21:28.620Z"
   },
   {
    "duration": 8,
    "start_time": "2022-02-20T11:21:28.646Z"
   },
   {
    "duration": 5,
    "start_time": "2022-02-20T11:21:28.657Z"
   },
   {
    "duration": 13,
    "start_time": "2022-02-20T11:21:28.664Z"
   },
   {
    "duration": 19,
    "start_time": "2022-02-20T11:21:28.679Z"
   },
   {
    "duration": 20,
    "start_time": "2022-02-20T11:21:28.700Z"
   },
   {
    "duration": 23,
    "start_time": "2022-02-20T11:21:28.723Z"
   },
   {
    "duration": 10,
    "start_time": "2022-02-20T11:21:28.747Z"
   },
   {
    "duration": 16,
    "start_time": "2022-02-20T11:21:28.759Z"
   },
   {
    "duration": 13,
    "start_time": "2022-02-20T11:21:28.776Z"
   },
   {
    "duration": 16,
    "start_time": "2022-02-20T11:21:28.790Z"
   },
   {
    "duration": 15,
    "start_time": "2022-02-20T11:21:28.808Z"
   },
   {
    "duration": 21,
    "start_time": "2022-02-20T11:21:28.825Z"
   },
   {
    "duration": 7,
    "start_time": "2022-02-20T11:21:28.848Z"
   },
   {
    "duration": 16,
    "start_time": "2022-02-20T11:21:28.856Z"
   },
   {
    "duration": 6,
    "start_time": "2022-02-20T11:21:28.874Z"
   },
   {
    "duration": 10,
    "start_time": "2022-02-20T11:21:31.578Z"
   },
   {
    "duration": 263,
    "start_time": "2022-02-20T11:21:36.865Z"
   },
   {
    "duration": 4,
    "start_time": "2022-02-20T11:21:49.685Z"
   },
   {
    "duration": 48,
    "start_time": "2022-02-20T11:21:49.697Z"
   },
   {
    "duration": 14,
    "start_time": "2022-02-20T11:21:49.748Z"
   },
   {
    "duration": 10,
    "start_time": "2022-02-20T11:21:49.764Z"
   },
   {
    "duration": 35,
    "start_time": "2022-02-20T11:21:49.776Z"
   },
   {
    "duration": 26,
    "start_time": "2022-02-20T11:21:49.813Z"
   },
   {
    "duration": 28,
    "start_time": "2022-02-20T11:21:49.841Z"
   },
   {
    "duration": 20,
    "start_time": "2022-02-20T11:21:49.871Z"
   },
   {
    "duration": 17,
    "start_time": "2022-02-20T11:21:49.893Z"
   },
   {
    "duration": 27,
    "start_time": "2022-02-20T11:21:49.913Z"
   },
   {
    "duration": 30,
    "start_time": "2022-02-20T11:21:49.943Z"
   },
   {
    "duration": 9,
    "start_time": "2022-02-20T11:21:49.975Z"
   },
   {
    "duration": 16,
    "start_time": "2022-02-20T11:21:49.986Z"
   },
   {
    "duration": 32,
    "start_time": "2022-02-20T11:21:50.004Z"
   },
   {
    "duration": 33,
    "start_time": "2022-02-20T11:21:50.038Z"
   },
   {
    "duration": 16,
    "start_time": "2022-02-20T11:21:50.073Z"
   },
   {
    "duration": 41,
    "start_time": "2022-02-20T11:21:50.092Z"
   },
   {
    "duration": 28,
    "start_time": "2022-02-20T11:21:50.136Z"
   },
   {
    "duration": 12,
    "start_time": "2022-02-20T11:21:50.166Z"
   },
   {
    "duration": 33,
    "start_time": "2022-02-20T11:21:50.180Z"
   },
   {
    "duration": 16,
    "start_time": "2022-02-20T11:21:50.215Z"
   },
   {
    "duration": 13,
    "start_time": "2022-02-20T11:21:51.916Z"
   },
   {
    "duration": 12,
    "start_time": "2022-02-20T11:21:53.570Z"
   },
   {
    "duration": 6,
    "start_time": "2022-02-20T11:21:54.651Z"
   },
   {
    "duration": 380,
    "start_time": "2022-02-20T11:21:55.239Z"
   },
   {
    "duration": 4,
    "start_time": "2022-02-20T11:27:58.241Z"
   },
   {
    "duration": 46,
    "start_time": "2022-02-20T11:27:58.250Z"
   },
   {
    "duration": 12,
    "start_time": "2022-02-20T11:27:58.298Z"
   },
   {
    "duration": 9,
    "start_time": "2022-02-20T11:27:58.313Z"
   },
   {
    "duration": 24,
    "start_time": "2022-02-20T11:27:58.324Z"
   },
   {
    "duration": 10,
    "start_time": "2022-02-20T11:27:58.350Z"
   },
   {
    "duration": 8,
    "start_time": "2022-02-20T11:27:58.362Z"
   },
   {
    "duration": 7,
    "start_time": "2022-02-20T11:27:58.372Z"
   },
   {
    "duration": 12,
    "start_time": "2022-02-20T11:27:58.382Z"
   },
   {
    "duration": 36,
    "start_time": "2022-02-20T11:27:58.396Z"
   },
   {
    "duration": 10,
    "start_time": "2022-02-20T11:27:58.435Z"
   },
   {
    "duration": 7,
    "start_time": "2022-02-20T11:27:58.447Z"
   },
   {
    "duration": 9,
    "start_time": "2022-02-20T11:27:58.456Z"
   },
   {
    "duration": 10,
    "start_time": "2022-02-20T11:27:58.467Z"
   },
   {
    "duration": 6,
    "start_time": "2022-02-20T11:27:58.479Z"
   },
   {
    "duration": 33,
    "start_time": "2022-02-20T11:27:58.487Z"
   },
   {
    "duration": 20,
    "start_time": "2022-02-20T11:27:58.523Z"
   },
   {
    "duration": 11,
    "start_time": "2022-02-20T11:27:58.545Z"
   },
   {
    "duration": 5,
    "start_time": "2022-02-20T11:27:58.558Z"
   },
   {
    "duration": 15,
    "start_time": "2022-02-20T11:27:58.565Z"
   },
   {
    "duration": 43,
    "start_time": "2022-02-20T11:27:58.582Z"
   },
   {
    "duration": 477,
    "start_time": "2022-02-20T11:28:00.887Z"
   },
   {
    "duration": 20,
    "start_time": "2022-02-20T11:28:07.625Z"
   },
   {
    "duration": 19,
    "start_time": "2022-02-20T11:28:10.303Z"
   },
   {
    "duration": 12,
    "start_time": "2022-02-20T11:28:13.160Z"
   },
   {
    "duration": 4,
    "start_time": "2022-02-20T11:28:16.766Z"
   },
   {
    "duration": 47,
    "start_time": "2022-02-20T11:28:16.778Z"
   },
   {
    "duration": 18,
    "start_time": "2022-02-20T11:28:16.828Z"
   },
   {
    "duration": 36,
    "start_time": "2022-02-20T11:28:16.849Z"
   },
   {
    "duration": 21,
    "start_time": "2022-02-20T11:28:16.887Z"
   },
   {
    "duration": 34,
    "start_time": "2022-02-20T11:28:16.910Z"
   },
   {
    "duration": 29,
    "start_time": "2022-02-20T11:28:16.946Z"
   },
   {
    "duration": 33,
    "start_time": "2022-02-20T11:28:16.977Z"
   },
   {
    "duration": 33,
    "start_time": "2022-02-20T11:28:17.012Z"
   },
   {
    "duration": 22,
    "start_time": "2022-02-20T11:28:17.049Z"
   },
   {
    "duration": 8,
    "start_time": "2022-02-20T11:28:17.074Z"
   },
   {
    "duration": 8,
    "start_time": "2022-02-20T11:28:17.084Z"
   },
   {
    "duration": 13,
    "start_time": "2022-02-20T11:28:17.094Z"
   },
   {
    "duration": 17,
    "start_time": "2022-02-20T11:28:17.109Z"
   },
   {
    "duration": 13,
    "start_time": "2022-02-20T11:28:17.130Z"
   },
   {
    "duration": 10,
    "start_time": "2022-02-20T11:28:17.145Z"
   },
   {
    "duration": 18,
    "start_time": "2022-02-20T11:28:17.157Z"
   },
   {
    "duration": 19,
    "start_time": "2022-02-20T11:28:17.177Z"
   },
   {
    "duration": 6,
    "start_time": "2022-02-20T11:28:17.198Z"
   },
   {
    "duration": 21,
    "start_time": "2022-02-20T11:28:17.219Z"
   },
   {
    "duration": 9,
    "start_time": "2022-02-20T11:28:17.242Z"
   },
   {
    "duration": 16,
    "start_time": "2022-02-20T11:28:20.136Z"
   },
   {
    "duration": 3,
    "start_time": "2022-02-20T11:28:28.288Z"
   },
   {
    "duration": 34,
    "start_time": "2022-02-20T11:28:28.297Z"
   },
   {
    "duration": 11,
    "start_time": "2022-02-20T11:28:28.333Z"
   },
   {
    "duration": 7,
    "start_time": "2022-02-20T11:28:28.347Z"
   },
   {
    "duration": 9,
    "start_time": "2022-02-20T11:28:28.356Z"
   },
   {
    "duration": 11,
    "start_time": "2022-02-20T11:28:28.367Z"
   },
   {
    "duration": 7,
    "start_time": "2022-02-20T11:28:28.380Z"
   },
   {
    "duration": 43,
    "start_time": "2022-02-20T11:28:28.389Z"
   },
   {
    "duration": 24,
    "start_time": "2022-02-20T11:28:28.435Z"
   },
   {
    "duration": 11,
    "start_time": "2022-02-20T11:28:28.462Z"
   },
   {
    "duration": 7,
    "start_time": "2022-02-20T11:28:28.475Z"
   },
   {
    "duration": 7,
    "start_time": "2022-02-20T11:28:28.483Z"
   },
   {
    "duration": 10,
    "start_time": "2022-02-20T11:28:28.491Z"
   },
   {
    "duration": 28,
    "start_time": "2022-02-20T11:28:28.503Z"
   },
   {
    "duration": 16,
    "start_time": "2022-02-20T11:28:28.533Z"
   },
   {
    "duration": 7,
    "start_time": "2022-02-20T11:28:28.551Z"
   },
   {
    "duration": 13,
    "start_time": "2022-02-20T11:28:28.560Z"
   },
   {
    "duration": 12,
    "start_time": "2022-02-20T11:28:28.575Z"
   },
   {
    "duration": 7,
    "start_time": "2022-02-20T11:28:28.589Z"
   },
   {
    "duration": 35,
    "start_time": "2022-02-20T11:28:28.598Z"
   },
   {
    "duration": 10,
    "start_time": "2022-02-20T11:28:28.636Z"
   },
   {
    "duration": 13,
    "start_time": "2022-02-20T11:28:30.452Z"
   },
   {
    "duration": 14,
    "start_time": "2022-02-20T11:28:41.927Z"
   },
   {
    "duration": 8,
    "start_time": "2022-02-20T11:28:44.336Z"
   },
   {
    "duration": 468,
    "start_time": "2022-02-20T11:28:45.008Z"
   },
   {
    "duration": 298,
    "start_time": "2022-02-20T11:28:46.928Z"
   },
   {
    "duration": 12,
    "start_time": "2022-02-20T11:28:48.283Z"
   },
   {
    "duration": 16,
    "start_time": "2022-02-20T11:28:49.295Z"
   },
   {
    "duration": 478,
    "start_time": "2022-02-20T11:28:50.939Z"
   },
   {
    "duration": 420,
    "start_time": "2022-02-20T11:28:52.546Z"
   },
   {
    "duration": 332,
    "start_time": "2022-02-20T11:28:54.313Z"
   },
   {
    "duration": 470,
    "start_time": "2022-02-20T11:28:56.160Z"
   },
   {
    "duration": 10,
    "start_time": "2022-02-20T11:28:58.172Z"
   },
   {
    "duration": 165,
    "start_time": "2022-02-20T11:28:58.814Z"
   },
   {
    "duration": 376,
    "start_time": "2022-02-20T11:28:59.161Z"
   },
   {
    "duration": 7,
    "start_time": "2022-02-20T11:29:00.007Z"
   },
   {
    "duration": 5,
    "start_time": "2022-02-20T11:29:00.456Z"
   },
   {
    "duration": 368,
    "start_time": "2022-02-20T11:29:04.877Z"
   },
   {
    "duration": 5,
    "start_time": "2022-02-20T11:29:10.266Z"
   },
   {
    "duration": 7,
    "start_time": "2022-02-20T11:29:10.739Z"
   },
   {
    "duration": 3,
    "start_time": "2022-02-20T11:30:36.573Z"
   },
   {
    "duration": 42,
    "start_time": "2022-02-20T11:30:36.582Z"
   },
   {
    "duration": 8,
    "start_time": "2022-02-20T11:30:36.626Z"
   },
   {
    "duration": 6,
    "start_time": "2022-02-20T11:30:36.636Z"
   },
   {
    "duration": 7,
    "start_time": "2022-02-20T11:30:36.644Z"
   },
   {
    "duration": 20,
    "start_time": "2022-02-20T11:30:36.652Z"
   },
   {
    "duration": 9,
    "start_time": "2022-02-20T11:30:36.675Z"
   },
   {
    "duration": 6,
    "start_time": "2022-02-20T11:30:36.718Z"
   },
   {
    "duration": 22,
    "start_time": "2022-02-20T11:30:36.725Z"
   },
   {
    "duration": 10,
    "start_time": "2022-02-20T11:30:36.750Z"
   },
   {
    "duration": 8,
    "start_time": "2022-02-20T11:30:36.762Z"
   },
   {
    "duration": 11,
    "start_time": "2022-02-20T11:30:36.772Z"
   },
   {
    "duration": 35,
    "start_time": "2022-02-20T11:30:36.785Z"
   },
   {
    "duration": 14,
    "start_time": "2022-02-20T11:30:36.822Z"
   },
   {
    "duration": 6,
    "start_time": "2022-02-20T11:30:36.838Z"
   },
   {
    "duration": 27,
    "start_time": "2022-02-20T11:30:36.846Z"
   },
   {
    "duration": 31,
    "start_time": "2022-02-20T11:30:36.875Z"
   },
   {
    "duration": 21,
    "start_time": "2022-02-20T11:30:36.908Z"
   },
   {
    "duration": 16,
    "start_time": "2022-02-20T11:30:36.931Z"
   },
   {
    "duration": 25,
    "start_time": "2022-02-20T11:30:36.949Z"
   },
   {
    "duration": 20,
    "start_time": "2022-02-20T11:30:36.975Z"
   },
   {
    "duration": 30,
    "start_time": "2022-02-20T11:30:36.997Z"
   },
   {
    "duration": 32,
    "start_time": "2022-02-20T11:30:37.028Z"
   },
   {
    "duration": 36,
    "start_time": "2022-02-20T11:30:37.061Z"
   },
   {
    "duration": 379,
    "start_time": "2022-02-20T11:30:37.099Z"
   },
   {
    "duration": 292,
    "start_time": "2022-02-20T11:30:37.481Z"
   },
   {
    "duration": 11,
    "start_time": "2022-02-20T11:30:37.775Z"
   },
   {
    "duration": 33,
    "start_time": "2022-02-20T11:30:37.790Z"
   },
   {
    "duration": 493,
    "start_time": "2022-02-20T11:30:37.825Z"
   },
   {
    "duration": 426,
    "start_time": "2022-02-20T11:30:38.320Z"
   },
   {
    "duration": 344,
    "start_time": "2022-02-20T11:30:38.748Z"
   },
   {
    "duration": 326,
    "start_time": "2022-02-20T11:30:39.094Z"
   },
   {
    "duration": 8,
    "start_time": "2022-02-20T11:30:39.422Z"
   },
   {
    "duration": 143,
    "start_time": "2022-02-20T11:30:39.432Z"
   },
   {
    "duration": 378,
    "start_time": "2022-02-20T11:30:50.627Z"
   },
   {
    "duration": 5,
    "start_time": "2022-02-20T11:31:00.832Z"
   },
   {
    "duration": 7,
    "start_time": "2022-02-20T11:31:02.891Z"
   },
   {
    "duration": 399,
    "start_time": "2022-02-20T11:31:09.550Z"
   },
   {
    "duration": 368,
    "start_time": "2022-02-20T11:31:11.857Z"
   },
   {
    "duration": 17,
    "start_time": "2022-02-20T11:33:12.493Z"
   },
   {
    "duration": 11,
    "start_time": "2022-02-20T11:33:14.438Z"
   },
   {
    "duration": 13,
    "start_time": "2022-02-20T11:33:19.894Z"
   },
   {
    "duration": 15,
    "start_time": "2022-02-20T11:33:48.527Z"
   },
   {
    "duration": 18,
    "start_time": "2022-02-20T11:34:01.094Z"
   },
   {
    "duration": 231,
    "start_time": "2022-02-20T11:35:14.992Z"
   },
   {
    "duration": 361,
    "start_time": "2022-02-20T11:35:20.327Z"
   },
   {
    "duration": 226,
    "start_time": "2022-02-20T11:35:25.097Z"
   },
   {
    "duration": 21,
    "start_time": "2022-02-20T11:35:34.051Z"
   },
   {
    "duration": 18,
    "start_time": "2022-02-20T11:35:38.508Z"
   },
   {
    "duration": 19,
    "start_time": "2022-02-20T11:35:46.236Z"
   },
   {
    "duration": 16,
    "start_time": "2022-02-20T11:35:51.996Z"
   },
   {
    "duration": 18,
    "start_time": "2022-02-20T11:36:02.919Z"
   },
   {
    "duration": 3,
    "start_time": "2022-02-20T11:36:05.502Z"
   },
   {
    "duration": 38,
    "start_time": "2022-02-20T11:36:05.510Z"
   },
   {
    "duration": 8,
    "start_time": "2022-02-20T11:36:05.551Z"
   },
   {
    "duration": 12,
    "start_time": "2022-02-20T11:36:05.561Z"
   },
   {
    "duration": 9,
    "start_time": "2022-02-20T11:36:05.575Z"
   },
   {
    "duration": 14,
    "start_time": "2022-02-20T11:36:05.585Z"
   },
   {
    "duration": 12,
    "start_time": "2022-02-20T11:36:05.601Z"
   },
   {
    "duration": 9,
    "start_time": "2022-02-20T11:36:05.615Z"
   },
   {
    "duration": 20,
    "start_time": "2022-02-20T11:36:05.626Z"
   },
   {
    "duration": 12,
    "start_time": "2022-02-20T11:36:05.648Z"
   },
   {
    "duration": 9,
    "start_time": "2022-02-20T11:36:05.662Z"
   },
   {
    "duration": 15,
    "start_time": "2022-02-20T11:36:05.672Z"
   },
   {
    "duration": 13,
    "start_time": "2022-02-20T11:36:05.688Z"
   },
   {
    "duration": 17,
    "start_time": "2022-02-20T11:36:05.704Z"
   },
   {
    "duration": 6,
    "start_time": "2022-02-20T11:36:05.723Z"
   },
   {
    "duration": 10,
    "start_time": "2022-02-20T11:36:05.731Z"
   },
   {
    "duration": 13,
    "start_time": "2022-02-20T11:36:05.743Z"
   },
   {
    "duration": 18,
    "start_time": "2022-02-20T11:36:05.758Z"
   },
   {
    "duration": 9,
    "start_time": "2022-02-20T11:36:05.778Z"
   },
   {
    "duration": 18,
    "start_time": "2022-02-20T11:36:08.376Z"
   },
   {
    "duration": 9,
    "start_time": "2022-02-20T11:36:08.937Z"
   },
   {
    "duration": 11,
    "start_time": "2022-02-20T11:36:09.546Z"
   },
   {
    "duration": 12,
    "start_time": "2022-02-20T11:36:14.596Z"
   },
   {
    "duration": 6,
    "start_time": "2022-02-20T11:36:15.553Z"
   },
   {
    "duration": 341,
    "start_time": "2022-02-20T11:36:16.162Z"
   },
   {
    "duration": 272,
    "start_time": "2022-02-20T11:36:17.814Z"
   },
   {
    "duration": 11,
    "start_time": "2022-02-20T11:36:19.952Z"
   },
   {
    "duration": 16,
    "start_time": "2022-02-20T11:36:20.998Z"
   },
   {
    "duration": 312,
    "start_time": "2022-02-20T11:36:22.798Z"
   },
   {
    "duration": 388,
    "start_time": "2022-02-20T11:36:26.049Z"
   },
   {
    "duration": 444,
    "start_time": "2022-02-20T11:36:30.024Z"
   },
   {
    "duration": 412,
    "start_time": "2022-02-20T11:36:34.930Z"
   },
   {
    "duration": 9,
    "start_time": "2022-02-20T11:36:37.635Z"
   },
   {
    "duration": 133,
    "start_time": "2022-02-20T11:36:38.493Z"
   },
   {
    "duration": 413,
    "start_time": "2022-02-20T11:36:41.719Z"
   },
   {
    "duration": 5,
    "start_time": "2022-02-20T11:38:11.080Z"
   },
   {
    "duration": 5,
    "start_time": "2022-02-20T11:38:12.287Z"
   },
   {
    "duration": 522,
    "start_time": "2022-02-20T11:38:14.532Z"
   },
   {
    "duration": 389,
    "start_time": "2022-02-20T11:38:22.218Z"
   },
   {
    "duration": 6,
    "start_time": "2022-02-20T11:38:27.539Z"
   },
   {
    "duration": 260,
    "start_time": "2022-02-20T11:38:31.129Z"
   },
   {
    "duration": 32,
    "start_time": "2022-02-20T11:38:32.132Z"
   },
   {
    "duration": 126,
    "start_time": "2022-02-20T11:38:33.659Z"
   },
   {
    "duration": 7,
    "start_time": "2022-02-20T11:38:34.491Z"
   },
   {
    "duration": 3,
    "start_time": "2022-02-20T11:38:35.605Z"
   },
   {
    "duration": 9,
    "start_time": "2022-02-20T11:38:36.168Z"
   },
   {
    "duration": 5,
    "start_time": "2022-02-20T11:38:36.742Z"
   },
   {
    "duration": 11,
    "start_time": "2022-02-20T11:38:38.315Z"
   },
   {
    "duration": 8,
    "start_time": "2022-02-20T11:38:39.846Z"
   },
   {
    "duration": 4,
    "start_time": "2022-02-20T11:38:42.062Z"
   },
   {
    "duration": 8,
    "start_time": "2022-02-20T11:38:42.558Z"
   },
   {
    "duration": 4,
    "start_time": "2022-02-20T11:38:43.064Z"
   },
   {
    "duration": 4,
    "start_time": "2022-02-20T11:38:52.795Z"
   },
   {
    "duration": 4,
    "start_time": "2022-02-20T11:38:53.313Z"
   },
   {
    "duration": 6,
    "start_time": "2022-02-20T11:38:54.989Z"
   },
   {
    "duration": 5,
    "start_time": "2022-02-20T11:38:55.994Z"
   },
   {
    "duration": 3,
    "start_time": "2022-02-20T11:38:57.253Z"
   },
   {
    "duration": 16,
    "start_time": "2022-02-20T11:38:57.778Z"
   },
   {
    "duration": 19,
    "start_time": "2022-02-20T11:43:33.340Z"
   },
   {
    "duration": 149,
    "start_time": "2022-02-20T11:50:02.807Z"
   },
   {
    "duration": 5,
    "start_time": "2022-02-20T11:53:17.714Z"
   },
   {
    "duration": 6,
    "start_time": "2022-02-20T11:53:39.178Z"
   },
   {
    "duration": 3,
    "start_time": "2022-02-20T12:07:59.871Z"
   },
   {
    "duration": 44,
    "start_time": "2022-02-20T12:07:59.880Z"
   },
   {
    "duration": 9,
    "start_time": "2022-02-20T12:07:59.926Z"
   },
   {
    "duration": 9,
    "start_time": "2022-02-20T12:07:59.937Z"
   },
   {
    "duration": 14,
    "start_time": "2022-02-20T12:07:59.948Z"
   },
   {
    "duration": 13,
    "start_time": "2022-02-20T12:07:59.964Z"
   },
   {
    "duration": 8,
    "start_time": "2022-02-20T12:07:59.978Z"
   },
   {
    "duration": 9,
    "start_time": "2022-02-20T12:07:59.988Z"
   },
   {
    "duration": 31,
    "start_time": "2022-02-20T12:07:59.999Z"
   },
   {
    "duration": 17,
    "start_time": "2022-02-20T12:08:00.034Z"
   },
   {
    "duration": 16,
    "start_time": "2022-02-20T12:08:00.053Z"
   },
   {
    "duration": 15,
    "start_time": "2022-02-20T12:08:00.071Z"
   },
   {
    "duration": 10,
    "start_time": "2022-02-20T12:08:00.089Z"
   },
   {
    "duration": 13,
    "start_time": "2022-02-20T12:08:00.117Z"
   },
   {
    "duration": 9,
    "start_time": "2022-02-20T12:08:00.133Z"
   },
   {
    "duration": 8,
    "start_time": "2022-02-20T12:08:00.144Z"
   },
   {
    "duration": 13,
    "start_time": "2022-02-20T12:08:00.154Z"
   },
   {
    "duration": 14,
    "start_time": "2022-02-20T12:08:00.169Z"
   },
   {
    "duration": 34,
    "start_time": "2022-02-20T12:08:00.185Z"
   },
   {
    "duration": 25,
    "start_time": "2022-02-20T12:08:00.221Z"
   },
   {
    "duration": 9,
    "start_time": "2022-02-20T12:08:00.248Z"
   },
   {
    "duration": 14,
    "start_time": "2022-02-20T12:08:00.259Z"
   },
   {
    "duration": 12,
    "start_time": "2022-02-20T12:08:00.275Z"
   },
   {
    "duration": 33,
    "start_time": "2022-02-20T12:08:00.289Z"
   },
   {
    "duration": 350,
    "start_time": "2022-02-20T12:08:00.324Z"
   },
   {
    "duration": 278,
    "start_time": "2022-02-20T12:08:00.675Z"
   },
   {
    "duration": 10,
    "start_time": "2022-02-20T12:08:00.955Z"
   },
   {
    "duration": 14,
    "start_time": "2022-02-20T12:08:00.968Z"
   },
   {
    "duration": 322,
    "start_time": "2022-02-20T12:08:00.984Z"
   },
   {
    "duration": 429,
    "start_time": "2022-02-20T12:08:01.308Z"
   },
   {
    "duration": 313,
    "start_time": "2022-02-20T12:08:01.739Z"
   },
   {
    "duration": 323,
    "start_time": "2022-02-20T12:08:02.054Z"
   },
   {
    "duration": 8,
    "start_time": "2022-02-20T12:08:02.378Z"
   },
   {
    "duration": 137,
    "start_time": "2022-02-20T12:08:02.388Z"
   },
   {
    "duration": 389,
    "start_time": "2022-02-20T12:08:02.527Z"
   },
   {
    "duration": 5,
    "start_time": "2022-02-20T12:08:02.917Z"
   },
   {
    "duration": 19,
    "start_time": "2022-02-20T12:08:02.923Z"
   },
   {
    "duration": 397,
    "start_time": "2022-02-20T12:08:02.944Z"
   },
   {
    "duration": 356,
    "start_time": "2022-02-20T12:08:03.343Z"
   },
   {
    "duration": 4,
    "start_time": "2022-02-20T12:08:03.701Z"
   },
   {
    "duration": 262,
    "start_time": "2022-02-20T12:08:03.718Z"
   },
   {
    "duration": 43,
    "start_time": "2022-02-20T12:08:03.982Z"
   },
   {
    "duration": 140,
    "start_time": "2022-02-20T12:08:04.027Z"
   },
   {
    "duration": 6,
    "start_time": "2022-02-20T12:08:04.169Z"
   },
   {
    "duration": 7,
    "start_time": "2022-02-20T12:08:04.176Z"
   },
   {
    "duration": 8,
    "start_time": "2022-02-20T12:08:04.185Z"
   },
   {
    "duration": 25,
    "start_time": "2022-02-20T12:08:04.195Z"
   },
   {
    "duration": 9,
    "start_time": "2022-02-20T12:08:04.222Z"
   },
   {
    "duration": 9,
    "start_time": "2022-02-20T12:08:04.233Z"
   },
   {
    "duration": 7,
    "start_time": "2022-02-20T12:08:04.244Z"
   },
   {
    "duration": 10,
    "start_time": "2022-02-20T12:08:04.252Z"
   },
   {
    "duration": 4,
    "start_time": "2022-02-20T12:08:04.264Z"
   },
   {
    "duration": 7,
    "start_time": "2022-02-20T12:08:04.270Z"
   },
   {
    "duration": 7,
    "start_time": "2022-02-20T12:08:04.278Z"
   },
   {
    "duration": 34,
    "start_time": "2022-02-20T12:08:04.286Z"
   },
   {
    "duration": 3,
    "start_time": "2022-02-20T12:08:04.322Z"
   },
   {
    "duration": 12,
    "start_time": "2022-02-20T12:08:04.327Z"
   },
   {
    "duration": 1001,
    "start_time": "2022-02-20T17:12:31.659Z"
   },
   {
    "duration": 34,
    "start_time": "2022-02-20T17:12:32.662Z"
   },
   {
    "duration": 11,
    "start_time": "2022-02-20T17:12:32.698Z"
   },
   {
    "duration": 6,
    "start_time": "2022-02-20T17:12:32.711Z"
   },
   {
    "duration": 7,
    "start_time": "2022-02-20T17:12:32.718Z"
   },
   {
    "duration": 8,
    "start_time": "2022-02-20T17:12:32.727Z"
   },
   {
    "duration": 6,
    "start_time": "2022-02-20T17:12:32.737Z"
   },
   {
    "duration": 5,
    "start_time": "2022-02-20T17:12:32.745Z"
   },
   {
    "duration": 13,
    "start_time": "2022-02-20T17:12:32.753Z"
   },
   {
    "duration": 9,
    "start_time": "2022-02-20T17:12:32.768Z"
   },
   {
    "duration": 40,
    "start_time": "2022-02-20T17:12:32.779Z"
   },
   {
    "duration": 4,
    "start_time": "2022-02-20T17:12:32.821Z"
   },
   {
    "duration": 8,
    "start_time": "2022-02-20T17:12:32.827Z"
   },
   {
    "duration": 8,
    "start_time": "2022-02-20T17:12:32.837Z"
   },
   {
    "duration": 4,
    "start_time": "2022-02-20T17:12:32.847Z"
   },
   {
    "duration": 7,
    "start_time": "2022-02-20T17:12:32.852Z"
   },
   {
    "duration": 9,
    "start_time": "2022-02-20T17:12:32.860Z"
   },
   {
    "duration": 9,
    "start_time": "2022-02-20T17:12:32.870Z"
   },
   {
    "duration": 37,
    "start_time": "2022-02-20T17:12:32.881Z"
   },
   {
    "duration": 16,
    "start_time": "2022-02-20T17:12:32.920Z"
   },
   {
    "duration": 7,
    "start_time": "2022-02-20T17:12:32.938Z"
   },
   {
    "duration": 13,
    "start_time": "2022-02-20T17:12:32.946Z"
   },
   {
    "duration": 10,
    "start_time": "2022-02-20T17:12:32.961Z"
   },
   {
    "duration": 5,
    "start_time": "2022-02-20T17:12:32.973Z"
   },
   {
    "duration": 376,
    "start_time": "2022-02-20T17:12:32.980Z"
   },
   {
    "duration": 295,
    "start_time": "2022-02-20T17:12:33.358Z"
   },
   {
    "duration": 10,
    "start_time": "2022-02-20T17:12:33.657Z"
   },
   {
    "duration": 12,
    "start_time": "2022-02-20T17:12:33.669Z"
   },
   {
    "duration": 338,
    "start_time": "2022-02-20T17:12:33.683Z"
   },
   {
    "duration": 414,
    "start_time": "2022-02-20T17:12:34.023Z"
   },
   {
    "duration": 333,
    "start_time": "2022-02-20T17:12:34.439Z"
   },
   {
    "duration": 316,
    "start_time": "2022-02-20T17:12:34.774Z"
   },
   {
    "duration": 9,
    "start_time": "2022-02-20T17:12:35.092Z"
   },
   {
    "duration": 134,
    "start_time": "2022-02-20T17:12:35.103Z"
   },
   {
    "duration": 398,
    "start_time": "2022-02-20T17:12:35.239Z"
   },
   {
    "duration": 5,
    "start_time": "2022-02-20T17:12:35.639Z"
   },
   {
    "duration": 7,
    "start_time": "2022-02-20T17:12:35.646Z"
   },
   {
    "duration": 468,
    "start_time": "2022-02-20T17:12:35.655Z"
   },
   {
    "duration": 368,
    "start_time": "2022-02-20T17:12:36.125Z"
   },
   {
    "duration": 4,
    "start_time": "2022-02-20T17:12:36.495Z"
   },
   {
    "duration": 259,
    "start_time": "2022-02-20T17:12:36.501Z"
   },
   {
    "duration": 30,
    "start_time": "2022-02-20T17:12:36.762Z"
   },
   {
    "duration": 126,
    "start_time": "2022-02-20T17:12:36.793Z"
   },
   {
    "duration": 6,
    "start_time": "2022-02-20T17:12:36.920Z"
   },
   {
    "duration": 4,
    "start_time": "2022-02-20T17:12:36.927Z"
   },
   {
    "duration": 10,
    "start_time": "2022-02-20T17:12:36.932Z"
   },
   {
    "duration": 4,
    "start_time": "2022-02-20T17:12:36.945Z"
   },
   {
    "duration": 11,
    "start_time": "2022-02-20T17:12:36.950Z"
   },
   {
    "duration": 7,
    "start_time": "2022-02-20T17:12:36.962Z"
   },
   {
    "duration": 2,
    "start_time": "2022-02-20T17:12:36.971Z"
   },
   {
    "duration": 48,
    "start_time": "2022-02-20T17:12:36.974Z"
   },
   {
    "duration": 3,
    "start_time": "2022-02-20T17:12:37.024Z"
   },
   {
    "duration": 6,
    "start_time": "2022-02-20T17:12:37.028Z"
   },
   {
    "duration": 5,
    "start_time": "2022-02-20T17:12:37.036Z"
   },
   {
    "duration": 6,
    "start_time": "2022-02-20T17:12:37.042Z"
   },
   {
    "duration": 4,
    "start_time": "2022-02-20T17:12:37.049Z"
   },
   {
    "duration": 12,
    "start_time": "2022-02-20T17:12:37.054Z"
   },
   {
    "duration": 82,
    "start_time": "2022-02-20T19:46:28.141Z"
   },
   {
    "duration": 641,
    "start_time": "2022-02-20T19:47:13.860Z"
   },
   {
    "duration": 683,
    "start_time": "2022-02-20T19:47:19.940Z"
   },
   {
    "duration": 304,
    "start_time": "2022-02-20T19:50:19.949Z"
   },
   {
    "duration": 1446,
    "start_time": "2022-02-20T19:50:56.375Z"
   },
   {
    "duration": 46,
    "start_time": "2022-02-20T19:50:57.824Z"
   },
   {
    "duration": 16,
    "start_time": "2022-02-20T19:51:02.912Z"
   },
   {
    "duration": 13,
    "start_time": "2022-02-20T19:51:12.305Z"
   },
   {
    "duration": 417,
    "start_time": "2022-02-20T19:52:15.141Z"
   },
   {
    "duration": 5,
    "start_time": "2022-02-20T19:52:28.792Z"
   },
   {
    "duration": 49,
    "start_time": "2022-02-20T19:52:28.805Z"
   },
   {
    "duration": 14,
    "start_time": "2022-02-20T19:52:28.858Z"
   },
   {
    "duration": 12,
    "start_time": "2022-02-20T19:52:28.877Z"
   },
   {
    "duration": 10,
    "start_time": "2022-02-20T19:52:28.892Z"
   },
   {
    "duration": 53,
    "start_time": "2022-02-20T19:52:28.905Z"
   },
   {
    "duration": 14,
    "start_time": "2022-02-20T19:52:28.961Z"
   },
   {
    "duration": 9,
    "start_time": "2022-02-20T19:52:28.978Z"
   },
   {
    "duration": 61,
    "start_time": "2022-02-20T19:52:28.990Z"
   },
   {
    "duration": 16,
    "start_time": "2022-02-20T19:52:29.057Z"
   },
   {
    "duration": 11,
    "start_time": "2022-02-20T19:52:29.076Z"
   },
   {
    "duration": 16,
    "start_time": "2022-02-20T19:52:29.089Z"
   },
   {
    "duration": 42,
    "start_time": "2022-02-20T19:52:29.108Z"
   },
   {
    "duration": 29,
    "start_time": "2022-02-20T19:52:29.153Z"
   },
   {
    "duration": 15,
    "start_time": "2022-02-20T19:52:29.185Z"
   },
   {
    "duration": 21,
    "start_time": "2022-02-20T19:52:29.203Z"
   },
   {
    "duration": 24,
    "start_time": "2022-02-20T19:52:29.227Z"
   },
   {
    "duration": 93,
    "start_time": "2022-02-20T19:53:22.032Z"
   },
   {
    "duration": 85,
    "start_time": "2022-03-18T11:52:39.289Z"
   },
   {
    "duration": 8,
    "start_time": "2022-03-18T11:52:48.366Z"
   },
   {
    "duration": 1760,
    "start_time": "2022-03-18T11:52:53.883Z"
   },
   {
    "duration": 70,
    "start_time": "2022-03-18T11:52:55.646Z"
   },
   {
    "duration": 16,
    "start_time": "2022-03-18T11:52:55.718Z"
   },
   {
    "duration": 24,
    "start_time": "2022-03-18T11:52:55.736Z"
   },
   {
    "duration": 21,
    "start_time": "2022-03-18T11:52:58.822Z"
   },
   {
    "duration": 6,
    "start_time": "2022-03-18T11:52:59.830Z"
   },
   {
    "duration": 12,
    "start_time": "2022-03-18T11:53:16.892Z"
   },
   {
    "duration": 10,
    "start_time": "2022-03-18T11:53:35.389Z"
   },
   {
    "duration": 34,
    "start_time": "2022-03-18T11:53:37.217Z"
   },
   {
    "duration": 13,
    "start_time": "2022-03-18T11:53:49.861Z"
   },
   {
    "duration": 22,
    "start_time": "2022-03-18T11:53:54.199Z"
   },
   {
    "duration": 6,
    "start_time": "2022-03-18T11:53:54.836Z"
   },
   {
    "duration": 15,
    "start_time": "2022-03-18T11:53:55.411Z"
   },
   {
    "duration": 16,
    "start_time": "2022-03-18T11:53:56.280Z"
   },
   {
    "duration": 7,
    "start_time": "2022-03-18T11:53:57.985Z"
   },
   {
    "duration": 7,
    "start_time": "2022-03-18T11:54:14.136Z"
   },
   {
    "duration": 92,
    "start_time": "2022-03-18T12:00:05.479Z"
   },
   {
    "duration": 6,
    "start_time": "2022-03-18T12:00:13.329Z"
   },
   {
    "duration": 73,
    "start_time": "2022-03-18T12:00:13.337Z"
   },
   {
    "duration": 12,
    "start_time": "2022-03-18T12:00:13.412Z"
   },
   {
    "duration": 17,
    "start_time": "2022-03-18T12:00:13.427Z"
   },
   {
    "duration": 17,
    "start_time": "2022-03-18T12:00:13.447Z"
   },
   {
    "duration": 14,
    "start_time": "2022-03-18T12:00:13.466Z"
   },
   {
    "duration": 17,
    "start_time": "2022-03-18T12:00:13.482Z"
   },
   {
    "duration": 10,
    "start_time": "2022-03-18T12:00:13.501Z"
   },
   {
    "duration": 25,
    "start_time": "2022-03-18T12:00:13.545Z"
   },
   {
    "duration": 12,
    "start_time": "2022-03-18T12:00:13.576Z"
   },
   {
    "duration": 16,
    "start_time": "2022-03-18T12:00:13.590Z"
   },
   {
    "duration": 8,
    "start_time": "2022-03-18T12:00:13.608Z"
   },
   {
    "duration": 27,
    "start_time": "2022-03-18T12:00:13.645Z"
   },
   {
    "duration": 11,
    "start_time": "2022-03-18T12:00:13.675Z"
   },
   {
    "duration": 7,
    "start_time": "2022-03-18T12:00:13.688Z"
   },
   {
    "duration": 6,
    "start_time": "2022-03-18T12:00:13.696Z"
   },
   {
    "duration": 68,
    "start_time": "2022-03-18T12:00:13.704Z"
   },
   {
    "duration": 0,
    "start_time": "2022-03-18T12:00:13.775Z"
   },
   {
    "duration": 0,
    "start_time": "2022-03-18T12:00:13.777Z"
   },
   {
    "duration": 0,
    "start_time": "2022-03-18T12:00:13.779Z"
   },
   {
    "duration": 0,
    "start_time": "2022-03-18T12:00:13.780Z"
   },
   {
    "duration": 0,
    "start_time": "2022-03-18T12:00:13.781Z"
   },
   {
    "duration": 0,
    "start_time": "2022-03-18T12:00:13.783Z"
   },
   {
    "duration": 0,
    "start_time": "2022-03-18T12:00:13.784Z"
   },
   {
    "duration": 0,
    "start_time": "2022-03-18T12:00:13.786Z"
   },
   {
    "duration": 0,
    "start_time": "2022-03-18T12:00:13.787Z"
   },
   {
    "duration": 0,
    "start_time": "2022-03-18T12:00:13.789Z"
   },
   {
    "duration": 0,
    "start_time": "2022-03-18T12:00:13.790Z"
   },
   {
    "duration": 0,
    "start_time": "2022-03-18T12:00:13.793Z"
   },
   {
    "duration": 0,
    "start_time": "2022-03-18T12:00:13.795Z"
   },
   {
    "duration": 0,
    "start_time": "2022-03-18T12:00:13.796Z"
   },
   {
    "duration": 0,
    "start_time": "2022-03-18T12:00:13.798Z"
   },
   {
    "duration": 0,
    "start_time": "2022-03-18T12:00:13.800Z"
   },
   {
    "duration": 0,
    "start_time": "2022-03-18T12:00:13.801Z"
   },
   {
    "duration": 0,
    "start_time": "2022-03-18T12:00:13.802Z"
   },
   {
    "duration": 0,
    "start_time": "2022-03-18T12:00:13.843Z"
   },
   {
    "duration": 0,
    "start_time": "2022-03-18T12:00:13.844Z"
   },
   {
    "duration": 0,
    "start_time": "2022-03-18T12:00:13.846Z"
   },
   {
    "duration": 0,
    "start_time": "2022-03-18T12:00:13.851Z"
   },
   {
    "duration": 0,
    "start_time": "2022-03-18T12:00:13.852Z"
   },
   {
    "duration": 0,
    "start_time": "2022-03-18T12:00:13.853Z"
   },
   {
    "duration": 0,
    "start_time": "2022-03-18T12:00:13.854Z"
   },
   {
    "duration": 0,
    "start_time": "2022-03-18T12:00:13.855Z"
   },
   {
    "duration": 0,
    "start_time": "2022-03-18T12:00:13.859Z"
   },
   {
    "duration": 0,
    "start_time": "2022-03-18T12:00:13.861Z"
   },
   {
    "duration": 0,
    "start_time": "2022-03-18T12:00:13.863Z"
   },
   {
    "duration": 0,
    "start_time": "2022-03-18T12:00:13.864Z"
   },
   {
    "duration": 0,
    "start_time": "2022-03-18T12:00:13.866Z"
   },
   {
    "duration": 0,
    "start_time": "2022-03-18T12:00:13.867Z"
   },
   {
    "duration": 0,
    "start_time": "2022-03-18T12:00:13.868Z"
   },
   {
    "duration": 0,
    "start_time": "2022-03-18T12:00:13.870Z"
   },
   {
    "duration": 0,
    "start_time": "2022-03-18T12:00:13.871Z"
   },
   {
    "duration": 0,
    "start_time": "2022-03-18T12:00:13.872Z"
   },
   {
    "duration": 0,
    "start_time": "2022-03-18T12:00:13.873Z"
   },
   {
    "duration": 13,
    "start_time": "2022-03-18T12:00:45.408Z"
   },
   {
    "duration": 11,
    "start_time": "2022-03-18T12:00:46.399Z"
   },
   {
    "duration": 5,
    "start_time": "2022-03-18T12:00:56.198Z"
   },
   {
    "duration": 72,
    "start_time": "2022-03-18T12:00:56.205Z"
   },
   {
    "duration": 12,
    "start_time": "2022-03-18T12:00:56.280Z"
   },
   {
    "duration": 16,
    "start_time": "2022-03-18T12:00:56.294Z"
   },
   {
    "duration": 6,
    "start_time": "2022-03-18T12:00:56.314Z"
   },
   {
    "duration": 31,
    "start_time": "2022-03-18T12:00:56.322Z"
   },
   {
    "duration": 16,
    "start_time": "2022-03-18T12:00:56.355Z"
   },
   {
    "duration": 15,
    "start_time": "2022-03-18T12:00:56.373Z"
   },
   {
    "duration": 20,
    "start_time": "2022-03-18T12:00:56.390Z"
   },
   {
    "duration": 45,
    "start_time": "2022-03-18T12:00:56.412Z"
   },
   {
    "duration": 24,
    "start_time": "2022-03-18T12:00:56.460Z"
   },
   {
    "duration": 9,
    "start_time": "2022-03-18T12:00:56.487Z"
   },
   {
    "duration": 20,
    "start_time": "2022-03-18T12:00:56.498Z"
   },
   {
    "duration": 11,
    "start_time": "2022-03-18T12:00:56.543Z"
   },
   {
    "duration": 8,
    "start_time": "2022-03-18T12:00:56.556Z"
   },
   {
    "duration": 8,
    "start_time": "2022-03-18T12:00:56.567Z"
   },
   {
    "duration": 20,
    "start_time": "2022-03-18T12:00:56.577Z"
   },
   {
    "duration": 0,
    "start_time": "2022-03-18T12:00:56.601Z"
   },
   {
    "duration": 0,
    "start_time": "2022-03-18T12:00:56.603Z"
   },
   {
    "duration": 0,
    "start_time": "2022-03-18T12:00:56.604Z"
   },
   {
    "duration": 0,
    "start_time": "2022-03-18T12:00:56.644Z"
   },
   {
    "duration": 0,
    "start_time": "2022-03-18T12:00:56.646Z"
   },
   {
    "duration": 0,
    "start_time": "2022-03-18T12:00:56.648Z"
   },
   {
    "duration": 0,
    "start_time": "2022-03-18T12:00:56.650Z"
   },
   {
    "duration": 0,
    "start_time": "2022-03-18T12:00:56.652Z"
   },
   {
    "duration": 0,
    "start_time": "2022-03-18T12:00:56.654Z"
   },
   {
    "duration": 0,
    "start_time": "2022-03-18T12:00:56.656Z"
   },
   {
    "duration": 0,
    "start_time": "2022-03-18T12:00:56.658Z"
   },
   {
    "duration": 0,
    "start_time": "2022-03-18T12:00:56.661Z"
   },
   {
    "duration": 0,
    "start_time": "2022-03-18T12:00:56.663Z"
   },
   {
    "duration": 0,
    "start_time": "2022-03-18T12:00:56.665Z"
   },
   {
    "duration": 0,
    "start_time": "2022-03-18T12:00:56.667Z"
   },
   {
    "duration": 1,
    "start_time": "2022-03-18T12:00:56.669Z"
   },
   {
    "duration": 0,
    "start_time": "2022-03-18T12:00:56.671Z"
   },
   {
    "duration": 0,
    "start_time": "2022-03-18T12:00:56.673Z"
   },
   {
    "duration": 0,
    "start_time": "2022-03-18T12:00:56.676Z"
   },
   {
    "duration": 0,
    "start_time": "2022-03-18T12:00:56.678Z"
   },
   {
    "duration": 0,
    "start_time": "2022-03-18T12:00:56.680Z"
   },
   {
    "duration": 0,
    "start_time": "2022-03-18T12:00:56.742Z"
   },
   {
    "duration": 0,
    "start_time": "2022-03-18T12:00:56.745Z"
   },
   {
    "duration": 0,
    "start_time": "2022-03-18T12:00:56.747Z"
   },
   {
    "duration": 0,
    "start_time": "2022-03-18T12:00:56.749Z"
   },
   {
    "duration": 0,
    "start_time": "2022-03-18T12:00:56.751Z"
   },
   {
    "duration": 0,
    "start_time": "2022-03-18T12:00:56.754Z"
   },
   {
    "duration": 0,
    "start_time": "2022-03-18T12:00:56.755Z"
   },
   {
    "duration": 0,
    "start_time": "2022-03-18T12:00:56.757Z"
   },
   {
    "duration": 0,
    "start_time": "2022-03-18T12:00:56.759Z"
   },
   {
    "duration": 0,
    "start_time": "2022-03-18T12:00:56.761Z"
   },
   {
    "duration": 0,
    "start_time": "2022-03-18T12:00:56.764Z"
   },
   {
    "duration": 0,
    "start_time": "2022-03-18T12:00:56.766Z"
   },
   {
    "duration": 0,
    "start_time": "2022-03-18T12:00:56.768Z"
   },
   {
    "duration": 0,
    "start_time": "2022-03-18T12:00:56.770Z"
   },
   {
    "duration": 0,
    "start_time": "2022-03-18T12:00:56.772Z"
   },
   {
    "duration": 0,
    "start_time": "2022-03-18T12:00:56.775Z"
   },
   {
    "duration": 14,
    "start_time": "2022-03-18T12:01:03.857Z"
   },
   {
    "duration": 12,
    "start_time": "2022-03-18T12:01:18.226Z"
   },
   {
    "duration": 12,
    "start_time": "2022-03-18T12:01:18.892Z"
   },
   {
    "duration": 6,
    "start_time": "2022-03-18T12:01:24.087Z"
   },
   {
    "duration": 5,
    "start_time": "2022-03-18T12:01:24.673Z"
   },
   {
    "duration": 9,
    "start_time": "2022-03-18T12:01:25.852Z"
   },
   {
    "duration": 6,
    "start_time": "2022-03-18T12:01:26.473Z"
   },
   {
    "duration": 7,
    "start_time": "2022-03-18T12:09:55.803Z"
   },
   {
    "duration": 15,
    "start_time": "2022-03-18T13:49:22.249Z"
   },
   {
    "duration": 5,
    "start_time": "2022-03-18T13:49:28.586Z"
   },
   {
    "duration": 127,
    "start_time": "2022-03-18T13:49:28.594Z"
   },
   {
    "duration": 14,
    "start_time": "2022-03-18T13:49:28.724Z"
   },
   {
    "duration": 16,
    "start_time": "2022-03-18T13:49:28.741Z"
   },
   {
    "duration": 8,
    "start_time": "2022-03-18T13:49:28.759Z"
   },
   {
    "duration": 14,
    "start_time": "2022-03-18T13:49:28.769Z"
   },
   {
    "duration": 15,
    "start_time": "2022-03-18T13:49:28.785Z"
   },
   {
    "duration": 42,
    "start_time": "2022-03-18T13:49:28.802Z"
   },
   {
    "duration": 19,
    "start_time": "2022-03-18T13:49:28.846Z"
   },
   {
    "duration": 12,
    "start_time": "2022-03-18T13:49:28.868Z"
   },
   {
    "duration": 16,
    "start_time": "2022-03-18T13:49:28.882Z"
   },
   {
    "duration": 6,
    "start_time": "2022-03-18T13:49:28.901Z"
   },
   {
    "duration": 15,
    "start_time": "2022-03-18T13:49:28.942Z"
   },
   {
    "duration": 12,
    "start_time": "2022-03-18T13:49:28.959Z"
   },
   {
    "duration": 7,
    "start_time": "2022-03-18T13:49:28.973Z"
   },
   {
    "duration": 6,
    "start_time": "2022-03-18T13:49:28.982Z"
   },
   {
    "duration": 57,
    "start_time": "2022-03-18T13:49:28.990Z"
   },
   {
    "duration": 0,
    "start_time": "2022-03-18T13:49:29.050Z"
   },
   {
    "duration": 0,
    "start_time": "2022-03-18T13:49:29.051Z"
   },
   {
    "duration": 0,
    "start_time": "2022-03-18T13:49:29.055Z"
   },
   {
    "duration": 0,
    "start_time": "2022-03-18T13:49:29.056Z"
   },
   {
    "duration": 0,
    "start_time": "2022-03-18T13:49:29.058Z"
   },
   {
    "duration": 0,
    "start_time": "2022-03-18T13:49:29.060Z"
   },
   {
    "duration": 0,
    "start_time": "2022-03-18T13:49:29.062Z"
   },
   {
    "duration": 0,
    "start_time": "2022-03-18T13:49:29.063Z"
   },
   {
    "duration": 0,
    "start_time": "2022-03-18T13:49:29.064Z"
   },
   {
    "duration": 0,
    "start_time": "2022-03-18T13:49:29.065Z"
   },
   {
    "duration": 0,
    "start_time": "2022-03-18T13:49:29.067Z"
   },
   {
    "duration": 0,
    "start_time": "2022-03-18T13:49:29.068Z"
   },
   {
    "duration": 0,
    "start_time": "2022-03-18T13:49:29.069Z"
   },
   {
    "duration": 0,
    "start_time": "2022-03-18T13:49:29.071Z"
   },
   {
    "duration": 1,
    "start_time": "2022-03-18T13:49:29.072Z"
   },
   {
    "duration": 0,
    "start_time": "2022-03-18T13:49:29.074Z"
   },
   {
    "duration": 0,
    "start_time": "2022-03-18T13:49:29.075Z"
   },
   {
    "duration": 0,
    "start_time": "2022-03-18T13:49:29.077Z"
   },
   {
    "duration": 0,
    "start_time": "2022-03-18T13:49:29.078Z"
   },
   {
    "duration": 0,
    "start_time": "2022-03-18T13:49:29.079Z"
   },
   {
    "duration": 0,
    "start_time": "2022-03-18T13:49:29.081Z"
   },
   {
    "duration": 0,
    "start_time": "2022-03-18T13:49:29.084Z"
   },
   {
    "duration": 0,
    "start_time": "2022-03-18T13:49:29.085Z"
   },
   {
    "duration": 0,
    "start_time": "2022-03-18T13:49:29.087Z"
   },
   {
    "duration": 0,
    "start_time": "2022-03-18T13:49:29.089Z"
   },
   {
    "duration": 0,
    "start_time": "2022-03-18T13:49:29.143Z"
   },
   {
    "duration": 0,
    "start_time": "2022-03-18T13:49:29.145Z"
   },
   {
    "duration": 0,
    "start_time": "2022-03-18T13:49:29.146Z"
   },
   {
    "duration": 0,
    "start_time": "2022-03-18T13:49:29.148Z"
   },
   {
    "duration": 0,
    "start_time": "2022-03-18T13:49:29.149Z"
   },
   {
    "duration": 0,
    "start_time": "2022-03-18T13:49:29.150Z"
   },
   {
    "duration": 0,
    "start_time": "2022-03-18T13:49:29.152Z"
   },
   {
    "duration": 0,
    "start_time": "2022-03-18T13:49:29.154Z"
   },
   {
    "duration": 0,
    "start_time": "2022-03-18T13:49:29.155Z"
   },
   {
    "duration": 0,
    "start_time": "2022-03-18T13:49:29.156Z"
   },
   {
    "duration": 0,
    "start_time": "2022-03-18T13:49:29.158Z"
   },
   {
    "duration": 0,
    "start_time": "2022-03-18T13:49:29.159Z"
   },
   {
    "duration": 0,
    "start_time": "2022-03-18T13:49:29.160Z"
   },
   {
    "duration": 0,
    "start_time": "2022-03-18T13:49:29.161Z"
   },
   {
    "duration": 16,
    "start_time": "2022-03-18T13:49:35.511Z"
   },
   {
    "duration": 5,
    "start_time": "2022-03-18T13:49:42.834Z"
   },
   {
    "duration": 84,
    "start_time": "2022-03-18T13:49:42.842Z"
   },
   {
    "duration": 16,
    "start_time": "2022-03-18T13:49:42.929Z"
   },
   {
    "duration": 15,
    "start_time": "2022-03-18T13:49:42.948Z"
   },
   {
    "duration": 7,
    "start_time": "2022-03-18T13:49:42.965Z"
   },
   {
    "duration": 14,
    "start_time": "2022-03-18T13:49:42.974Z"
   },
   {
    "duration": 16,
    "start_time": "2022-03-18T13:49:42.990Z"
   },
   {
    "duration": 9,
    "start_time": "2022-03-18T13:49:43.044Z"
   },
   {
    "duration": 19,
    "start_time": "2022-03-18T13:49:43.055Z"
   },
   {
    "duration": 12,
    "start_time": "2022-03-18T13:49:43.077Z"
   },
   {
    "duration": 53,
    "start_time": "2022-03-18T13:49:43.091Z"
   },
   {
    "duration": 7,
    "start_time": "2022-03-18T13:49:43.147Z"
   },
   {
    "duration": 17,
    "start_time": "2022-03-18T13:49:43.156Z"
   },
   {
    "duration": 24,
    "start_time": "2022-03-18T13:49:43.175Z"
   },
   {
    "duration": 6,
    "start_time": "2022-03-18T13:49:43.203Z"
   },
   {
    "duration": 9,
    "start_time": "2022-03-18T13:49:43.244Z"
   },
   {
    "duration": 29,
    "start_time": "2022-03-18T13:49:43.255Z"
   },
   {
    "duration": 0,
    "start_time": "2022-03-18T13:49:43.289Z"
   },
   {
    "duration": 0,
    "start_time": "2022-03-18T13:49:43.291Z"
   },
   {
    "duration": 0,
    "start_time": "2022-03-18T13:49:43.293Z"
   },
   {
    "duration": 0,
    "start_time": "2022-03-18T13:49:43.294Z"
   },
   {
    "duration": 0,
    "start_time": "2022-03-18T13:49:43.296Z"
   },
   {
    "duration": 0,
    "start_time": "2022-03-18T13:49:43.297Z"
   },
   {
    "duration": 0,
    "start_time": "2022-03-18T13:49:43.299Z"
   },
   {
    "duration": 0,
    "start_time": "2022-03-18T13:49:43.301Z"
   },
   {
    "duration": 0,
    "start_time": "2022-03-18T13:49:43.302Z"
   },
   {
    "duration": 0,
    "start_time": "2022-03-18T13:49:43.304Z"
   },
   {
    "duration": 0,
    "start_time": "2022-03-18T13:49:43.305Z"
   },
   {
    "duration": 0,
    "start_time": "2022-03-18T13:49:43.343Z"
   },
   {
    "duration": 1,
    "start_time": "2022-03-18T13:49:43.344Z"
   },
   {
    "duration": 0,
    "start_time": "2022-03-18T13:49:43.346Z"
   },
   {
    "duration": 0,
    "start_time": "2022-03-18T13:49:43.348Z"
   },
   {
    "duration": 0,
    "start_time": "2022-03-18T13:49:43.349Z"
   },
   {
    "duration": 0,
    "start_time": "2022-03-18T13:49:43.351Z"
   },
   {
    "duration": 0,
    "start_time": "2022-03-18T13:49:43.353Z"
   },
   {
    "duration": 0,
    "start_time": "2022-03-18T13:49:43.354Z"
   },
   {
    "duration": 0,
    "start_time": "2022-03-18T13:49:43.357Z"
   },
   {
    "duration": 0,
    "start_time": "2022-03-18T13:49:43.359Z"
   },
   {
    "duration": 0,
    "start_time": "2022-03-18T13:49:43.361Z"
   },
   {
    "duration": 0,
    "start_time": "2022-03-18T13:49:43.362Z"
   },
   {
    "duration": 0,
    "start_time": "2022-03-18T13:49:43.365Z"
   },
   {
    "duration": 0,
    "start_time": "2022-03-18T13:49:43.366Z"
   },
   {
    "duration": 0,
    "start_time": "2022-03-18T13:49:43.369Z"
   },
   {
    "duration": 0,
    "start_time": "2022-03-18T13:49:43.371Z"
   },
   {
    "duration": 1,
    "start_time": "2022-03-18T13:49:43.372Z"
   },
   {
    "duration": 0,
    "start_time": "2022-03-18T13:49:43.375Z"
   },
   {
    "duration": 0,
    "start_time": "2022-03-18T13:49:43.377Z"
   },
   {
    "duration": 0,
    "start_time": "2022-03-18T13:49:43.378Z"
   },
   {
    "duration": 0,
    "start_time": "2022-03-18T13:49:43.380Z"
   },
   {
    "duration": 0,
    "start_time": "2022-03-18T13:49:43.381Z"
   },
   {
    "duration": 0,
    "start_time": "2022-03-18T13:49:43.443Z"
   },
   {
    "duration": 0,
    "start_time": "2022-03-18T13:49:43.444Z"
   },
   {
    "duration": 0,
    "start_time": "2022-03-18T13:49:43.447Z"
   },
   {
    "duration": 0,
    "start_time": "2022-03-18T13:49:43.448Z"
   },
   {
    "duration": 0,
    "start_time": "2022-03-18T13:49:43.450Z"
   },
   {
    "duration": 0,
    "start_time": "2022-03-18T13:49:43.452Z"
   },
   {
    "duration": 22,
    "start_time": "2022-03-18T13:49:47.992Z"
   },
   {
    "duration": 5,
    "start_time": "2022-03-18T13:49:57.030Z"
   },
   {
    "duration": 5,
    "start_time": "2022-03-18T13:49:57.712Z"
   },
   {
    "duration": 11,
    "start_time": "2022-03-18T13:49:58.582Z"
   },
   {
    "duration": 5,
    "start_time": "2022-03-18T13:49:58.950Z"
   },
   {
    "duration": 15,
    "start_time": "2022-03-18T13:49:59.990Z"
   },
   {
    "duration": 17,
    "start_time": "2022-03-18T13:50:06.504Z"
   },
   {
    "duration": 15,
    "start_time": "2022-03-18T13:51:39.268Z"
   },
   {
    "duration": 330,
    "start_time": "2022-03-18T13:51:44.962Z"
   },
   {
    "duration": 49,
    "start_time": "2022-03-18T13:51:45.767Z"
   },
   {
    "duration": 282,
    "start_time": "2022-03-18T13:51:47.409Z"
   },
   {
    "duration": 11,
    "start_time": "2022-03-18T13:51:48.808Z"
   },
   {
    "duration": 3,
    "start_time": "2022-03-18T13:51:51.316Z"
   },
   {
    "duration": 32,
    "start_time": "2022-03-18T13:51:51.831Z"
   },
   {
    "duration": 5,
    "start_time": "2022-03-18T13:51:52.632Z"
   },
   {
    "duration": 14,
    "start_time": "2022-03-18T13:51:56.187Z"
   },
   {
    "duration": 448,
    "start_time": "2022-03-18T13:52:20.626Z"
   },
   {
    "duration": 388,
    "start_time": "2022-03-18T13:52:21.368Z"
   },
   {
    "duration": 7,
    "start_time": "2022-03-18T13:52:23.041Z"
   },
   {
    "duration": 7,
    "start_time": "2022-03-18T13:52:24.025Z"
   },
   {
    "duration": 253,
    "start_time": "2022-03-18T14:05:05.027Z"
   },
   {
    "duration": 6,
    "start_time": "2022-03-18T14:07:22.340Z"
   },
   {
    "duration": 6,
    "start_time": "2022-03-18T14:13:09.756Z"
   },
   {
    "duration": 7,
    "start_time": "2022-03-18T14:13:10.591Z"
   },
   {
    "duration": 285,
    "start_time": "2022-03-18T14:14:18.233Z"
   },
   {
    "duration": 286,
    "start_time": "2022-03-18T14:14:19.309Z"
   },
   {
    "duration": 283,
    "start_time": "2022-03-18T14:18:33.535Z"
   },
   {
    "duration": 286,
    "start_time": "2022-03-18T14:24:40.746Z"
   },
   {
    "duration": 284,
    "start_time": "2022-03-18T14:25:20.804Z"
   },
   {
    "duration": 348,
    "start_time": "2022-03-18T14:27:33.341Z"
   },
   {
    "duration": 6,
    "start_time": "2022-03-18T14:28:23.041Z"
   },
   {
    "duration": 6,
    "start_time": "2022-03-18T14:28:34.296Z"
   },
   {
    "duration": 5,
    "start_time": "2022-03-18T14:28:47.144Z"
   },
   {
    "duration": 81,
    "start_time": "2022-03-18T14:28:47.151Z"
   },
   {
    "duration": 14,
    "start_time": "2022-03-18T14:28:47.235Z"
   },
   {
    "duration": 19,
    "start_time": "2022-03-18T14:28:47.252Z"
   },
   {
    "duration": 6,
    "start_time": "2022-03-18T14:28:47.276Z"
   },
   {
    "duration": 13,
    "start_time": "2022-03-18T14:28:47.284Z"
   },
   {
    "duration": 53,
    "start_time": "2022-03-18T14:28:47.300Z"
   },
   {
    "duration": 10,
    "start_time": "2022-03-18T14:28:47.356Z"
   },
   {
    "duration": 19,
    "start_time": "2022-03-18T14:28:47.369Z"
   },
   {
    "duration": 12,
    "start_time": "2022-03-18T14:28:47.390Z"
   },
   {
    "duration": 48,
    "start_time": "2022-03-18T14:28:47.407Z"
   },
   {
    "duration": 8,
    "start_time": "2022-03-18T14:28:47.457Z"
   },
   {
    "duration": 17,
    "start_time": "2022-03-18T14:28:47.468Z"
   },
   {
    "duration": 16,
    "start_time": "2022-03-18T14:28:47.488Z"
   },
   {
    "duration": 40,
    "start_time": "2022-03-18T14:28:47.507Z"
   },
   {
    "duration": 11,
    "start_time": "2022-03-18T14:28:47.549Z"
   },
   {
    "duration": 18,
    "start_time": "2022-03-18T14:28:47.562Z"
   },
   {
    "duration": 0,
    "start_time": "2022-03-18T14:28:47.583Z"
   },
   {
    "duration": 0,
    "start_time": "2022-03-18T14:28:47.585Z"
   },
   {
    "duration": 0,
    "start_time": "2022-03-18T14:28:47.588Z"
   },
   {
    "duration": 0,
    "start_time": "2022-03-18T14:28:47.590Z"
   },
   {
    "duration": 0,
    "start_time": "2022-03-18T14:28:47.592Z"
   },
   {
    "duration": 0,
    "start_time": "2022-03-18T14:28:47.594Z"
   },
   {
    "duration": 0,
    "start_time": "2022-03-18T14:28:47.596Z"
   },
   {
    "duration": 0,
    "start_time": "2022-03-18T14:28:47.644Z"
   },
   {
    "duration": 0,
    "start_time": "2022-03-18T14:28:47.646Z"
   },
   {
    "duration": 0,
    "start_time": "2022-03-18T14:28:47.648Z"
   },
   {
    "duration": 0,
    "start_time": "2022-03-18T14:28:47.650Z"
   },
   {
    "duration": 0,
    "start_time": "2022-03-18T14:28:47.653Z"
   },
   {
    "duration": 0,
    "start_time": "2022-03-18T14:28:47.655Z"
   },
   {
    "duration": 0,
    "start_time": "2022-03-18T14:28:47.658Z"
   },
   {
    "duration": 0,
    "start_time": "2022-03-18T14:28:47.660Z"
   },
   {
    "duration": 0,
    "start_time": "2022-03-18T14:28:47.662Z"
   },
   {
    "duration": 0,
    "start_time": "2022-03-18T14:28:47.663Z"
   },
   {
    "duration": 0,
    "start_time": "2022-03-18T14:28:47.665Z"
   },
   {
    "duration": 0,
    "start_time": "2022-03-18T14:28:47.666Z"
   },
   {
    "duration": 0,
    "start_time": "2022-03-18T14:28:47.667Z"
   },
   {
    "duration": 0,
    "start_time": "2022-03-18T14:28:47.669Z"
   },
   {
    "duration": 0,
    "start_time": "2022-03-18T14:28:47.670Z"
   },
   {
    "duration": 5,
    "start_time": "2022-03-18T14:29:03.067Z"
   },
   {
    "duration": 81,
    "start_time": "2022-03-18T14:29:04.490Z"
   },
   {
    "duration": 12,
    "start_time": "2022-03-18T14:29:06.303Z"
   },
   {
    "duration": 14,
    "start_time": "2022-03-18T14:29:06.896Z"
   },
   {
    "duration": 7,
    "start_time": "2022-03-18T14:29:07.628Z"
   },
   {
    "duration": 17,
    "start_time": "2022-03-18T14:29:08.982Z"
   },
   {
    "duration": 16,
    "start_time": "2022-03-18T14:29:09.686Z"
   },
   {
    "duration": 8,
    "start_time": "2022-03-18T14:29:10.385Z"
   },
   {
    "duration": 21,
    "start_time": "2022-03-18T14:29:11.037Z"
   },
   {
    "duration": 12,
    "start_time": "2022-03-18T14:29:12.410Z"
   },
   {
    "duration": 15,
    "start_time": "2022-03-18T14:29:13.106Z"
   },
   {
    "duration": 7,
    "start_time": "2022-03-18T14:29:13.762Z"
   },
   {
    "duration": 16,
    "start_time": "2022-03-18T14:29:14.412Z"
   },
   {
    "duration": 11,
    "start_time": "2022-03-18T14:29:15.084Z"
   },
   {
    "duration": 8,
    "start_time": "2022-03-18T14:29:15.770Z"
   },
   {
    "duration": 6,
    "start_time": "2022-03-18T14:29:17.103Z"
   },
   {
    "duration": 18,
    "start_time": "2022-03-18T14:29:18.408Z"
   },
   {
    "duration": 20,
    "start_time": "2022-03-18T14:29:19.283Z"
   },
   {
    "duration": 19,
    "start_time": "2022-03-18T14:29:33.484Z"
   },
   {
    "duration": 16,
    "start_time": "2022-03-18T14:31:35.755Z"
   },
   {
    "duration": 16,
    "start_time": "2022-03-18T14:31:43.899Z"
   },
   {
    "duration": 6,
    "start_time": "2022-03-18T14:31:50.302Z"
   },
   {
    "duration": 69,
    "start_time": "2022-03-18T14:31:52.318Z"
   },
   {
    "duration": 12,
    "start_time": "2022-03-18T14:31:53.283Z"
   },
   {
    "duration": 15,
    "start_time": "2022-03-18T14:31:53.488Z"
   },
   {
    "duration": 6,
    "start_time": "2022-03-18T14:31:53.668Z"
   },
   {
    "duration": 27,
    "start_time": "2022-03-18T14:31:54.048Z"
   },
   {
    "duration": 21,
    "start_time": "2022-03-18T14:31:54.235Z"
   },
   {
    "duration": 8,
    "start_time": "2022-03-18T14:31:54.391Z"
   },
   {
    "duration": 20,
    "start_time": "2022-03-18T14:31:54.570Z"
   },
   {
    "duration": 11,
    "start_time": "2022-03-18T14:31:54.912Z"
   },
   {
    "duration": 16,
    "start_time": "2022-03-18T14:31:55.091Z"
   },
   {
    "duration": 5,
    "start_time": "2022-03-18T14:31:55.249Z"
   },
   {
    "duration": 14,
    "start_time": "2022-03-18T14:31:55.448Z"
   },
   {
    "duration": 12,
    "start_time": "2022-03-18T14:31:55.623Z"
   },
   {
    "duration": 7,
    "start_time": "2022-03-18T14:31:55.819Z"
   },
   {
    "duration": 6,
    "start_time": "2022-03-18T14:31:56.172Z"
   },
   {
    "duration": 16,
    "start_time": "2022-03-18T14:31:56.682Z"
   },
   {
    "duration": 15,
    "start_time": "2022-03-18T14:31:56.896Z"
   },
   {
    "duration": 79,
    "start_time": "2022-03-18T14:32:14.614Z"
   },
   {
    "duration": 1500,
    "start_time": "2022-03-18T14:32:21.085Z"
   },
   {
    "duration": 68,
    "start_time": "2022-03-18T14:32:22.588Z"
   },
   {
    "duration": 19,
    "start_time": "2022-03-18T14:32:22.658Z"
   },
   {
    "duration": 16,
    "start_time": "2022-03-18T14:32:22.681Z"
   },
   {
    "duration": 9,
    "start_time": "2022-03-18T14:32:22.699Z"
   },
   {
    "duration": 38,
    "start_time": "2022-03-18T14:32:22.710Z"
   },
   {
    "duration": 15,
    "start_time": "2022-03-18T14:32:22.751Z"
   },
   {
    "duration": 8,
    "start_time": "2022-03-18T14:32:22.769Z"
   },
   {
    "duration": 20,
    "start_time": "2022-03-18T14:32:22.780Z"
   },
   {
    "duration": 48,
    "start_time": "2022-03-18T14:32:22.805Z"
   },
   {
    "duration": 16,
    "start_time": "2022-03-18T14:32:22.856Z"
   },
   {
    "duration": 7,
    "start_time": "2022-03-18T14:32:22.875Z"
   },
   {
    "duration": 20,
    "start_time": "2022-03-18T14:32:22.885Z"
   },
   {
    "duration": 46,
    "start_time": "2022-03-18T14:32:22.907Z"
   },
   {
    "duration": 7,
    "start_time": "2022-03-18T14:32:22.955Z"
   },
   {
    "duration": 7,
    "start_time": "2022-03-18T14:32:22.964Z"
   },
   {
    "duration": 176,
    "start_time": "2022-03-18T14:32:22.974Z"
   },
   {
    "duration": 21,
    "start_time": "2022-03-18T14:32:24.884Z"
   },
   {
    "duration": 18,
    "start_time": "2022-03-18T14:32:26.001Z"
   },
   {
    "duration": 4,
    "start_time": "2022-03-18T14:32:32.000Z"
   },
   {
    "duration": 25,
    "start_time": "2022-03-18T14:32:32.204Z"
   },
   {
    "duration": 11,
    "start_time": "2022-03-18T14:32:33.494Z"
   },
   {
    "duration": 15,
    "start_time": "2022-03-18T14:32:33.692Z"
   },
   {
    "duration": 16,
    "start_time": "2022-03-18T14:32:35.627Z"
   },
   {
    "duration": 9,
    "start_time": "2022-03-18T14:32:36.028Z"
   },
   {
    "duration": 487,
    "start_time": "2022-03-18T14:32:36.248Z"
   },
   {
    "duration": 492,
    "start_time": "2022-03-18T14:32:39.277Z"
   },
   {
    "duration": 358,
    "start_time": "2022-03-18T14:41:31.836Z"
   },
   {
    "duration": 344,
    "start_time": "2022-03-18T14:42:20.606Z"
   },
   {
    "duration": 18,
    "start_time": "2022-03-18T16:15:45.650Z"
   },
   {
    "duration": 14,
    "start_time": "2022-03-18T16:15:59.083Z"
   },
   {
    "duration": 5,
    "start_time": "2022-03-18T16:20:32.126Z"
   },
   {
    "duration": 163,
    "start_time": "2022-03-18T16:20:32.133Z"
   },
   {
    "duration": 12,
    "start_time": "2022-03-18T16:20:32.299Z"
   },
   {
    "duration": 18,
    "start_time": "2022-03-18T16:20:32.313Z"
   },
   {
    "duration": 7,
    "start_time": "2022-03-18T16:20:32.333Z"
   },
   {
    "duration": 15,
    "start_time": "2022-03-18T16:20:32.342Z"
   },
   {
    "duration": 17,
    "start_time": "2022-03-18T16:20:32.359Z"
   },
   {
    "duration": 8,
    "start_time": "2022-03-18T16:20:32.379Z"
   },
   {
    "duration": 54,
    "start_time": "2022-03-18T16:20:32.390Z"
   },
   {
    "duration": 16,
    "start_time": "2022-03-18T16:20:32.446Z"
   },
   {
    "duration": 14,
    "start_time": "2022-03-18T16:20:32.468Z"
   },
   {
    "duration": 7,
    "start_time": "2022-03-18T16:20:32.485Z"
   },
   {
    "duration": 50,
    "start_time": "2022-03-18T16:20:32.494Z"
   },
   {
    "duration": 13,
    "start_time": "2022-03-18T16:20:32.547Z"
   },
   {
    "duration": 6,
    "start_time": "2022-03-18T16:20:32.563Z"
   },
   {
    "duration": 7,
    "start_time": "2022-03-18T16:20:32.571Z"
   },
   {
    "duration": 64,
    "start_time": "2022-03-18T16:20:32.580Z"
   },
   {
    "duration": 0,
    "start_time": "2022-03-18T16:20:32.647Z"
   },
   {
    "duration": 0,
    "start_time": "2022-03-18T16:20:32.649Z"
   },
   {
    "duration": 0,
    "start_time": "2022-03-18T16:20:32.651Z"
   },
   {
    "duration": 0,
    "start_time": "2022-03-18T16:20:32.653Z"
   },
   {
    "duration": 0,
    "start_time": "2022-03-18T16:20:32.655Z"
   },
   {
    "duration": 0,
    "start_time": "2022-03-18T16:20:32.658Z"
   },
   {
    "duration": 0,
    "start_time": "2022-03-18T16:20:32.661Z"
   },
   {
    "duration": 0,
    "start_time": "2022-03-18T16:20:32.662Z"
   },
   {
    "duration": 0,
    "start_time": "2022-03-18T16:20:32.665Z"
   },
   {
    "duration": 0,
    "start_time": "2022-03-18T16:20:32.668Z"
   },
   {
    "duration": 0,
    "start_time": "2022-03-18T16:20:32.670Z"
   },
   {
    "duration": 0,
    "start_time": "2022-03-18T16:20:32.672Z"
   },
   {
    "duration": 0,
    "start_time": "2022-03-18T16:20:32.674Z"
   },
   {
    "duration": 431,
    "start_time": "2022-03-18T16:20:37.773Z"
   },
   {
    "duration": 405,
    "start_time": "2022-03-18T16:20:42.041Z"
   },
   {
    "duration": 18,
    "start_time": "2022-03-18T16:20:55.075Z"
   },
   {
    "duration": 494,
    "start_time": "2022-03-18T16:21:20.133Z"
   },
   {
    "duration": 11,
    "start_time": "2022-03-18T16:45:54.974Z"
   },
   {
    "duration": 330,
    "start_time": "2022-03-18T16:45:58.696Z"
   },
   {
    "duration": 438,
    "start_time": "2022-03-18T16:45:59.533Z"
   },
   {
    "duration": 7,
    "start_time": "2022-03-18T16:46:06.254Z"
   },
   {
    "duration": 6,
    "start_time": "2022-03-18T16:46:06.816Z"
   },
   {
    "duration": 348,
    "start_time": "2022-03-18T16:46:10.988Z"
   },
   {
    "duration": 16,
    "start_time": "2022-03-18T16:46:55.025Z"
   },
   {
    "duration": 1787,
    "start_time": "2022-03-18T16:47:42.005Z"
   },
   {
    "duration": 78,
    "start_time": "2022-03-18T16:47:46.072Z"
   },
   {
    "duration": 17,
    "start_time": "2022-03-18T16:47:48.964Z"
   },
   {
    "duration": 20,
    "start_time": "2022-03-18T16:47:50.239Z"
   },
   {
    "duration": 15,
    "start_time": "2022-03-18T16:48:02.852Z"
   },
   {
    "duration": 15,
    "start_time": "2022-03-18T16:48:04.164Z"
   },
   {
    "duration": 7,
    "start_time": "2022-03-18T16:48:05.376Z"
   },
   {
    "duration": 14,
    "start_time": "2022-03-18T16:48:10.635Z"
   },
   {
    "duration": 17,
    "start_time": "2022-03-18T16:48:11.459Z"
   },
   {
    "duration": 8,
    "start_time": "2022-03-18T16:48:12.600Z"
   },
   {
    "duration": 28,
    "start_time": "2022-03-18T16:48:13.408Z"
   },
   {
    "duration": 24,
    "start_time": "2022-03-18T16:48:17.150Z"
   },
   {
    "duration": 25,
    "start_time": "2022-03-18T16:48:17.178Z"
   },
   {
    "duration": 14,
    "start_time": "2022-03-18T16:48:17.206Z"
   },
   {
    "duration": 19,
    "start_time": "2022-03-18T16:48:17.642Z"
   },
   {
    "duration": 71,
    "start_time": "2022-03-18T16:48:18.481Z"
   },
   {
    "duration": 8,
    "start_time": "2022-03-18T16:48:19.321Z"
   },
   {
    "duration": 7,
    "start_time": "2022-03-18T16:48:21.425Z"
   },
   {
    "duration": 250,
    "start_time": "2022-03-18T16:48:23.261Z"
   },
   {
    "duration": 23,
    "start_time": "2022-03-18T16:48:24.644Z"
   },
   {
    "duration": 3,
    "start_time": "2022-03-18T16:48:28.261Z"
   },
   {
    "duration": 36,
    "start_time": "2022-03-18T16:48:28.992Z"
   },
   {
    "duration": 13,
    "start_time": "2022-03-18T16:48:36.371Z"
   },
   {
    "duration": 19,
    "start_time": "2022-03-18T16:48:37.104Z"
   },
   {
    "duration": 16,
    "start_time": "2022-03-18T16:48:39.301Z"
   },
   {
    "duration": 10,
    "start_time": "2022-03-18T16:48:40.726Z"
   },
   {
    "duration": 552,
    "start_time": "2022-03-18T16:48:41.661Z"
   },
   {
    "duration": 845,
    "start_time": "2022-03-18T16:48:42.484Z"
   },
   {
    "duration": 19,
    "start_time": "2022-03-18T16:48:45.140Z"
   },
   {
    "duration": 23,
    "start_time": "2022-03-18T16:48:47.105Z"
   },
   {
    "duration": 426,
    "start_time": "2022-03-18T16:48:56.628Z"
   },
   {
    "duration": 547,
    "start_time": "2022-03-18T16:49:04.642Z"
   },
   {
    "duration": 614,
    "start_time": "2022-03-18T16:49:09.404Z"
   },
   {
    "duration": 566,
    "start_time": "2022-03-18T16:49:13.841Z"
   },
   {
    "duration": 530,
    "start_time": "2022-03-18T16:49:18.265Z"
   },
   {
    "duration": 16,
    "start_time": "2022-03-18T16:49:21.535Z"
   },
   {
    "duration": 306,
    "start_time": "2022-03-18T16:49:22.232Z"
   },
   {
    "duration": 423,
    "start_time": "2022-03-18T16:49:22.954Z"
   },
   {
    "duration": 7,
    "start_time": "2022-03-18T16:49:24.765Z"
   },
   {
    "duration": 7,
    "start_time": "2022-03-18T16:49:25.514Z"
   },
   {
    "duration": 473,
    "start_time": "2022-03-18T16:49:28.673Z"
   },
   {
    "duration": 333,
    "start_time": "2022-03-18T16:49:31.216Z"
   },
   {
    "duration": 7,
    "start_time": "2022-03-18T16:49:32.216Z"
   },
   {
    "duration": 8,
    "start_time": "2022-03-18T17:04:33.567Z"
   },
   {
    "duration": 21,
    "start_time": "2022-03-18T17:04:34.318Z"
   },
   {
    "duration": 12,
    "start_time": "2022-03-18T17:05:41.329Z"
   },
   {
    "duration": 12,
    "start_time": "2022-03-18T17:05:45.173Z"
   },
   {
    "duration": 5,
    "start_time": "2022-03-18T17:05:51.111Z"
   },
   {
    "duration": 92,
    "start_time": "2022-03-18T17:05:51.119Z"
   },
   {
    "duration": 12,
    "start_time": "2022-03-18T17:05:51.214Z"
   },
   {
    "duration": 19,
    "start_time": "2022-03-18T17:05:51.228Z"
   },
   {
    "duration": 25,
    "start_time": "2022-03-18T17:05:51.256Z"
   },
   {
    "duration": 13,
    "start_time": "2022-03-18T17:05:51.284Z"
   },
   {
    "duration": 17,
    "start_time": "2022-03-18T17:05:51.299Z"
   },
   {
    "duration": 11,
    "start_time": "2022-03-18T17:05:51.319Z"
   },
   {
    "duration": 26,
    "start_time": "2022-03-18T17:05:51.346Z"
   },
   {
    "duration": 17,
    "start_time": "2022-03-18T17:05:51.376Z"
   },
   {
    "duration": 19,
    "start_time": "2022-03-18T17:05:51.397Z"
   },
   {
    "duration": 25,
    "start_time": "2022-03-18T17:05:51.418Z"
   },
   {
    "duration": 36,
    "start_time": "2022-03-18T17:05:51.448Z"
   },
   {
    "duration": 15,
    "start_time": "2022-03-18T17:05:51.486Z"
   },
   {
    "duration": 7,
    "start_time": "2022-03-18T17:05:51.503Z"
   },
   {
    "duration": 7,
    "start_time": "2022-03-18T17:05:51.512Z"
   },
   {
    "duration": 26,
    "start_time": "2022-03-18T17:05:51.542Z"
   },
   {
    "duration": 0,
    "start_time": "2022-03-18T17:05:51.571Z"
   },
   {
    "duration": 0,
    "start_time": "2022-03-18T17:05:51.573Z"
   },
   {
    "duration": 0,
    "start_time": "2022-03-18T17:05:51.574Z"
   },
   {
    "duration": 0,
    "start_time": "2022-03-18T17:05:51.576Z"
   },
   {
    "duration": 0,
    "start_time": "2022-03-18T17:05:51.577Z"
   },
   {
    "duration": 0,
    "start_time": "2022-03-18T17:05:51.579Z"
   },
   {
    "duration": 0,
    "start_time": "2022-03-18T17:05:51.580Z"
   },
   {
    "duration": 0,
    "start_time": "2022-03-18T17:05:51.582Z"
   },
   {
    "duration": 0,
    "start_time": "2022-03-18T17:05:51.584Z"
   },
   {
    "duration": 0,
    "start_time": "2022-03-18T17:05:51.586Z"
   },
   {
    "duration": 0,
    "start_time": "2022-03-18T17:05:51.587Z"
   },
   {
    "duration": 0,
    "start_time": "2022-03-18T17:05:51.589Z"
   },
   {
    "duration": 0,
    "start_time": "2022-03-18T17:05:51.590Z"
   },
   {
    "duration": 0,
    "start_time": "2022-03-18T17:05:51.591Z"
   },
   {
    "duration": 0,
    "start_time": "2022-03-18T17:05:51.593Z"
   },
   {
    "duration": 0,
    "start_time": "2022-03-18T17:05:51.594Z"
   },
   {
    "duration": 0,
    "start_time": "2022-03-18T17:05:51.595Z"
   },
   {
    "duration": 0,
    "start_time": "2022-03-18T17:05:51.596Z"
   },
   {
    "duration": 0,
    "start_time": "2022-03-18T17:05:51.597Z"
   },
   {
    "duration": 0,
    "start_time": "2022-03-18T17:05:51.599Z"
   },
   {
    "duration": 0,
    "start_time": "2022-03-18T17:05:51.645Z"
   },
   {
    "duration": 0,
    "start_time": "2022-03-18T17:05:51.647Z"
   },
   {
    "duration": 0,
    "start_time": "2022-03-18T17:05:51.648Z"
   },
   {
    "duration": 0,
    "start_time": "2022-03-18T17:05:51.650Z"
   },
   {
    "duration": 0,
    "start_time": "2022-03-18T17:05:51.651Z"
   },
   {
    "duration": 0,
    "start_time": "2022-03-18T17:05:51.653Z"
   },
   {
    "duration": 0,
    "start_time": "2022-03-18T17:05:51.654Z"
   },
   {
    "duration": 0,
    "start_time": "2022-03-18T17:05:51.655Z"
   },
   {
    "duration": 4,
    "start_time": "2022-03-18T17:06:03.670Z"
   },
   {
    "duration": 14,
    "start_time": "2022-03-18T17:06:04.691Z"
   },
   {
    "duration": 5,
    "start_time": "2022-03-18T17:06:12.626Z"
   },
   {
    "duration": 6,
    "start_time": "2022-03-18T17:13:35.515Z"
   },
   {
    "duration": 12,
    "start_time": "2022-03-18T17:13:37.429Z"
   },
   {
    "duration": 18,
    "start_time": "2022-03-18T17:13:40.766Z"
   },
   {
    "duration": 8,
    "start_time": "2022-03-18T17:13:41.310Z"
   },
   {
    "duration": 900,
    "start_time": "2022-03-18T17:13:41.915Z"
   },
   {
    "duration": 13,
    "start_time": "2022-03-18T17:13:43.168Z"
   },
   {
    "duration": 22,
    "start_time": "2022-03-18T17:13:43.739Z"
   },
   {
    "duration": 7,
    "start_time": "2022-03-18T17:13:51.211Z"
   },
   {
    "duration": 933,
    "start_time": "2022-03-18T17:13:52.349Z"
   },
   {
    "duration": 1499,
    "start_time": "2022-03-18T17:14:19.844Z"
   },
   {
    "duration": 105,
    "start_time": "2022-03-18T17:14:23.128Z"
   },
   {
    "duration": 17,
    "start_time": "2022-03-18T17:14:26.066Z"
   },
   {
    "duration": 18,
    "start_time": "2022-03-18T17:14:26.971Z"
   },
   {
    "duration": 7,
    "start_time": "2022-03-18T17:14:27.934Z"
   },
   {
    "duration": 15,
    "start_time": "2022-03-18T17:14:29.737Z"
   },
   {
    "duration": 21,
    "start_time": "2022-03-18T17:14:30.649Z"
   },
   {
    "duration": 8,
    "start_time": "2022-03-18T17:14:31.523Z"
   },
   {
    "duration": 24,
    "start_time": "2022-03-18T17:14:32.278Z"
   },
   {
    "duration": 12,
    "start_time": "2022-03-18T17:14:35.161Z"
   },
   {
    "duration": 16,
    "start_time": "2022-03-18T17:14:36.313Z"
   },
   {
    "duration": 8,
    "start_time": "2022-03-18T17:14:37.343Z"
   },
   {
    "duration": 16,
    "start_time": "2022-03-18T17:14:38.294Z"
   },
   {
    "duration": 15,
    "start_time": "2022-03-18T17:14:39.069Z"
   },
   {
    "duration": 7,
    "start_time": "2022-03-18T17:14:39.835Z"
   },
   {
    "duration": 8,
    "start_time": "2022-03-18T17:14:41.451Z"
   },
   {
    "duration": 161,
    "start_time": "2022-03-18T17:14:43.069Z"
   },
   {
    "duration": 15,
    "start_time": "2022-03-18T17:14:48.289Z"
   },
   {
    "duration": 4,
    "start_time": "2022-03-18T17:14:52.364Z"
   },
   {
    "duration": 30,
    "start_time": "2022-03-18T17:14:53.030Z"
   },
   {
    "duration": 13,
    "start_time": "2022-03-18T17:14:55.101Z"
   },
   {
    "duration": 16,
    "start_time": "2022-03-18T17:14:55.679Z"
   },
   {
    "duration": 17,
    "start_time": "2022-03-18T17:14:57.849Z"
   },
   {
    "duration": 9,
    "start_time": "2022-03-18T17:14:59.246Z"
   },
   {
    "duration": 485,
    "start_time": "2022-03-18T17:15:00.058Z"
   },
   {
    "duration": 520,
    "start_time": "2022-03-18T17:15:01.240Z"
   },
   {
    "duration": 14,
    "start_time": "2022-03-18T17:15:04.302Z"
   },
   {
    "duration": 16,
    "start_time": "2022-03-18T17:15:05.711Z"
   },
   {
    "duration": 426,
    "start_time": "2022-03-18T17:15:09.079Z"
   },
   {
    "duration": 609,
    "start_time": "2022-03-18T17:15:13.720Z"
   },
   {
    "duration": 559,
    "start_time": "2022-03-18T17:15:16.876Z"
   },
   {
    "duration": 396,
    "start_time": "2022-03-18T17:15:19.975Z"
   },
   {
    "duration": 12,
    "start_time": "2022-03-18T17:15:22.839Z"
   },
   {
    "duration": 377,
    "start_time": "2022-03-18T17:15:23.536Z"
   },
   {
    "duration": 440,
    "start_time": "2022-03-18T17:15:24.267Z"
   },
   {
    "duration": 7,
    "start_time": "2022-03-18T17:15:25.944Z"
   },
   {
    "duration": 8,
    "start_time": "2022-03-18T17:15:26.612Z"
   },
   {
    "duration": 471,
    "start_time": "2022-03-18T17:15:29.371Z"
   },
   {
    "duration": 408,
    "start_time": "2022-03-18T17:15:31.144Z"
   },
   {
    "duration": 7,
    "start_time": "2022-03-18T17:15:31.857Z"
   },
   {
    "duration": 356,
    "start_time": "2022-03-18T17:15:47.933Z"
   },
   {
    "duration": 53,
    "start_time": "2022-03-18T17:15:48.659Z"
   },
   {
    "duration": 274,
    "start_time": "2022-03-18T17:15:49.905Z"
   },
   {
    "duration": 11,
    "start_time": "2022-03-18T17:15:51.153Z"
   },
   {
    "duration": 4,
    "start_time": "2022-03-18T17:15:52.547Z"
   },
   {
    "duration": 35,
    "start_time": "2022-03-18T17:15:53.233Z"
   },
   {
    "duration": 6,
    "start_time": "2022-03-18T17:15:54.041Z"
   },
   {
    "duration": 13,
    "start_time": "2022-03-18T17:16:21.205Z"
   },
   {
    "duration": 17,
    "start_time": "2022-03-18T17:16:23.040Z"
   },
   {
    "duration": 5,
    "start_time": "2022-03-18T17:16:24.572Z"
   },
   {
    "duration": 4,
    "start_time": "2022-03-18T17:17:49.719Z"
   },
   {
    "duration": 34,
    "start_time": "2022-03-18T17:17:50.418Z"
   },
   {
    "duration": 6,
    "start_time": "2022-03-18T17:17:51.372Z"
   },
   {
    "duration": 29,
    "start_time": "2022-03-18T17:18:49.287Z"
   },
   {
    "duration": 47,
    "start_time": "2022-03-18T17:19:22.478Z"
   },
   {
    "duration": 13,
    "start_time": "2022-03-18T17:19:23.979Z"
   },
   {
    "duration": 46,
    "start_time": "2022-03-20T16:06:17.371Z"
   },
   {
    "duration": 7,
    "start_time": "2022-03-20T16:06:22.192Z"
   },
   {
    "duration": 7,
    "start_time": "2022-03-20T16:15:10.329Z"
   },
   {
    "duration": 7,
    "start_time": "2022-03-20T16:17:03.924Z"
   },
   {
    "duration": 7,
    "start_time": "2022-03-20T16:20:04.965Z"
   },
   {
    "duration": 11,
    "start_time": "2022-03-20T16:20:52.318Z"
   },
   {
    "duration": 1233,
    "start_time": "2022-03-20T16:54:26.638Z"
   },
   {
    "duration": 80,
    "start_time": "2022-03-20T16:54:27.873Z"
   },
   {
    "duration": 11,
    "start_time": "2022-03-20T16:54:27.954Z"
   },
   {
    "duration": 11,
    "start_time": "2022-03-20T16:54:27.967Z"
   },
   {
    "duration": 7,
    "start_time": "2022-03-20T16:54:27.980Z"
   },
   {
    "duration": 9,
    "start_time": "2022-03-20T16:54:27.988Z"
   },
   {
    "duration": 9,
    "start_time": "2022-03-20T16:54:27.999Z"
   },
   {
    "duration": 7,
    "start_time": "2022-03-20T16:54:28.010Z"
   },
   {
    "duration": 11,
    "start_time": "2022-03-20T16:54:28.018Z"
   },
   {
    "duration": 10,
    "start_time": "2022-03-20T16:54:28.032Z"
   },
   {
    "duration": 13,
    "start_time": "2022-03-20T16:54:28.043Z"
   },
   {
    "duration": 6,
    "start_time": "2022-03-20T16:54:28.058Z"
   },
   {
    "duration": 15,
    "start_time": "2022-03-20T16:54:28.066Z"
   },
   {
    "duration": 25,
    "start_time": "2022-03-20T16:54:28.083Z"
   },
   {
    "duration": 4,
    "start_time": "2022-03-20T16:54:28.109Z"
   },
   {
    "duration": 9,
    "start_time": "2022-03-20T16:54:28.114Z"
   },
   {
    "duration": 69,
    "start_time": "2022-03-20T16:54:28.124Z"
   },
   {
    "duration": 0,
    "start_time": "2022-03-20T16:54:28.201Z"
   },
   {
    "duration": 0,
    "start_time": "2022-03-20T16:54:28.202Z"
   },
   {
    "duration": 0,
    "start_time": "2022-03-20T16:54:28.204Z"
   },
   {
    "duration": 0,
    "start_time": "2022-03-20T16:54:28.205Z"
   },
   {
    "duration": 0,
    "start_time": "2022-03-20T16:54:28.206Z"
   },
   {
    "duration": 0,
    "start_time": "2022-03-20T16:54:28.207Z"
   },
   {
    "duration": 0,
    "start_time": "2022-03-20T16:54:28.208Z"
   },
   {
    "duration": 0,
    "start_time": "2022-03-20T16:54:28.209Z"
   },
   {
    "duration": 0,
    "start_time": "2022-03-20T16:54:28.211Z"
   },
   {
    "duration": 0,
    "start_time": "2022-03-20T16:54:28.212Z"
   },
   {
    "duration": 0,
    "start_time": "2022-03-20T16:54:28.213Z"
   },
   {
    "duration": 0,
    "start_time": "2022-03-20T16:54:28.214Z"
   },
   {
    "duration": 0,
    "start_time": "2022-03-20T16:54:28.215Z"
   },
   {
    "duration": 0,
    "start_time": "2022-03-20T16:54:28.215Z"
   },
   {
    "duration": 0,
    "start_time": "2022-03-20T16:54:28.216Z"
   },
   {
    "duration": 0,
    "start_time": "2022-03-20T16:54:28.218Z"
   },
   {
    "duration": 0,
    "start_time": "2022-03-20T16:54:28.219Z"
   },
   {
    "duration": 0,
    "start_time": "2022-03-20T16:54:28.219Z"
   },
   {
    "duration": 0,
    "start_time": "2022-03-20T16:54:28.220Z"
   },
   {
    "duration": 0,
    "start_time": "2022-03-20T16:54:28.221Z"
   },
   {
    "duration": 0,
    "start_time": "2022-03-20T16:54:28.222Z"
   },
   {
    "duration": 0,
    "start_time": "2022-03-20T16:54:28.223Z"
   },
   {
    "duration": 0,
    "start_time": "2022-03-20T16:54:28.224Z"
   },
   {
    "duration": 0,
    "start_time": "2022-03-20T16:54:28.225Z"
   },
   {
    "duration": 0,
    "start_time": "2022-03-20T16:54:28.226Z"
   },
   {
    "duration": 0,
    "start_time": "2022-03-20T16:54:28.227Z"
   },
   {
    "duration": 0,
    "start_time": "2022-03-20T16:54:28.228Z"
   },
   {
    "duration": 0,
    "start_time": "2022-03-20T16:54:28.229Z"
   },
   {
    "duration": 0,
    "start_time": "2022-03-20T16:54:28.230Z"
   },
   {
    "duration": 0,
    "start_time": "2022-03-20T16:54:28.231Z"
   },
   {
    "duration": 0,
    "start_time": "2022-03-20T16:54:28.232Z"
   },
   {
    "duration": 0,
    "start_time": "2022-03-20T16:54:28.233Z"
   },
   {
    "duration": 0,
    "start_time": "2022-03-20T16:54:28.234Z"
   },
   {
    "duration": 0,
    "start_time": "2022-03-20T16:54:28.235Z"
   },
   {
    "duration": 0,
    "start_time": "2022-03-20T16:54:28.236Z"
   },
   {
    "duration": 0,
    "start_time": "2022-03-20T16:54:28.237Z"
   },
   {
    "duration": 0,
    "start_time": "2022-03-20T16:54:28.238Z"
   },
   {
    "duration": 0,
    "start_time": "2022-03-20T16:54:28.239Z"
   },
   {
    "duration": 0,
    "start_time": "2022-03-20T16:54:28.301Z"
   },
   {
    "duration": 11,
    "start_time": "2022-03-20T16:54:32.587Z"
   },
   {
    "duration": 11,
    "start_time": "2022-03-20T16:54:37.220Z"
   },
   {
    "duration": 3,
    "start_time": "2022-03-20T16:54:51.332Z"
   },
   {
    "duration": 13,
    "start_time": "2022-03-20T16:54:53.620Z"
   },
   {
    "duration": 11,
    "start_time": "2022-03-20T16:54:55.663Z"
   },
   {
    "duration": 192,
    "start_time": "2022-03-20T16:57:06.843Z"
   },
   {
    "duration": 28,
    "start_time": "2022-03-20T16:57:09.034Z"
   },
   {
    "duration": 584,
    "start_time": "2022-03-20T17:00:12.686Z"
   },
   {
    "duration": 12,
    "start_time": "2022-03-20T17:00:24.023Z"
   },
   {
    "duration": 9,
    "start_time": "2022-03-20T17:08:18.421Z"
   },
   {
    "duration": 8,
    "start_time": "2022-03-20T17:09:47.901Z"
   },
   {
    "duration": 2,
    "start_time": "2022-03-20T17:21:18.963Z"
   },
   {
    "duration": 200,
    "start_time": "2022-03-20T17:24:24.828Z"
   },
   {
    "duration": 3,
    "start_time": "2022-03-20T17:41:02.072Z"
   },
   {
    "duration": 87,
    "start_time": "2022-03-20T17:41:04.919Z"
   },
   {
    "duration": 9,
    "start_time": "2022-03-20T17:41:08.199Z"
   },
   {
    "duration": 9,
    "start_time": "2022-03-20T17:41:09.209Z"
   },
   {
    "duration": 4,
    "start_time": "2022-03-20T17:41:10.222Z"
   },
   {
    "duration": 7,
    "start_time": "2022-03-20T17:41:11.641Z"
   },
   {
    "duration": 9,
    "start_time": "2022-03-20T17:41:12.839Z"
   },
   {
    "duration": 5,
    "start_time": "2022-03-20T17:41:13.306Z"
   },
   {
    "duration": 12,
    "start_time": "2022-03-20T17:41:14.173Z"
   },
   {
    "duration": 7,
    "start_time": "2022-03-20T17:41:15.574Z"
   },
   {
    "duration": 9,
    "start_time": "2022-03-20T17:41:16.275Z"
   },
   {
    "duration": 4,
    "start_time": "2022-03-20T17:41:16.976Z"
   },
   {
    "duration": 9,
    "start_time": "2022-03-20T17:41:17.655Z"
   },
   {
    "duration": 10,
    "start_time": "2022-03-20T17:41:18.388Z"
   },
   {
    "duration": 6,
    "start_time": "2022-03-20T17:41:19.056Z"
   },
   {
    "duration": 11,
    "start_time": "2022-03-20T17:41:32.104Z"
   },
   {
    "duration": 8,
    "start_time": "2022-03-20T17:42:27.150Z"
   },
   {
    "duration": 5,
    "start_time": "2022-03-20T17:42:28.407Z"
   },
   {
    "duration": 4,
    "start_time": "2022-03-20T17:42:36.196Z"
   },
   {
    "duration": 8,
    "start_time": "2022-03-20T17:53:00.086Z"
   },
   {
    "duration": 10,
    "start_time": "2022-03-20T17:53:06.518Z"
   },
   {
    "duration": 4,
    "start_time": "2022-03-20T17:53:27.506Z"
   },
   {
    "duration": 10,
    "start_time": "2022-03-20T17:53:31.038Z"
   },
   {
    "duration": 10,
    "start_time": "2022-03-20T17:53:32.631Z"
   },
   {
    "duration": 3,
    "start_time": "2022-03-20T17:53:42.358Z"
   },
   {
    "duration": 16,
    "start_time": "2022-03-20T17:53:43.279Z"
   },
   {
    "duration": 8,
    "start_time": "2022-03-20T17:53:45.635Z"
   },
   {
    "duration": 10,
    "start_time": "2022-03-20T17:53:46.121Z"
   },
   {
    "duration": 3,
    "start_time": "2022-03-20T18:16:47.506Z"
   },
   {
    "duration": 1135,
    "start_time": "2022-03-20T18:58:00.133Z"
   },
   {
    "duration": 77,
    "start_time": "2022-03-20T18:58:05.229Z"
   },
   {
    "duration": 11,
    "start_time": "2022-03-20T18:58:06.458Z"
   },
   {
    "duration": 11,
    "start_time": "2022-03-20T18:58:06.652Z"
   },
   {
    "duration": 5,
    "start_time": "2022-03-20T18:58:06.861Z"
   },
   {
    "duration": 8,
    "start_time": "2022-03-20T18:58:07.211Z"
   },
   {
    "duration": 10,
    "start_time": "2022-03-20T18:58:07.393Z"
   },
   {
    "duration": 6,
    "start_time": "2022-03-20T18:58:07.565Z"
   },
   {
    "duration": 12,
    "start_time": "2022-03-20T18:58:07.743Z"
   },
   {
    "duration": 8,
    "start_time": "2022-03-20T18:58:08.089Z"
   },
   {
    "duration": 9,
    "start_time": "2022-03-20T18:58:08.288Z"
   },
   {
    "duration": 4,
    "start_time": "2022-03-20T18:58:08.483Z"
   },
   {
    "duration": 10,
    "start_time": "2022-03-20T18:58:08.674Z"
   },
   {
    "duration": 11,
    "start_time": "2022-03-20T18:58:08.861Z"
   },
   {
    "duration": 4,
    "start_time": "2022-03-20T18:58:09.068Z"
   },
   {
    "duration": 5,
    "start_time": "2022-03-20T18:58:09.649Z"
   },
   {
    "duration": 4,
    "start_time": "2022-03-20T18:58:09.851Z"
   },
   {
    "duration": 10,
    "start_time": "2022-03-20T18:58:10.560Z"
   },
   {
    "duration": 10,
    "start_time": "2022-03-20T18:58:10.805Z"
   },
   {
    "duration": 2,
    "start_time": "2022-03-20T18:58:11.792Z"
   },
   {
    "duration": 19,
    "start_time": "2022-03-20T18:58:12.003Z"
   },
   {
    "duration": 9,
    "start_time": "2022-03-20T18:58:12.603Z"
   },
   {
    "duration": 10,
    "start_time": "2022-03-20T18:58:12.793Z"
   },
   {
    "duration": 12,
    "start_time": "2022-03-20T18:58:13.402Z"
   },
   {
    "duration": 6,
    "start_time": "2022-03-20T18:58:13.810Z"
   },
   {
    "duration": 277,
    "start_time": "2022-03-20T18:58:14.002Z"
   },
   {
    "duration": 282,
    "start_time": "2022-03-20T18:58:14.281Z"
   },
   {
    "duration": 9,
    "start_time": "2022-03-20T18:58:14.819Z"
   },
   {
    "duration": 11,
    "start_time": "2022-03-20T18:58:15.231Z"
   },
   {
    "duration": 203,
    "start_time": "2022-03-20T18:58:16.267Z"
   },
   {
    "duration": 304,
    "start_time": "2022-03-20T18:58:17.309Z"
   },
   {
    "duration": 208,
    "start_time": "2022-03-20T18:58:17.941Z"
   },
   {
    "duration": 223,
    "start_time": "2022-03-20T18:58:21.496Z"
   },
   {
    "duration": 9,
    "start_time": "2022-03-20T18:58:23.456Z"
   },
   {
    "duration": 134,
    "start_time": "2022-03-20T18:58:23.667Z"
   },
   {
    "duration": 165,
    "start_time": "2022-03-20T18:58:23.863Z"
   },
   {
    "duration": 4,
    "start_time": "2022-03-20T18:58:24.266Z"
   },
   {
    "duration": 4,
    "start_time": "2022-03-20T18:58:24.465Z"
   },
   {
    "duration": 172,
    "start_time": "2022-03-20T18:58:25.016Z"
   },
   {
    "duration": 227,
    "start_time": "2022-03-20T18:58:25.444Z"
   },
   {
    "duration": 4,
    "start_time": "2022-03-20T18:58:25.673Z"
   },
   {
    "duration": 188,
    "start_time": "2022-03-20T18:58:27.486Z"
   },
   {
    "duration": 31,
    "start_time": "2022-03-20T18:58:27.676Z"
   },
   {
    "duration": 130,
    "start_time": "2022-03-20T18:58:28.276Z"
   },
   {
    "duration": 6,
    "start_time": "2022-03-20T18:58:28.856Z"
   },
   {
    "duration": 2,
    "start_time": "2022-03-20T18:58:29.299Z"
   },
   {
    "duration": 19,
    "start_time": "2022-03-20T18:58:29.443Z"
   },
   {
    "duration": 4,
    "start_time": "2022-03-20T18:58:29.620Z"
   },
   {
    "duration": 10,
    "start_time": "2022-03-20T18:58:30.661Z"
   },
   {
    "duration": 9,
    "start_time": "2022-03-20T18:58:31.262Z"
   },
   {
    "duration": 3,
    "start_time": "2022-03-20T18:58:31.668Z"
   },
   {
    "duration": 20,
    "start_time": "2022-03-20T18:58:31.868Z"
   },
   {
    "duration": 4,
    "start_time": "2022-03-20T18:58:32.079Z"
   },
   {
    "duration": 4,
    "start_time": "2022-03-20T18:58:40.599Z"
   },
   {
    "duration": 4,
    "start_time": "2022-03-20T18:58:40.799Z"
   },
   {
    "duration": 6,
    "start_time": "2022-03-20T18:58:41.221Z"
   },
   {
    "duration": 4,
    "start_time": "2022-03-20T18:58:41.417Z"
   },
   {
    "duration": 12,
    "start_time": "2022-03-20T18:58:42.033Z"
   }
  ],
  "kernelspec": {
   "display_name": "Python 3 (ipykernel)",
   "language": "python",
   "name": "python3"
  },
  "language_info": {
   "codemirror_mode": {
    "name": "ipython",
    "version": 3
   },
   "file_extension": ".py",
   "mimetype": "text/x-python",
   "name": "python",
   "nbconvert_exporter": "python",
   "pygments_lexer": "ipython3",
   "version": "3.9.5"
  },
  "toc": {
   "base_numbering": 1,
   "nav_menu": {
    "height": "504.023px",
    "width": "383.724px"
   },
   "number_sections": true,
   "sideBar": true,
   "skip_h1_title": true,
   "title_cell": "Table of Contents",
   "title_sidebar": "Contents",
   "toc_cell": false,
   "toc_position": {},
   "toc_section_display": true,
   "toc_window_display": false
  }
 },
 "nbformat": 4,
 "nbformat_minor": 2
}
